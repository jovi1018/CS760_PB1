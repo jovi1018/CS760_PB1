{
 "cells": [
  {
   "cell_type": "code",
   "execution_count": 1,
   "id": "5998a6c3",
   "metadata": {
    "_cell_guid": "b1076dfc-b9ad-4769-8c92-a6c4dae69d19",
    "_uuid": "8f2839f25d086af736a60e9eeb907d3b93b6e0e5",
    "execution": {
     "iopub.execute_input": "2021-10-07T23:36:21.602395Z",
     "iopub.status.busy": "2021-10-07T23:36:21.601539Z",
     "iopub.status.idle": "2021-10-07T23:36:26.216618Z",
     "shell.execute_reply": "2021-10-07T23:36:26.217128Z",
     "shell.execute_reply.started": "2021-10-07T23:25:44.158137Z"
    },
    "papermill": {
     "duration": 4.716189,
     "end_time": "2021-10-07T23:36:26.217399",
     "exception": false,
     "start_time": "2021-10-07T23:36:21.501210",
     "status": "completed"
    },
    "tags": []
   },
   "outputs": [
    {
     "name": "stderr",
     "output_type": "stream",
     "text": [
      "2021-10-07 23:36:22.123974: I tensorflow/stream_executor/platform/default/dso_loader.cc:49] Successfully opened dynamic library libcudart.so.11.0\n"
     ]
    }
   ],
   "source": [
    "import io\n",
    "import numpy as np\n",
    "import tensorflow as tf\n",
    "import tensorflow_addons as tfa"
   ]
  },
  {
   "cell_type": "code",
   "execution_count": 2,
   "id": "694c8b5c",
   "metadata": {
    "execution": {
     "iopub.execute_input": "2021-10-07T23:36:26.267054Z",
     "iopub.status.busy": "2021-10-07T23:36:26.266453Z",
     "iopub.status.idle": "2021-10-07T23:36:26.875471Z",
     "shell.execute_reply": "2021-10-07T23:36:26.874978Z",
     "shell.execute_reply.started": "2021-10-07T23:26:01.883347Z"
    },
    "papermill": {
     "duration": 0.637317,
     "end_time": "2021-10-07T23:36:26.875605",
     "exception": false,
     "start_time": "2021-10-07T23:36:26.238288",
     "status": "completed"
    },
    "tags": []
   },
   "outputs": [],
   "source": [
    "import os  \n",
    "import cv2\n",
    "from tqdm import tqdm\n",
    "from sklearn.preprocessing import LabelEncoder\n",
    "\n",
    "# Loading np array from images\n",
    "def make_dataset(labels, dir_path, IMG_SIZE = 150):\n",
    "    # initial an empty list X to store image of np.array()\n",
    "    X = []\n",
    "\n",
    "    # initial an empty list Z to store labels/names of cat individauls\n",
    "    Z = []\n",
    "    for label in labels:\n",
    "        DIR = dir_path + label\n",
    "        for img in tqdm(os.listdir(DIR)):\n",
    "            path = os.path.join(DIR,img)\n",
    "            # reading images\n",
    "            img = cv2.imread(path,cv2.IMREAD_COLOR)\n",
    "            # resizing images to (150, 150, 3), 3 is the number of channels - RGB\n",
    "            img = cv2.resize(img, (IMG_SIZE,IMG_SIZE))\n",
    "        \n",
    "            X.append(np.array(img))\n",
    "            Z.append(str(label)) \n",
    "    ## Transform labels in Z to Y from class 0 to class 9, as 10 different cat individuals\n",
    "    le=LabelEncoder()\n",
    "    Y=le.fit_transform(Z)\n",
    "\n",
    "    ## Transform and normalize X in the range of [0, 1]\n",
    "    X=np.array(X)\n",
    "    X=X/255.\n",
    "    return X, Y"
   ]
  },
  {
   "cell_type": "code",
   "execution_count": 3,
   "id": "b64ad2ab",
   "metadata": {
    "execution": {
     "iopub.execute_input": "2021-10-07T23:36:26.921153Z",
     "iopub.status.busy": "2021-10-07T23:36:26.920598Z",
     "iopub.status.idle": "2021-10-07T23:36:30.692622Z",
     "shell.execute_reply": "2021-10-07T23:36:30.692144Z",
     "shell.execute_reply.started": "2021-10-07T23:26:03.170901Z"
    },
    "papermill": {
     "duration": 3.796481,
     "end_time": "2021-10-07T23:36:30.692762",
     "exception": false,
     "start_time": "2021-10-07T23:36:26.896281",
     "status": "completed"
    },
    "tags": []
   },
   "outputs": [
    {
     "name": "stderr",
     "output_type": "stream",
     "text": [
      "100%|██████████| 15/15 [00:00<00:00, 74.02it/s]\n",
      "100%|██████████| 10/10 [00:00<00:00, 137.78it/s]\n",
      "100%|██████████| 5/5 [00:00<00:00, 32.07it/s]\n",
      "100%|██████████| 8/8 [00:00<00:00, 83.19it/s]\n",
      "100%|██████████| 6/6 [00:00<00:00, 140.96it/s]\n",
      "100%|██████████| 3/3 [00:00<00:00, 47.78it/s]\n",
      "100%|██████████| 2/2 [00:00<00:00, 56.79it/s]\n",
      "100%|██████████| 8/8 [00:00<00:00, 45.63it/s]\n",
      "100%|██████████| 4/4 [00:00<00:00, 157.88it/s]\n",
      "100%|██████████| 1/1 [00:00<00:00, 74.78it/s]\n",
      "100%|██████████| 1/1 [00:00<00:00, 124.39it/s]\n",
      "100%|██████████| 8/8 [00:00<00:00, 76.08it/s]\n",
      "100%|██████████| 4/4 [00:00<00:00, 77.57it/s]\n",
      "100%|██████████| 7/7 [00:00<00:00, 61.76it/s]\n",
      "100%|██████████| 9/9 [00:00<00:00, 144.17it/s]\n",
      "100%|██████████| 7/7 [00:00<00:00, 59.22it/s]\n",
      "100%|██████████| 10/10 [00:00<00:00, 36.44it/s]\n",
      "100%|██████████| 10/10 [00:00<00:00, 71.58it/s]\n",
      "100%|██████████| 4/4 [00:00<00:00, 58.46it/s]\n",
      "100%|██████████| 4/4 [00:00<00:00, 57.61it/s]\n",
      "100%|██████████| 4/4 [00:00<00:00, 28.93it/s]\n",
      "100%|██████████| 5/5 [00:00<00:00, 88.11it/s]\n",
      "100%|██████████| 2/2 [00:00<00:00, 160.52it/s]\n",
      "100%|██████████| 8/8 [00:00<00:00, 152.22it/s]\n",
      "100%|██████████| 4/4 [00:00<00:00, 43.03it/s]\n",
      "100%|██████████| 11/11 [00:00<00:00, 165.13it/s]\n",
      "100%|██████████| 5/5 [00:00<00:00, 76.22it/s]\n",
      "100%|██████████| 3/3 [00:00<00:00, 82.80it/s]\n",
      "100%|██████████| 2/2 [00:00<00:00, 97.17it/s]\n",
      "100%|██████████| 7/7 [00:00<00:00, 83.10it/s]\n",
      "100%|██████████| 12/12 [00:00<00:00, 164.34it/s]\n",
      "100%|██████████| 2/2 [00:00<00:00, 173.14it/s]\n",
      "100%|██████████| 4/4 [00:00<00:00, 41.97it/s]\n",
      "100%|██████████| 3/3 [00:00<00:00, 143.69it/s]\n",
      "100%|██████████| 2/2 [00:00<00:00, 93.28it/s]\n",
      "100%|██████████| 3/3 [00:00<00:00, 148.76it/s]\n",
      "100%|██████████| 12/12 [00:00<00:00, 83.97it/s]\n",
      "100%|██████████| 5/5 [00:00<00:00, 41.84it/s]\n",
      "100%|██████████| 6/6 [00:00<00:00, 160.04it/s]\n",
      "100%|██████████| 5/5 [00:00<00:00, 74.51it/s]\n",
      "100%|██████████| 10/10 [00:00<00:00, 149.07it/s]\n",
      "100%|██████████| 3/3 [00:00<00:00, 95.32it/s]\n",
      "100%|██████████| 4/4 [00:00<00:00, 53.24it/s]\n",
      "100%|██████████| 4/4 [00:00<00:00, 154.81it/s]\n"
     ]
    }
   ],
   "source": [
    "dir_path = '/kaggle/input/squirrel-monkey/Saimiri sciureus/'\n",
    "IMG_SIZE = 150\n",
    "labels = [str(i) for i in range(44)]\n",
    "\n",
    "X, Y = make_dataset(labels, dir_path)"
   ]
  },
  {
   "cell_type": "code",
   "execution_count": 4,
   "id": "45846881",
   "metadata": {
    "execution": {
     "iopub.execute_input": "2021-10-07T23:36:30.810440Z",
     "iopub.status.busy": "2021-10-07T23:36:30.809613Z",
     "iopub.status.idle": "2021-10-07T23:36:30.896599Z",
     "shell.execute_reply": "2021-10-07T23:36:30.897031Z",
     "shell.execute_reply.started": "2021-10-07T23:26:07.882636Z"
    },
    "papermill": {
     "duration": 0.147325,
     "end_time": "2021-10-07T23:36:30.897195",
     "exception": false,
     "start_time": "2021-10-07T23:36:30.749870",
     "status": "completed"
    },
    "tags": []
   },
   "outputs": [],
   "source": [
    "from sklearn.model_selection import train_test_split\n",
    "\n",
    "x_train, x_test ,y_train, y_test = train_test_split(X, Y, test_size = 0.3, random_state = 2021)"
   ]
  },
  {
   "cell_type": "markdown",
   "id": "c8a95403",
   "metadata": {
    "papermill": {
     "duration": 0.056092,
     "end_time": "2021-10-07T23:36:31.008978",
     "exception": false,
     "start_time": "2021-10-07T23:36:30.952886",
     "status": "completed"
    },
    "tags": []
   },
   "source": [
    "# Learning rate schedule"
   ]
  },
  {
   "cell_type": "code",
   "execution_count": 5,
   "id": "03637f92",
   "metadata": {
    "execution": {
     "iopub.execute_input": "2021-10-07T23:36:31.125236Z",
     "iopub.status.busy": "2021-10-07T23:36:31.124466Z",
     "iopub.status.idle": "2021-10-07T23:36:31.126990Z",
     "shell.execute_reply": "2021-10-07T23:36:31.126541Z",
     "shell.execute_reply.started": "2021-10-07T23:26:09.151561Z"
    },
    "papermill": {
     "duration": 0.061758,
     "end_time": "2021-10-07T23:36:31.127095",
     "exception": false,
     "start_time": "2021-10-07T23:36:31.065337",
     "status": "completed"
    },
    "tags": []
   },
   "outputs": [],
   "source": [
    "lr_schedule = tf.keras.callbacks.LearningRateScheduler(\n",
    "    lambda epoch: 1e-5 * 10**(epoch / 4))"
   ]
  },
  {
   "cell_type": "markdown",
   "id": "e418e464",
   "metadata": {
    "papermill": {
     "duration": 0.055568,
     "end_time": "2021-10-07T23:36:31.239037",
     "exception": false,
     "start_time": "2021-10-07T23:36:31.183469",
     "status": "completed"
    },
    "tags": []
   },
   "source": [
    "# VGG 16 classification model"
   ]
  },
  {
   "cell_type": "code",
   "execution_count": 6,
   "id": "6106326e",
   "metadata": {
    "execution": {
     "iopub.execute_input": "2021-10-07T23:36:31.362463Z",
     "iopub.status.busy": "2021-10-07T23:36:31.361382Z",
     "iopub.status.idle": "2021-10-07T23:36:50.616019Z",
     "shell.execute_reply": "2021-10-07T23:36:50.616403Z",
     "shell.execute_reply.started": "2021-10-07T23:26:10.684845Z"
    },
    "papermill": {
     "duration": 19.321704,
     "end_time": "2021-10-07T23:36:50.616590",
     "exception": false,
     "start_time": "2021-10-07T23:36:31.294886",
     "status": "completed"
    },
    "tags": []
   },
   "outputs": [
    {
     "name": "stderr",
     "output_type": "stream",
     "text": [
      "2021-10-07 23:36:31.387071: I tensorflow/compiler/jit/xla_cpu_device.cc:41] Not creating XLA devices, tf_xla_enable_xla_devices not set\n",
      "2021-10-07 23:36:31.389780: I tensorflow/stream_executor/platform/default/dso_loader.cc:49] Successfully opened dynamic library libcuda.so.1\n",
      "2021-10-07 23:36:31.434815: I tensorflow/stream_executor/cuda/cuda_gpu_executor.cc:941] successful NUMA node read from SysFS had negative value (-1), but there must be at least one NUMA node, so returning NUMA node zero\n",
      "2021-10-07 23:36:31.435623: I tensorflow/core/common_runtime/gpu/gpu_device.cc:1720] Found device 0 with properties: \n",
      "pciBusID: 0000:00:04.0 name: Tesla P100-PCIE-16GB computeCapability: 6.0\n",
      "coreClock: 1.3285GHz coreCount: 56 deviceMemorySize: 15.90GiB deviceMemoryBandwidth: 681.88GiB/s\n",
      "2021-10-07 23:36:31.435685: I tensorflow/stream_executor/platform/default/dso_loader.cc:49] Successfully opened dynamic library libcudart.so.11.0\n",
      "2021-10-07 23:36:31.462634: I tensorflow/stream_executor/platform/default/dso_loader.cc:49] Successfully opened dynamic library libcublas.so.11\n",
      "2021-10-07 23:36:31.462732: I tensorflow/stream_executor/platform/default/dso_loader.cc:49] Successfully opened dynamic library libcublasLt.so.11\n",
      "2021-10-07 23:36:31.478515: I tensorflow/stream_executor/platform/default/dso_loader.cc:49] Successfully opened dynamic library libcufft.so.10\n",
      "2021-10-07 23:36:31.488957: I tensorflow/stream_executor/platform/default/dso_loader.cc:49] Successfully opened dynamic library libcurand.so.10\n",
      "2021-10-07 23:36:31.510638: I tensorflow/stream_executor/platform/default/dso_loader.cc:49] Successfully opened dynamic library libcusolver.so.10\n",
      "2021-10-07 23:36:31.518818: I tensorflow/stream_executor/platform/default/dso_loader.cc:49] Successfully opened dynamic library libcusparse.so.11\n",
      "2021-10-07 23:36:31.521301: I tensorflow/stream_executor/platform/default/dso_loader.cc:49] Successfully opened dynamic library libcudnn.so.8\n",
      "2021-10-07 23:36:31.521488: I tensorflow/stream_executor/cuda/cuda_gpu_executor.cc:941] successful NUMA node read from SysFS had negative value (-1), but there must be at least one NUMA node, so returning NUMA node zero\n",
      "2021-10-07 23:36:31.522330: I tensorflow/stream_executor/cuda/cuda_gpu_executor.cc:941] successful NUMA node read from SysFS had negative value (-1), but there must be at least one NUMA node, so returning NUMA node zero\n",
      "2021-10-07 23:36:31.524054: I tensorflow/core/common_runtime/gpu/gpu_device.cc:1862] Adding visible gpu devices: 0\n",
      "2021-10-07 23:36:31.524468: I tensorflow/core/platform/cpu_feature_guard.cc:142] This TensorFlow binary is optimized with oneAPI Deep Neural Network Library (oneDNN) to use the following CPU instructions in performance-critical operations:  AVX2 AVX512F FMA\n",
      "To enable them in other operations, rebuild TensorFlow with the appropriate compiler flags.\n",
      "2021-10-07 23:36:31.524661: I tensorflow/compiler/jit/xla_gpu_device.cc:99] Not creating XLA devices, tf_xla_enable_xla_devices not set\n",
      "2021-10-07 23:36:31.524829: I tensorflow/stream_executor/cuda/cuda_gpu_executor.cc:941] successful NUMA node read from SysFS had negative value (-1), but there must be at least one NUMA node, so returning NUMA node zero\n",
      "2021-10-07 23:36:31.525562: I tensorflow/core/common_runtime/gpu/gpu_device.cc:1720] Found device 0 with properties: \n",
      "pciBusID: 0000:00:04.0 name: Tesla P100-PCIE-16GB computeCapability: 6.0\n",
      "coreClock: 1.3285GHz coreCount: 56 deviceMemorySize: 15.90GiB deviceMemoryBandwidth: 681.88GiB/s\n",
      "2021-10-07 23:36:31.525600: I tensorflow/stream_executor/platform/default/dso_loader.cc:49] Successfully opened dynamic library libcudart.so.11.0\n",
      "2021-10-07 23:36:31.525628: I tensorflow/stream_executor/platform/default/dso_loader.cc:49] Successfully opened dynamic library libcublas.so.11\n",
      "2021-10-07 23:36:31.525646: I tensorflow/stream_executor/platform/default/dso_loader.cc:49] Successfully opened dynamic library libcublasLt.so.11\n",
      "2021-10-07 23:36:31.525664: I tensorflow/stream_executor/platform/default/dso_loader.cc:49] Successfully opened dynamic library libcufft.so.10\n",
      "2021-10-07 23:36:31.525681: I tensorflow/stream_executor/platform/default/dso_loader.cc:49] Successfully opened dynamic library libcurand.so.10\n",
      "2021-10-07 23:36:31.525703: I tensorflow/stream_executor/platform/default/dso_loader.cc:49] Successfully opened dynamic library libcusolver.so.10\n",
      "2021-10-07 23:36:31.525723: I tensorflow/stream_executor/platform/default/dso_loader.cc:49] Successfully opened dynamic library libcusparse.so.11\n",
      "2021-10-07 23:36:31.525754: I tensorflow/stream_executor/platform/default/dso_loader.cc:49] Successfully opened dynamic library libcudnn.so.8\n",
      "2021-10-07 23:36:31.525828: I tensorflow/stream_executor/cuda/cuda_gpu_executor.cc:941] successful NUMA node read from SysFS had negative value (-1), but there must be at least one NUMA node, so returning NUMA node zero\n",
      "2021-10-07 23:36:31.526634: I tensorflow/stream_executor/cuda/cuda_gpu_executor.cc:941] successful NUMA node read from SysFS had negative value (-1), but there must be at least one NUMA node, so returning NUMA node zero\n",
      "2021-10-07 23:36:31.527354: I tensorflow/core/common_runtime/gpu/gpu_device.cc:1862] Adding visible gpu devices: 0\n",
      "2021-10-07 23:36:31.528344: I tensorflow/stream_executor/platform/default/dso_loader.cc:49] Successfully opened dynamic library libcudart.so.11.0\n",
      "2021-10-07 23:36:32.997877: I tensorflow/core/common_runtime/gpu/gpu_device.cc:1261] Device interconnect StreamExecutor with strength 1 edge matrix:\n",
      "2021-10-07 23:36:32.997921: I tensorflow/core/common_runtime/gpu/gpu_device.cc:1267]      0 \n",
      "2021-10-07 23:36:32.997931: I tensorflow/core/common_runtime/gpu/gpu_device.cc:1280] 0:   N \n",
      "2021-10-07 23:36:32.999908: I tensorflow/stream_executor/cuda/cuda_gpu_executor.cc:941] successful NUMA node read from SysFS had negative value (-1), but there must be at least one NUMA node, so returning NUMA node zero\n",
      "2021-10-07 23:36:33.000822: I tensorflow/stream_executor/cuda/cuda_gpu_executor.cc:941] successful NUMA node read from SysFS had negative value (-1), but there must be at least one NUMA node, so returning NUMA node zero\n",
      "2021-10-07 23:36:33.001602: I tensorflow/stream_executor/cuda/cuda_gpu_executor.cc:941] successful NUMA node read from SysFS had negative value (-1), but there must be at least one NUMA node, so returning NUMA node zero\n",
      "2021-10-07 23:36:33.002320: I tensorflow/core/common_runtime/gpu/gpu_device.cc:1406] Created TensorFlow device (/job:localhost/replica:0/task:0/device:GPU:0 with 14957 MB memory) -> physical GPU (device: 0, name: Tesla P100-PCIE-16GB, pci bus id: 0000:00:04.0, compute capability: 6.0)\n"
     ]
    },
    {
     "name": "stdout",
     "output_type": "stream",
     "text": [
      "Downloading data from https://storage.googleapis.com/tensorflow/keras-applications/vgg16/vgg16_weights_tf_dim_ordering_tf_kernels_notop.h5\n",
      "58892288/58889256 [==============================] - 0s 0us/step\n"
     ]
    },
    {
     "name": "stderr",
     "output_type": "stream",
     "text": [
      "2021-10-07 23:36:34.136089: I tensorflow/compiler/mlir/mlir_graph_optimization_pass.cc:116] None of the MLIR optimization passes are enabled (registered 2)\n",
      "2021-10-07 23:36:34.147472: I tensorflow/core/platform/profile_utils/cpu_utils.cc:112] CPU Frequency: 2000144999 Hz\n"
     ]
    },
    {
     "name": "stdout",
     "output_type": "stream",
     "text": [
      "Epoch 1/20\n"
     ]
    },
    {
     "name": "stderr",
     "output_type": "stream",
     "text": [
      "2021-10-07 23:36:34.890947: I tensorflow/stream_executor/platform/default/dso_loader.cc:49] Successfully opened dynamic library libcublas.so.11\n",
      "2021-10-07 23:36:35.690587: I tensorflow/stream_executor/platform/default/dso_loader.cc:49] Successfully opened dynamic library libcublasLt.so.11\n",
      "2021-10-07 23:36:35.735679: I tensorflow/stream_executor/platform/default/dso_loader.cc:49] Successfully opened dynamic library libcudnn.so.8\n"
     ]
    },
    {
     "name": "stdout",
     "output_type": "stream",
     "text": [
      "1/1 [==============================] - 13s 13s/step - loss: 4.3141 - acc: 0.0057\n",
      "Epoch 2/20\n",
      "1/1 [==============================] - 0s 186ms/step - loss: 4.2508 - acc: 0.0057\n",
      "Epoch 3/20\n",
      "1/1 [==============================] - 0s 170ms/step - loss: 4.1429 - acc: 0.0114\n",
      "Epoch 4/20\n",
      "1/1 [==============================] - 0s 170ms/step - loss: 3.9658 - acc: 0.0284\n",
      "Epoch 5/20\n",
      "1/1 [==============================] - 0s 161ms/step - loss: 3.6928 - acc: 0.0852\n",
      "Epoch 6/20\n",
      "1/1 [==============================] - 0s 169ms/step - loss: 3.3202 - acc: 0.2273\n",
      "Epoch 7/20\n",
      "1/1 [==============================] - 0s 182ms/step - loss: 2.9292 - acc: 0.3182\n",
      "Epoch 8/20\n",
      "1/1 [==============================] - 0s 181ms/step - loss: 2.6704 - acc: 0.3409\n",
      "Epoch 9/20\n",
      "1/1 [==============================] - 0s 171ms/step - loss: 2.2425 - acc: 0.5341\n",
      "Epoch 10/20\n",
      "1/1 [==============================] - 0s 180ms/step - loss: 1.5912 - acc: 0.6875\n",
      "Epoch 11/20\n",
      "1/1 [==============================] - 0s 172ms/step - loss: 0.9225 - acc: 0.8125\n",
      "Epoch 12/20\n",
      "1/1 [==============================] - 0s 161ms/step - loss: 0.6284 - acc: 0.8466\n",
      "Epoch 13/20\n",
      "1/1 [==============================] - 0s 180ms/step - loss: 1.0745 - acc: 0.7216\n",
      "Epoch 14/20\n",
      "1/1 [==============================] - 0s 164ms/step - loss: 1.9261 - acc: 0.8580\n",
      "Epoch 15/20\n",
      "1/1 [==============================] - 0s 172ms/step - loss: 9.3929 - acc: 0.6136\n",
      "Epoch 16/20\n",
      "1/1 [==============================] - 0s 179ms/step - loss: 47.9859 - acc: 0.4489\n",
      "Epoch 17/20\n",
      "1/1 [==============================] - 0s 178ms/step - loss: 135.4753 - acc: 0.3977\n",
      "Epoch 18/20\n",
      "1/1 [==============================] - 0s 180ms/step - loss: 265.2653 - acc: 0.2557\n",
      "Epoch 19/20\n",
      "1/1 [==============================] - 0s 162ms/step - loss: 460.6665 - acc: 0.1023\n",
      "Epoch 20/20\n",
      "1/1 [==============================] - 0s 161ms/step - loss: 470.9538 - acc: 0.1648\n"
     ]
    }
   ],
   "source": [
    "imsize = 150\n",
    "lr = 1e-5\n",
    "EPOCHS = 20\n",
    "batch_size = 256\n",
    "\n",
    "base_model_16 = tf.keras.applications.vgg16.VGG16(include_top=False,\n",
    "                      input_shape = (imsize,imsize,3),\n",
    "                      weights = 'imagenet')\n",
    "\n",
    "# freeze all the layers of VGG, so they won't be trained.\n",
    "for layer in base_model_16.layers:\n",
    "    layer.trainable = False\n",
    "\n",
    "model_vgg_16 = tf.keras.models.Sequential([\n",
    "    base_model_16,\n",
    "    tf.keras.layers.Flatten(),\n",
    "    tf.keras.layers.Dense(units=1024, activation='relu'),\n",
    "    tf.keras.layers.Dense(units=44, activation='softmax')\n",
    "])\n",
    "\n",
    "model_vgg_16.compile(optimizer=tf.keras.optimizers.Adam(lr), loss='sparse_categorical_crossentropy', metrics=['acc']) \n",
    "\n",
    "history = model_vgg_16.fit(x=x_train, y=y_train,\n",
    "                          epochs=EPOCHS,\n",
    "                          batch_size=batch_size,\n",
    "                          verbose=1, \n",
    "                          callbacks = [lr_schedule])"
   ]
  },
  {
   "cell_type": "code",
   "execution_count": 7,
   "id": "3fb8aa00",
   "metadata": {
    "execution": {
     "iopub.execute_input": "2021-10-07T23:36:50.785627Z",
     "iopub.status.busy": "2021-10-07T23:36:50.785062Z",
     "iopub.status.idle": "2021-10-07T23:36:51.384856Z",
     "shell.execute_reply": "2021-10-07T23:36:51.385319Z",
     "shell.execute_reply.started": "2021-10-07T23:26:30.494620Z"
    },
    "papermill": {
     "duration": 0.693605,
     "end_time": "2021-10-07T23:36:51.385469",
     "exception": false,
     "start_time": "2021-10-07T23:36:50.691864",
     "status": "completed"
    },
    "tags": []
   },
   "outputs": [
    {
     "data": {
      "image/png": "[encoded data removed]",
      "text/plain": [
       "<Figure size 432x288 with 1 Axes>"
      ]
     },
     "metadata": {
      "needs_background": "light"
     },
     "output_type": "display_data"
    }
   ],
   "source": [
    "import matplotlib.pyplot as plt\n",
    "plt.semilogx(history.history[\"lr\"], history.history[\"loss\"])\n",
    "plt.axis([1e-5, 1, 0, 5])\n",
    "plt.show()"
   ]
  },
  {
   "cell_type": "code",
   "execution_count": 8,
   "id": "72801f4b",
   "metadata": {
    "execution": {
     "iopub.execute_input": "2021-10-07T23:36:51.546178Z",
     "iopub.status.busy": "2021-10-07T23:36:51.543374Z",
     "iopub.status.idle": "2021-10-07T23:36:55.944687Z",
     "shell.execute_reply": "2021-10-07T23:36:55.945163Z",
     "shell.execute_reply.started": "2021-10-07T23:27:41.640064Z"
    },
    "papermill": {
     "duration": 4.485498,
     "end_time": "2021-10-07T23:36:55.945319",
     "exception": false,
     "start_time": "2021-10-07T23:36:51.459821",
     "status": "completed"
    },
    "tags": []
   },
   "outputs": [
    {
     "name": "stdout",
     "output_type": "stream",
     "text": [
      "Epoch 1/20\n",
      "1/1 [==============================] - 1s 697ms/step - loss: 4.1428 - acc: 0.0114\n",
      "Epoch 2/20\n",
      "1/1 [==============================] - 0s 178ms/step - loss: 3.2646 - acc: 0.2045\n",
      "Epoch 3/20\n",
      "1/1 [==============================] - 0s 170ms/step - loss: 2.7972 - acc: 0.3580\n",
      "Epoch 4/20\n",
      "1/1 [==============================] - 0s 165ms/step - loss: 2.1369 - acc: 0.6193\n",
      "Epoch 5/20\n",
      "1/1 [==============================] - 0s 182ms/step - loss: 1.6224 - acc: 0.7898\n",
      "Epoch 6/20\n",
      "1/1 [==============================] - 0s 169ms/step - loss: 1.2874 - acc: 0.8125\n",
      "Epoch 7/20\n",
      "1/1 [==============================] - 0s 161ms/step - loss: 0.9622 - acc: 0.9034\n",
      "Epoch 8/20\n",
      "1/1 [==============================] - 0s 176ms/step - loss: 0.7235 - acc: 0.9602\n",
      "Epoch 9/20\n",
      "1/1 [==============================] - 0s 169ms/step - loss: 0.5684 - acc: 0.9545\n",
      "Epoch 10/20\n",
      "1/1 [==============================] - 0s 164ms/step - loss: 0.4250 - acc: 0.9716\n",
      "Epoch 11/20\n",
      "1/1 [==============================] - 0s 179ms/step - loss: 0.3045 - acc: 0.9886\n",
      "Epoch 12/20\n",
      "1/1 [==============================] - 0s 174ms/step - loss: 0.2241 - acc: 0.9886\n",
      "Epoch 13/20\n",
      "1/1 [==============================] - 0s 164ms/step - loss: 0.1735 - acc: 0.9886\n",
      "Epoch 14/20\n",
      "1/1 [==============================] - 0s 169ms/step - loss: 0.1380 - acc: 0.9943\n",
      "Epoch 15/20\n",
      "1/1 [==============================] - 0s 161ms/step - loss: 0.1084 - acc: 1.0000\n",
      "Epoch 16/20\n",
      "1/1 [==============================] - 0s 164ms/step - loss: 0.0834 - acc: 1.0000\n",
      "Epoch 17/20\n",
      "1/1 [==============================] - 0s 161ms/step - loss: 0.0640 - acc: 1.0000\n",
      "Epoch 18/20\n",
      "1/1 [==============================] - 0s 164ms/step - loss: 0.0495 - acc: 1.0000\n",
      "Epoch 19/20\n",
      "1/1 [==============================] - 0s 160ms/step - loss: 0.0389 - acc: 1.0000\n",
      "Epoch 20/20\n",
      "1/1 [==============================] - 0s 160ms/step - loss: 0.0308 - acc: 1.0000\n"
     ]
    }
   ],
   "source": [
    "# the loss is decreased fast when LR is between 1e-4 and 5e-3\n",
    "# choose the mid point between 1e-4 and 7e-4\n",
    "lr = 5e-4\n",
    "base_model_16 = tf.keras.applications.vgg16.VGG16(include_top=False,\n",
    "                      input_shape = (imsize,imsize,3),\n",
    "                      weights = 'imagenet')\n",
    "\n",
    "# freeze all the layers of VGG, so they won't be trained.\n",
    "for layer in base_model_16.layers:\n",
    "    layer.trainable = False\n",
    "\n",
    "model_vgg_16 = tf.keras.models.Sequential([\n",
    "    base_model_16,\n",
    "    tf.keras.layers.Flatten(),\n",
    "    tf.keras.layers.Dense(units=1024, activation='relu'),\n",
    "    tf.keras.layers.Dense(units=44, activation='softmax')\n",
    "])\n",
    "\n",
    "model_vgg_16.compile(optimizer=tf.keras.optimizers.Adam(lr), loss='sparse_categorical_crossentropy', metrics=['acc']) \n",
    "\n",
    "history = model_vgg_16.fit(x=x_train, y=y_train,\n",
    "                          epochs=EPOCHS,\n",
    "                          batch_size=batch_size,\n",
    "                          verbose=1)"
   ]
  },
  {
   "cell_type": "code",
   "execution_count": 9,
   "id": "068666bd",
   "metadata": {
    "execution": {
     "iopub.execute_input": "2021-10-07T23:36:56.130488Z",
     "iopub.status.busy": "2021-10-07T23:36:56.129410Z",
     "iopub.status.idle": "2021-10-07T23:36:58.513752Z",
     "shell.execute_reply": "2021-10-07T23:36:58.514195Z",
     "shell.execute_reply.started": "2021-10-07T23:27:46.256568Z"
    },
    "papermill": {
     "duration": 2.478651,
     "end_time": "2021-10-07T23:36:58.514344",
     "exception": false,
     "start_time": "2021-10-07T23:36:56.035693",
     "status": "completed"
    },
    "tags": []
   },
   "outputs": [
    {
     "name": "stdout",
     "output_type": "stream",
     "text": [
      "3/3 [==============================] - 2s 346ms/step - loss: 1.5632 - acc: 0.6184\n"
     ]
    },
    {
     "data": {
      "text/plain": [
       "[1.5632495880126953, 0.6184210777282715]"
      ]
     },
     "execution_count": 9,
     "metadata": {},
     "output_type": "execute_result"
    }
   ],
   "source": [
    "model_vgg_16.evaluate(x_test, y_test)"
   ]
  },
  {
   "cell_type": "markdown",
   "id": "63f6f00c",
   "metadata": {
    "papermill": {
     "duration": 0.090732,
     "end_time": "2021-10-07T23:36:58.694773",
     "exception": false,
     "start_time": "2021-10-07T23:36:58.604041",
     "status": "completed"
    },
    "tags": []
   },
   "source": [
    "# Contrastive loss"
   ]
  },
  {
   "cell_type": "code",
   "execution_count": 10,
   "id": "afe52cba",
   "metadata": {
    "execution": {
     "iopub.execute_input": "2021-10-07T23:36:58.892596Z",
     "iopub.status.busy": "2021-10-07T23:36:58.891676Z",
     "iopub.status.idle": "2021-10-07T23:36:58.894257Z",
     "shell.execute_reply": "2021-10-07T23:36:58.893822Z",
     "shell.execute_reply.started": "2021-10-07T23:27:53.354917Z"
    },
    "papermill": {
     "duration": 0.10817,
     "end_time": "2021-10-07T23:36:58.894365",
     "exception": false,
     "start_time": "2021-10-07T23:36:58.786195",
     "status": "completed"
    },
    "tags": []
   },
   "outputs": [],
   "source": [
    "# Helper Function \n",
    "\n",
    "# Create positive pairs and negative pairs\n",
    "import random\n",
    "def create_pairs(images, labels):\n",
    "    numClasses = 44\n",
    "    # initialize two empty lists to hold the (image, image) pairs and\n",
    "    # labels to indicate if a pair is positive (0) or negative (1)\n",
    "    np.random.seed(2021)\n",
    "    pairImages = []\n",
    "    pairLabels = []\n",
    "    \n",
    "    # calculate the total number of classes present in the dataset\n",
    "    # and then build a list of indexes for each class label that\n",
    "    # provides the indexes for all examples with a given label\n",
    "    idx = [np.where(labels == i)[0] for i in range(44)]\n",
    "    \n",
    "    # loop voer all images\n",
    "    for idxA in range(len(images)):\n",
    "        # grab the current image and label belonging to the current iteration\n",
    "        currentImage = images[idxA]\n",
    "        label = labels[idxA]\n",
    "        \n",
    "        # randomly pick on an image that belongs to the *same* class label\n",
    "        posId = random.choice(idx[label])\n",
    "        posImage = images[posId]\n",
    "        \n",
    "        # prepare a positive pair and update the images and labels\n",
    "        pairImages.append([currentImage, posImage])\n",
    "        pairLabels.append([0])\n",
    "        \n",
    "        # grab the indices for each of the class labels *not* equal to\n",
    "        # the current label and randomly pick an image corresponding\n",
    "        # to a label *not* equal to the current label\n",
    "        negId = np.where(labels != label)[0]\n",
    "        negIdx = random.choice(negId)\n",
    "        negImage = images[negIdx]\n",
    "        \n",
    "        # prepare a negative pair of images and update out lists\n",
    "        pairImages.append([currentImage, negImage])\n",
    "        pairLabels.append([1])\n",
    "    \n",
    "    return (np.array(pairImages), np.array(pairLabels))\n",
    "\n",
    "\n",
    "\n",
    "# Function to calculate the distance between two images (Euclidean Distance used here)\n",
    "import tensorflow.keras.backend as K\n",
    "def euclidean_distance(vectors):\n",
    "    # unpack the vectors into separate lists\n",
    "    (featsA, featsB) = vectors\n",
    "    # compute the sum of squared distances between the vectors\n",
    "    sumSquared = K.sum(K.square(featsA - featsB), axis=1,\n",
    "                       keepdims=True)\n",
    "    # return the euclidean distance between the vectors\n",
    "    return K.sqrt(K.maximum(sumSquared, K.epsilon()))\n",
    "\n",
    "\n",
    "# contrastive loss function\n",
    "def contrastive_loss(y, preds, margin=1):\n",
    "    # explicitly cast the true class label data type to the predicted\n",
    "    # class label data type (otherwise we run the risk of having two\n",
    "    # separate data types, causing TensorFlow to error out)\n",
    "    y = tf.cast(y, preds.dtype)\n",
    "    # calculate the contrastive loss between the true labels and\n",
    "    # the predicted labels\n",
    "    squaredPreds = K.square(preds)\n",
    "    squaredMargin = K.square(K.maximum(margin - preds, 0))\n",
    "    loss = K.mean((1 - y) * squaredPreds + y * squaredMargin)\n",
    "    # return the computed contrastive loss to the calling function\n",
    "    return loss"
   ]
  },
  {
   "cell_type": "code",
   "execution_count": 11,
   "id": "ee70ba2a",
   "metadata": {
    "execution": {
     "iopub.execute_input": "2021-10-07T23:36:59.085406Z",
     "iopub.status.busy": "2021-10-07T23:36:59.084231Z",
     "iopub.status.idle": "2021-10-07T23:36:59.194513Z",
     "shell.execute_reply": "2021-10-07T23:36:59.193965Z",
     "shell.execute_reply.started": "2021-10-07T23:27:55.962087Z"
    },
    "papermill": {
     "duration": 0.206965,
     "end_time": "2021-10-07T23:36:59.194635",
     "exception": false,
     "start_time": "2021-10-07T23:36:58.987670",
     "status": "completed"
    },
    "tags": []
   },
   "outputs": [],
   "source": [
    "(pairTrain, labelTrain) = create_pairs(x_train, y_train)"
   ]
  },
  {
   "cell_type": "code",
   "execution_count": 12,
   "id": "cdad728d",
   "metadata": {
    "execution": {
     "iopub.execute_input": "2021-10-07T23:36:59.389189Z",
     "iopub.status.busy": "2021-10-07T23:36:59.388061Z",
     "iopub.status.idle": "2021-10-07T23:37:38.190484Z",
     "shell.execute_reply": "2021-10-07T23:37:38.191006Z",
     "shell.execute_reply.started": "2021-10-07T23:27:56.312601Z"
    },
    "papermill": {
     "duration": 38.905969,
     "end_time": "2021-10-07T23:37:38.191182",
     "exception": false,
     "start_time": "2021-10-07T23:36:59.285213",
     "status": "completed"
    },
    "tags": []
   },
   "outputs": [
    {
     "name": "stdout",
     "output_type": "stream",
     "text": [
      "Epoch 1/20\n",
      "2/2 [==============================] - 25s 7s/step - loss: 0.1892\n",
      "Epoch 2/20\n",
      "2/2 [==============================] - 1s 195ms/step - loss: 0.1804\n",
      "Epoch 3/20\n",
      "2/2 [==============================] - 1s 192ms/step - loss: 0.1712\n",
      "Epoch 4/20\n",
      "2/2 [==============================] - 1s 192ms/step - loss: 0.1613\n",
      "Epoch 5/20\n",
      "2/2 [==============================] - 1s 185ms/step - loss: 0.1420\n",
      "Epoch 6/20\n",
      "2/2 [==============================] - 1s 181ms/step - loss: 0.1107\n",
      "Epoch 7/20\n",
      "2/2 [==============================] - 1s 185ms/step - loss: 0.0985\n",
      "Epoch 8/20\n",
      "2/2 [==============================] - 1s 190ms/step - loss: 0.0753\n",
      "Epoch 9/20\n",
      "2/2 [==============================] - 1s 195ms/step - loss: 0.0697\n",
      "Epoch 10/20\n",
      "2/2 [==============================] - 1s 191ms/step - loss: 0.0559\n",
      "Epoch 11/20\n",
      "2/2 [==============================] - 1s 193ms/step - loss: 0.0450\n",
      "Epoch 12/20\n",
      "2/2 [==============================] - 1s 185ms/step - loss: 0.0414\n",
      "Epoch 13/20\n",
      "2/2 [==============================] - 1s 189ms/step - loss: 0.0320\n",
      "Epoch 14/20\n",
      "2/2 [==============================] - 1s 185ms/step - loss: 0.0245\n",
      "Epoch 15/20\n",
      "2/2 [==============================] - 1s 181ms/step - loss: 0.0178\n",
      "Epoch 16/20\n",
      "2/2 [==============================] - 1s 183ms/step - loss: 0.0163\n",
      "Epoch 17/20\n",
      "2/2 [==============================] - 1s 183ms/step - loss: 0.0124\n",
      "Epoch 18/20\n",
      "2/2 [==============================] - 1s 190ms/step - loss: 0.0109\n",
      "Epoch 19/20\n",
      "2/2 [==============================] - 1s 193ms/step - loss: 0.0087\n",
      "Epoch 20/20\n",
      "2/2 [==============================] - 1s 177ms/step - loss: 0.0079\n"
     ]
    }
   ],
   "source": [
    "lr = 1e-5\n",
    "embeddingDim = 128\n",
    "\n",
    "base_model_16 = tf.keras.applications.vgg16.VGG16(include_top=False,\n",
    "                  input_shape = (imsize,imsize,3),\n",
    "                  weights = 'imagenet')\n",
    "\n",
    "# freeze all the layers of VGG, so they won't be trained.\n",
    "for layer in base_model_16.layers:\n",
    "    layer.trainable = False\n",
    "\n",
    "    \n",
    "\n",
    "model_cl = tf.keras.models.Sequential([\n",
    "    base_model_16,\n",
    "    tf.keras.layers.Flatten(),\n",
    "    tf.keras.layers.Dense(units=1024, activation='relu'),\n",
    "    tf.keras.layers.Dense(embeddingDim, activation=None), # No activation on final dense layer\n",
    "    tf.keras.layers.Lambda(lambda x: tf.math.l2_normalize(x, axis=1)) # L2 normalize embeddings\n",
    "])\n",
    "\n",
    "    \n",
    "imgA = tf.keras.layers.Input(shape=((imsize, imsize, 3)))\n",
    "imgB = tf.keras.layers.Input(shape=((imsize, imsize, 3)))\n",
    "    \n",
    "featsA = model_cl(imgA)\n",
    "featsB = model_cl(imgB)\n",
    "   \n",
    "distance = tf.keras.layers.Lambda(euclidean_distance)([featsA, featsB])\n",
    "model = tf.keras.Model(inputs=[imgA, imgB], outputs=distance)\n",
    "model.compile(loss=contrastive_loss, optimizer=tf.keras.optimizers.Adam(lr))\n",
    "\n",
    "history = model.fit([pairTrain[:, 0], pairTrain[:, 1]], labelTrain[:],\n",
    "                    batch_size = batch_size, \n",
    "                    epochs=EPOCHS, \n",
    "                    verbose=1,\n",
    "                    callbacks = [lr_schedule])"
   ]
  },
  {
   "cell_type": "code",
   "execution_count": 13,
   "id": "68b123b4",
   "metadata": {
    "execution": {
     "iopub.execute_input": "2021-10-07T23:37:38.447388Z",
     "iopub.status.busy": "2021-10-07T23:37:38.441682Z",
     "iopub.status.idle": "2021-10-07T23:37:38.907151Z",
     "shell.execute_reply": "2021-10-07T23:37:38.907860Z",
     "shell.execute_reply.started": "2021-10-07T23:28:35.448759Z"
    },
    "papermill": {
     "duration": 0.606113,
     "end_time": "2021-10-07T23:37:38.908027",
     "exception": false,
     "start_time": "2021-10-07T23:37:38.301914",
     "status": "completed"
    },
    "tags": []
   },
   "outputs": [
    {
     "data": {
      "image/png": "[encoded data removed]",
      "text/plain": [
       "<Figure size 432x288 with 1 Axes>"
      ]
     },
     "metadata": {
      "needs_background": "light"
     },
     "output_type": "display_data"
    }
   ],
   "source": [
    "import matplotlib.pyplot as plt\n",
    "plt.semilogx(history.history[\"lr\"], history.history[\"loss\"])\n",
    "plt.axis([1e-5, 1, 0, 0.2])\n",
    "plt.show()"
   ]
  },
  {
   "cell_type": "code",
   "execution_count": 14,
   "id": "c7453c8f",
   "metadata": {
    "execution": {
     "iopub.execute_input": "2021-10-07T23:37:39.146335Z",
     "iopub.status.busy": "2021-10-07T23:37:39.145287Z",
     "iopub.status.idle": "2021-10-07T23:37:54.539290Z",
     "shell.execute_reply": "2021-10-07T23:37:54.538647Z",
     "shell.execute_reply.started": "2021-10-07T23:33:42.731426Z"
    },
    "papermill": {
     "duration": 15.518556,
     "end_time": "2021-10-07T23:37:54.539458",
     "exception": false,
     "start_time": "2021-10-07T23:37:39.020902",
     "status": "completed"
    },
    "tags": []
   },
   "outputs": [
    {
     "name": "stdout",
     "output_type": "stream",
     "text": [
      "Epoch 1/20\n",
      "2/2 [==============================] - 2s 200ms/step - loss: 0.1995\n",
      "Epoch 2/20\n",
      "2/2 [==============================] - 1s 189ms/step - loss: 0.2128\n",
      "Epoch 3/20\n",
      "2/2 [==============================] - 1s 190ms/step - loss: 0.1714\n",
      "Epoch 4/20\n",
      "2/2 [==============================] - 1s 188ms/step - loss: 0.1069\n",
      "Epoch 5/20\n",
      "2/2 [==============================] - 1s 193ms/step - loss: 0.1102\n",
      "Epoch 6/20\n",
      "2/2 [==============================] - 1s 190ms/step - loss: 0.0887\n",
      "Epoch 7/20\n",
      "2/2 [==============================] - 1s 180ms/step - loss: 0.0733\n",
      "Epoch 8/20\n",
      "2/2 [==============================] - 1s 196ms/step - loss: 0.0722\n",
      "Epoch 9/20\n",
      "2/2 [==============================] - 1s 189ms/step - loss: 0.0604\n",
      "Epoch 10/20\n",
      "2/2 [==============================] - 1s 184ms/step - loss: 0.0507\n",
      "Epoch 11/20\n",
      "2/2 [==============================] - 1s 184ms/step - loss: 0.0476\n",
      "Epoch 12/20\n",
      "2/2 [==============================] - 1s 182ms/step - loss: 0.0425\n",
      "Epoch 13/20\n",
      "2/2 [==============================] - 1s 193ms/step - loss: 0.0381\n",
      "Epoch 14/20\n",
      "2/2 [==============================] - 1s 187ms/step - loss: 0.0348\n",
      "Epoch 15/20\n",
      "2/2 [==============================] - 1s 193ms/step - loss: 0.0310\n",
      "Epoch 16/20\n",
      "2/2 [==============================] - 1s 209ms/step - loss: 0.0278\n",
      "Epoch 17/20\n",
      "2/2 [==============================] - 1s 189ms/step - loss: 0.0252\n",
      "Epoch 18/20\n",
      "2/2 [==============================] - 1s 190ms/step - loss: 0.0226\n",
      "Epoch 19/20\n",
      "2/2 [==============================] - 1s 187ms/step - loss: 0.0204\n",
      "Epoch 20/20\n",
      "2/2 [==============================] - 1s 178ms/step - loss: 0.0194\n"
     ]
    }
   ],
   "source": [
    "# the loss is decreased fast when LR is between 1e-4 and 8e-4\n",
    "# choose the mid point between 1e-5 and 1e-4\n",
    "lr = 4e-4\n",
    "\n",
    "base_model_16 = tf.keras.applications.vgg16.VGG16(include_top=False,\n",
    "                  input_shape = (imsize,imsize,3),\n",
    "                  weights = 'imagenet')\n",
    "\n",
    "# freeze all the layers of VGG, so they won't be trained.\n",
    "for layer in base_model_16.layers:\n",
    "    layer.trainable = False\n",
    "\n",
    "model_cl = tf.keras.models.Sequential([\n",
    "    base_model_16,\n",
    "    tf.keras.layers.Flatten(),\n",
    "    tf.keras.layers.Dense(units=1024, activation='relu'),\n",
    "    tf.keras.layers.Dense(embeddingDim, activation=None), # No activation on final dense layer\n",
    "    tf.keras.layers.Lambda(lambda x: tf.math.l2_normalize(x, axis=1)) # L2 normalize embeddings\n",
    "])\n",
    "    \n",
    "imgA = tf.keras.layers.Input(shape=((imsize, imsize, 3)))\n",
    "imgB = tf.keras.layers.Input(shape=((imsize, imsize, 3)))\n",
    "    \n",
    "featsA = model_cl(imgA)\n",
    "featsB = model_cl(imgB)\n",
    "   \n",
    "distance = tf.keras.layers.Lambda(euclidean_distance)([featsA, featsB])\n",
    "model = tf.keras.Model(inputs=[imgA, imgB], outputs=distance)\n",
    "model.compile(loss=contrastive_loss, optimizer=tf.keras.optimizers.Adam(lr))\n",
    "\n",
    "history = model.fit([pairTrain[:, 0], pairTrain[:, 1]], labelTrain[:],\n",
    "                    batch_size = batch_size, \n",
    "                    epochs=EPOCHS, \n",
    "                    verbose=1)"
   ]
  },
  {
   "cell_type": "code",
   "execution_count": 15,
   "id": "c3346f22",
   "metadata": {
    "execution": {
     "iopub.execute_input": "2021-10-07T23:37:54.812151Z",
     "iopub.status.busy": "2021-10-07T23:37:54.811521Z",
     "iopub.status.idle": "2021-10-07T23:37:54.916869Z",
     "shell.execute_reply": "2021-10-07T23:37:54.915980Z",
     "shell.execute_reply.started": "2021-10-07T23:33:57.876201Z"
    },
    "papermill": {
     "duration": 0.244838,
     "end_time": "2021-10-07T23:37:54.917005",
     "exception": false,
     "start_time": "2021-10-07T23:37:54.672167",
     "status": "completed"
    },
    "tags": []
   },
   "outputs": [],
   "source": [
    "from sklearn.neighbors import KNeighborsClassifier\n",
    "\n",
    "def acc_cl(x_test, y_test, k = 1):\n",
    "    embedding_train_cl = []\n",
    "    for i in range(len(y_train)):\n",
    "        embedding_train_cl.append(model_cl(x_train[i].reshape(1, imsize, imsize, 3))[0])\n",
    "    embedding_train_cl = np.array(embedding_train_cl, dtype=float) \n",
    "\n",
    "    knn_cl = KNeighborsClassifier(n_neighbors = k)\n",
    "    knn_cl.fit(embedding_train_cl, y_train)\n",
    "    \n",
    "    x_test_embedding = model_cl(x_test)\n",
    "    acc_close = round(knn_cl.score(x_test_embedding, y_test), 2)\n",
    "    print('The accuracy on the Closed Dataset with contrastive loss is {}'.format(acc_close))\n",
    "    \n",
    "    return acc_close"
   ]
  },
  {
   "cell_type": "markdown",
   "id": "12f3929b",
   "metadata": {
    "papermill": {
     "duration": 0.131235,
     "end_time": "2021-10-07T23:37:55.180549",
     "exception": false,
     "start_time": "2021-10-07T23:37:55.049314",
     "status": "completed"
    },
    "tags": []
   },
   "source": [
    "# Tuning k value of kNN"
   ]
  },
  {
   "cell_type": "code",
   "execution_count": 16,
   "id": "0f340620",
   "metadata": {
    "execution": {
     "iopub.execute_input": "2021-10-07T23:37:55.452481Z",
     "iopub.status.busy": "2021-10-07T23:37:55.451591Z",
     "iopub.status.idle": "2021-10-07T23:38:10.785635Z",
     "shell.execute_reply": "2021-10-07T23:38:10.786190Z",
     "shell.execute_reply.started": "2021-10-07T23:33:58.252810Z"
    },
    "papermill": {
     "duration": 15.473752,
     "end_time": "2021-10-07T23:38:10.786388",
     "exception": false,
     "start_time": "2021-10-07T23:37:55.312636",
     "status": "completed"
    },
    "tags": []
   },
   "outputs": [
    {
     "name": "stdout",
     "output_type": "stream",
     "text": [
      "The accuracy on the Closed Dataset with contrastive loss is 0.58\n",
      "The accuracy on the Closed Dataset with contrastive loss is 0.57\n",
      "The accuracy on the Closed Dataset with contrastive loss is 0.58\n",
      "The accuracy on the Closed Dataset with contrastive loss is 0.54\n",
      "The accuracy on the Closed Dataset with contrastive loss is 0.49\n",
      "The accuracy on the Closed Dataset with contrastive loss is 0.49\n",
      "The accuracy on the Closed Dataset with contrastive loss is 0.49\n",
      "The accuracy on the Closed Dataset with contrastive loss is 0.49\n",
      "The accuracy on the Closed Dataset with contrastive loss is 0.49\n"
     ]
    }
   ],
   "source": [
    "K = [1, 2, 3, 4, 5, 6, 7, 8, 9]\n",
    "acc_c = []\n",
    "for i in K:\n",
    "    acc_c.append(acc_cl(x_test, y_test, k = i))"
   ]
  },
  {
   "cell_type": "code",
   "execution_count": 17,
   "id": "39520909",
   "metadata": {
    "execution": {
     "iopub.execute_input": "2021-10-07T23:38:11.076703Z",
     "iopub.status.busy": "2021-10-07T23:38:11.058983Z",
     "iopub.status.idle": "2021-10-07T23:38:11.247801Z",
     "shell.execute_reply": "2021-10-07T23:38:11.248481Z",
     "shell.execute_reply.started": "2021-10-07T23:34:20.480453Z"
    },
    "papermill": {
     "duration": 0.327312,
     "end_time": "2021-10-07T23:38:11.248625",
     "exception": false,
     "start_time": "2021-10-07T23:38:10.921313",
     "status": "completed"
    },
    "tags": []
   },
   "outputs": [
    {
     "data": {
      "image/png": "[encoded data removed]",
      "text/plain": [
       "<Figure size 432x288 with 1 Axes>"
      ]
     },
     "metadata": {
      "needs_background": "light"
     },
     "output_type": "display_data"
    }
   ],
   "source": [
    "# k = 2, highest accuracy.\n",
    "plt.plot(K, acc_c)\n",
    "plt.xlabel('K')\n",
    "plt.ylabel('accuracy')\n",
    "plt.title('tunning K value with Contrastive Loss')\n",
    "plt.show()"
   ]
  },
  {
   "cell_type": "markdown",
   "id": "9d0f8371",
   "metadata": {
    "papermill": {
     "duration": 0.134198,
     "end_time": "2021-10-07T23:38:11.515598",
     "exception": false,
     "start_time": "2021-10-07T23:38:11.381400",
     "status": "completed"
    },
    "tags": []
   },
   "source": [
    "# Triplet loss"
   ]
  },
  {
   "cell_type": "code",
   "execution_count": 18,
   "id": "beebe076",
   "metadata": {
    "execution": {
     "iopub.execute_input": "2021-10-07T23:38:11.793084Z",
     "iopub.status.busy": "2021-10-07T23:38:11.792247Z",
     "iopub.status.idle": "2021-10-07T23:38:17.573275Z",
     "shell.execute_reply": "2021-10-07T23:38:17.574045Z",
     "shell.execute_reply.started": "2021-10-07T23:34:45.731057Z"
    },
    "papermill": {
     "duration": 5.924895,
     "end_time": "2021-10-07T23:38:17.574200",
     "exception": false,
     "start_time": "2021-10-07T23:38:11.649305",
     "status": "completed"
    },
    "tags": []
   },
   "outputs": [
    {
     "name": "stdout",
     "output_type": "stream",
     "text": [
      "Epoch 1/20\n",
      "1/1 [==============================] - 2s 2s/step - loss: 0.9779\n",
      "Epoch 2/20\n",
      "1/1 [==============================] - 0s 166ms/step - loss: 0.9760\n",
      "Epoch 3/20\n",
      "1/1 [==============================] - 0s 171ms/step - loss: 0.9725\n",
      "Epoch 4/20\n",
      "1/1 [==============================] - 0s 171ms/step - loss: 0.9657\n",
      "Epoch 5/20\n",
      "1/1 [==============================] - 0s 196ms/step - loss: 0.9520\n",
      "Epoch 6/20\n",
      "1/1 [==============================] - 0s 171ms/step - loss: 0.9199\n",
      "Epoch 7/20\n",
      "1/1 [==============================] - 0s 197ms/step - loss: 0.8451\n",
      "Epoch 8/20\n",
      "1/1 [==============================] - 0s 166ms/step - loss: 0.7248\n",
      "Epoch 9/20\n",
      "1/1 [==============================] - 0s 170ms/step - loss: 0.6854\n",
      "Epoch 10/20\n",
      "1/1 [==============================] - 0s 170ms/step - loss: 0.6311\n",
      "Epoch 11/20\n",
      "1/1 [==============================] - 0s 182ms/step - loss: 0.5343\n",
      "Epoch 12/20\n",
      "1/1 [==============================] - 0s 171ms/step - loss: 0.6555\n",
      "Epoch 13/20\n",
      "1/1 [==============================] - 0s 172ms/step - loss: 0.5234\n",
      "Epoch 14/20\n",
      "1/1 [==============================] - 0s 170ms/step - loss: 0.4995\n",
      "Epoch 15/20\n",
      "1/1 [==============================] - 0s 168ms/step - loss: 0.4507\n",
      "Epoch 16/20\n",
      "1/1 [==============================] - 0s 173ms/step - loss: 0.3624\n",
      "Epoch 17/20\n",
      "1/1 [==============================] - 0s 172ms/step - loss: 0.3364\n",
      "Epoch 18/20\n",
      "1/1 [==============================] - 0s 170ms/step - loss: 0.2267\n",
      "Epoch 19/20\n",
      "1/1 [==============================] - 0s 163ms/step - loss: 0.2611\n",
      "Epoch 20/20\n",
      "1/1 [==============================] - 0s 164ms/step - loss: 0.1680\n"
     ]
    }
   ],
   "source": [
    "lr = 1e-5\n",
    "\n",
    "base_model_16 = tf.keras.applications.vgg16.VGG16(include_top=False,\n",
    "                      input_shape = (imsize, imsize, 3),\n",
    "                      weights = 'imagenet')\n",
    "\n",
    "# freeze all the layers of VGG, so they won't be trained.\n",
    "for layer in base_model_16.layers:\n",
    "    layer.trainable = False\n",
    "\n",
    "model_tl = tf.keras.models.Sequential([\n",
    "    base_model_16,\n",
    "    tf.keras.layers.Flatten(),\n",
    "    tf.keras.layers.Dense(units=1024, activation='relu'),\n",
    "    tf.keras.layers.Dense(embeddingDim, activation=None), # No activation on final dense layer\n",
    "    tf.keras.layers.Lambda(lambda x: tf.math.l2_normalize(x, axis=1)) # L2 normalize embeddings\n",
    "])\n",
    "\n",
    "model_tl.compile(\n",
    "    optimizer=tf.keras.optimizers.Adam(lr),\n",
    "    loss=tfa.losses.TripletSemiHardLoss())\n",
    "\n",
    "history = model_tl.fit(x=x_train, y= y_train,\n",
    "                       batch_size=batch_size,\n",
    "                       epochs=EPOCHS, \n",
    "                       verbose=1, \n",
    "                       callbacks = [lr_schedule])"
   ]
  },
  {
   "cell_type": "code",
   "execution_count": 19,
   "id": "2ad0bc55",
   "metadata": {
    "execution": {
     "iopub.execute_input": "2021-10-07T23:38:17.885802Z",
     "iopub.status.busy": "2021-10-07T23:38:17.878016Z",
     "iopub.status.idle": "2021-10-07T23:38:18.331577Z",
     "shell.execute_reply": "2021-10-07T23:38:18.331154Z",
     "shell.execute_reply.started": "2021-10-07T23:34:51.164795Z"
    },
    "papermill": {
     "duration": 0.607743,
     "end_time": "2021-10-07T23:38:18.331699",
     "exception": false,
     "start_time": "2021-10-07T23:38:17.723956",
     "status": "completed"
    },
    "tags": []
   },
   "outputs": [
    {
     "data": {
      "image/png": "[encoded data removed]",
      "text/plain": [
       "<Figure size 432x288 with 1 Axes>"
      ]
     },
     "metadata": {
      "needs_background": "light"
     },
     "output_type": "display_data"
    }
   ],
   "source": [
    "import matplotlib.pyplot as plt\n",
    "plt.semilogx(history.history[\"lr\"], history.history[\"loss\"])\n",
    "plt.axis([1e-5, 1, 0, 1])\n",
    "plt.show()"
   ]
  },
  {
   "cell_type": "code",
   "execution_count": 20,
   "id": "bc060ad7",
   "metadata": {
    "execution": {
     "iopub.execute_input": "2021-10-07T23:38:18.642120Z",
     "iopub.status.busy": "2021-10-07T23:38:18.639614Z",
     "iopub.status.idle": "2021-10-07T23:38:23.112982Z",
     "shell.execute_reply": "2021-10-07T23:38:23.112494Z",
     "shell.execute_reply.started": "2021-10-07T23:35:11.569766Z"
    },
    "papermill": {
     "duration": 4.631779,
     "end_time": "2021-10-07T23:38:23.113116",
     "exception": false,
     "start_time": "2021-10-07T23:38:18.481337",
     "status": "completed"
    },
    "tags": []
   },
   "outputs": [
    {
     "name": "stdout",
     "output_type": "stream",
     "text": [
      "Epoch 1/20\n",
      "1/1 [==============================] - 1s 724ms/step - loss: 0.9815\n",
      "Epoch 2/20\n",
      "1/1 [==============================] - 0s 181ms/step - loss: 0.9191\n",
      "Epoch 3/20\n",
      "1/1 [==============================] - 0s 169ms/step - loss: 0.7487\n",
      "Epoch 4/20\n",
      "1/1 [==============================] - 0s 169ms/step - loss: 0.7453\n",
      "Epoch 5/20\n",
      "1/1 [==============================] - 0s 172ms/step - loss: 0.6290\n",
      "Epoch 6/20\n",
      "1/1 [==============================] - 0s 168ms/step - loss: 0.4648\n",
      "Epoch 7/20\n",
      "1/1 [==============================] - 0s 169ms/step - loss: 0.4270\n",
      "Epoch 8/20\n",
      "1/1 [==============================] - 0s 167ms/step - loss: 0.3236\n",
      "Epoch 9/20\n",
      "1/1 [==============================] - 0s 182ms/step - loss: 0.2696\n",
      "Epoch 10/20\n",
      "1/1 [==============================] - 0s 183ms/step - loss: 0.2267\n",
      "Epoch 11/20\n",
      "1/1 [==============================] - 0s 173ms/step - loss: 0.1638\n",
      "Epoch 12/20\n",
      "1/1 [==============================] - 0s 165ms/step - loss: 0.1666\n",
      "Epoch 13/20\n",
      "1/1 [==============================] - 0s 179ms/step - loss: 0.1179\n",
      "Epoch 14/20\n",
      "1/1 [==============================] - 0s 165ms/step - loss: 0.1182\n",
      "Epoch 15/20\n",
      "1/1 [==============================] - 0s 171ms/step - loss: 0.0794\n",
      "Epoch 16/20\n",
      "1/1 [==============================] - 0s 168ms/step - loss: 0.0800\n",
      "Epoch 17/20\n",
      "1/1 [==============================] - 0s 179ms/step - loss: 0.0719\n",
      "Epoch 18/20\n",
      "1/1 [==============================] - 0s 171ms/step - loss: 0.0627\n",
      "Epoch 19/20\n",
      "1/1 [==============================] - 0s 164ms/step - loss: 0.0529\n",
      "Epoch 20/20\n",
      "1/1 [==============================] - 0s 162ms/step - loss: 0.0493\n"
     ]
    }
   ],
   "source": [
    "# the loss is decreased fast when LR is between 5e-4 and 7e-4\n",
    "# choose the mid point between 8e-5 and 4e-4\n",
    "lr = 6e-4\n",
    "\n",
    "base_model_16 = tf.keras.applications.vgg16.VGG16(include_top=False,\n",
    "                      input_shape = (imsize, imsize, 3),\n",
    "                      weights = 'imagenet')\n",
    "\n",
    "# freeze all the layers of VGG, so they won't be trained.\n",
    "for layer in base_model_16.layers:\n",
    "    layer.trainable = False\n",
    "\n",
    "model_tl = tf.keras.models.Sequential([\n",
    "    base_model_16,\n",
    "    tf.keras.layers.Flatten(),\n",
    "    tf.keras.layers.Dense(units=1024, activation='relu'),\n",
    "    tf.keras.layers.Dense(embeddingDim, activation=None), # No activation on final dense layer\n",
    "    tf.keras.layers.Lambda(lambda x: tf.math.l2_normalize(x, axis=1)) # L2 normalize embeddings\n",
    "])\n",
    "\n",
    "model_tl.compile(\n",
    "    optimizer=tf.keras.optimizers.Adam(0.001),\n",
    "    loss=tfa.losses.TripletSemiHardLoss())\n",
    "\n",
    "history = model_tl.fit(x=x_train, y= y_train,\n",
    "                       batch_size=batch_size,\n",
    "                       epochs=EPOCHS, \n",
    "                       verbose=1)"
   ]
  },
  {
   "cell_type": "code",
   "execution_count": 21,
   "id": "c3aa67f1",
   "metadata": {
    "execution": {
     "iopub.execute_input": "2021-10-07T23:38:23.456236Z",
     "iopub.status.busy": "2021-10-07T23:38:23.452658Z",
     "iopub.status.idle": "2021-10-07T23:38:23.458541Z",
     "shell.execute_reply": "2021-10-07T23:38:23.458129Z",
     "shell.execute_reply.started": "2021-10-07T23:35:18.213914Z"
    },
    "papermill": {
     "duration": 0.172948,
     "end_time": "2021-10-07T23:38:23.458652",
     "exception": false,
     "start_time": "2021-10-07T23:38:23.285704",
     "status": "completed"
    },
    "tags": []
   },
   "outputs": [],
   "source": [
    "def acc_tl(x_test, y_test, k = 1):\n",
    "    embedding_train_tl = []\n",
    "    for i in range(len(y_train)):\n",
    "        embedding_train_tl.append(model_tl(x_train[i].reshape(1, imsize, imsize, 3))[0])\n",
    "        \n",
    "    embedding_train_tl = np.array(embedding_train_tl, dtype=float) \n",
    "\n",
    "    knn_tl = KNeighborsClassifier(n_neighbors = k)\n",
    "    knn_tl.fit(embedding_train_tl, y_train)\n",
    "    \n",
    "    x_test_embedding = model_tl(x_test)\n",
    "    acc_close = round(knn_tl.score(x_test_embedding, y_test), 2)\n",
    "    print('The accuracy on the Closed Dataset with triplet loss is {}'.format(acc_close))\n",
    "    \n",
    "    return acc_close"
   ]
  },
  {
   "cell_type": "markdown",
   "id": "40079299",
   "metadata": {
    "papermill": {
     "duration": 0.164113,
     "end_time": "2021-10-07T23:38:23.786479",
     "exception": false,
     "start_time": "2021-10-07T23:38:23.622366",
     "status": "completed"
    },
    "tags": []
   },
   "source": [
    "# tuning k value of kNN"
   ]
  },
  {
   "cell_type": "code",
   "execution_count": 22,
   "id": "a9133bea",
   "metadata": {
    "execution": {
     "iopub.execute_input": "2021-10-07T23:38:24.131551Z",
     "iopub.status.busy": "2021-10-07T23:38:24.130672Z",
     "iopub.status.idle": "2021-10-07T23:38:38.495568Z",
     "shell.execute_reply": "2021-10-07T23:38:38.496001Z",
     "shell.execute_reply.started": "2021-10-07T23:35:19.752374Z"
    },
    "papermill": {
     "duration": 14.545808,
     "end_time": "2021-10-07T23:38:38.496177",
     "exception": false,
     "start_time": "2021-10-07T23:38:23.950369",
     "status": "completed"
    },
    "tags": []
   },
   "outputs": [
    {
     "name": "stdout",
     "output_type": "stream",
     "text": [
      "The accuracy on the Closed Dataset with triplet loss is 0.66\n",
      "The accuracy on the Closed Dataset with triplet loss is 0.62\n",
      "The accuracy on the Closed Dataset with triplet loss is 0.63\n",
      "The accuracy on the Closed Dataset with triplet loss is 0.59\n",
      "The accuracy on the Closed Dataset with triplet loss is 0.59\n",
      "The accuracy on the Closed Dataset with triplet loss is 0.59\n",
      "The accuracy on the Closed Dataset with triplet loss is 0.55\n",
      "The accuracy on the Closed Dataset with triplet loss is 0.53\n",
      "The accuracy on the Closed Dataset with triplet loss is 0.54\n"
     ]
    }
   ],
   "source": [
    "K = [1, 2, 3, 4, 5, 6, 7, 8, 9]\n",
    "acc_t = []\n",
    "for i in K:\n",
    "    acc_t.append(acc_tl(x_test, y_test, k = i))"
   ]
  },
  {
   "cell_type": "markdown",
   "id": "381bd115",
   "metadata": {
    "papermill": {
     "duration": 0.168523,
     "end_time": "2021-10-07T23:38:38.839027",
     "exception": false,
     "start_time": "2021-10-07T23:38:38.670504",
     "status": "completed"
    },
    "tags": []
   },
   "source": [
    "# tuning k value of kNN"
   ]
  },
  {
   "cell_type": "code",
   "execution_count": 23,
   "id": "c009ab03",
   "metadata": {
    "execution": {
     "iopub.execute_input": "2021-10-07T23:38:39.204548Z",
     "iopub.status.busy": "2021-10-07T23:38:39.193655Z",
     "iopub.status.idle": "2021-10-07T23:38:39.377455Z",
     "shell.execute_reply": "2021-10-07T23:38:39.377026Z",
     "shell.execute_reply.started": "2021-10-07T23:35:42.890143Z"
    },
    "papermill": {
     "duration": 0.371138,
     "end_time": "2021-10-07T23:38:39.377576",
     "exception": false,
     "start_time": "2021-10-07T23:38:39.006438",
     "status": "completed"
    },
    "tags": []
   },
   "outputs": [
    {
     "data": {
      "image/png": "[encoded data removed]",
      "text/plain": [
       "<Figure size 432x288 with 1 Axes>"
      ]
     },
     "metadata": {
      "needs_background": "light"
     },
     "output_type": "display_data"
    }
   ],
   "source": [
    "# k = 1, highest accuracy.\n",
    "plt.plot(K, acc_t)\n",
    "plt.xlabel('K')\n",
    "plt.ylabel('accuracy')\n",
    "plt.title('tunning K value with Contrastive Loss')\n",
    "plt.show()"
   ]
  },
  {
   "cell_type": "code",
   "execution_count": null,
   "id": "47164a04",
   "metadata": {
    "papermill": {
     "duration": 0.167084,
     "end_time": "2021-10-07T23:38:39.714852",
     "exception": false,
     "start_time": "2021-10-07T23:38:39.547768",
     "status": "completed"
    },
    "tags": []
   },
   "outputs": [],
   "source": []
  }
 ],
 "metadata": {
  "kernelspec": {
   "display_name": "Python 3",
   "language": "python",
   "name": "python3"
  },
  "language_info": {
   "codemirror_mode": {
    "name": "ipython",
    "version": 3
   },
   "file_extension": ".py",
   "mimetype": "text/x-python",
   "name": "python",
   "nbconvert_exporter": "python",
   "pygments_lexer": "ipython3",
   "version": "3.7.10"
  },
  "papermill": {
   "default_parameters": {},
   "duration": 147.757622,
   "end_time": "2021-10-07T23:38:42.809708",
   "environment_variables": {},
   "exception": null,
   "input_path": "__notebook__.ipynb",
   "output_path": "__notebook__.ipynb",
   "parameters": {},
   "start_time": "2021-10-07T23:36:15.052086",
   "version": "2.3.3"
  }
 },
 "nbformat": 4,
 "nbformat_minor": 5
}
