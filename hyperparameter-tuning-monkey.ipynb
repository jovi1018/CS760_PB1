{
 "cells": [
  {
   "cell_type": "code",
   "execution_count": 1,
   "id": "6d278814",
   "metadata": {
    "_cell_guid": "b1076dfc-b9ad-4769-8c92-a6c4dae69d19",
    "_uuid": "8f2839f25d086af736a60e9eeb907d3b93b6e0e5",
    "execution": {
     "iopub.execute_input": "2021-10-08T20:22:06.004170Z",
     "iopub.status.busy": "2021-10-08T20:22:06.003543Z",
     "iopub.status.idle": "2021-10-08T20:22:10.545001Z",
     "shell.execute_reply": "2021-10-08T20:22:10.544015Z",
     "shell.execute_reply.started": "2021-10-08T20:14:02.705303Z"
    },
    "papermill": {
     "duration": 4.647897,
     "end_time": "2021-10-08T20:22:10.545207",
     "exception": false,
     "start_time": "2021-10-08T20:22:05.897310",
     "status": "completed"
    },
    "tags": []
   },
   "outputs": [
    {
     "name": "stderr",
     "output_type": "stream",
     "text": [
      "2021-10-08 20:22:06.516550: I tensorflow/stream_executor/platform/default/dso_loader.cc:49] Successfully opened dynamic library libcudart.so.11.0\n"
     ]
    }
   ],
   "source": [
    "import io\n",
    "import numpy as np\n",
    "import tensorflow as tf\n",
    "import tensorflow_addons as tfa"
   ]
  },
  {
   "cell_type": "code",
   "execution_count": 2,
   "id": "0ff14235",
   "metadata": {
    "execution": {
     "iopub.execute_input": "2021-10-08T20:22:10.603093Z",
     "iopub.status.busy": "2021-10-08T20:22:10.602385Z",
     "iopub.status.idle": "2021-10-08T20:22:11.259403Z",
     "shell.execute_reply": "2021-10-08T20:22:11.258493Z",
     "shell.execute_reply.started": "2021-10-08T20:14:11.494700Z"
    },
    "papermill": {
     "duration": 0.689686,
     "end_time": "2021-10-08T20:22:11.259542",
     "exception": false,
     "start_time": "2021-10-08T20:22:10.569856",
     "status": "completed"
    },
    "tags": []
   },
   "outputs": [],
   "source": [
    "import os  \n",
    "import cv2\n",
    "from tqdm import tqdm\n",
    "from sklearn.preprocessing import LabelEncoder\n",
    "\n",
    "# Loading np array from images\n",
    "def make_dataset(labels, dir_path, IMG_SIZE = 150):\n",
    "    # initial an empty list X to store image of np.array()\n",
    "    X = []\n",
    "\n",
    "    # initial an empty list Z to store labels/names of cat individauls\n",
    "    Z = []\n",
    "    for label in labels:\n",
    "        DIR = dir_path + label\n",
    "        for img in tqdm(os.listdir(DIR)):\n",
    "            path = os.path.join(DIR,img)\n",
    "            # reading images\n",
    "            img = cv2.imread(path,cv2.IMREAD_COLOR)\n",
    "            # resizing images to (150, 150, 3), 3 is the number of channels - RGB\n",
    "            img = cv2.resize(img, (IMG_SIZE,IMG_SIZE))\n",
    "        \n",
    "            X.append(np.array(img))\n",
    "            Z.append(str(label)) \n",
    "    ## Transform labels in Z to Y from class 0 to class 9, as 10 different cat individuals\n",
    "    le=LabelEncoder()\n",
    "    Y=le.fit_transform(Z)\n",
    "\n",
    "    ## Transform and normalize X in the range of [0, 1]\n",
    "    X=np.array(X)\n",
    "    X=X/255.\n",
    "    return X, Y"
   ]
  },
  {
   "cell_type": "code",
   "execution_count": 3,
   "id": "b830933f",
   "metadata": {
    "execution": {
     "iopub.execute_input": "2021-10-08T20:22:11.315155Z",
     "iopub.status.busy": "2021-10-08T20:22:11.314609Z",
     "iopub.status.idle": "2021-10-08T20:22:15.141375Z",
     "shell.execute_reply": "2021-10-08T20:22:15.140794Z",
     "shell.execute_reply.started": "2021-10-08T20:14:17.425855Z"
    },
    "papermill": {
     "duration": 3.855993,
     "end_time": "2021-10-08T20:22:15.141518",
     "exception": false,
     "start_time": "2021-10-08T20:22:11.285525",
     "status": "completed"
    },
    "tags": []
   },
   "outputs": [
    {
     "name": "stderr",
     "output_type": "stream",
     "text": [
      "100%|██████████| 15/15 [00:00<00:00, 77.49it/s]\n",
      "100%|██████████| 10/10 [00:00<00:00, 133.21it/s]\n",
      "100%|██████████| 5/5 [00:00<00:00, 31.94it/s]\n",
      "100%|██████████| 8/8 [00:00<00:00, 68.40it/s]\n",
      "100%|██████████| 6/6 [00:00<00:00, 141.41it/s]\n",
      "100%|██████████| 3/3 [00:00<00:00, 63.18it/s]\n",
      "100%|██████████| 2/2 [00:00<00:00, 67.63it/s]\n",
      "100%|██████████| 8/8 [00:00<00:00, 44.88it/s]\n",
      "100%|██████████| 4/4 [00:00<00:00, 132.42it/s]\n",
      "100%|██████████| 1/1 [00:00<00:00, 69.87it/s]\n",
      "100%|██████████| 1/1 [00:00<00:00, 144.91it/s]\n",
      "100%|██████████| 8/8 [00:00<00:00, 81.71it/s]\n",
      "100%|██████████| 4/4 [00:00<00:00, 75.04it/s]\n",
      "100%|██████████| 7/7 [00:00<00:00, 58.54it/s]\n",
      "100%|██████████| 9/9 [00:00<00:00, 162.46it/s]\n",
      "100%|██████████| 7/7 [00:00<00:00, 54.92it/s]\n",
      "100%|██████████| 10/10 [00:00<00:00, 33.75it/s]\n",
      "100%|██████████| 10/10 [00:00<00:00, 75.15it/s]\n",
      "100%|██████████| 4/4 [00:00<00:00, 61.34it/s]\n",
      "100%|██████████| 4/4 [00:00<00:00, 58.34it/s]\n",
      "100%|██████████| 4/4 [00:00<00:00, 31.67it/s]\n",
      "100%|██████████| 5/5 [00:00<00:00, 89.81it/s]\n",
      "100%|██████████| 2/2 [00:00<00:00, 149.44it/s]\n",
      "100%|██████████| 8/8 [00:00<00:00, 160.01it/s]\n",
      "100%|██████████| 4/4 [00:00<00:00, 42.11it/s]\n",
      "100%|██████████| 11/11 [00:00<00:00, 170.55it/s]\n",
      "100%|██████████| 5/5 [00:00<00:00, 71.08it/s]\n",
      "100%|██████████| 3/3 [00:00<00:00, 71.09it/s]\n",
      "100%|██████████| 2/2 [00:00<00:00, 75.40it/s]\n",
      "100%|██████████| 7/7 [00:00<00:00, 93.74it/s]\n",
      "100%|██████████| 12/12 [00:00<00:00, 171.19it/s]\n",
      "100%|██████████| 2/2 [00:00<00:00, 175.33it/s]\n",
      "100%|██████████| 4/4 [00:00<00:00, 43.00it/s]\n",
      "100%|██████████| 3/3 [00:00<00:00, 144.15it/s]\n",
      "100%|██████████| 2/2 [00:00<00:00, 103.15it/s]\n",
      "100%|██████████| 3/3 [00:00<00:00, 168.28it/s]\n",
      "100%|██████████| 12/12 [00:00<00:00, 85.85it/s]\n",
      "100%|██████████| 5/5 [00:00<00:00, 44.77it/s]\n",
      "100%|██████████| 6/6 [00:00<00:00, 165.89it/s]\n",
      "100%|██████████| 5/5 [00:00<00:00, 79.21it/s]\n",
      "100%|██████████| 10/10 [00:00<00:00, 153.33it/s]\n",
      "100%|██████████| 3/3 [00:00<00:00, 72.06it/s]\n",
      "100%|██████████| 4/4 [00:00<00:00, 49.14it/s]\n",
      "100%|██████████| 4/4 [00:00<00:00, 141.69it/s]\n"
     ]
    }
   ],
   "source": [
    "dir_path = '/kaggle/input/squirrel-monkey/Saimiri sciureus/'\n",
    "IMG_SIZE = 150\n",
    "labels = [str(i) for i in range(44)]\n",
    "\n",
    "X, Y = make_dataset(labels, dir_path)"
   ]
  },
  {
   "cell_type": "code",
   "execution_count": 4,
   "id": "ed7b2c7b",
   "metadata": {
    "execution": {
     "iopub.execute_input": "2021-10-08T20:22:15.277516Z",
     "iopub.status.busy": "2021-10-08T20:22:15.276666Z",
     "iopub.status.idle": "2021-10-08T20:22:15.375538Z",
     "shell.execute_reply": "2021-10-08T20:22:15.375029Z",
     "shell.execute_reply.started": "2021-10-08T20:14:23.250988Z"
    },
    "papermill": {
     "duration": 0.168535,
     "end_time": "2021-10-08T20:22:15.375674",
     "exception": false,
     "start_time": "2021-10-08T20:22:15.207139",
     "status": "completed"
    },
    "tags": []
   },
   "outputs": [],
   "source": [
    "from sklearn.model_selection import train_test_split\n",
    "\n",
    "x_train, x_test ,y_train, y_test = train_test_split(X, Y, test_size = 0.2, random_state = 2021)\n",
    "x_test, x_val, y_test, y_val = train_test_split(x_test, y_test, test_size = 0.5, random_state = 2021)"
   ]
  },
  {
   "cell_type": "markdown",
   "id": "f3861836",
   "metadata": {
    "papermill": {
     "duration": 0.066178,
     "end_time": "2021-10-08T20:22:15.507024",
     "exception": false,
     "start_time": "2021-10-08T20:22:15.440846",
     "status": "completed"
    },
    "tags": []
   },
   "source": [
    "# VGG 16 classification model"
   ]
  },
  {
   "cell_type": "code",
   "execution_count": 5,
   "id": "2eff0e7b",
   "metadata": {
    "execution": {
     "iopub.execute_input": "2021-10-08T20:22:15.644912Z",
     "iopub.status.busy": "2021-10-08T20:22:15.644091Z",
     "iopub.status.idle": "2021-10-08T20:22:15.646218Z",
     "shell.execute_reply": "2021-10-08T20:22:15.646709Z",
     "shell.execute_reply.started": "2021-10-08T20:14:41.190881Z"
    },
    "papermill": {
     "duration": 0.073714,
     "end_time": "2021-10-08T20:22:15.646852",
     "exception": false,
     "start_time": "2021-10-08T20:22:15.573138",
     "status": "completed"
    },
    "tags": []
   },
   "outputs": [],
   "source": [
    "def build_model_vgg16(hp):\n",
    "    base_model_16 = tf.keras.applications.vgg16.VGG16(include_top=False,\n",
    "                      input_shape = (imsize,imsize,3),\n",
    "                      weights = 'imagenet')\n",
    "\n",
    "    # freeze all the layers of VGG, so they won't be trained.\n",
    "    for layer in base_model_16.layers:\n",
    "        layer.trainable = False\n",
    "\n",
    "    model = tf.keras.models.Sequential([\n",
    "        base_model_16,\n",
    "        tf.keras.layers.Flatten(),\n",
    "        tf.keras.layers.Dense(units=1024, activation='relu'),\n",
    "        tf.keras.layers.Dense(units=44, activation='softmax')\n",
    "])\n",
    "\n",
    "    \n",
    "    model.compile(optimizer=tf.keras.optimizers.Adam(hp.Choice(\"learning_rate\", values=[1e-1, 1e-2, 1e-3, 1e-4, 1e-5])), loss='sparse_categorical_crossentropy', metrics=['acc']) \n",
    "    return model"
   ]
  },
  {
   "cell_type": "code",
   "execution_count": 6,
   "id": "7cdad991",
   "metadata": {
    "execution": {
     "iopub.execute_input": "2021-10-08T20:22:15.776349Z",
     "iopub.status.busy": "2021-10-08T20:22:15.775758Z",
     "iopub.status.idle": "2021-10-08T20:22:18.646464Z",
     "shell.execute_reply": "2021-10-08T20:22:18.645880Z",
     "shell.execute_reply.started": "2021-10-08T20:14:49.695435Z"
    },
    "papermill": {
     "duration": 2.936535,
     "end_time": "2021-10-08T20:22:18.646603",
     "exception": false,
     "start_time": "2021-10-08T20:22:15.710068",
     "status": "completed"
    },
    "tags": []
   },
   "outputs": [
    {
     "name": "stderr",
     "output_type": "stream",
     "text": [
      "2021-10-08 20:22:16.000093: I tensorflow/compiler/jit/xla_cpu_device.cc:41] Not creating XLA devices, tf_xla_enable_xla_devices not set\n",
      "2021-10-08 20:22:16.003883: I tensorflow/stream_executor/platform/default/dso_loader.cc:49] Successfully opened dynamic library libcuda.so.1\n",
      "2021-10-08 20:22:16.045167: I tensorflow/stream_executor/cuda/cuda_gpu_executor.cc:941] successful NUMA node read from SysFS had negative value (-1), but there must be at least one NUMA node, so returning NUMA node zero\n",
      "2021-10-08 20:22:16.045822: I tensorflow/core/common_runtime/gpu/gpu_device.cc:1720] Found device 0 with properties: \n",
      "pciBusID: 0000:00:04.0 name: Tesla P100-PCIE-16GB computeCapability: 6.0\n",
      "coreClock: 1.3285GHz coreCount: 56 deviceMemorySize: 15.90GiB deviceMemoryBandwidth: 681.88GiB/s\n",
      "2021-10-08 20:22:16.045899: I tensorflow/stream_executor/platform/default/dso_loader.cc:49] Successfully opened dynamic library libcudart.so.11.0\n",
      "2021-10-08 20:22:16.072894: I tensorflow/stream_executor/platform/default/dso_loader.cc:49] Successfully opened dynamic library libcublas.so.11\n",
      "2021-10-08 20:22:16.072990: I tensorflow/stream_executor/platform/default/dso_loader.cc:49] Successfully opened dynamic library libcublasLt.so.11\n",
      "2021-10-08 20:22:16.088100: I tensorflow/stream_executor/platform/default/dso_loader.cc:49] Successfully opened dynamic library libcufft.so.10\n",
      "2021-10-08 20:22:16.097451: I tensorflow/stream_executor/platform/default/dso_loader.cc:49] Successfully opened dynamic library libcurand.so.10\n",
      "2021-10-08 20:22:16.124253: I tensorflow/stream_executor/platform/default/dso_loader.cc:49] Successfully opened dynamic library libcusolver.so.10\n",
      "2021-10-08 20:22:16.132532: I tensorflow/stream_executor/platform/default/dso_loader.cc:49] Successfully opened dynamic library libcusparse.so.11\n",
      "2021-10-08 20:22:16.135144: I tensorflow/stream_executor/platform/default/dso_loader.cc:49] Successfully opened dynamic library libcudnn.so.8\n",
      "2021-10-08 20:22:16.135310: I tensorflow/stream_executor/cuda/cuda_gpu_executor.cc:941] successful NUMA node read from SysFS had negative value (-1), but there must be at least one NUMA node, so returning NUMA node zero\n",
      "2021-10-08 20:22:16.135983: I tensorflow/stream_executor/cuda/cuda_gpu_executor.cc:941] successful NUMA node read from SysFS had negative value (-1), but there must be at least one NUMA node, so returning NUMA node zero\n",
      "2021-10-08 20:22:16.137522: I tensorflow/core/common_runtime/gpu/gpu_device.cc:1862] Adding visible gpu devices: 0\n",
      "2021-10-08 20:22:16.137950: I tensorflow/core/platform/cpu_feature_guard.cc:142] This TensorFlow binary is optimized with oneAPI Deep Neural Network Library (oneDNN) to use the following CPU instructions in performance-critical operations:  AVX2 AVX512F FMA\n",
      "To enable them in other operations, rebuild TensorFlow with the appropriate compiler flags.\n",
      "2021-10-08 20:22:16.138173: I tensorflow/compiler/jit/xla_gpu_device.cc:99] Not creating XLA devices, tf_xla_enable_xla_devices not set\n",
      "2021-10-08 20:22:16.138349: I tensorflow/stream_executor/cuda/cuda_gpu_executor.cc:941] successful NUMA node read from SysFS had negative value (-1), but there must be at least one NUMA node, so returning NUMA node zero\n",
      "2021-10-08 20:22:16.139095: I tensorflow/core/common_runtime/gpu/gpu_device.cc:1720] Found device 0 with properties: \n",
      "pciBusID: 0000:00:04.0 name: Tesla P100-PCIE-16GB computeCapability: 6.0\n",
      "coreClock: 1.3285GHz coreCount: 56 deviceMemorySize: 15.90GiB deviceMemoryBandwidth: 681.88GiB/s\n",
      "2021-10-08 20:22:16.139139: I tensorflow/stream_executor/platform/default/dso_loader.cc:49] Successfully opened dynamic library libcudart.so.11.0\n",
      "2021-10-08 20:22:16.139174: I tensorflow/stream_executor/platform/default/dso_loader.cc:49] Successfully opened dynamic library libcublas.so.11\n",
      "2021-10-08 20:22:16.139197: I tensorflow/stream_executor/platform/default/dso_loader.cc:49] Successfully opened dynamic library libcublasLt.so.11\n",
      "2021-10-08 20:22:16.139219: I tensorflow/stream_executor/platform/default/dso_loader.cc:49] Successfully opened dynamic library libcufft.so.10\n",
      "2021-10-08 20:22:16.139241: I tensorflow/stream_executor/platform/default/dso_loader.cc:49] Successfully opened dynamic library libcurand.so.10\n",
      "2021-10-08 20:22:16.139263: I tensorflow/stream_executor/platform/default/dso_loader.cc:49] Successfully opened dynamic library libcusolver.so.10\n",
      "2021-10-08 20:22:16.139286: I tensorflow/stream_executor/platform/default/dso_loader.cc:49] Successfully opened dynamic library libcusparse.so.11\n",
      "2021-10-08 20:22:16.139308: I tensorflow/stream_executor/platform/default/dso_loader.cc:49] Successfully opened dynamic library libcudnn.so.8\n",
      "2021-10-08 20:22:16.139390: I tensorflow/stream_executor/cuda/cuda_gpu_executor.cc:941] successful NUMA node read from SysFS had negative value (-1), but there must be at least one NUMA node, so returning NUMA node zero\n",
      "2021-10-08 20:22:16.139995: I tensorflow/stream_executor/cuda/cuda_gpu_executor.cc:941] successful NUMA node read from SysFS had negative value (-1), but there must be at least one NUMA node, so returning NUMA node zero\n",
      "2021-10-08 20:22:16.140553: I tensorflow/core/common_runtime/gpu/gpu_device.cc:1862] Adding visible gpu devices: 0\n",
      "2021-10-08 20:22:16.141680: I tensorflow/stream_executor/platform/default/dso_loader.cc:49] Successfully opened dynamic library libcudart.so.11.0\n",
      "2021-10-08 20:22:17.635351: I tensorflow/core/common_runtime/gpu/gpu_device.cc:1261] Device interconnect StreamExecutor with strength 1 edge matrix:\n",
      "2021-10-08 20:22:17.635414: I tensorflow/core/common_runtime/gpu/gpu_device.cc:1267]      0 \n",
      "2021-10-08 20:22:17.635424: I tensorflow/core/common_runtime/gpu/gpu_device.cc:1280] 0:   N \n",
      "2021-10-08 20:22:17.637529: I tensorflow/stream_executor/cuda/cuda_gpu_executor.cc:941] successful NUMA node read from SysFS had negative value (-1), but there must be at least one NUMA node, so returning NUMA node zero\n",
      "2021-10-08 20:22:17.638303: I tensorflow/stream_executor/cuda/cuda_gpu_executor.cc:941] successful NUMA node read from SysFS had negative value (-1), but there must be at least one NUMA node, so returning NUMA node zero\n",
      "2021-10-08 20:22:17.638936: I tensorflow/stream_executor/cuda/cuda_gpu_executor.cc:941] successful NUMA node read from SysFS had negative value (-1), but there must be at least one NUMA node, so returning NUMA node zero\n",
      "2021-10-08 20:22:17.639515: I tensorflow/core/common_runtime/gpu/gpu_device.cc:1406] Created TensorFlow device (/job:localhost/replica:0/task:0/device:GPU:0 with 14957 MB memory) -> physical GPU (device: 0, name: Tesla P100-PCIE-16GB, pci bus id: 0000:00:04.0, compute capability: 6.0)\n"
     ]
    },
    {
     "name": "stdout",
     "output_type": "stream",
     "text": [
      "Downloading data from https://storage.googleapis.com/tensorflow/keras-applications/vgg16/vgg16_weights_tf_dim_ordering_tf_kernels_notop.h5\n",
      "58892288/58889256 [==============================] - 0s 0us/step\n"
     ]
    }
   ],
   "source": [
    "import keras_tuner as kt\n",
    "\n",
    "imsize = 150\n",
    "EPOCHS = 20\n",
    "batch_size = 256\n",
    "\n",
    "tuner_vgg16 = kt.RandomSearch(\n",
    "    build_model_vgg16,\n",
    "    objective = 'val_acc', \n",
    "    max_trials=5\n",
    ")"
   ]
  },
  {
   "cell_type": "code",
   "execution_count": 7,
   "id": "c4fad18b",
   "metadata": {
    "execution": {
     "iopub.execute_input": "2021-10-08T20:22:18.780464Z",
     "iopub.status.busy": "2021-10-08T20:22:18.779636Z",
     "iopub.status.idle": "2021-10-08T20:23:15.266367Z",
     "shell.execute_reply": "2021-10-08T20:23:15.267142Z",
     "shell.execute_reply.started": "2021-10-08T20:15:11.098074Z"
    },
    "papermill": {
     "duration": 56.556059,
     "end_time": "2021-10-08T20:23:15.267388",
     "exception": false,
     "start_time": "2021-10-08T20:22:18.711329",
     "status": "completed"
    },
    "tags": []
   },
   "outputs": [
    {
     "name": "stdout",
     "output_type": "stream",
     "text": [
      "Trial 4 Complete [00h 00m 10s]\n",
      "val_acc: 0.6538461446762085\n",
      "\n",
      "Best val_acc So Far: 0.7692307829856873\n",
      "Total elapsed time: 00h 00m 56s\n"
     ]
    }
   ],
   "source": [
    "tuner_vgg16.search(x_train, y_train, epochs=EPOCHS, validation_data=(x_val, y_val))"
   ]
  },
  {
   "cell_type": "code",
   "execution_count": 8,
   "id": "b9cc421e",
   "metadata": {
    "execution": {
     "iopub.execute_input": "2021-10-08T20:23:15.400354Z",
     "iopub.status.busy": "2021-10-08T20:23:15.399713Z",
     "iopub.status.idle": "2021-10-08T20:23:16.054075Z",
     "shell.execute_reply": "2021-10-08T20:23:16.053442Z",
     "shell.execute_reply.started": "2021-10-08T20:16:12.306005Z"
    },
    "papermill": {
     "duration": 0.721722,
     "end_time": "2021-10-08T20:23:16.054201",
     "exception": false,
     "start_time": "2021-10-08T20:23:15.332479",
     "status": "completed"
    },
    "tags": []
   },
   "outputs": [],
   "source": [
    "best_hp = tuner_vgg16.get_best_hyperparameters()[0]\n",
    "model_vgg16 = tuner_vgg16.hypermodel.build(best_hp)"
   ]
  },
  {
   "cell_type": "code",
   "execution_count": 9,
   "id": "b12da8ba",
   "metadata": {
    "execution": {
     "iopub.execute_input": "2021-10-08T20:23:16.188642Z",
     "iopub.status.busy": "2021-10-08T20:23:16.187437Z",
     "iopub.status.idle": "2021-10-08T20:23:16.233226Z",
     "shell.execute_reply": "2021-10-08T20:23:16.232731Z",
     "shell.execute_reply.started": "2021-10-08T20:16:14.259062Z"
    },
    "papermill": {
     "duration": 0.114159,
     "end_time": "2021-10-08T20:23:16.233362",
     "exception": false,
     "start_time": "2021-10-08T20:23:16.119203",
     "status": "completed"
    },
    "tags": []
   },
   "outputs": [],
   "source": [
    "x_trainset = np.append(x_train, x_val, axis=0)\n",
    "y_trainset = np.append(y_train, y_val, axis=0)"
   ]
  },
  {
   "cell_type": "code",
   "execution_count": 10,
   "id": "02a6828f",
   "metadata": {
    "execution": {
     "iopub.execute_input": "2021-10-08T20:23:16.365306Z",
     "iopub.status.busy": "2021-10-08T20:23:16.364695Z",
     "iopub.status.idle": "2021-10-08T20:23:29.329704Z",
     "shell.execute_reply": "2021-10-08T20:23:29.330127Z",
     "shell.execute_reply.started": "2021-10-08T20:16:15.629873Z"
    },
    "papermill": {
     "duration": 13.033332,
     "end_time": "2021-10-08T20:23:29.330274",
     "exception": false,
     "start_time": "2021-10-08T20:23:16.296942",
     "status": "completed"
    },
    "tags": []
   },
   "outputs": [
    {
     "name": "stdout",
     "output_type": "stream",
     "text": [
      "Epoch 1/20\n",
      "1/1 [==============================] - 8s 8s/step - loss: 3.9685 - acc: 0.0220\n",
      "Epoch 2/20\n",
      "1/1 [==============================] - 0s 222ms/step - loss: 46.3541 - acc: 0.1586\n",
      "Epoch 3/20\n",
      "1/1 [==============================] - 0s 235ms/step - loss: 57.3769 - acc: 0.1542\n",
      "Epoch 4/20\n",
      "1/1 [==============================] - 0s 218ms/step - loss: 57.6617 - acc: 0.1630\n",
      "Epoch 5/20\n",
      "1/1 [==============================] - 0s 236ms/step - loss: 59.3257 - acc: 0.1454\n",
      "Epoch 6/20\n",
      "1/1 [==============================] - 0s 236ms/step - loss: 60.5839 - acc: 0.1674\n",
      "Epoch 7/20\n",
      "1/1 [==============================] - 0s 235ms/step - loss: 59.7430 - acc: 0.0661\n",
      "Epoch 8/20\n",
      "1/1 [==============================] - 0s 237ms/step - loss: 51.1844 - acc: 0.1498\n",
      "Epoch 9/20\n",
      "1/1 [==============================] - 0s 246ms/step - loss: 42.8694 - acc: 0.2070\n",
      "Epoch 10/20\n",
      "1/1 [==============================] - 0s 233ms/step - loss: 34.1611 - acc: 0.2115\n",
      "Epoch 11/20\n",
      "1/1 [==============================] - 0s 271ms/step - loss: 27.8144 - acc: 0.2819\n",
      "Epoch 12/20\n",
      "1/1 [==============================] - 0s 217ms/step - loss: 22.6983 - acc: 0.2555\n",
      "Epoch 13/20\n",
      "1/1 [==============================] - 0s 252ms/step - loss: 15.7359 - acc: 0.3216\n",
      "Epoch 14/20\n",
      "1/1 [==============================] - 0s 251ms/step - loss: 9.3262 - acc: 0.4493\n",
      "Epoch 15/20\n",
      "1/1 [==============================] - 0s 257ms/step - loss: 5.7477 - acc: 0.3524\n",
      "Epoch 16/20\n",
      "1/1 [==============================] - 0s 219ms/step - loss: 3.7857 - acc: 0.3524\n",
      "Epoch 17/20\n",
      "1/1 [==============================] - 0s 219ms/step - loss: 2.6266 - acc: 0.4493\n",
      "Epoch 18/20\n",
      "1/1 [==============================] - 0s 220ms/step - loss: 1.8002 - acc: 0.5463\n",
      "Epoch 19/20\n",
      "1/1 [==============================] - 0s 212ms/step - loss: 1.9168 - acc: 0.4758\n",
      "Epoch 20/20\n",
      "1/1 [==============================] - 0s 211ms/step - loss: 1.6778 - acc: 0.5463\n"
     ]
    },
    {
     "data": {
      "text/plain": [
       "<tensorflow.python.keras.callbacks.History at 0x7f1e38506110>"
      ]
     },
     "execution_count": 10,
     "metadata": {},
     "output_type": "execute_result"
    }
   ],
   "source": [
    "model_vgg16.fit(x_trainset, y_trainset,\n",
    "                epochs=EPOCHS,\n",
    "                batch_size=batch_size,\n",
    "                verbose=1)"
   ]
  },
  {
   "cell_type": "code",
   "execution_count": 11,
   "id": "3b65928d",
   "metadata": {
    "execution": {
     "iopub.execute_input": "2021-10-08T20:23:29.497626Z",
     "iopub.status.busy": "2021-10-08T20:23:29.496502Z",
     "iopub.status.idle": "2021-10-08T20:23:30.869587Z",
     "shell.execute_reply": "2021-10-08T20:23:30.870118Z",
     "shell.execute_reply.started": "2021-10-08T20:16:28.457565Z"
    },
    "papermill": {
     "duration": 1.458089,
     "end_time": "2021-10-08T20:23:30.870271",
     "exception": false,
     "start_time": "2021-10-08T20:23:29.412182",
     "status": "completed"
    },
    "tags": []
   },
   "outputs": [
    {
     "name": "stdout",
     "output_type": "stream",
     "text": [
      "1/1 [==============================] - 1s 1s/step - loss: 1.9559 - acc: 0.5600\n"
     ]
    },
    {
     "data": {
      "text/plain": [
       "[1.9558966159820557, 0.5600000023841858]"
      ]
     },
     "execution_count": 11,
     "metadata": {},
     "output_type": "execute_result"
    }
   ],
   "source": [
    "model_vgg16.evaluate(x_test, y_test)"
   ]
  },
  {
   "cell_type": "markdown",
   "id": "f5f82eaf",
   "metadata": {
    "papermill": {
     "duration": 0.080957,
     "end_time": "2021-10-08T20:23:31.035390",
     "exception": false,
     "start_time": "2021-10-08T20:23:30.954433",
     "status": "completed"
    },
    "tags": []
   },
   "source": [
    "# Contrastive loss"
   ]
  },
  {
   "cell_type": "code",
   "execution_count": 12,
   "id": "9b39cb08",
   "metadata": {
    "execution": {
     "iopub.execute_input": "2021-10-08T20:23:31.208070Z",
     "iopub.status.busy": "2021-10-08T20:23:31.207284Z",
     "iopub.status.idle": "2021-10-08T20:23:31.210256Z",
     "shell.execute_reply": "2021-10-08T20:23:31.209834Z",
     "shell.execute_reply.started": "2021-10-08T20:16:33.921830Z"
    },
    "papermill": {
     "duration": 0.092947,
     "end_time": "2021-10-08T20:23:31.210365",
     "exception": false,
     "start_time": "2021-10-08T20:23:31.117418",
     "status": "completed"
    },
    "tags": []
   },
   "outputs": [],
   "source": [
    "embeddingDim = 128\n",
    "\n",
    "def build_model_cl(hp):\n",
    "    base_model_16 = tf.keras.applications.vgg16.VGG16(include_top=False,\n",
    "                                                      input_shape = (imsize, imsize, 3),\n",
    "                                                      weights = 'imagenet')\n",
    "\n",
    "    # freeze all the layers of VGG, so they won't be trained.\n",
    "    for layer in base_model_16.layers:\n",
    "        layer.trainable = False\n",
    "\n",
    "    model = tf.keras.models.Sequential([\n",
    "        base_model_16,\n",
    "        tf.keras.layers.Flatten(),\n",
    "        tf.keras.layers.Dense(units=1024, activation='relu'),\n",
    "        tf.keras.layers.Dense(embeddingDim, activation=None), # No activation on final dense layer\n",
    "        tf.keras.layers.Lambda(lambda x: tf.math.l2_normalize(x, axis=1)) # L2 normalize embeddings\n",
    "    ])\n",
    "\n",
    "    model.compile(\n",
    "        optimizer=tf.keras.optimizers.Adam(hp.Choice(\"learning_rate\", values=[1e-1, 1e-2, 1e-3, 1e-4, 1e-5])),\n",
    "        loss=tfa.losses.ContrastiveLoss())\n",
    "    \n",
    "    return model"
   ]
  },
  {
   "cell_type": "code",
   "execution_count": 13,
   "id": "23c7eda3",
   "metadata": {
    "execution": {
     "iopub.execute_input": "2021-10-08T20:23:31.374938Z",
     "iopub.status.busy": "2021-10-08T20:23:31.374386Z",
     "iopub.status.idle": "2021-10-08T20:23:31.876093Z",
     "shell.execute_reply": "2021-10-08T20:23:31.876849Z",
     "shell.execute_reply.started": "2021-10-08T20:16:35.518336Z"
    },
    "papermill": {
     "duration": 0.586575,
     "end_time": "2021-10-08T20:23:31.877014",
     "exception": false,
     "start_time": "2021-10-08T20:23:31.290439",
     "status": "completed"
    },
    "tags": []
   },
   "outputs": [],
   "source": [
    "import keras_tuner as kt\n",
    "\n",
    "imsize = 150\n",
    "EPOCHS = 20\n",
    "batch_size = 256\n",
    "\n",
    "tuner_cl = kt.RandomSearch(\n",
    "    build_model_cl,\n",
    "    objective = 'val_acc', \n",
    "    max_trials=5\n",
    ")"
   ]
  },
  {
   "cell_type": "code",
   "execution_count": 14,
   "id": "4956ad4c",
   "metadata": {
    "execution": {
     "iopub.execute_input": "2021-10-08T20:23:32.043493Z",
     "iopub.status.busy": "2021-10-08T20:23:32.042638Z",
     "iopub.status.idle": "2021-10-08T20:23:32.045272Z",
     "shell.execute_reply": "2021-10-08T20:23:32.044852Z",
     "shell.execute_reply.started": "2021-10-08T20:16:38.597989Z"
    },
    "papermill": {
     "duration": 0.087525,
     "end_time": "2021-10-08T20:23:32.045384",
     "exception": false,
     "start_time": "2021-10-08T20:23:31.957859",
     "status": "completed"
    },
    "tags": []
   },
   "outputs": [],
   "source": [
    "tuner_cl.search(x_train, y_train, \n",
    "                epochs=EPOCHS, \n",
    "                validation_data=(x_val, y_val))"
   ]
  },
  {
   "cell_type": "code",
   "execution_count": 15,
   "id": "6423e783",
   "metadata": {
    "execution": {
     "iopub.execute_input": "2021-10-08T20:23:32.210592Z",
     "iopub.status.busy": "2021-10-08T20:23:32.209693Z",
     "iopub.status.idle": "2021-10-08T20:23:32.694459Z",
     "shell.execute_reply": "2021-10-08T20:23:32.693837Z",
     "shell.execute_reply.started": "2021-10-08T20:16:57.582651Z"
    },
    "papermill": {
     "duration": 0.568919,
     "end_time": "2021-10-08T20:23:32.694598",
     "exception": false,
     "start_time": "2021-10-08T20:23:32.125679",
     "status": "completed"
    },
    "tags": []
   },
   "outputs": [],
   "source": [
    "best_hp = tuner_cl.get_best_hyperparameters()[0]\n",
    "model_cl = tuner_cl.hypermodel.build(best_hp)"
   ]
  },
  {
   "cell_type": "code",
   "execution_count": 16,
   "id": "d4c50bf4",
   "metadata": {
    "execution": {
     "iopub.execute_input": "2021-10-08T20:23:32.861915Z",
     "iopub.status.busy": "2021-10-08T20:23:32.860881Z",
     "iopub.status.idle": "2021-10-08T20:23:44.483314Z",
     "shell.execute_reply": "2021-10-08T20:23:44.483860Z",
     "shell.execute_reply.started": "2021-10-08T20:17:04.254193Z"
    },
    "papermill": {
     "duration": 11.707624,
     "end_time": "2021-10-08T20:23:44.484014",
     "exception": false,
     "start_time": "2021-10-08T20:23:32.776390",
     "status": "completed"
    },
    "tags": []
   },
   "outputs": [
    {
     "name": "stdout",
     "output_type": "stream",
     "text": [
      "Epoch 1/20\n",
      "1/1 [==============================] - 8s 8s/step - loss: -18.3479\n",
      "Epoch 2/20\n",
      "1/1 [==============================] - 0s 191ms/step - loss: -21.5408\n",
      "Epoch 3/20\n",
      "1/1 [==============================] - 0s 208ms/step - loss: -21.5752\n",
      "Epoch 4/20\n",
      "1/1 [==============================] - 0s 209ms/step - loss: -21.5739\n",
      "Epoch 5/20\n",
      "1/1 [==============================] - 0s 192ms/step - loss: -21.5712\n",
      "Epoch 6/20\n",
      "1/1 [==============================] - 0s 194ms/step - loss: -21.5705\n",
      "Epoch 7/20\n",
      "1/1 [==============================] - 0s 209ms/step - loss: -21.5712\n",
      "Epoch 8/20\n",
      "1/1 [==============================] - 0s 208ms/step - loss: -21.5723\n",
      "Epoch 9/20\n",
      "1/1 [==============================] - 0s 207ms/step - loss: -21.5736\n",
      "Epoch 10/20\n",
      "1/1 [==============================] - 0s 206ms/step - loss: -21.5747\n",
      "Epoch 11/20\n",
      "1/1 [==============================] - 0s 207ms/step - loss: -21.5756\n",
      "Epoch 12/20\n",
      "1/1 [==============================] - 0s 194ms/step - loss: -21.5763\n",
      "Epoch 13/20\n",
      "1/1 [==============================] - 0s 209ms/step - loss: -21.5767\n",
      "Epoch 14/20\n",
      "1/1 [==============================] - 0s 206ms/step - loss: -21.5771\n",
      "Epoch 15/20\n",
      "1/1 [==============================] - 0s 206ms/step - loss: -21.5773\n",
      "Epoch 16/20\n",
      "1/1 [==============================] - 0s 194ms/step - loss: -21.5774\n",
      "Epoch 17/20\n",
      "1/1 [==============================] - 0s 208ms/step - loss: -21.5775\n",
      "Epoch 18/20\n",
      "1/1 [==============================] - 0s 195ms/step - loss: -21.5775\n",
      "Epoch 19/20\n",
      "1/1 [==============================] - 0s 186ms/step - loss: -21.5776\n",
      "Epoch 20/20\n",
      "1/1 [==============================] - 0s 187ms/step - loss: -21.5776\n"
     ]
    },
    {
     "data": {
      "text/plain": [
       "<tensorflow.python.keras.callbacks.History at 0x7f1e38484c90>"
      ]
     },
     "execution_count": 16,
     "metadata": {},
     "output_type": "execute_result"
    }
   ],
   "source": [
    "model_cl.fit(x_train, y_train,\n",
    "             batch_size = batch_size, \n",
    "             epochs=EPOCHS, \n",
    "             verbose=1)"
   ]
  },
  {
   "cell_type": "code",
   "execution_count": 17,
   "id": "1a46a756",
   "metadata": {
    "execution": {
     "iopub.execute_input": "2021-10-08T20:23:44.682669Z",
     "iopub.status.busy": "2021-10-08T20:23:44.681935Z",
     "iopub.status.idle": "2021-10-08T20:23:44.796730Z",
     "shell.execute_reply": "2021-10-08T20:23:44.797215Z",
     "shell.execute_reply.started": "2021-10-08T20:17:19.034142Z"
    },
    "papermill": {
     "duration": 0.21658,
     "end_time": "2021-10-08T20:23:44.797396",
     "exception": false,
     "start_time": "2021-10-08T20:23:44.580816",
     "status": "completed"
    },
    "tags": []
   },
   "outputs": [],
   "source": [
    "from sklearn.neighbors import KNeighborsClassifier\n",
    "\n",
    "def acc_cl(x_test, y_test, k = 1):\n",
    "    embedding_train_cl = []\n",
    "    for i in range(len(y_train)):\n",
    "        embedding_train_cl.append(model_cl(x_train[i].reshape(1, imsize, imsize, 3))[0])\n",
    "    embedding_train_cl = np.array(embedding_train_cl, dtype=float) \n",
    "\n",
    "    knn_cl = KNeighborsClassifier(n_neighbors = k)\n",
    "    knn_cl.fit(embedding_train_cl, y_train)\n",
    "    \n",
    "    x_test_embedding = model_cl(x_test)\n",
    "    acc_close = round(knn_cl.score(x_test_embedding, y_test), 2)\n",
    "    print('The accuracy on the Closed Dataset with contrastive loss is {}'.format(acc_close))\n",
    "    \n",
    "    return acc_close"
   ]
  },
  {
   "cell_type": "markdown",
   "id": "99a32083",
   "metadata": {
    "papermill": {
     "duration": 0.095107,
     "end_time": "2021-10-08T20:23:44.987600",
     "exception": false,
     "start_time": "2021-10-08T20:23:44.892493",
     "status": "completed"
    },
    "tags": []
   },
   "source": [
    "# Tuning k value of kNN"
   ]
  },
  {
   "cell_type": "code",
   "execution_count": 18,
   "id": "3bccf16e",
   "metadata": {
    "execution": {
     "iopub.execute_input": "2021-10-08T20:23:45.184838Z",
     "iopub.status.busy": "2021-10-08T20:23:45.183971Z",
     "iopub.status.idle": "2021-10-08T20:23:54.435571Z",
     "shell.execute_reply": "2021-10-08T20:23:54.436063Z",
     "shell.execute_reply.started": "2021-10-08T20:17:23.722247Z"
    },
    "papermill": {
     "duration": 9.352631,
     "end_time": "2021-10-08T20:23:54.436241",
     "exception": false,
     "start_time": "2021-10-08T20:23:45.083610",
     "status": "completed"
    },
    "tags": []
   },
   "outputs": [
    {
     "name": "stdout",
     "output_type": "stream",
     "text": [
      "The accuracy on the Closed Dataset with contrastive loss is 0.5\n",
      "The accuracy on the Closed Dataset with contrastive loss is 0.38\n",
      "The accuracy on the Closed Dataset with contrastive loss is 0.42\n",
      "The accuracy on the Closed Dataset with contrastive loss is 0.38\n",
      "The accuracy on the Closed Dataset with contrastive loss is 0.38\n"
     ]
    }
   ],
   "source": [
    "K = [1, 3, 5, 7, 9]\n",
    "acc_c = []\n",
    "for i in K:\n",
    "    acc_c.append(acc_cl(x_val, y_val, k = i))"
   ]
  },
  {
   "cell_type": "code",
   "execution_count": 19,
   "id": "17276be8",
   "metadata": {
    "execution": {
     "iopub.execute_input": "2021-10-08T20:23:54.660379Z",
     "iopub.status.busy": "2021-10-08T20:23:54.654905Z",
     "iopub.status.idle": "2021-10-08T20:23:54.872205Z",
     "shell.execute_reply": "2021-10-08T20:23:54.871763Z",
     "shell.execute_reply.started": "2021-10-08T20:18:01.542380Z"
    },
    "papermill": {
     "duration": 0.328581,
     "end_time": "2021-10-08T20:23:54.872329",
     "exception": false,
     "start_time": "2021-10-08T20:23:54.543748",
     "status": "completed"
    },
    "tags": []
   },
   "outputs": [
    {
     "data": {
      "image/png": "[encoded data removed]",
      "text/plain": [
       "<Figure size 432x288 with 1 Axes>"
      ]
     },
     "metadata": {
      "needs_background": "light"
     },
     "output_type": "display_data"
    }
   ],
   "source": [
    "import matplotlib.pyplot as plt\n",
    "\n",
    "plt.plot(K, acc_c)\n",
    "plt.xlabel('K')\n",
    "plt.ylabel('accuracy')\n",
    "plt.title('tunning K value with Contrastive Loss')\n",
    "plt.show()"
   ]
  },
  {
   "cell_type": "code",
   "execution_count": 20,
   "id": "03f1bb8b",
   "metadata": {
    "execution": {
     "iopub.execute_input": "2021-10-08T20:23:55.083883Z",
     "iopub.status.busy": "2021-10-08T20:23:55.083035Z",
     "iopub.status.idle": "2021-10-08T20:24:00.963146Z",
     "shell.execute_reply": "2021-10-08T20:24:00.963614Z",
     "shell.execute_reply.started": "2021-10-08T20:18:24.189990Z"
    },
    "papermill": {
     "duration": 5.989175,
     "end_time": "2021-10-08T20:24:00.963763",
     "exception": false,
     "start_time": "2021-10-08T20:23:54.974588",
     "status": "completed"
    },
    "tags": []
   },
   "outputs": [
    {
     "name": "stdout",
     "output_type": "stream",
     "text": [
      "Epoch 1/20\n",
      "1/1 [==============================] - 1s 750ms/step - loss: -18.4561\n",
      "Epoch 2/20\n",
      "1/1 [==============================] - 0s 236ms/step - loss: -21.6485\n",
      "Epoch 3/20\n",
      "1/1 [==============================] - 0s 212ms/step - loss: -21.6804\n",
      "Epoch 4/20\n",
      "1/1 [==============================] - 0s 236ms/step - loss: -21.6764\n",
      "Epoch 5/20\n",
      "1/1 [==============================] - 0s 236ms/step - loss: -21.6733\n",
      "Epoch 6/20\n",
      "1/1 [==============================] - 0s 262ms/step - loss: -21.6732\n",
      "Epoch 7/20\n",
      "1/1 [==============================] - 0s 236ms/step - loss: -21.6747\n",
      "Epoch 8/20\n",
      "1/1 [==============================] - 0s 218ms/step - loss: -21.6766\n",
      "Epoch 9/20\n",
      "1/1 [==============================] - 0s 236ms/step - loss: -21.6784\n",
      "Epoch 10/20\n",
      "1/1 [==============================] - 0s 236ms/step - loss: -21.6797\n",
      "Epoch 11/20\n",
      "1/1 [==============================] - 0s 213ms/step - loss: -21.6806\n",
      "Epoch 12/20\n",
      "1/1 [==============================] - 0s 237ms/step - loss: -21.6812\n",
      "Epoch 13/20\n",
      "1/1 [==============================] - 0s 219ms/step - loss: -21.6815\n",
      "Epoch 14/20\n",
      "1/1 [==============================] - 0s 250ms/step - loss: -21.6816\n",
      "Epoch 15/20\n",
      "1/1 [==============================] - 0s 260ms/step - loss: -21.6816\n",
      "Epoch 16/20\n",
      "1/1 [==============================] - 0s 256ms/step - loss: -21.6816\n",
      "Epoch 17/20\n",
      "1/1 [==============================] - 0s 255ms/step - loss: -21.6815\n",
      "Epoch 18/20\n",
      "1/1 [==============================] - 0s 211ms/step - loss: -21.6814\n",
      "Epoch 19/20\n",
      "1/1 [==============================] - 0s 212ms/step - loss: -21.6814\n",
      "Epoch 20/20\n",
      "1/1 [==============================] - 0s 212ms/step - loss: -21.6814\n"
     ]
    },
    {
     "data": {
      "text/plain": [
       "<tensorflow.python.keras.callbacks.History at 0x7f19ef5533d0>"
      ]
     },
     "execution_count": 20,
     "metadata": {},
     "output_type": "execute_result"
    }
   ],
   "source": [
    "model_cl = tuner_cl.hypermodel.build(best_hp)\n",
    "model_cl.fit(x_trainset, y_trainset,\n",
    "             epochs=EPOCHS,\n",
    "             batch_size=batch_size,\n",
    "             verbose=1)"
   ]
  },
  {
   "cell_type": "code",
   "execution_count": 21,
   "id": "5760c381",
   "metadata": {
    "execution": {
     "iopub.execute_input": "2021-10-08T20:24:01.198495Z",
     "iopub.status.busy": "2021-10-08T20:24:01.197668Z",
     "iopub.status.idle": "2021-10-08T20:24:03.235228Z",
     "shell.execute_reply": "2021-10-08T20:24:03.235771Z",
     "shell.execute_reply.started": "2021-10-08T20:18:50.178981Z"
    },
    "papermill": {
     "duration": 2.157852,
     "end_time": "2021-10-08T20:24:03.235925",
     "exception": false,
     "start_time": "2021-10-08T20:24:01.078073",
     "status": "completed"
    },
    "tags": []
   },
   "outputs": [
    {
     "name": "stdout",
     "output_type": "stream",
     "text": [
      "The accuracy on the Closed Dataset with contrastive loss is 0.6\n"
     ]
    },
    {
     "data": {
      "text/plain": [
       "0.6"
      ]
     },
     "execution_count": 21,
     "metadata": {},
     "output_type": "execute_result"
    }
   ],
   "source": [
    "acc_cl(x_test, y_test, k = 1)"
   ]
  },
  {
   "cell_type": "markdown",
   "id": "651ab4be",
   "metadata": {
    "papermill": {
     "duration": 0.11436,
     "end_time": "2021-10-08T20:24:03.467860",
     "exception": false,
     "start_time": "2021-10-08T20:24:03.353500",
     "status": "completed"
    },
    "tags": []
   },
   "source": [
    "# Triplet loss"
   ]
  },
  {
   "cell_type": "code",
   "execution_count": 22,
   "id": "83a10d78",
   "metadata": {
    "execution": {
     "iopub.execute_input": "2021-10-08T20:24:03.702495Z",
     "iopub.status.busy": "2021-10-08T20:24:03.701808Z",
     "iopub.status.idle": "2021-10-08T20:24:03.704558Z",
     "shell.execute_reply": "2021-10-08T20:24:03.704125Z",
     "shell.execute_reply.started": "2021-10-08T20:20:44.514428Z"
    },
    "papermill": {
     "duration": 0.124108,
     "end_time": "2021-10-08T20:24:03.704664",
     "exception": false,
     "start_time": "2021-10-08T20:24:03.580556",
     "status": "completed"
    },
    "tags": []
   },
   "outputs": [],
   "source": [
    "def build_model_tl(hp):\n",
    "    base_model_16 = tf.keras.applications.vgg16.VGG16(include_top=False,\n",
    "                                                      input_shape = (imsize, imsize, 3),\n",
    "                                                      weights = 'imagenet')\n",
    "\n",
    "    # freeze all the layers of VGG, so they won't be trained.\n",
    "    for layer in base_model_16.layers:\n",
    "        layer.trainable = False\n",
    "\n",
    "    model = tf.keras.models.Sequential([\n",
    "        base_model_16,\n",
    "        tf.keras.layers.Flatten(),\n",
    "        tf.keras.layers.Dense(units=1024, activation='relu'),\n",
    "        tf.keras.layers.Dense(embeddingDim, activation=None), # No activation on final dense layer\n",
    "        tf.keras.layers.Lambda(lambda x: tf.math.l2_normalize(x, axis=1)) # L2 normalize embeddings\n",
    "    ])\n",
    "\n",
    "    model.compile(\n",
    "        optimizer=tf.keras.optimizers.Adam(hp.Choice(\"learning_rate\", values=[1e-1, 1e-2, 1e-3, 1e-4, 1e-5])),\n",
    "        loss=tfa.losses.TripletSemiHardLoss())\n",
    "    \n",
    "    return model"
   ]
  },
  {
   "cell_type": "code",
   "execution_count": 23,
   "id": "605fa671",
   "metadata": {
    "execution": {
     "iopub.execute_input": "2021-10-08T20:24:03.937129Z",
     "iopub.status.busy": "2021-10-08T20:24:03.936554Z",
     "iopub.status.idle": "2021-10-08T20:24:04.445809Z",
     "shell.execute_reply": "2021-10-08T20:24:04.445322Z",
     "shell.execute_reply.started": "2021-10-08T20:20:50.430157Z"
    },
    "papermill": {
     "duration": 0.628391,
     "end_time": "2021-10-08T20:24:04.445948",
     "exception": false,
     "start_time": "2021-10-08T20:24:03.817557",
     "status": "completed"
    },
    "tags": []
   },
   "outputs": [],
   "source": [
    "import keras_tuner as kt\n",
    "\n",
    "imsize = 150\n",
    "EPOCHS = 20\n",
    "batch_size = 256\n",
    "embeddingDim = 128\n",
    "\n",
    "tuner_tl = kt.RandomSearch(\n",
    "    build_model_tl,\n",
    "    objective = 'val_loss', \n",
    "    max_trials=1\n",
    ")"
   ]
  },
  {
   "cell_type": "code",
   "execution_count": 24,
   "id": "f5007548",
   "metadata": {
    "execution": {
     "iopub.execute_input": "2021-10-08T20:24:04.677627Z",
     "iopub.status.busy": "2021-10-08T20:24:04.677035Z",
     "iopub.status.idle": "2021-10-08T20:24:04.680201Z",
     "shell.execute_reply": "2021-10-08T20:24:04.679672Z",
     "shell.execute_reply.started": "2021-10-08T20:20:53.138011Z"
    },
    "papermill": {
     "duration": 0.121373,
     "end_time": "2021-10-08T20:24:04.680322",
     "exception": false,
     "start_time": "2021-10-08T20:24:04.558949",
     "status": "completed"
    },
    "tags": []
   },
   "outputs": [],
   "source": [
    "tuner_tl.search(x_train, y_train, epochs=EPOCHS, validation_data=(x_val, y_val))"
   ]
  },
  {
   "cell_type": "code",
   "execution_count": 25,
   "id": "3c7445be",
   "metadata": {
    "execution": {
     "iopub.execute_input": "2021-10-08T20:24:04.918278Z",
     "iopub.status.busy": "2021-10-08T20:24:04.917719Z",
     "iopub.status.idle": "2021-10-08T20:24:04.921614Z",
     "shell.execute_reply": "2021-10-08T20:24:04.921209Z",
     "shell.execute_reply.started": "2021-10-08T20:20:54.270144Z"
    },
    "papermill": {
     "duration": 0.124904,
     "end_time": "2021-10-08T20:24:04.921721",
     "exception": false,
     "start_time": "2021-10-08T20:24:04.796817",
     "status": "completed"
    },
    "tags": []
   },
   "outputs": [],
   "source": [
    "best_hp = tuner_tl.get_best_hyperparameters()[0]"
   ]
  },
  {
   "cell_type": "code",
   "execution_count": 26,
   "id": "b7665fce",
   "metadata": {
    "execution": {
     "iopub.execute_input": "2021-10-08T20:24:05.315093Z",
     "iopub.status.busy": "2021-10-08T20:24:05.314193Z",
     "iopub.status.idle": "2021-10-08T20:24:11.469619Z",
     "shell.execute_reply": "2021-10-08T20:24:11.469172Z",
     "shell.execute_reply.started": "2021-10-08T20:20:57.186900Z"
    },
    "papermill": {
     "duration": 6.435019,
     "end_time": "2021-10-08T20:24:11.469739",
     "exception": false,
     "start_time": "2021-10-08T20:24:05.034720",
     "status": "completed"
    },
    "tags": []
   },
   "outputs": [
    {
     "name": "stdout",
     "output_type": "stream",
     "text": [
      "Epoch 1/20\n",
      "1/1 [==============================] - 2s 2s/step - loss: 0.9777\n",
      "Epoch 2/20\n",
      "1/1 [==============================] - 0s 201ms/step - loss: 0.9760\n",
      "Epoch 3/20\n",
      "1/1 [==============================] - 0s 193ms/step - loss: 0.9743\n",
      "Epoch 4/20\n",
      "1/1 [==============================] - 0s 192ms/step - loss: 0.9726\n",
      "Epoch 5/20\n",
      "1/1 [==============================] - 0s 211ms/step - loss: 0.9707\n",
      "Epoch 6/20\n",
      "1/1 [==============================] - 0s 199ms/step - loss: 0.9687\n",
      "Epoch 7/20\n",
      "1/1 [==============================] - 0s 210ms/step - loss: 0.9666\n",
      "Epoch 8/20\n",
      "1/1 [==============================] - 0s 211ms/step - loss: 0.9643\n",
      "Epoch 9/20\n",
      "1/1 [==============================] - 0s 189ms/step - loss: 0.9616\n",
      "Epoch 10/20\n",
      "1/1 [==============================] - 0s 212ms/step - loss: 0.9588\n",
      "Epoch 11/20\n",
      "1/1 [==============================] - 0s 205ms/step - loss: 0.9559\n",
      "Epoch 12/20\n",
      "1/1 [==============================] - 0s 209ms/step - loss: 0.9534\n",
      "Epoch 13/20\n",
      "1/1 [==============================] - 0s 196ms/step - loss: 0.9499\n",
      "Epoch 14/20\n",
      "1/1 [==============================] - 0s 211ms/step - loss: 0.9466\n",
      "Epoch 15/20\n",
      "1/1 [==============================] - 0s 198ms/step - loss: 0.9430\n",
      "Epoch 16/20\n",
      "1/1 [==============================] - 0s 229ms/step - loss: 0.9389\n",
      "Epoch 17/20\n",
      "1/1 [==============================] - 0s 217ms/step - loss: 0.9347\n",
      "Epoch 18/20\n",
      "1/1 [==============================] - 0s 232ms/step - loss: 0.9303\n",
      "Epoch 19/20\n",
      "1/1 [==============================] - 0s 190ms/step - loss: 0.9256\n",
      "Epoch 20/20\n",
      "1/1 [==============================] - 0s 190ms/step - loss: 0.9206\n"
     ]
    },
    {
     "data": {
      "text/plain": [
       "<tensorflow.python.keras.callbacks.History at 0x7f19ee26bcd0>"
      ]
     },
     "execution_count": 26,
     "metadata": {},
     "output_type": "execute_result"
    }
   ],
   "source": [
    "model_tl = tuner_tl.hypermodel.build(best_hp)\n",
    "model_tl.fit(x_train, y_train,\n",
    "             epochs=EPOCHS,\n",
    "             batch_size=batch_size,\n",
    "             verbose=1)"
   ]
  },
  {
   "cell_type": "code",
   "execution_count": 27,
   "id": "2e69451a",
   "metadata": {
    "execution": {
     "iopub.execute_input": "2021-10-08T20:24:11.749934Z",
     "iopub.status.busy": "2021-10-08T20:24:11.749104Z",
     "iopub.status.idle": "2021-10-08T20:24:11.753866Z",
     "shell.execute_reply": "2021-10-08T20:24:11.753278Z",
     "shell.execute_reply.started": "2021-10-08T20:21:09.630699Z"
    },
    "papermill": {
     "duration": 0.155447,
     "end_time": "2021-10-08T20:24:11.753995",
     "exception": false,
     "start_time": "2021-10-08T20:24:11.598548",
     "status": "completed"
    },
    "tags": []
   },
   "outputs": [],
   "source": [
    "def acc_tl(x_test, y_test, k = 1):\n",
    "    embedding_train_tl = []\n",
    "    for i in range(len(y_train)):\n",
    "        embedding_train_tl.append(model_tl(x_train[i].reshape(1, imsize, imsize, 3))[0])\n",
    "        \n",
    "    embedding_train_tl = np.array(embedding_train_tl, dtype=float) \n",
    "\n",
    "    knn_tl = KNeighborsClassifier(n_neighbors = k)\n",
    "    knn_tl.fit(embedding_train_tl, y_train)\n",
    "    \n",
    "    x_test_embedding = model_tl(x_test)\n",
    "    acc_close = round(knn_tl.score(x_test_embedding, y_test), 2)\n",
    "    print('The accuracy on the Closed Dataset with triplet loss is {}'.format(acc_close))\n",
    "    \n",
    "    return acc_close"
   ]
  },
  {
   "cell_type": "markdown",
   "id": "76fa9941",
   "metadata": {
    "papermill": {
     "duration": 0.12844,
     "end_time": "2021-10-08T20:24:12.012635",
     "exception": false,
     "start_time": "2021-10-08T20:24:11.884195",
     "status": "completed"
    },
    "tags": []
   },
   "source": [
    "# tuning k value of kNN"
   ]
  },
  {
   "cell_type": "code",
   "execution_count": 28,
   "id": "9fb8cbc9",
   "metadata": {
    "execution": {
     "iopub.execute_input": "2021-10-08T20:24:12.274924Z",
     "iopub.status.busy": "2021-10-08T20:24:12.274402Z",
     "iopub.status.idle": "2021-10-08T20:24:20.565277Z",
     "shell.execute_reply": "2021-10-08T20:24:20.565895Z",
     "shell.execute_reply.started": "2021-10-08T20:21:12.197884Z"
    },
    "papermill": {
     "duration": 8.425742,
     "end_time": "2021-10-08T20:24:20.566136",
     "exception": false,
     "start_time": "2021-10-08T20:24:12.140394",
     "status": "completed"
    },
    "tags": []
   },
   "outputs": [
    {
     "name": "stdout",
     "output_type": "stream",
     "text": [
      "The accuracy on the Closed Dataset with triplet loss is 0.58\n",
      "The accuracy on the Closed Dataset with triplet loss is 0.46\n",
      "The accuracy on the Closed Dataset with triplet loss is 0.5\n",
      "The accuracy on the Closed Dataset with triplet loss is 0.42\n",
      "The accuracy on the Closed Dataset with triplet loss is 0.5\n"
     ]
    }
   ],
   "source": [
    "from sklearn.neighbors import KNeighborsClassifier\n",
    "\n",
    "K = [1, 3, 5, 7, 9]\n",
    "acc_t = []\n",
    "for i in K:\n",
    "    acc_t.append(acc_tl(x_val, y_val, k = i))"
   ]
  },
  {
   "cell_type": "code",
   "execution_count": 29,
   "id": "ac11bfb3",
   "metadata": {
    "execution": {
     "iopub.execute_input": "2021-10-08T20:24:20.852109Z",
     "iopub.status.busy": "2021-10-08T20:24:20.848245Z",
     "iopub.status.idle": "2021-10-08T20:24:21.041431Z",
     "shell.execute_reply": "2021-10-08T20:24:21.040899Z",
     "shell.execute_reply.started": "2021-10-08T20:21:20.880767Z"
    },
    "papermill": {
     "duration": 0.340128,
     "end_time": "2021-10-08T20:24:21.041575",
     "exception": false,
     "start_time": "2021-10-08T20:24:20.701447",
     "status": "completed"
    },
    "tags": []
   },
   "outputs": [
    {
     "data": {
      "image/png": "[encoded data removed]",
      "text/plain": [
       "<Figure size 432x288 with 1 Axes>"
      ]
     },
     "metadata": {
      "needs_background": "light"
     },
     "output_type": "display_data"
    }
   ],
   "source": [
    "import matplotlib.pyplot as plt\n",
    "\n",
    "plt.plot(K, acc_t)\n",
    "plt.xlabel('K')\n",
    "plt.ylabel('accuracy')\n",
    "plt.title('tunning K value with Contrastive Loss')\n",
    "plt.show()"
   ]
  },
  {
   "cell_type": "code",
   "execution_count": 30,
   "id": "88d3a33c",
   "metadata": {
    "execution": {
     "iopub.execute_input": "2021-10-08T20:24:21.308086Z",
     "iopub.status.busy": "2021-10-08T20:24:21.307293Z",
     "iopub.status.idle": "2021-10-08T20:24:27.307799Z",
     "shell.execute_reply": "2021-10-08T20:24:27.307266Z",
     "shell.execute_reply.started": "2021-10-08T20:21:24.306360Z"
    },
    "papermill": {
     "duration": 6.136085,
     "end_time": "2021-10-08T20:24:27.307930",
     "exception": false,
     "start_time": "2021-10-08T20:24:21.171845",
     "status": "completed"
    },
    "tags": []
   },
   "outputs": [
    {
     "name": "stdout",
     "output_type": "stream",
     "text": [
      "Epoch 1/20\n",
      "1/1 [==============================] - 1s 800ms/step - loss: 0.9823\n",
      "Epoch 2/20\n",
      "1/1 [==============================] - 0s 216ms/step - loss: 0.9809\n",
      "Epoch 3/20\n",
      "1/1 [==============================] - 0s 223ms/step - loss: 0.9794\n",
      "Epoch 4/20\n",
      "1/1 [==============================] - 0s 224ms/step - loss: 0.9779\n",
      "Epoch 5/20\n",
      "1/1 [==============================] - 0s 221ms/step - loss: 0.9763\n",
      "Epoch 6/20\n",
      "1/1 [==============================] - 0s 240ms/step - loss: 0.9747\n",
      "Epoch 7/20\n",
      "1/1 [==============================] - 0s 240ms/step - loss: 0.9729\n",
      "Epoch 8/20\n",
      "1/1 [==============================] - 0s 228ms/step - loss: 0.9709\n",
      "Epoch 9/20\n",
      "1/1 [==============================] - 0s 235ms/step - loss: 0.9689\n",
      "Epoch 10/20\n",
      "1/1 [==============================] - 0s 239ms/step - loss: 0.9667\n",
      "Epoch 11/20\n",
      "1/1 [==============================] - 0s 216ms/step - loss: 0.9647\n",
      "Epoch 12/20\n",
      "1/1 [==============================] - 0s 223ms/step - loss: 0.9622\n",
      "Epoch 13/20\n",
      "1/1 [==============================] - 0s 240ms/step - loss: 0.9595\n",
      "Epoch 14/20\n",
      "1/1 [==============================] - 0s 240ms/step - loss: 0.9566\n",
      "Epoch 15/20\n",
      "1/1 [==============================] - 0s 216ms/step - loss: 0.9538\n",
      "Epoch 16/20\n",
      "1/1 [==============================] - 0s 241ms/step - loss: 0.9506\n",
      "Epoch 17/20\n",
      "1/1 [==============================] - 0s 241ms/step - loss: 0.9475\n",
      "Epoch 18/20\n",
      "1/1 [==============================] - 0s 240ms/step - loss: 0.9440\n",
      "Epoch 19/20\n",
      "1/1 [==============================] - 0s 218ms/step - loss: 0.9404\n",
      "Epoch 20/20\n",
      "1/1 [==============================] - 0s 217ms/step - loss: 0.9365\n"
     ]
    },
    {
     "data": {
      "text/plain": [
       "<tensorflow.python.keras.callbacks.History at 0x7f19ee26fb90>"
      ]
     },
     "execution_count": 30,
     "metadata": {},
     "output_type": "execute_result"
    }
   ],
   "source": [
    "model_tl = tuner_tl.hypermodel.build(best_hp)\n",
    "model_tl.fit(x_trainset, y_trainset,\n",
    "             epochs=EPOCHS,\n",
    "             batch_size=batch_size,\n",
    "             verbose=1)"
   ]
  },
  {
   "cell_type": "code",
   "execution_count": 31,
   "id": "08746cc8",
   "metadata": {
    "execution": {
     "iopub.execute_input": "2021-10-08T20:24:27.632932Z",
     "iopub.status.busy": "2021-10-08T20:24:27.632026Z",
     "iopub.status.idle": "2021-10-08T20:24:29.312149Z",
     "shell.execute_reply": "2021-10-08T20:24:29.311547Z",
     "shell.execute_reply.started": "2021-10-08T20:21:32.837950Z"
    },
    "papermill": {
     "duration": 1.83922,
     "end_time": "2021-10-08T20:24:29.312320",
     "exception": false,
     "start_time": "2021-10-08T20:24:27.473100",
     "status": "completed"
    },
    "tags": []
   },
   "outputs": [
    {
     "name": "stdout",
     "output_type": "stream",
     "text": [
      "The accuracy on the Closed Dataset with triplet loss is 0.76\n"
     ]
    },
    {
     "data": {
      "text/plain": [
       "0.76"
      ]
     },
     "execution_count": 31,
     "metadata": {},
     "output_type": "execute_result"
    }
   ],
   "source": [
    "acc_tl(x_test, y_test, k = 1)"
   ]
  },
  {
   "cell_type": "code",
   "execution_count": null,
   "id": "204f53b9",
   "metadata": {
    "papermill": {
     "duration": 0.145968,
     "end_time": "2021-10-08T20:24:29.620401",
     "exception": false,
     "start_time": "2021-10-08T20:24:29.474433",
     "status": "completed"
    },
    "tags": []
   },
   "outputs": [],
   "source": []
  }
 ],
 "metadata": {
  "kernelspec": {
   "display_name": "Python 3",
   "language": "python",
   "name": "python3"
  },
  "language_info": {
   "codemirror_mode": {
    "name": "ipython",
    "version": 3
   },
   "file_extension": ".py",
   "mimetype": "text/x-python",
   "name": "python",
   "nbconvert_exporter": "python",
   "pygments_lexer": "ipython3",
   "version": "3.7.10"
  },
  "papermill": {
   "default_parameters": {},
   "duration": 153.691972,
   "end_time": "2021-10-08T20:24:33.174455",
   "environment_variables": {},
   "exception": null,
   "input_path": "__notebook__.ipynb",
   "output_path": "__notebook__.ipynb",
   "parameters": {},
   "start_time": "2021-10-08T20:21:59.482483",
   "version": "2.3.3"
  }
 },
 "nbformat": 4,
 "nbformat_minor": 5
}
