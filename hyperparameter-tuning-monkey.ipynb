{
 "cells": [
  {
   "cell_type": "code",
   "execution_count": 1,
   "id": "db76bfbf",
   "metadata": {
    "_cell_guid": "b1076dfc-b9ad-4769-8c92-a6c4dae69d19",
    "_uuid": "8f2839f25d086af736a60e9eeb907d3b93b6e0e5",
    "execution": {
     "iopub.execute_input": "2021-10-09T03:28:33.091277Z",
     "iopub.status.busy": "2021-10-09T03:28:33.089662Z",
     "iopub.status.idle": "2021-10-09T03:28:37.463067Z",
     "shell.execute_reply": "2021-10-09T03:28:37.463593Z",
     "shell.execute_reply.started": "2021-10-09T03:16:57.278828Z"
    },
    "papermill": {
     "duration": 4.400642,
     "end_time": "2021-10-09T03:28:37.463873",
     "exception": false,
     "start_time": "2021-10-09T03:28:33.063231",
     "status": "completed"
    },
    "tags": []
   },
   "outputs": [
    {
     "name": "stderr",
     "output_type": "stream",
     "text": [
      "2021-10-09 03:28:33.661002: I tensorflow/stream_executor/platform/default/dso_loader.cc:49] Successfully opened dynamic library libcudart.so.11.0\n"
     ]
    }
   ],
   "source": [
    "import io\n",
    "import numpy as np\n",
    "import tensorflow as tf\n",
    "import tensorflow_addons as tfa"
   ]
  },
  {
   "cell_type": "code",
   "execution_count": 2,
   "id": "8aed13a4",
   "metadata": {
    "execution": {
     "iopub.execute_input": "2021-10-09T03:28:37.519123Z",
     "iopub.status.busy": "2021-10-09T03:28:37.518494Z",
     "iopub.status.idle": "2021-10-09T03:28:38.145328Z",
     "shell.execute_reply": "2021-10-09T03:28:38.144804Z",
     "shell.execute_reply.started": "2021-10-09T03:17:01.195405Z"
    },
    "papermill": {
     "duration": 0.658598,
     "end_time": "2021-10-09T03:28:38.145448",
     "exception": false,
     "start_time": "2021-10-09T03:28:37.486850",
     "status": "completed"
    },
    "tags": []
   },
   "outputs": [],
   "source": [
    "import os  \n",
    "import cv2\n",
    "from tqdm import tqdm\n",
    "from sklearn.preprocessing import LabelEncoder\n",
    "\n",
    "# Loading np array from images\n",
    "def make_dataset(labels, dir_path, IMG_SIZE = 150):\n",
    "    # initial an empty list X to store image of np.array()\n",
    "    X = []\n",
    "\n",
    "    # initial an empty list Z to store labels/names of cat individauls\n",
    "    Z = []\n",
    "    for label in labels:\n",
    "        DIR = dir_path + label\n",
    "        for img in tqdm(os.listdir(DIR)):\n",
    "            path = os.path.join(DIR,img)\n",
    "            # reading images\n",
    "            img = cv2.imread(path,cv2.IMREAD_COLOR)\n",
    "            # resizing images to (150, 150, 3), 3 is the number of channels - RGB\n",
    "            img = cv2.resize(img, (IMG_SIZE,IMG_SIZE))\n",
    "        \n",
    "            X.append(np.array(img))\n",
    "            Z.append(str(label)) \n",
    "    ## Transform labels in Z to Y from class 0 to class 9, as 10 different cat individuals\n",
    "    le=LabelEncoder()\n",
    "    Y=le.fit_transform(Z)\n",
    "\n",
    "    ## Transform and normalize X in the range of [0, 1]\n",
    "    X=np.array(X)\n",
    "    X=X/255.\n",
    "    return X, Y"
   ]
  },
  {
   "cell_type": "code",
   "execution_count": 3,
   "id": "0741ee86",
   "metadata": {
    "execution": {
     "iopub.execute_input": "2021-10-09T03:28:38.191243Z",
     "iopub.status.busy": "2021-10-09T03:28:38.190747Z",
     "iopub.status.idle": "2021-10-09T03:28:41.153695Z",
     "shell.execute_reply": "2021-10-09T03:28:41.153138Z",
     "shell.execute_reply.started": "2021-10-09T03:17:01.453588Z"
    },
    "papermill": {
     "duration": 2.987718,
     "end_time": "2021-10-09T03:28:41.153840",
     "exception": false,
     "start_time": "2021-10-09T03:28:38.166122",
     "status": "completed"
    },
    "tags": []
   },
   "outputs": [
    {
     "name": "stderr",
     "output_type": "stream",
     "text": [
      "100%|██████████| 15/15 [00:00<00:00, 103.63it/s]\n",
      "100%|██████████| 10/10 [00:00<00:00, 243.08it/s]\n",
      "100%|██████████| 5/5 [00:00<00:00, 35.70it/s]\n",
      "100%|██████████| 8/8 [00:00<00:00, 101.30it/s]\n",
      "100%|██████████| 6/6 [00:00<00:00, 225.22it/s]\n",
      "100%|██████████| 3/3 [00:00<00:00, 67.71it/s]\n",
      "100%|██████████| 2/2 [00:00<00:00, 74.46it/s]\n",
      "100%|██████████| 8/8 [00:00<00:00, 53.39it/s]\n",
      "100%|██████████| 4/4 [00:00<00:00, 218.45it/s]\n",
      "100%|██████████| 1/1 [00:00<00:00, 111.38it/s]\n",
      "100%|██████████| 1/1 [00:00<00:00, 226.14it/s]\n",
      "100%|██████████| 8/8 [00:00<00:00, 97.27it/s]\n",
      "100%|██████████| 4/4 [00:00<00:00, 90.09it/s]\n",
      "100%|██████████| 7/7 [00:00<00:00, 72.20it/s]\n",
      "100%|██████████| 9/9 [00:00<00:00, 231.52it/s]\n",
      "100%|██████████| 7/7 [00:00<00:00, 63.36it/s]\n",
      "100%|██████████| 10/10 [00:00<00:00, 40.48it/s]\n",
      "100%|██████████| 10/10 [00:00<00:00, 86.83it/s]\n",
      "100%|██████████| 4/4 [00:00<00:00, 70.95it/s]\n",
      "100%|██████████| 4/4 [00:00<00:00, 68.81it/s]\n",
      "100%|██████████| 4/4 [00:00<00:00, 33.45it/s]\n",
      "100%|██████████| 5/5 [00:00<00:00, 115.14it/s]\n",
      "100%|██████████| 2/2 [00:00<00:00, 252.17it/s]\n",
      "100%|██████████| 8/8 [00:00<00:00, 261.71it/s]\n",
      "100%|██████████| 4/4 [00:00<00:00, 49.28it/s]\n",
      "100%|██████████| 11/11 [00:00<00:00, 259.20it/s]\n",
      "100%|██████████| 5/5 [00:00<00:00, 90.36it/s]\n",
      "100%|██████████| 3/3 [00:00<00:00, 95.77it/s]\n",
      "100%|██████████| 2/2 [00:00<00:00, 131.06it/s]\n",
      "100%|██████████| 7/7 [00:00<00:00, 111.27it/s]\n",
      "100%|██████████| 12/12 [00:00<00:00, 243.44it/s]\n",
      "100%|██████████| 2/2 [00:00<00:00, 253.49it/s]\n",
      "100%|██████████| 4/4 [00:00<00:00, 46.08it/s]\n",
      "100%|██████████| 3/3 [00:00<00:00, 229.98it/s]\n",
      "100%|██████████| 2/2 [00:00<00:00, 121.96it/s]\n",
      "100%|██████████| 3/3 [00:00<00:00, 299.42it/s]\n",
      "100%|██████████| 12/12 [00:00<00:00, 121.94it/s]\n",
      "100%|██████████| 5/5 [00:00<00:00, 48.23it/s]\n",
      "100%|██████████| 6/6 [00:00<00:00, 286.19it/s]\n",
      "100%|██████████| 5/5 [00:00<00:00, 90.51it/s]\n",
      "100%|██████████| 10/10 [00:00<00:00, 270.42it/s]\n",
      "100%|██████████| 3/3 [00:00<00:00, 119.54it/s]\n",
      "100%|██████████| 4/4 [00:00<00:00, 62.06it/s]\n",
      "100%|██████████| 4/4 [00:00<00:00, 261.16it/s]\n"
     ]
    }
   ],
   "source": [
    "dir_path = '/kaggle/input/squirrel-monkey/Saimiri sciureus/'\n",
    "IMG_SIZE = 150\n",
    "labels = [str(i) for i in range(44)]\n",
    "\n",
    "X, Y = make_dataset(labels, dir_path)"
   ]
  },
  {
   "cell_type": "code",
   "execution_count": 4,
   "id": "66599dfe",
   "metadata": {
    "execution": {
     "iopub.execute_input": "2021-10-09T03:28:41.274085Z",
     "iopub.status.busy": "2021-10-09T03:28:41.273314Z",
     "iopub.status.idle": "2021-10-09T03:28:41.360296Z",
     "shell.execute_reply": "2021-10-09T03:28:41.359819Z",
     "shell.execute_reply.started": "2021-10-09T03:18:08.714928Z"
    },
    "papermill": {
     "duration": 0.148257,
     "end_time": "2021-10-09T03:28:41.360430",
     "exception": false,
     "start_time": "2021-10-09T03:28:41.212173",
     "status": "completed"
    },
    "tags": []
   },
   "outputs": [],
   "source": [
    "from sklearn.model_selection import train_test_split\n",
    "\n",
    "x_train, x_val ,y_train, y_val = train_test_split(X, Y, test_size = 0.2, random_state = 2021)"
   ]
  },
  {
   "cell_type": "markdown",
   "id": "523e218b",
   "metadata": {
    "papermill": {
     "duration": 0.055679,
     "end_time": "2021-10-09T03:28:41.473165",
     "exception": false,
     "start_time": "2021-10-09T03:28:41.417486",
     "status": "completed"
    },
    "tags": []
   },
   "source": [
    "# Learning rate schedule"
   ]
  },
  {
   "cell_type": "code",
   "execution_count": 5,
   "id": "b320f7a8",
   "metadata": {
    "execution": {
     "iopub.execute_input": "2021-10-09T03:28:41.589283Z",
     "iopub.status.busy": "2021-10-09T03:28:41.588454Z",
     "iopub.status.idle": "2021-10-09T03:28:41.590503Z",
     "shell.execute_reply": "2021-10-09T03:28:41.590953Z",
     "shell.execute_reply.started": "2021-10-09T03:20:28.922638Z"
    },
    "papermill": {
     "duration": 0.062279,
     "end_time": "2021-10-09T03:28:41.591089",
     "exception": false,
     "start_time": "2021-10-09T03:28:41.528810",
     "status": "completed"
    },
    "tags": []
   },
   "outputs": [],
   "source": [
    "lr_schedule = tf.keras.callbacks.LearningRateScheduler(\n",
    "    lambda epoch: 1e-5 * 10**(epoch / 4))"
   ]
  },
  {
   "cell_type": "markdown",
   "id": "9a2f79d3",
   "metadata": {
    "papermill": {
     "duration": 0.055385,
     "end_time": "2021-10-09T03:28:41.701739",
     "exception": false,
     "start_time": "2021-10-09T03:28:41.646354",
     "status": "completed"
    },
    "tags": []
   },
   "source": [
    "# VGG 16 classification model"
   ]
  },
  {
   "cell_type": "code",
   "execution_count": 6,
   "id": "8a57837d",
   "metadata": {
    "execution": {
     "iopub.execute_input": "2021-10-09T03:28:41.824749Z",
     "iopub.status.busy": "2021-10-09T03:28:41.823919Z",
     "iopub.status.idle": "2021-10-09T03:29:06.434839Z",
     "shell.execute_reply": "2021-10-09T03:29:06.435291Z",
     "shell.execute_reply.started": "2021-10-09T03:21:08.251078Z"
    },
    "papermill": {
     "duration": 24.677544,
     "end_time": "2021-10-09T03:29:06.435453",
     "exception": false,
     "start_time": "2021-10-09T03:28:41.757909",
     "status": "completed"
    },
    "tags": []
   },
   "outputs": [
    {
     "name": "stderr",
     "output_type": "stream",
     "text": [
      "2021-10-09 03:28:41.846306: I tensorflow/compiler/jit/xla_cpu_device.cc:41] Not creating XLA devices, tf_xla_enable_xla_devices not set\n",
      "2021-10-09 03:28:41.849169: I tensorflow/stream_executor/platform/default/dso_loader.cc:49] Successfully opened dynamic library libcuda.so.1\n",
      "2021-10-09 03:28:41.889607: I tensorflow/stream_executor/cuda/cuda_gpu_executor.cc:941] successful NUMA node read from SysFS had negative value (-1), but there must be at least one NUMA node, so returning NUMA node zero\n",
      "2021-10-09 03:28:41.890219: I tensorflow/core/common_runtime/gpu/gpu_device.cc:1720] Found device 0 with properties: \n",
      "pciBusID: 0000:00:04.0 name: Tesla P100-PCIE-16GB computeCapability: 6.0\n",
      "coreClock: 1.3285GHz coreCount: 56 deviceMemorySize: 15.90GiB deviceMemoryBandwidth: 681.88GiB/s\n",
      "2021-10-09 03:28:41.890273: I tensorflow/stream_executor/platform/default/dso_loader.cc:49] Successfully opened dynamic library libcudart.so.11.0\n",
      "2021-10-09 03:28:41.914133: I tensorflow/stream_executor/platform/default/dso_loader.cc:49] Successfully opened dynamic library libcublas.so.11\n",
      "2021-10-09 03:28:41.914224: I tensorflow/stream_executor/platform/default/dso_loader.cc:49] Successfully opened dynamic library libcublasLt.so.11\n",
      "2021-10-09 03:28:41.927711: I tensorflow/stream_executor/platform/default/dso_loader.cc:49] Successfully opened dynamic library libcufft.so.10\n",
      "2021-10-09 03:28:41.934906: I tensorflow/stream_executor/platform/default/dso_loader.cc:49] Successfully opened dynamic library libcurand.so.10\n",
      "2021-10-09 03:28:41.957544: I tensorflow/stream_executor/platform/default/dso_loader.cc:49] Successfully opened dynamic library libcusolver.so.10\n",
      "2021-10-09 03:28:41.964910: I tensorflow/stream_executor/platform/default/dso_loader.cc:49] Successfully opened dynamic library libcusparse.so.11\n",
      "2021-10-09 03:28:41.967722: I tensorflow/stream_executor/platform/default/dso_loader.cc:49] Successfully opened dynamic library libcudnn.so.8\n",
      "2021-10-09 03:28:41.967903: I tensorflow/stream_executor/cuda/cuda_gpu_executor.cc:941] successful NUMA node read from SysFS had negative value (-1), but there must be at least one NUMA node, so returning NUMA node zero\n",
      "2021-10-09 03:28:41.968589: I tensorflow/stream_executor/cuda/cuda_gpu_executor.cc:941] successful NUMA node read from SysFS had negative value (-1), but there must be at least one NUMA node, so returning NUMA node zero\n",
      "2021-10-09 03:28:41.970638: I tensorflow/core/common_runtime/gpu/gpu_device.cc:1862] Adding visible gpu devices: 0\n",
      "2021-10-09 03:28:41.971118: I tensorflow/core/platform/cpu_feature_guard.cc:142] This TensorFlow binary is optimized with oneAPI Deep Neural Network Library (oneDNN) to use the following CPU instructions in performance-critical operations:  AVX2 AVX512F FMA\n",
      "To enable them in other operations, rebuild TensorFlow with the appropriate compiler flags.\n",
      "2021-10-09 03:28:41.971322: I tensorflow/compiler/jit/xla_gpu_device.cc:99] Not creating XLA devices, tf_xla_enable_xla_devices not set\n",
      "2021-10-09 03:28:41.971516: I tensorflow/stream_executor/cuda/cuda_gpu_executor.cc:941] successful NUMA node read from SysFS had negative value (-1), but there must be at least one NUMA node, so returning NUMA node zero\n",
      "2021-10-09 03:28:41.972144: I tensorflow/core/common_runtime/gpu/gpu_device.cc:1720] Found device 0 with properties: \n",
      "pciBusID: 0000:00:04.0 name: Tesla P100-PCIE-16GB computeCapability: 6.0\n",
      "coreClock: 1.3285GHz coreCount: 56 deviceMemorySize: 15.90GiB deviceMemoryBandwidth: 681.88GiB/s\n",
      "2021-10-09 03:28:41.972188: I tensorflow/stream_executor/platform/default/dso_loader.cc:49] Successfully opened dynamic library libcudart.so.11.0\n",
      "2021-10-09 03:28:41.972217: I tensorflow/stream_executor/platform/default/dso_loader.cc:49] Successfully opened dynamic library libcublas.so.11\n",
      "2021-10-09 03:28:41.972235: I tensorflow/stream_executor/platform/default/dso_loader.cc:49] Successfully opened dynamic library libcublasLt.so.11\n",
      "2021-10-09 03:28:41.972252: I tensorflow/stream_executor/platform/default/dso_loader.cc:49] Successfully opened dynamic library libcufft.so.10\n",
      "2021-10-09 03:28:41.972269: I tensorflow/stream_executor/platform/default/dso_loader.cc:49] Successfully opened dynamic library libcurand.so.10\n",
      "2021-10-09 03:28:41.972286: I tensorflow/stream_executor/platform/default/dso_loader.cc:49] Successfully opened dynamic library libcusolver.so.10\n",
      "2021-10-09 03:28:41.972305: I tensorflow/stream_executor/platform/default/dso_loader.cc:49] Successfully opened dynamic library libcusparse.so.11\n",
      "2021-10-09 03:28:41.972322: I tensorflow/stream_executor/platform/default/dso_loader.cc:49] Successfully opened dynamic library libcudnn.so.8\n",
      "2021-10-09 03:28:41.972408: I tensorflow/stream_executor/cuda/cuda_gpu_executor.cc:941] successful NUMA node read from SysFS had negative value (-1), but there must be at least one NUMA node, so returning NUMA node zero\n",
      "2021-10-09 03:28:41.973085: I tensorflow/stream_executor/cuda/cuda_gpu_executor.cc:941] successful NUMA node read from SysFS had negative value (-1), but there must be at least one NUMA node, so returning NUMA node zero\n",
      "2021-10-09 03:28:41.973640: I tensorflow/core/common_runtime/gpu/gpu_device.cc:1862] Adding visible gpu devices: 0\n",
      "2021-10-09 03:28:41.974287: I tensorflow/stream_executor/platform/default/dso_loader.cc:49] Successfully opened dynamic library libcudart.so.11.0\n",
      "2021-10-09 03:28:43.283439: I tensorflow/core/common_runtime/gpu/gpu_device.cc:1261] Device interconnect StreamExecutor with strength 1 edge matrix:\n",
      "2021-10-09 03:28:43.283513: I tensorflow/core/common_runtime/gpu/gpu_device.cc:1267]      0 \n",
      "2021-10-09 03:28:43.283525: I tensorflow/core/common_runtime/gpu/gpu_device.cc:1280] 0:   N \n",
      "2021-10-09 03:28:43.285418: I tensorflow/stream_executor/cuda/cuda_gpu_executor.cc:941] successful NUMA node read from SysFS had negative value (-1), but there must be at least one NUMA node, so returning NUMA node zero\n",
      "2021-10-09 03:28:43.286154: I tensorflow/stream_executor/cuda/cuda_gpu_executor.cc:941] successful NUMA node read from SysFS had negative value (-1), but there must be at least one NUMA node, so returning NUMA node zero\n",
      "2021-10-09 03:28:43.286810: I tensorflow/stream_executor/cuda/cuda_gpu_executor.cc:941] successful NUMA node read from SysFS had negative value (-1), but there must be at least one NUMA node, so returning NUMA node zero\n",
      "2021-10-09 03:28:43.287385: I tensorflow/core/common_runtime/gpu/gpu_device.cc:1406] Created TensorFlow device (/job:localhost/replica:0/task:0/device:GPU:0 with 14957 MB memory) -> physical GPU (device: 0, name: Tesla P100-PCIE-16GB, pci bus id: 0000:00:04.0, compute capability: 6.0)\n"
     ]
    },
    {
     "name": "stdout",
     "output_type": "stream",
     "text": [
      "Downloading data from https://storage.googleapis.com/tensorflow/keras-applications/vgg16/vgg16_weights_tf_dim_ordering_tf_kernels_notop.h5\n",
      "58892288/58889256 [==============================] - 0s 0us/step\n"
     ]
    },
    {
     "name": "stderr",
     "output_type": "stream",
     "text": [
      "2021-10-09 03:28:44.395862: I tensorflow/compiler/mlir/mlir_graph_optimization_pass.cc:116] None of the MLIR optimization passes are enabled (registered 2)\n",
      "2021-10-09 03:28:44.407380: I tensorflow/core/platform/profile_utils/cpu_utils.cc:112] CPU Frequency: 2000140000 Hz\n"
     ]
    },
    {
     "name": "stdout",
     "output_type": "stream",
     "text": [
      "Epoch 1/20\n"
     ]
    },
    {
     "name": "stderr",
     "output_type": "stream",
     "text": [
      "2021-10-09 03:28:45.191381: I tensorflow/stream_executor/platform/default/dso_loader.cc:49] Successfully opened dynamic library libcublas.so.11\n",
      "2021-10-09 03:28:45.865220: I tensorflow/stream_executor/platform/default/dso_loader.cc:49] Successfully opened dynamic library libcublasLt.so.11\n",
      "2021-10-09 03:28:45.897631: I tensorflow/stream_executor/platform/default/dso_loader.cc:49] Successfully opened dynamic library libcudnn.so.8\n"
     ]
    },
    {
     "name": "stdout",
     "output_type": "stream",
     "text": [
      "1/1 [==============================] - 16s 16s/step - loss: 4.0578 - acc: 0.0348 - val_loss: 3.9283 - val_acc: 0.0588\n",
      "Epoch 2/20\n",
      "1/1 [==============================] - 0s 298ms/step - loss: 4.0061 - acc: 0.0498 - val_loss: 3.8784 - val_acc: 0.0784\n",
      "Epoch 3/20\n",
      "1/1 [==============================] - 0s 286ms/step - loss: 3.9181 - acc: 0.0647 - val_loss: 3.7990 - val_acc: 0.0784\n",
      "Epoch 4/20\n",
      "1/1 [==============================] - 0s 288ms/step - loss: 3.7729 - acc: 0.0945 - val_loss: 3.6840 - val_acc: 0.0784\n",
      "Epoch 5/20\n",
      "1/1 [==============================] - 0s 304ms/step - loss: 3.5477 - acc: 0.1741 - val_loss: 3.5567 - val_acc: 0.1373\n",
      "Epoch 6/20\n",
      "1/1 [==============================] - 0s 306ms/step - loss: 3.2415 - acc: 0.2388 - val_loss: 3.4999 - val_acc: 0.1765\n",
      "Epoch 7/20\n",
      "1/1 [==============================] - 0s 303ms/step - loss: 2.9121 - acc: 0.3085 - val_loss: 3.4625 - val_acc: 0.2353\n",
      "Epoch 8/20\n",
      "1/1 [==============================] - 0s 294ms/step - loss: 2.5266 - acc: 0.4428 - val_loss: 3.2252 - val_acc: 0.3725\n",
      "Epoch 9/20\n",
      "1/1 [==============================] - 0s 293ms/step - loss: 2.0273 - acc: 0.6020 - val_loss: 2.6200 - val_acc: 0.5294\n",
      "Epoch 10/20\n",
      "1/1 [==============================] - 0s 291ms/step - loss: 1.3683 - acc: 0.7114 - val_loss: 2.1293 - val_acc: 0.5882\n",
      "Epoch 11/20\n",
      "1/1 [==============================] - 0s 304ms/step - loss: 0.7490 - acc: 0.8756 - val_loss: 2.3220 - val_acc: 0.5294\n",
      "Epoch 12/20\n",
      "1/1 [==============================] - 0s 307ms/step - loss: 0.4676 - acc: 0.8706 - val_loss: 3.5979 - val_acc: 0.4902\n",
      "Epoch 13/20\n",
      "1/1 [==============================] - 0s 301ms/step - loss: 0.7956 - acc: 0.8607 - val_loss: 6.1880 - val_acc: 0.5294\n",
      "Epoch 14/20\n",
      "1/1 [==============================] - 0s 308ms/step - loss: 1.0515 - acc: 0.8856 - val_loss: 12.5765 - val_acc: 0.5490\n",
      "Epoch 15/20\n",
      "1/1 [==============================] - 0s 301ms/step - loss: 2.9004 - acc: 0.8607 - val_loss: 33.2179 - val_acc: 0.4118\n",
      "Epoch 16/20\n",
      "1/1 [==============================] - 0s 300ms/step - loss: 10.5839 - acc: 0.7164 - val_loss: 81.4423 - val_acc: 0.2941\n",
      "Epoch 17/20\n",
      "1/1 [==============================] - 0s 284ms/step - loss: 53.2557 - acc: 0.4677 - val_loss: 182.2020 - val_acc: 0.1961\n",
      "Epoch 18/20\n",
      "1/1 [==============================] - 0s 305ms/step - loss: 145.1830 - acc: 0.4030 - val_loss: 268.0155 - val_acc: 0.1569\n",
      "Epoch 19/20\n",
      "1/1 [==============================] - 0s 284ms/step - loss: 302.4638 - acc: 0.1244 - val_loss: 1230.3193 - val_acc: 0.0392\n",
      "Epoch 20/20\n",
      "1/1 [==============================] - 0s 282ms/step - loss: 1093.9102 - acc: 0.0498 - val_loss: 2453.9482 - val_acc: 0.0392\n"
     ]
    }
   ],
   "source": [
    "imsize = 150\n",
    "lr = 1e-5\n",
    "EPOCHS = 20\n",
    "batch_size = 256\n",
    "\n",
    "base_model_16 = tf.keras.applications.vgg16.VGG16(include_top=False,\n",
    "                      input_shape = (imsize,imsize,3),\n",
    "                      weights = 'imagenet')\n",
    "\n",
    "# freeze all the layers of VGG, so they won't be trained.\n",
    "for layer in base_model_16.layers:\n",
    "    layer.trainable = False\n",
    "\n",
    "model_vgg_16 = tf.keras.models.Sequential([\n",
    "    base_model_16,\n",
    "    tf.keras.layers.Flatten(),\n",
    "    tf.keras.layers.Dense(units=1024, activation='relu'),\n",
    "    tf.keras.layers.Dense(units=44, activation='softmax')\n",
    "])\n",
    "\n",
    "model_vgg_16.compile(optimizer=tf.keras.optimizers.Adam(lr), loss='sparse_categorical_crossentropy', metrics=['acc']) \n",
    "\n",
    "history = model_vgg_16.fit(x=x_train, y=y_train,\n",
    "                           epochs=EPOCHS,\n",
    "                           batch_size=batch_size,\n",
    "                           validation_data = (x_val, y_val),\n",
    "                           verbose=1, \n",
    "                           callbacks = [lr_schedule])"
   ]
  },
  {
   "cell_type": "code",
   "execution_count": 7,
   "id": "b02308c6",
   "metadata": {
    "execution": {
     "iopub.execute_input": "2021-10-09T03:29:06.601123Z",
     "iopub.status.busy": "2021-10-09T03:29:06.600527Z",
     "iopub.status.idle": "2021-10-09T03:29:07.187546Z",
     "shell.execute_reply": "2021-10-09T03:29:07.187076Z",
     "shell.execute_reply.started": "2021-10-09T03:18:26.897895Z"
    },
    "papermill": {
     "duration": 0.678672,
     "end_time": "2021-10-09T03:29:07.187682",
     "exception": false,
     "start_time": "2021-10-09T03:29:06.509010",
     "status": "completed"
    },
    "tags": []
   },
   "outputs": [
    {
     "data": {
      "image/png": "[encoded data removed]",
      "text/plain": [
       "<Figure size 432x288 with 1 Axes>"
      ]
     },
     "metadata": {
      "needs_background": "light"
     },
     "output_type": "display_data"
    }
   ],
   "source": [
    "import matplotlib.pyplot as plt\n",
    "plt.semilogx(history.history[\"lr\"], history.history[\"val_loss\"])\n",
    "plt.axis([1e-5, 1, 0, 5])\n",
    "plt.show()"
   ]
  },
  {
   "cell_type": "code",
   "execution_count": 8,
   "id": "de6dc088",
   "metadata": {
    "execution": {
     "iopub.execute_input": "2021-10-09T03:29:07.347156Z",
     "iopub.status.busy": "2021-10-09T03:29:07.346348Z",
     "iopub.status.idle": "2021-10-09T03:29:14.557504Z",
     "shell.execute_reply": "2021-10-09T03:29:14.557979Z",
     "shell.execute_reply.started": "2021-10-09T03:21:54.146634Z"
    },
    "papermill": {
     "duration": 7.296354,
     "end_time": "2021-10-09T03:29:14.558133",
     "exception": false,
     "start_time": "2021-10-09T03:29:07.261779",
     "status": "completed"
    },
    "tags": []
   },
   "outputs": [
    {
     "name": "stdout",
     "output_type": "stream",
     "text": [
      "Epoch 1/20\n",
      "1/1 [==============================] - 1s 1s/step - loss: 4.1309 - acc: 0.0050 - val_loss: 5.9011 - val_acc: 0.0392\n",
      "Epoch 2/20\n",
      "1/1 [==============================] - 0s 287ms/step - loss: 4.6219 - acc: 0.1045 - val_loss: 4.9694 - val_acc: 0.2549\n",
      "Epoch 3/20\n",
      "1/1 [==============================] - 0s 288ms/step - loss: 3.9078 - acc: 0.3284 - val_loss: 4.3484 - val_acc: 0.3137\n",
      "Epoch 4/20\n",
      "1/1 [==============================] - 0s 335ms/step - loss: 3.5899 - acc: 0.4478 - val_loss: 3.9387 - val_acc: 0.3725\n",
      "Epoch 5/20\n",
      "1/1 [==============================] - 0s 315ms/step - loss: 3.3270 - acc: 0.5025 - val_loss: 3.4886 - val_acc: 0.4902\n",
      "Epoch 6/20\n",
      "1/1 [==============================] - 0s 311ms/step - loss: 2.8438 - acc: 0.7114 - val_loss: 3.1975 - val_acc: 0.4314\n",
      "Epoch 7/20\n",
      "1/1 [==============================] - 0s 291ms/step - loss: 2.4221 - acc: 0.7711 - val_loss: 2.8694 - val_acc: 0.5490\n",
      "Epoch 8/20\n",
      "1/1 [==============================] - 0s 306ms/step - loss: 1.9854 - acc: 0.8358 - val_loss: 2.5754 - val_acc: 0.5686\n",
      "Epoch 9/20\n",
      "1/1 [==============================] - 0s 293ms/step - loss: 1.6339 - acc: 0.8806 - val_loss: 2.3290 - val_acc: 0.5490\n",
      "Epoch 10/20\n",
      "1/1 [==============================] - 0s 302ms/step - loss: 1.3288 - acc: 0.9104 - val_loss: 2.1038 - val_acc: 0.5686\n",
      "Epoch 11/20\n",
      "1/1 [==============================] - 0s 299ms/step - loss: 1.0363 - acc: 0.9254 - val_loss: 1.8782 - val_acc: 0.5882\n",
      "Epoch 12/20\n",
      "1/1 [==============================] - 0s 302ms/step - loss: 0.7564 - acc: 0.9254 - val_loss: 1.6450 - val_acc: 0.6275\n",
      "Epoch 13/20\n",
      "1/1 [==============================] - 0s 288ms/step - loss: 0.4800 - acc: 0.9303 - val_loss: 1.4441 - val_acc: 0.7059\n",
      "Epoch 14/20\n",
      "1/1 [==============================] - 0s 303ms/step - loss: 0.2682 - acc: 0.9851 - val_loss: 1.3375 - val_acc: 0.6863\n",
      "Epoch 15/20\n",
      "1/1 [==============================] - 0s 306ms/step - loss: 0.1913 - acc: 0.9950 - val_loss: 1.3276 - val_acc: 0.6863\n",
      "Epoch 16/20\n",
      "1/1 [==============================] - 0s 292ms/step - loss: 0.1755 - acc: 0.9801 - val_loss: 1.4212 - val_acc: 0.6275\n",
      "Epoch 17/20\n",
      "1/1 [==============================] - 0s 289ms/step - loss: 0.1919 - acc: 0.9701 - val_loss: 1.5139 - val_acc: 0.6275\n",
      "Epoch 18/20\n",
      "1/1 [==============================] - 0s 309ms/step - loss: 0.1958 - acc: 0.9552 - val_loss: 1.5092 - val_acc: 0.6471\n",
      "Epoch 19/20\n",
      "1/1 [==============================] - 0s 282ms/step - loss: 0.1539 - acc: 0.9751 - val_loss: 1.4895 - val_acc: 0.6275\n",
      "Epoch 20/20\n",
      "1/1 [==============================] - 0s 284ms/step - loss: 0.1083 - acc: 0.9851 - val_loss: 1.4955 - val_acc: 0.6471\n"
     ]
    }
   ],
   "source": [
    "# the loss is decreased fastest when LR is between 5e-4 and 5e-3\n",
    "lr = 1e-3\n",
    "base_model_16 = tf.keras.applications.vgg16.VGG16(include_top=False,\n",
    "                      input_shape = (imsize,imsize,3),\n",
    "                      weights = 'imagenet')\n",
    "\n",
    "# freeze all the layers of VGG, so they won't be trained.\n",
    "for layer in base_model_16.layers:\n",
    "    layer.trainable = False\n",
    "\n",
    "model_vgg_16 = tf.keras.models.Sequential([\n",
    "    base_model_16,\n",
    "    tf.keras.layers.Flatten(),\n",
    "    tf.keras.layers.Dense(units=1024, activation='relu'),\n",
    "    tf.keras.layers.Dense(units=44, activation='softmax')\n",
    "])\n",
    "\n",
    "model_vgg_16.compile(optimizer=tf.keras.optimizers.Adam(lr), loss='sparse_categorical_crossentropy', metrics=['acc']) \n",
    "\n",
    "history = model_vgg_16.fit(x=x_train, y=y_train,\n",
    "                           epochs=EPOCHS,\n",
    "                           batch_size=batch_size,\n",
    "                           validation_data = (x_val, y_val), \n",
    "                           verbose=1)"
   ]
  },
  {
   "cell_type": "code",
   "execution_count": 9,
   "id": "99939dc5",
   "metadata": {
    "execution": {
     "iopub.execute_input": "2021-10-09T03:29:14.738414Z",
     "iopub.status.busy": "2021-10-09T03:29:14.737903Z",
     "iopub.status.idle": "2021-10-09T03:29:17.151447Z",
     "shell.execute_reply": "2021-10-09T03:29:17.150966Z",
     "shell.execute_reply.started": "2021-10-09T03:25:29.890568Z"
    },
    "papermill": {
     "duration": 2.504833,
     "end_time": "2021-10-09T03:29:17.151610",
     "exception": false,
     "start_time": "2021-10-09T03:29:14.646777",
     "status": "completed"
    },
    "tags": []
   },
   "outputs": [
    {
     "name": "stdout",
     "output_type": "stream",
     "text": [
      "2/2 [==============================] - 2s 940ms/step - loss: 1.4955 - acc: 0.6471\n"
     ]
    },
    {
     "data": {
      "text/plain": [
       "[1.495505928993225, 0.6470588445663452]"
      ]
     },
     "execution_count": 9,
     "metadata": {},
     "output_type": "execute_result"
    }
   ],
   "source": [
    "model_vgg_16.evaluate(x_val, y_val)"
   ]
  },
  {
   "cell_type": "markdown",
   "id": "71a3f3e8",
   "metadata": {
    "papermill": {
     "duration": 0.091449,
     "end_time": "2021-10-09T03:29:17.334020",
     "exception": false,
     "start_time": "2021-10-09T03:29:17.242571",
     "status": "completed"
    },
    "tags": []
   },
   "source": [
    "# Contrastive loss"
   ]
  },
  {
   "cell_type": "code",
   "execution_count": 10,
   "id": "44d78dfd",
   "metadata": {
    "execution": {
     "iopub.execute_input": "2021-10-09T03:29:17.537419Z",
     "iopub.status.busy": "2021-10-09T03:29:17.536777Z",
     "iopub.status.idle": "2021-10-09T03:29:17.539484Z",
     "shell.execute_reply": "2021-10-09T03:29:17.539970Z",
     "shell.execute_reply.started": "2021-10-09T03:22:50.248780Z"
    },
    "papermill": {
     "duration": 0.116703,
     "end_time": "2021-10-09T03:29:17.540118",
     "exception": false,
     "start_time": "2021-10-09T03:29:17.423415",
     "status": "completed"
    },
    "tags": []
   },
   "outputs": [],
   "source": [
    "# Helper Function \n",
    "\n",
    "# Create positive pairs and negative pairs\n",
    "import random\n",
    "def create_pairs(images, labels):\n",
    "    numClasses = 44\n",
    "    # initialize two empty lists to hold the (image, image) pairs and\n",
    "    # labels to indicate if a pair is positive (0) or negative (1)\n",
    "    np.random.seed(2021)\n",
    "    pairImages = []\n",
    "    pairLabels = []\n",
    "    \n",
    "    # calculate the total number of classes present in the dataset\n",
    "    # and then build a list of indexes for each class label that\n",
    "    # provides the indexes for all examples with a given label\n",
    "    idx = [np.where(labels == i)[0] for i in range(44)]\n",
    "    \n",
    "    # loop voer all images\n",
    "    for idxA in range(len(images)):\n",
    "        # grab the current image and label belonging to the current iteration\n",
    "        currentImage = images[idxA]\n",
    "        label = labels[idxA]\n",
    "        \n",
    "        # randomly pick on an image that belongs to the *same* class label\n",
    "        posId = random.choice(idx[label])\n",
    "        posImage = images[posId]\n",
    "        \n",
    "        # prepare a positive pair and update the images and labels\n",
    "        pairImages.append([currentImage, posImage])\n",
    "        pairLabels.append([0])\n",
    "        \n",
    "        # grab the indices for each of the class labels *not* equal to\n",
    "        # the current label and randomly pick an image corresponding\n",
    "        # to a label *not* equal to the current label\n",
    "        negId = np.where(labels != label)[0]\n",
    "        negIdx = random.choice(negId)\n",
    "        negImage = images[negIdx]\n",
    "        \n",
    "        # prepare a negative pair of images and update out lists\n",
    "        pairImages.append([currentImage, negImage])\n",
    "        pairLabels.append([1])\n",
    "    \n",
    "    return (np.array(pairImages), np.array(pairLabels))\n",
    "\n",
    "\n",
    "\n",
    "# Function to calculate the distance between two images (Euclidean Distance used here)\n",
    "import tensorflow.keras.backend as K\n",
    "def euclidean_distance(vectors):\n",
    "    # unpack the vectors into separate lists\n",
    "    (featsA, featsB) = vectors\n",
    "    # compute the sum of squared distances between the vectors\n",
    "    sumSquared = K.sum(K.square(featsA - featsB), axis=1,\n",
    "                       keepdims=True)\n",
    "    # return the euclidean distance between the vectors\n",
    "    return K.sqrt(K.maximum(sumSquared, K.epsilon()))\n",
    "\n",
    "\n",
    "# contrastive loss function\n",
    "def contrastive_loss(y, preds, margin=1):\n",
    "    # explicitly cast the true class label data type to the predicted\n",
    "    # class label data type (otherwise we run the risk of having two\n",
    "    # separate data types, causing TensorFlow to error out)\n",
    "    y = tf.cast(y, preds.dtype)\n",
    "    # calculate the contrastive loss between the true labels and\n",
    "    # the predicted labels\n",
    "    squaredPreds = K.square(preds)\n",
    "    squaredMargin = K.square(K.maximum(margin - preds, 0))\n",
    "    loss = K.mean((1 - y) * squaredPreds + y * squaredMargin)\n",
    "    # return the computed contrastive loss to the calling function\n",
    "    return loss"
   ]
  },
  {
   "cell_type": "code",
   "execution_count": 11,
   "id": "86ff2b3f",
   "metadata": {
    "execution": {
     "iopub.execute_input": "2021-10-09T03:29:17.737353Z",
     "iopub.status.busy": "2021-10-09T03:29:17.736297Z",
     "iopub.status.idle": "2021-10-09T03:29:17.894836Z",
     "shell.execute_reply": "2021-10-09T03:29:17.895273Z",
     "shell.execute_reply.started": "2021-10-09T03:22:52.245763Z"
    },
    "papermill": {
     "duration": 0.257144,
     "end_time": "2021-10-09T03:29:17.895450",
     "exception": false,
     "start_time": "2021-10-09T03:29:17.638306",
     "status": "completed"
    },
    "tags": []
   },
   "outputs": [],
   "source": [
    "(pairTrain, labelTrain) = create_pairs(x_train, y_train)\n",
    "(pairVal, labelVal) = create_pairs(x_val, y_val)"
   ]
  },
  {
   "cell_type": "code",
   "execution_count": 12,
   "id": "f3b4e1b2",
   "metadata": {
    "execution": {
     "iopub.execute_input": "2021-10-09T03:29:18.094156Z",
     "iopub.status.busy": "2021-10-09T03:29:18.091388Z",
     "iopub.status.idle": "2021-10-09T03:30:13.219559Z",
     "shell.execute_reply": "2021-10-09T03:30:13.219093Z",
     "shell.execute_reply.started": "2021-10-09T03:22:59.547599Z"
    },
    "papermill": {
     "duration": 55.230864,
     "end_time": "2021-10-09T03:30:13.219698",
     "exception": false,
     "start_time": "2021-10-09T03:29:17.988834",
     "status": "completed"
    },
    "tags": []
   },
   "outputs": [
    {
     "name": "stdout",
     "output_type": "stream",
     "text": [
      "Epoch 1/20\n",
      "2/2 [==============================] - 35s 17s/step - loss: 0.1889 - val_loss: 0.1446\n",
      "Epoch 2/20\n",
      "2/2 [==============================] - 1s 656ms/step - loss: 0.1756 - val_loss: 0.1250\n",
      "Epoch 3/20\n",
      "2/2 [==============================] - 1s 521ms/step - loss: 0.1635 - val_loss: 0.0982\n",
      "Epoch 4/20\n",
      "2/2 [==============================] - 1s 535ms/step - loss: 0.1494 - val_loss: 0.0819\n",
      "Epoch 5/20\n",
      "2/2 [==============================] - 1s 521ms/step - loss: 0.1422 - val_loss: 0.0884\n",
      "Epoch 6/20\n",
      "2/2 [==============================] - 1s 555ms/step - loss: 0.1081 - val_loss: 0.1093\n",
      "Epoch 7/20\n",
      "2/2 [==============================] - 1s 525ms/step - loss: 0.0945 - val_loss: 0.0747\n",
      "Epoch 8/20\n",
      "2/2 [==============================] - 1s 553ms/step - loss: 0.0708 - val_loss: 0.0697\n",
      "Epoch 9/20\n",
      "2/2 [==============================] - 1s 555ms/step - loss: 0.0514 - val_loss: 0.1011\n",
      "Epoch 10/20\n",
      "2/2 [==============================] - 1s 558ms/step - loss: 0.0467 - val_loss: 0.0648\n",
      "Epoch 11/20\n",
      "2/2 [==============================] - 1s 554ms/step - loss: 0.0380 - val_loss: 0.0924\n",
      "Epoch 12/20\n",
      "2/2 [==============================] - 1s 594ms/step - loss: 0.0309 - val_loss: 0.0702\n",
      "Epoch 13/20\n",
      "2/2 [==============================] - 1s 527ms/step - loss: 0.0218 - val_loss: 0.0698\n",
      "Epoch 14/20\n",
      "2/2 [==============================] - 1s 524ms/step - loss: 0.0145 - val_loss: 0.0754\n",
      "Epoch 15/20\n",
      "2/2 [==============================] - 1s 548ms/step - loss: 0.0121 - val_loss: 0.0647\n",
      "Epoch 16/20\n",
      "2/2 [==============================] - 1s 526ms/step - loss: 0.0093 - val_loss: 0.0634\n",
      "Epoch 17/20\n",
      "2/2 [==============================] - 1s 537ms/step - loss: 0.0065 - val_loss: 0.0690\n",
      "Epoch 18/20\n",
      "2/2 [==============================] - 1s 534ms/step - loss: 0.0064 - val_loss: 0.0639\n",
      "Epoch 19/20\n",
      "2/2 [==============================] - 1s 527ms/step - loss: 0.0047 - val_loss: 0.0649\n",
      "Epoch 20/20\n",
      "2/2 [==============================] - 1s 520ms/step - loss: 0.0039 - val_loss: 0.0653\n"
     ]
    }
   ],
   "source": [
    "lr = 1e-5\n",
    "embeddingDim = 128\n",
    "\n",
    "base_model_16 = tf.keras.applications.vgg16.VGG16(include_top=False,\n",
    "                  input_shape = (imsize,imsize,3),\n",
    "                  weights = 'imagenet')\n",
    "\n",
    "# freeze all the layers of VGG, so they won't be trained.\n",
    "for layer in base_model_16.layers:\n",
    "    layer.trainable = False\n",
    "\n",
    "    \n",
    "\n",
    "model_cl = tf.keras.models.Sequential([\n",
    "    base_model_16,\n",
    "    tf.keras.layers.Flatten(),\n",
    "    tf.keras.layers.Dense(units=1024, activation='relu'),\n",
    "    tf.keras.layers.Dense(embeddingDim, activation=None), # No activation on final dense layer\n",
    "    tf.keras.layers.Lambda(lambda x: tf.math.l2_normalize(x, axis=1)) # L2 normalize embeddings\n",
    "])\n",
    "\n",
    "    \n",
    "imgA = tf.keras.layers.Input(shape=((imsize, imsize, 3)))\n",
    "imgB = tf.keras.layers.Input(shape=((imsize, imsize, 3)))\n",
    "    \n",
    "featsA = model_cl(imgA)\n",
    "featsB = model_cl(imgB)\n",
    "   \n",
    "distance = tf.keras.layers.Lambda(euclidean_distance)([featsA, featsB])\n",
    "model = tf.keras.Model(inputs=[imgA, imgB], outputs=distance)\n",
    "model.compile(loss=contrastive_loss, optimizer=tf.keras.optimizers.Adam(lr))\n",
    "\n",
    "history = model.fit([pairTrain[:, 0], pairTrain[:, 1]], labelTrain[:],\n",
    "                    batch_size = batch_size,\n",
    "                    validation_data = ([pairVal[:, 0], pairVal[:, 1]], labelVal[:]),\n",
    "                    epochs=EPOCHS, \n",
    "                    verbose=1,\n",
    "                    callbacks = [lr_schedule])"
   ]
  },
  {
   "cell_type": "code",
   "execution_count": 13,
   "id": "38c71238",
   "metadata": {
    "execution": {
     "iopub.execute_input": "2021-10-09T03:30:13.462290Z",
     "iopub.status.busy": "2021-10-09T03:30:13.460007Z",
     "iopub.status.idle": "2021-10-09T03:30:13.945107Z",
     "shell.execute_reply": "2021-10-09T03:30:13.944611Z",
     "shell.execute_reply.started": "2021-10-09T03:23:58.669908Z"
    },
    "papermill": {
     "duration": 0.615417,
     "end_time": "2021-10-09T03:30:13.945248",
     "exception": false,
     "start_time": "2021-10-09T03:30:13.329831",
     "status": "completed"
    },
    "tags": []
   },
   "outputs": [
    {
     "data": {
      "image/png": "[encoded data removed]",
      "text/plain": [
       "<Figure size 432x288 with 1 Axes>"
      ]
     },
     "metadata": {
      "needs_background": "light"
     },
     "output_type": "display_data"
    }
   ],
   "source": [
    "import matplotlib.pyplot as plt\n",
    "plt.semilogx(history.history[\"lr\"], history.history[\"val_loss\"])\n",
    "plt.axis([1e-5, 1, 0, 0.2])\n",
    "plt.show()"
   ]
  },
  {
   "cell_type": "code",
   "execution_count": 14,
   "id": "ae3ecdbd",
   "metadata": {
    "execution": {
     "iopub.execute_input": "2021-10-09T03:30:14.174722Z",
     "iopub.status.busy": "2021-10-09T03:30:14.173900Z",
     "iopub.status.idle": "2021-10-09T03:30:32.251648Z",
     "shell.execute_reply": "2021-10-09T03:30:32.252187Z",
     "shell.execute_reply.started": "2021-10-09T03:24:12.431079Z"
    },
    "papermill": {
     "duration": 18.195373,
     "end_time": "2021-10-09T03:30:32.252378",
     "exception": false,
     "start_time": "2021-10-09T03:30:14.057005",
     "status": "completed"
    },
    "tags": []
   },
   "outputs": [
    {
     "name": "stdout",
     "output_type": "stream",
     "text": [
      "Epoch 1/20\n",
      "2/2 [==============================] - 2s 314ms/step - loss: 0.1838\n",
      "Epoch 2/20\n",
      "2/2 [==============================] - 1s 285ms/step - loss: 0.1566\n",
      "Epoch 3/20\n",
      "2/2 [==============================] - 1s 317ms/step - loss: 0.1423\n",
      "Epoch 4/20\n",
      "2/2 [==============================] - 1s 316ms/step - loss: 0.1265\n",
      "Epoch 5/20\n",
      "2/2 [==============================] - 1s 314ms/step - loss: 0.1161\n",
      "Epoch 6/20\n",
      "2/2 [==============================] - 1s 298ms/step - loss: 0.1069\n",
      "Epoch 7/20\n",
      "2/2 [==============================] - 1s 313ms/step - loss: 0.0951\n",
      "Epoch 8/20\n",
      "2/2 [==============================] - 1s 314ms/step - loss: 0.0868\n",
      "Epoch 9/20\n",
      "2/2 [==============================] - 1s 306ms/step - loss: 0.0781\n",
      "Epoch 10/20\n",
      "2/2 [==============================] - 1s 315ms/step - loss: 0.0711\n",
      "Epoch 11/20\n",
      "2/2 [==============================] - 1s 320ms/step - loss: 0.0676\n",
      "Epoch 12/20\n",
      "2/2 [==============================] - 1s 311ms/step - loss: 0.0643\n",
      "Epoch 13/20\n",
      "2/2 [==============================] - 1s 314ms/step - loss: 0.0597\n",
      "Epoch 14/20\n",
      "2/2 [==============================] - 1s 358ms/step - loss: 0.0526\n",
      "Epoch 15/20\n",
      "2/2 [==============================] - 1s 296ms/step - loss: 0.0495\n",
      "Epoch 16/20\n",
      "2/2 [==============================] - 1s 284ms/step - loss: 0.0453\n",
      "Epoch 17/20\n",
      "2/2 [==============================] - 1s 307ms/step - loss: 0.0419\n",
      "Epoch 18/20\n",
      "2/2 [==============================] - 1s 314ms/step - loss: 0.0399\n",
      "Epoch 19/20\n",
      "2/2 [==============================] - 1s 295ms/step - loss: 0.0357\n",
      "Epoch 20/20\n",
      "2/2 [==============================] - 1s 285ms/step - loss: 0.0338\n"
     ]
    }
   ],
   "source": [
    "# the loss is decreased fast when LR is between 1e-5 and 1e-4\n",
    "lr = 5e-5\n",
    "\n",
    "base_model_16 = tf.keras.applications.vgg16.VGG16(include_top=False,\n",
    "                  input_shape = (imsize,imsize,3),\n",
    "                  weights = 'imagenet')\n",
    "\n",
    "# freeze all the layers of VGG, so they won't be trained.\n",
    "for layer in base_model_16.layers:\n",
    "    layer.trainable = False\n",
    "\n",
    "model_cl = tf.keras.models.Sequential([\n",
    "    base_model_16,\n",
    "    tf.keras.layers.Flatten(),\n",
    "    tf.keras.layers.Dense(units=1024, activation='relu'),\n",
    "    tf.keras.layers.Dense(embeddingDim, activation=None), # No activation on final dense layer\n",
    "    tf.keras.layers.Lambda(lambda x: tf.math.l2_normalize(x, axis=1)) # L2 normalize embeddings\n",
    "])\n",
    "    \n",
    "imgA = tf.keras.layers.Input(shape=((imsize, imsize, 3)))\n",
    "imgB = tf.keras.layers.Input(shape=((imsize, imsize, 3)))\n",
    "    \n",
    "featsA = model_cl(imgA)\n",
    "featsB = model_cl(imgB)\n",
    "   \n",
    "distance = tf.keras.layers.Lambda(euclidean_distance)([featsA, featsB])\n",
    "model = tf.keras.Model(inputs=[imgA, imgB], outputs=distance)\n",
    "model.compile(loss=contrastive_loss, optimizer=tf.keras.optimizers.Adam(lr))\n",
    "\n",
    "history = model.fit([pairTrain[:, 0], pairTrain[:, 1]], labelTrain[:],\n",
    "                    batch_size = batch_size, \n",
    "                    epochs=EPOCHS, \n",
    "                    verbose=1)"
   ]
  },
  {
   "cell_type": "code",
   "execution_count": 15,
   "id": "5a31e907",
   "metadata": {
    "execution": {
     "iopub.execute_input": "2021-10-09T03:30:32.520147Z",
     "iopub.status.busy": "2021-10-09T03:30:32.519486Z",
     "iopub.status.idle": "2021-10-09T03:30:32.630149Z",
     "shell.execute_reply": "2021-10-09T03:30:32.630680Z",
     "shell.execute_reply.started": "2021-10-09T03:24:32.481950Z"
    },
    "papermill": {
     "duration": 0.246129,
     "end_time": "2021-10-09T03:30:32.630839",
     "exception": false,
     "start_time": "2021-10-09T03:30:32.384710",
     "status": "completed"
    },
    "tags": []
   },
   "outputs": [],
   "source": [
    "from sklearn.neighbors import KNeighborsClassifier\n",
    "\n",
    "def acc_cl(x_test, y_test, k = 1):\n",
    "    embedding_train_cl = []\n",
    "    for i in range(len(y_train)):\n",
    "        embedding_train_cl.append(model_cl(x_train[i].reshape(1, imsize, imsize, 3))[0])\n",
    "    embedding_train_cl = np.array(embedding_train_cl, dtype=float) \n",
    "\n",
    "    knn_cl = KNeighborsClassifier(n_neighbors = k)\n",
    "    knn_cl.fit(embedding_train_cl, y_train)\n",
    "    \n",
    "    x_test_embedding = model_cl(x_test)\n",
    "    acc_close = round(knn_cl.score(x_test_embedding, y_test), 2)\n",
    "    print('The accuracy on the Closed Dataset with contrastive loss is {}'.format(acc_close))\n",
    "    \n",
    "    return acc_close"
   ]
  },
  {
   "cell_type": "markdown",
   "id": "a839fbe5",
   "metadata": {
    "papermill": {
     "duration": 0.131743,
     "end_time": "2021-10-09T03:30:32.895128",
     "exception": false,
     "start_time": "2021-10-09T03:30:32.763385",
     "status": "completed"
    },
    "tags": []
   },
   "source": [
    "# Tuning k value of kNN"
   ]
  },
  {
   "cell_type": "code",
   "execution_count": 16,
   "id": "7ba377e7",
   "metadata": {
    "execution": {
     "iopub.execute_input": "2021-10-09T03:30:33.165861Z",
     "iopub.status.busy": "2021-10-09T03:30:33.165016Z",
     "iopub.status.idle": "2021-10-09T03:30:43.671256Z",
     "shell.execute_reply": "2021-10-09T03:30:43.671748Z",
     "shell.execute_reply.started": "2021-10-09T03:24:33.421928Z"
    },
    "papermill": {
     "duration": 10.644869,
     "end_time": "2021-10-09T03:30:43.671919",
     "exception": false,
     "start_time": "2021-10-09T03:30:33.027050",
     "status": "completed"
    },
    "tags": []
   },
   "outputs": [
    {
     "name": "stdout",
     "output_type": "stream",
     "text": [
      "The accuracy on the Closed Dataset with contrastive loss is 0.73\n",
      "The accuracy on the Closed Dataset with contrastive loss is 0.69\n",
      "The accuracy on the Closed Dataset with contrastive loss is 0.69\n",
      "The accuracy on the Closed Dataset with contrastive loss is 0.61\n",
      "The accuracy on the Closed Dataset with contrastive loss is 0.59\n"
     ]
    }
   ],
   "source": [
    "K = [1, 3, 5, 7, 9]\n",
    "acc_c = []\n",
    "for i in K:\n",
    "    acc_c.append(acc_cl(x_val, y_val, k = i))"
   ]
  },
  {
   "cell_type": "code",
   "execution_count": 17,
   "id": "45c126e0",
   "metadata": {
    "execution": {
     "iopub.execute_input": "2021-10-09T03:30:43.968717Z",
     "iopub.status.busy": "2021-10-09T03:30:43.956013Z",
     "iopub.status.idle": "2021-10-09T03:30:44.145950Z",
     "shell.execute_reply": "2021-10-09T03:30:44.145510Z",
     "shell.execute_reply.started": "2021-10-09T03:24:46.533590Z"
    },
    "papermill": {
     "duration": 0.338992,
     "end_time": "2021-10-09T03:30:44.146069",
     "exception": false,
     "start_time": "2021-10-09T03:30:43.807077",
     "status": "completed"
    },
    "tags": []
   },
   "outputs": [
    {
     "data": {
      "image/png": "[encoded data removed]",
      "text/plain": [
       "<Figure size 432x288 with 1 Axes>"
      ]
     },
     "metadata": {
      "needs_background": "light"
     },
     "output_type": "display_data"
    }
   ],
   "source": [
    "import matplotlib.pyplot as plt\n",
    "\n",
    "plt.plot(K, acc_c)\n",
    "plt.xlabel('K')\n",
    "plt.ylabel('accuracy')\n",
    "plt.title('tunning K value with Contrastive Loss')\n",
    "plt.show()"
   ]
  },
  {
   "cell_type": "code",
   "execution_count": 18,
   "id": "f2d3e1dc",
   "metadata": {
    "execution": {
     "iopub.execute_input": "2021-10-09T03:30:44.415706Z",
     "iopub.status.busy": "2021-10-09T03:30:44.414904Z",
     "iopub.status.idle": "2021-10-09T03:30:46.220327Z",
     "shell.execute_reply": "2021-10-09T03:30:46.219567Z",
     "shell.execute_reply.started": "2021-10-09T03:25:03.351455Z"
    },
    "papermill": {
     "duration": 1.94247,
     "end_time": "2021-10-09T03:30:46.220460",
     "exception": false,
     "start_time": "2021-10-09T03:30:44.277990",
     "status": "completed"
    },
    "tags": []
   },
   "outputs": [
    {
     "name": "stdout",
     "output_type": "stream",
     "text": [
      "The accuracy on the Closed Dataset with contrastive loss is 0.73\n"
     ]
    },
    {
     "data": {
      "text/plain": [
       "0.73"
      ]
     },
     "execution_count": 18,
     "metadata": {},
     "output_type": "execute_result"
    }
   ],
   "source": [
    "acc_cl(x_val, y_val, k = 1)"
   ]
  },
  {
   "cell_type": "markdown",
   "id": "7a30b2a4",
   "metadata": {
    "papermill": {
     "duration": 0.133793,
     "end_time": "2021-10-09T03:30:46.497145",
     "exception": false,
     "start_time": "2021-10-09T03:30:46.363352",
     "status": "completed"
    },
    "tags": []
   },
   "source": [
    "# Triplet loss"
   ]
  },
  {
   "cell_type": "code",
   "execution_count": 19,
   "id": "dc1a6c8e",
   "metadata": {
    "execution": {
     "iopub.execute_input": "2021-10-09T03:30:46.775761Z",
     "iopub.status.busy": "2021-10-09T03:30:46.774027Z",
     "iopub.status.idle": "2021-10-09T03:30:55.075984Z",
     "shell.execute_reply": "2021-10-09T03:30:55.076396Z",
     "shell.execute_reply.started": "2021-10-09T03:25:48.146844Z"
    },
    "papermill": {
     "duration": 8.445763,
     "end_time": "2021-10-09T03:30:55.076579",
     "exception": false,
     "start_time": "2021-10-09T03:30:46.630816",
     "status": "completed"
    },
    "tags": []
   },
   "outputs": [
    {
     "name": "stdout",
     "output_type": "stream",
     "text": [
      "Epoch 1/20\n",
      "1/1 [==============================] - 2s 2s/step - loss: 0.9818 - val_loss: 0.9468\n",
      "Epoch 2/20\n",
      "1/1 [==============================] - 0s 306ms/step - loss: 0.9805 - val_loss: 0.9455\n",
      "Epoch 3/20\n",
      "1/1 [==============================] - 0s 292ms/step - loss: 0.9782 - val_loss: 0.9448\n",
      "Epoch 4/20\n",
      "1/1 [==============================] - 0s 289ms/step - loss: 0.9742 - val_loss: 0.9395\n",
      "Epoch 5/20\n",
      "1/1 [==============================] - 0s 290ms/step - loss: 0.9643 - val_loss: 0.9273\n",
      "Epoch 6/20\n",
      "1/1 [==============================] - 0s 297ms/step - loss: 0.9389 - val_loss: 0.8962\n",
      "Epoch 7/20\n",
      "1/1 [==============================] - 0s 289ms/step - loss: 0.8740 - val_loss: 0.8347\n",
      "Epoch 8/20\n",
      "1/1 [==============================] - 0s 292ms/step - loss: 0.7465 - val_loss: 0.8328\n",
      "Epoch 9/20\n",
      "1/1 [==============================] - 0s 308ms/step - loss: 0.6982 - val_loss: 0.8232\n",
      "Epoch 10/20\n",
      "1/1 [==============================] - 0s 290ms/step - loss: 0.6780 - val_loss: 0.8132\n",
      "Epoch 11/20\n",
      "1/1 [==============================] - 0s 299ms/step - loss: 0.6273 - val_loss: 0.7944\n",
      "Epoch 12/20\n",
      "1/1 [==============================] - 0s 311ms/step - loss: 0.5894 - val_loss: 0.7956\n",
      "Epoch 13/20\n",
      "1/1 [==============================] - 0s 287ms/step - loss: 0.5198 - val_loss: 0.8017\n",
      "Epoch 14/20\n",
      "1/1 [==============================] - 0s 289ms/step - loss: 0.4925 - val_loss: 0.7609\n",
      "Epoch 15/20\n",
      "1/1 [==============================] - 0s 298ms/step - loss: 0.4430 - val_loss: 0.8426\n",
      "Epoch 16/20\n",
      "1/1 [==============================] - 0s 307ms/step - loss: 0.4848 - val_loss: 0.7750\n",
      "Epoch 17/20\n",
      "1/1 [==============================] - 0s 295ms/step - loss: 0.3370 - val_loss: 0.7107\n",
      "Epoch 18/20\n",
      "1/1 [==============================] - 0s 297ms/step - loss: 0.3170 - val_loss: 0.7181\n",
      "Epoch 19/20\n",
      "1/1 [==============================] - 0s 287ms/step - loss: 0.2649 - val_loss: 0.7057\n",
      "Epoch 20/20\n",
      "1/1 [==============================] - 0s 286ms/step - loss: 0.2086 - val_loss: 0.6681\n"
     ]
    }
   ],
   "source": [
    "lr = 1e-5\n",
    "\n",
    "base_model_16 = tf.keras.applications.vgg16.VGG16(include_top=False,\n",
    "                      input_shape = (imsize, imsize, 3),\n",
    "                      weights = 'imagenet')\n",
    "\n",
    "# freeze all the layers of VGG, so they won't be trained.\n",
    "for layer in base_model_16.layers:\n",
    "    layer.trainable = False\n",
    "\n",
    "model_tl = tf.keras.models.Sequential([\n",
    "    base_model_16,\n",
    "    tf.keras.layers.Flatten(),\n",
    "    tf.keras.layers.Dense(units=1024, activation='relu'),\n",
    "    tf.keras.layers.Dense(embeddingDim, activation=None), # No activation on final dense layer\n",
    "    tf.keras.layers.Lambda(lambda x: tf.math.l2_normalize(x, axis=1)) # L2 normalize embeddings\n",
    "])\n",
    "\n",
    "model_tl.compile(\n",
    "    optimizer=tf.keras.optimizers.Adam(lr),\n",
    "    loss=tfa.losses.TripletSemiHardLoss())\n",
    "\n",
    "history = model_tl.fit(x=x_train, y= y_train,\n",
    "                       batch_size=batch_size,\n",
    "                       epochs=EPOCHS,\n",
    "                       validation_data = (x_val, y_val),\n",
    "                       verbose=1, \n",
    "                       callbacks = [lr_schedule])"
   ]
  },
  {
   "cell_type": "code",
   "execution_count": 20,
   "id": "db7e231c",
   "metadata": {
    "execution": {
     "iopub.execute_input": "2021-10-09T03:30:55.408344Z",
     "iopub.status.busy": "2021-10-09T03:30:55.402330Z",
     "iopub.status.idle": "2021-10-09T03:30:55.837603Z",
     "shell.execute_reply": "2021-10-09T03:30:55.837127Z",
     "shell.execute_reply.started": "2021-10-09T03:26:00.534942Z"
    },
    "papermill": {
     "duration": 0.613367,
     "end_time": "2021-10-09T03:30:55.837726",
     "exception": false,
     "start_time": "2021-10-09T03:30:55.224359",
     "status": "completed"
    },
    "tags": []
   },
   "outputs": [
    {
     "data": {
      "image/png": "[encoded data removed]",
      "text/plain": [
       "<Figure size 432x288 with 1 Axes>"
      ]
     },
     "metadata": {
      "needs_background": "light"
     },
     "output_type": "display_data"
    }
   ],
   "source": [
    "import matplotlib.pyplot as plt\n",
    "plt.semilogx(history.history[\"lr\"], history.history[\"val_loss\"])\n",
    "plt.axis([1e-5, 1, 0, 1])\n",
    "plt.show()"
   ]
  },
  {
   "cell_type": "code",
   "execution_count": 21,
   "id": "b83d1f95",
   "metadata": {
    "execution": {
     "iopub.execute_input": "2021-10-09T03:30:56.156339Z",
     "iopub.status.busy": "2021-10-09T03:30:56.155761Z",
     "iopub.status.idle": "2021-10-09T03:31:01.409200Z",
     "shell.execute_reply": "2021-10-09T03:31:01.409640Z",
     "shell.execute_reply.started": "2021-10-09T03:26:42.518855Z"
    },
    "papermill": {
     "duration": 5.413026,
     "end_time": "2021-10-09T03:31:01.409789",
     "exception": false,
     "start_time": "2021-10-09T03:30:55.996763",
     "status": "completed"
    },
    "tags": []
   },
   "outputs": [
    {
     "name": "stdout",
     "output_type": "stream",
     "text": [
      "Epoch 1/20\n",
      "1/1 [==============================] - 1s 822ms/step - loss: 0.9802\n",
      "Epoch 2/20\n",
      "1/1 [==============================] - 0s 210ms/step - loss: 0.9350\n",
      "Epoch 3/20\n",
      "1/1 [==============================] - 0s 196ms/step - loss: 0.8288\n",
      "Epoch 4/20\n",
      "1/1 [==============================] - 0s 197ms/step - loss: 0.7086\n",
      "Epoch 5/20\n",
      "1/1 [==============================] - 0s 192ms/step - loss: 0.6051\n",
      "Epoch 6/20\n",
      "1/1 [==============================] - 0s 210ms/step - loss: 0.5372\n",
      "Epoch 7/20\n",
      "1/1 [==============================] - 0s 197ms/step - loss: 0.4484\n",
      "Epoch 8/20\n",
      "1/1 [==============================] - 0s 194ms/step - loss: 0.3859\n",
      "Epoch 9/20\n",
      "1/1 [==============================] - 0s 198ms/step - loss: 0.3344\n",
      "Epoch 10/20\n",
      "1/1 [==============================] - 0s 208ms/step - loss: 0.2822\n",
      "Epoch 11/20\n",
      "1/1 [==============================] - 0s 195ms/step - loss: 0.2460\n",
      "Epoch 12/20\n",
      "1/1 [==============================] - 0s 218ms/step - loss: 0.2119\n",
      "Epoch 13/20\n",
      "1/1 [==============================] - 0s 231ms/step - loss: 0.1765\n",
      "Epoch 14/20\n",
      "1/1 [==============================] - 0s 224ms/step - loss: 0.1580\n",
      "Epoch 15/20\n",
      "1/1 [==============================] - 0s 209ms/step - loss: 0.1402\n",
      "Epoch 16/20\n",
      "1/1 [==============================] - 0s 233ms/step - loss: 0.1209\n",
      "Epoch 17/20\n",
      "1/1 [==============================] - 0s 218ms/step - loss: 0.1072\n",
      "Epoch 18/20\n",
      "1/1 [==============================] - 0s 198ms/step - loss: 0.0928\n",
      "Epoch 19/20\n",
      "1/1 [==============================] - 0s 189ms/step - loss: 0.0842\n",
      "Epoch 20/20\n",
      "1/1 [==============================] - 0s 190ms/step - loss: 0.0725\n"
     ]
    }
   ],
   "source": [
    "# the loss is decreased fast when LR is between 1e-4 and 5e-4\n",
    "lr = 3e-4\n",
    "\n",
    "base_model_16 = tf.keras.applications.vgg16.VGG16(include_top=False,\n",
    "                      input_shape = (imsize, imsize, 3),\n",
    "                      weights = 'imagenet')\n",
    "\n",
    "# freeze all the layers of VGG, so they won't be trained.\n",
    "for layer in base_model_16.layers:\n",
    "    layer.trainable = False\n",
    "\n",
    "model_tl = tf.keras.models.Sequential([\n",
    "    base_model_16,\n",
    "    tf.keras.layers.Flatten(),\n",
    "    tf.keras.layers.Dense(units=1024, activation='relu'),\n",
    "    tf.keras.layers.Dense(embeddingDim, activation=None), # No activation on final dense layer\n",
    "    tf.keras.layers.Lambda(lambda x: tf.math.l2_normalize(x, axis=1)) # L2 normalize embeddings\n",
    "])\n",
    "\n",
    "model_tl.compile(\n",
    "    optimizer=tf.keras.optimizers.Adam(lr),\n",
    "    loss=tfa.losses.TripletSemiHardLoss())\n",
    "\n",
    "history = model_tl.fit(x=x_train, y= y_train,\n",
    "                       batch_size=batch_size,\n",
    "                       epochs=EPOCHS, \n",
    "                       verbose=1)"
   ]
  },
  {
   "cell_type": "code",
   "execution_count": 22,
   "id": "28ff805e",
   "metadata": {
    "execution": {
     "iopub.execute_input": "2021-10-09T03:31:01.738991Z",
     "iopub.status.busy": "2021-10-09T03:31:01.738218Z",
     "iopub.status.idle": "2021-10-09T03:31:01.740345Z",
     "shell.execute_reply": "2021-10-09T03:31:01.740750Z",
     "shell.execute_reply.started": "2021-10-09T03:27:15.782114Z"
    },
    "papermill": {
     "duration": 0.169369,
     "end_time": "2021-10-09T03:31:01.740883",
     "exception": false,
     "start_time": "2021-10-09T03:31:01.571514",
     "status": "completed"
    },
    "tags": []
   },
   "outputs": [],
   "source": [
    "def acc_tl(x_test, y_test, k = 1):\n",
    "    embedding_train_tl = []\n",
    "    for i in range(len(y_train)):\n",
    "        embedding_train_tl.append(model_tl(x_train[i].reshape(1, imsize, imsize, 3))[0])\n",
    "        \n",
    "    embedding_train_tl = np.array(embedding_train_tl, dtype=float) \n",
    "\n",
    "    knn_tl = KNeighborsClassifier(n_neighbors = k)\n",
    "    knn_tl.fit(embedding_train_tl, y_train)\n",
    "    \n",
    "    x_test_embedding = model_tl(x_test)\n",
    "    acc_close = round(knn_tl.score(x_test_embedding, y_test), 2)\n",
    "    print('The accuracy on the Closed Dataset with triplet loss is {}'.format(acc_close))\n",
    "    \n",
    "    return acc_close"
   ]
  },
  {
   "cell_type": "markdown",
   "id": "d9db2148",
   "metadata": {
    "papermill": {
     "duration": 0.164133,
     "end_time": "2021-10-09T03:31:02.069057",
     "exception": false,
     "start_time": "2021-10-09T03:31:01.904924",
     "status": "completed"
    },
    "tags": []
   },
   "source": [
    "# tuning k value of kNN"
   ]
  },
  {
   "cell_type": "code",
   "execution_count": 23,
   "id": "c3e5d935",
   "metadata": {
    "execution": {
     "iopub.execute_input": "2021-10-09T03:31:02.411385Z",
     "iopub.status.busy": "2021-10-09T03:31:02.410526Z",
     "iopub.status.idle": "2021-10-09T03:31:11.499054Z",
     "shell.execute_reply": "2021-10-09T03:31:11.499499Z",
     "shell.execute_reply.started": "2021-10-09T03:27:16.361747Z"
    },
    "papermill": {
     "duration": 9.25923,
     "end_time": "2021-10-09T03:31:11.499750",
     "exception": false,
     "start_time": "2021-10-09T03:31:02.240520",
     "status": "completed"
    },
    "tags": []
   },
   "outputs": [
    {
     "name": "stdout",
     "output_type": "stream",
     "text": [
      "The accuracy on the Closed Dataset with triplet loss is 0.75\n",
      "The accuracy on the Closed Dataset with triplet loss is 0.69\n",
      "The accuracy on the Closed Dataset with triplet loss is 0.65\n",
      "The accuracy on the Closed Dataset with triplet loss is 0.59\n",
      "The accuracy on the Closed Dataset with triplet loss is 0.51\n"
     ]
    }
   ],
   "source": [
    "from sklearn.neighbors import KNeighborsClassifier\n",
    "\n",
    "K = [1, 3, 5, 7, 9]\n",
    "acc_t = []\n",
    "for i in K:\n",
    "    acc_t.append(acc_tl(x_val, y_val, k = i))"
   ]
  },
  {
   "cell_type": "code",
   "execution_count": 24,
   "id": "8fe26b28",
   "metadata": {
    "execution": {
     "iopub.execute_input": "2021-10-09T03:31:11.866620Z",
     "iopub.status.busy": "2021-10-09T03:31:11.859492Z",
     "iopub.status.idle": "2021-10-09T03:31:12.030564Z",
     "shell.execute_reply": "2021-10-09T03:31:12.031201Z",
     "shell.execute_reply.started": "2021-10-09T03:27:25.160524Z"
    },
    "papermill": {
     "duration": 0.361019,
     "end_time": "2021-10-09T03:31:12.031351",
     "exception": false,
     "start_time": "2021-10-09T03:31:11.670332",
     "status": "completed"
    },
    "tags": []
   },
   "outputs": [
    {
     "data": {
      "image/png": "[encoded data removed]",
      "text/plain": [
       "<Figure size 432x288 with 1 Axes>"
      ]
     },
     "metadata": {
      "needs_background": "light"
     },
     "output_type": "display_data"
    }
   ],
   "source": [
    "import matplotlib.pyplot as plt\n",
    "\n",
    "plt.plot(K, acc_t)\n",
    "plt.xlabel('K')\n",
    "plt.ylabel('accuracy')\n",
    "plt.title('tunning K value with Triplet Loss')\n",
    "plt.show()"
   ]
  },
  {
   "cell_type": "code",
   "execution_count": 25,
   "id": "473c563d",
   "metadata": {
    "execution": {
     "iopub.execute_input": "2021-10-09T03:31:12.373045Z",
     "iopub.status.busy": "2021-10-09T03:31:12.372178Z",
     "iopub.status.idle": "2021-10-09T03:31:14.148078Z",
     "shell.execute_reply": "2021-10-09T03:31:14.147645Z",
     "shell.execute_reply.started": "2021-10-09T03:27:40.562702Z"
    },
    "papermill": {
     "duration": 1.948068,
     "end_time": "2021-10-09T03:31:14.148209",
     "exception": false,
     "start_time": "2021-10-09T03:31:12.200141",
     "status": "completed"
    },
    "tags": []
   },
   "outputs": [
    {
     "name": "stdout",
     "output_type": "stream",
     "text": [
      "The accuracy on the Closed Dataset with triplet loss is 0.75\n"
     ]
    },
    {
     "data": {
      "text/plain": [
       "0.75"
      ]
     },
     "execution_count": 25,
     "metadata": {},
     "output_type": "execute_result"
    }
   ],
   "source": [
    "acc_tl(x_val, y_val, k = 1)"
   ]
  },
  {
   "cell_type": "code",
   "execution_count": null,
   "id": "b8b4fb47",
   "metadata": {
    "papermill": {
     "duration": 0.166751,
     "end_time": "2021-10-09T03:31:14.485636",
     "exception": false,
     "start_time": "2021-10-09T03:31:14.318885",
     "status": "completed"
    },
    "tags": []
   },
   "outputs": [],
   "source": []
  }
 ],
 "metadata": {
  "kernelspec": {
   "display_name": "Python 3",
   "language": "python",
   "name": "python3"
  },
  "language_info": {
   "codemirror_mode": {
    "name": "ipython",
    "version": 3
   },
   "file_extension": ".py",
   "mimetype": "text/x-python",
   "name": "python",
   "nbconvert_exporter": "python",
   "pygments_lexer": "ipython3",
   "version": "3.7.10"
  },
  "papermill": {
   "default_parameters": {},
   "duration": 170.715068,
   "end_time": "2021-10-09T03:31:17.382361",
   "environment_variables": {},
   "exception": null,
   "input_path": "__notebook__.ipynb",
   "output_path": "__notebook__.ipynb",
   "parameters": {},
   "start_time": "2021-10-09T03:28:26.667293",
   "version": "2.3.3"
  }
 },
 "nbformat": 4,
 "nbformat_minor": 5
}
