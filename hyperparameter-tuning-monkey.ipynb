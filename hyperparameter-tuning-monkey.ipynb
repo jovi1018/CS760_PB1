{
 "cells": [
  {
   "cell_type": "code",
   "execution_count": 1,
   "id": "691465e6",
   "metadata": {
    "_cell_guid": "b1076dfc-b9ad-4769-8c92-a6c4dae69d19",
    "_uuid": "8f2839f25d086af736a60e9eeb907d3b93b6e0e5",
    "execution": {
     "iopub.execute_input": "2021-10-07T23:42:15.735231Z",
     "iopub.status.busy": "2021-10-07T23:42:15.734599Z",
     "iopub.status.idle": "2021-10-07T23:42:20.097420Z",
     "shell.execute_reply": "2021-10-07T23:42:20.096814Z",
     "shell.execute_reply.started": "2021-10-07T23:25:44.158137Z"
    },
    "papermill": {
     "duration": 4.459225,
     "end_time": "2021-10-07T23:42:20.097582",
     "exception": false,
     "start_time": "2021-10-07T23:42:15.638357",
     "status": "completed"
    },
    "tags": []
   },
   "outputs": [
    {
     "name": "stderr",
     "output_type": "stream",
     "text": [
      "2021-10-07 23:42:16.219351: I tensorflow/stream_executor/platform/default/dso_loader.cc:49] Successfully opened dynamic library libcudart.so.11.0\n"
     ]
    }
   ],
   "source": [
    "import io\n",
    "import numpy as np\n",
    "import tensorflow as tf\n",
    "import tensorflow_addons as tfa"
   ]
  },
  {
   "cell_type": "code",
   "execution_count": 2,
   "id": "8dc8b8e4",
   "metadata": {
    "execution": {
     "iopub.execute_input": "2021-10-07T23:42:20.146420Z",
     "iopub.status.busy": "2021-10-07T23:42:20.145831Z",
     "iopub.status.idle": "2021-10-07T23:42:20.779676Z",
     "shell.execute_reply": "2021-10-07T23:42:20.778916Z",
     "shell.execute_reply.started": "2021-10-07T23:26:01.883347Z"
    },
    "papermill": {
     "duration": 0.661707,
     "end_time": "2021-10-07T23:42:20.779810",
     "exception": false,
     "start_time": "2021-10-07T23:42:20.118103",
     "status": "completed"
    },
    "tags": []
   },
   "outputs": [],
   "source": [
    "import os  \n",
    "import cv2\n",
    "from tqdm import tqdm\n",
    "from sklearn.preprocessing import LabelEncoder\n",
    "\n",
    "# Loading np array from images\n",
    "def make_dataset(labels, dir_path, IMG_SIZE = 150):\n",
    "    # initial an empty list X to store image of np.array()\n",
    "    X = []\n",
    "\n",
    "    # initial an empty list Z to store labels/names of cat individauls\n",
    "    Z = []\n",
    "    for label in labels:\n",
    "        DIR = dir_path + label\n",
    "        for img in tqdm(os.listdir(DIR)):\n",
    "            path = os.path.join(DIR,img)\n",
    "            # reading images\n",
    "            img = cv2.imread(path,cv2.IMREAD_COLOR)\n",
    "            # resizing images to (150, 150, 3), 3 is the number of channels - RGB\n",
    "            img = cv2.resize(img, (IMG_SIZE,IMG_SIZE))\n",
    "        \n",
    "            X.append(np.array(img))\n",
    "            Z.append(str(label)) \n",
    "    ## Transform labels in Z to Y from class 0 to class 9, as 10 different cat individuals\n",
    "    le=LabelEncoder()\n",
    "    Y=le.fit_transform(Z)\n",
    "\n",
    "    ## Transform and normalize X in the range of [0, 1]\n",
    "    X=np.array(X)\n",
    "    X=X/255.\n",
    "    return X, Y"
   ]
  },
  {
   "cell_type": "code",
   "execution_count": 3,
   "id": "45fe03f3",
   "metadata": {
    "execution": {
     "iopub.execute_input": "2021-10-07T23:42:20.824374Z",
     "iopub.status.busy": "2021-10-07T23:42:20.823856Z",
     "iopub.status.idle": "2021-10-07T23:42:26.446513Z",
     "shell.execute_reply": "2021-10-07T23:42:26.447044Z",
     "shell.execute_reply.started": "2021-10-07T23:26:03.170901Z"
    },
    "papermill": {
     "duration": 5.647284,
     "end_time": "2021-10-07T23:42:26.447211",
     "exception": false,
     "start_time": "2021-10-07T23:42:20.799927",
     "status": "completed"
    },
    "tags": []
   },
   "outputs": [
    {
     "name": "stderr",
     "output_type": "stream",
     "text": [
      "100%|██████████| 15/15 [00:00<00:00, 43.41it/s]\n",
      "100%|██████████| 10/10 [00:00<00:00, 98.99it/s]\n",
      "100%|██████████| 5/5 [00:00<00:00, 24.53it/s]\n",
      "100%|██████████| 8/8 [00:00<00:00, 22.70it/s]\n",
      "100%|██████████| 6/6 [00:00<00:00, 71.01it/s]\n",
      "100%|██████████| 3/3 [00:00<00:00, 68.16it/s]\n",
      "100%|██████████| 2/2 [00:00<00:00, 78.90it/s]\n",
      "100%|██████████| 8/8 [00:00<00:00, 55.74it/s]\n",
      "100%|██████████| 4/4 [00:00<00:00, 263.84it/s]\n",
      "100%|██████████| 1/1 [00:00<00:00, 99.46it/s]\n",
      "100%|██████████| 1/1 [00:00<00:00, 167.34it/s]\n",
      "100%|██████████| 8/8 [00:00<00:00, 101.35it/s]\n",
      "100%|██████████| 4/4 [00:00<00:00, 93.69it/s]\n",
      "100%|██████████| 7/7 [00:00<00:00, 72.87it/s]\n",
      "100%|██████████| 9/9 [00:00<00:00, 252.62it/s]\n",
      "100%|██████████| 7/7 [00:00<00:00, 70.05it/s]\n",
      "100%|██████████| 10/10 [00:00<00:00, 40.74it/s]\n",
      "100%|██████████| 10/10 [00:00<00:00, 21.42it/s]\n",
      "100%|██████████| 4/4 [00:00<00:00, 30.13it/s]\n",
      "100%|██████████| 4/4 [00:00<00:00, 31.78it/s]\n",
      "100%|██████████| 4/4 [00:00<00:00, 21.80it/s]\n",
      "100%|██████████| 5/5 [00:00<00:00, 51.92it/s]\n",
      "100%|██████████| 2/2 [00:00<00:00, 152.89it/s]\n",
      "100%|██████████| 8/8 [00:00<00:00, 116.82it/s]\n",
      "100%|██████████| 4/4 [00:00<00:00, 27.86it/s]\n",
      "100%|██████████| 11/11 [00:00<00:00, 111.57it/s]\n",
      "100%|██████████| 5/5 [00:00<00:00, 36.03it/s]\n",
      "100%|██████████| 3/3 [00:00<00:00, 34.02it/s]\n",
      "100%|██████████| 2/2 [00:00<00:00, 58.26it/s]\n",
      "100%|██████████| 7/7 [00:00<00:00, 37.94it/s]\n",
      "100%|██████████| 12/12 [00:00<00:00, 81.95it/s]\n",
      "100%|██████████| 2/2 [00:00<00:00, 137.64it/s]\n",
      "100%|██████████| 4/4 [00:00<00:00, 33.02it/s]\n",
      "100%|██████████| 3/3 [00:00<00:00, 85.04it/s]\n",
      "100%|██████████| 2/2 [00:00<00:00, 51.10it/s]\n",
      "100%|██████████| 3/3 [00:00<00:00, 95.47it/s]\n",
      "100%|██████████| 12/12 [00:00<00:00, 45.51it/s]\n",
      "100%|██████████| 5/5 [00:00<00:00, 24.66it/s]\n",
      "100%|██████████| 6/6 [00:00<00:00, 118.66it/s]\n",
      "100%|██████████| 5/5 [00:00<00:00, 40.82it/s]\n",
      "100%|██████████| 10/10 [00:00<00:00, 76.82it/s]\n",
      "100%|██████████| 3/3 [00:00<00:00, 62.14it/s]\n",
      "100%|██████████| 4/4 [00:00<00:00, 35.11it/s]\n",
      "100%|██████████| 4/4 [00:00<00:00, 117.34it/s]\n"
     ]
    }
   ],
   "source": [
    "dir_path = '/kaggle/input/squirrel-monkey/Saimiri sciureus/'\n",
    "IMG_SIZE = 150\n",
    "labels = [str(i) for i in range(44)]\n",
    "\n",
    "X, Y = make_dataset(labels, dir_path)"
   ]
  },
  {
   "cell_type": "code",
   "execution_count": 4,
   "id": "a428e777",
   "metadata": {
    "execution": {
     "iopub.execute_input": "2021-10-07T23:42:26.574696Z",
     "iopub.status.busy": "2021-10-07T23:42:26.574049Z",
     "iopub.status.idle": "2021-10-07T23:42:26.658120Z",
     "shell.execute_reply": "2021-10-07T23:42:26.657609Z",
     "shell.execute_reply.started": "2021-10-07T23:26:07.882636Z"
    },
    "papermill": {
     "duration": 0.148811,
     "end_time": "2021-10-07T23:42:26.658240",
     "exception": false,
     "start_time": "2021-10-07T23:42:26.509429",
     "status": "completed"
    },
    "tags": []
   },
   "outputs": [],
   "source": [
    "from sklearn.model_selection import train_test_split\n",
    "\n",
    "x_train, x_test ,y_train, y_test = train_test_split(X, Y, test_size = 0.3, random_state = 2021)"
   ]
  },
  {
   "cell_type": "markdown",
   "id": "23efa7f2",
   "metadata": {
    "papermill": {
     "duration": 0.0601,
     "end_time": "2021-10-07T23:42:26.777882",
     "exception": false,
     "start_time": "2021-10-07T23:42:26.717782",
     "status": "completed"
    },
    "tags": []
   },
   "source": [
    "# Learning rate schedule"
   ]
  },
  {
   "cell_type": "code",
   "execution_count": 5,
   "id": "372779ea",
   "metadata": {
    "execution": {
     "iopub.execute_input": "2021-10-07T23:42:26.903120Z",
     "iopub.status.busy": "2021-10-07T23:42:26.902355Z",
     "iopub.status.idle": "2021-10-07T23:42:26.904318Z",
     "shell.execute_reply": "2021-10-07T23:42:26.904706Z",
     "shell.execute_reply.started": "2021-10-07T23:26:09.151561Z"
    },
    "papermill": {
     "duration": 0.066973,
     "end_time": "2021-10-07T23:42:26.904830",
     "exception": false,
     "start_time": "2021-10-07T23:42:26.837857",
     "status": "completed"
    },
    "tags": []
   },
   "outputs": [],
   "source": [
    "lr_schedule = tf.keras.callbacks.LearningRateScheduler(\n",
    "    lambda epoch: 1e-5 * 10**(epoch / 4))"
   ]
  },
  {
   "cell_type": "markdown",
   "id": "fa31e3f6",
   "metadata": {
    "papermill": {
     "duration": 0.066551,
     "end_time": "2021-10-07T23:42:27.031008",
     "exception": false,
     "start_time": "2021-10-07T23:42:26.964457",
     "status": "completed"
    },
    "tags": []
   },
   "source": [
    "# VGG 16 classification model"
   ]
  },
  {
   "cell_type": "code",
   "execution_count": 6,
   "id": "b2331aa4",
   "metadata": {
    "execution": {
     "iopub.execute_input": "2021-10-07T23:42:27.161502Z",
     "iopub.status.busy": "2021-10-07T23:42:27.160842Z",
     "iopub.status.idle": "2021-10-07T23:42:46.155178Z",
     "shell.execute_reply": "2021-10-07T23:42:46.155599Z",
     "shell.execute_reply.started": "2021-10-07T23:26:10.684845Z"
    },
    "papermill": {
     "duration": 19.064179,
     "end_time": "2021-10-07T23:42:46.155783",
     "exception": false,
     "start_time": "2021-10-07T23:42:27.091604",
     "status": "completed"
    },
    "tags": []
   },
   "outputs": [
    {
     "name": "stderr",
     "output_type": "stream",
     "text": [
      "2021-10-07 23:42:27.182144: I tensorflow/compiler/jit/xla_cpu_device.cc:41] Not creating XLA devices, tf_xla_enable_xla_devices not set\n",
      "2021-10-07 23:42:27.185037: I tensorflow/stream_executor/platform/default/dso_loader.cc:49] Successfully opened dynamic library libcuda.so.1\n",
      "2021-10-07 23:42:27.223708: I tensorflow/stream_executor/cuda/cuda_gpu_executor.cc:941] successful NUMA node read from SysFS had negative value (-1), but there must be at least one NUMA node, so returning NUMA node zero\n",
      "2021-10-07 23:42:27.224343: I tensorflow/core/common_runtime/gpu/gpu_device.cc:1720] Found device 0 with properties: \n",
      "pciBusID: 0000:00:04.0 name: Tesla P100-PCIE-16GB computeCapability: 6.0\n",
      "coreClock: 1.3285GHz coreCount: 56 deviceMemorySize: 15.90GiB deviceMemoryBandwidth: 681.88GiB/s\n",
      "2021-10-07 23:42:27.224412: I tensorflow/stream_executor/platform/default/dso_loader.cc:49] Successfully opened dynamic library libcudart.so.11.0\n",
      "2021-10-07 23:42:27.248429: I tensorflow/stream_executor/platform/default/dso_loader.cc:49] Successfully opened dynamic library libcublas.so.11\n",
      "2021-10-07 23:42:27.248520: I tensorflow/stream_executor/platform/default/dso_loader.cc:49] Successfully opened dynamic library libcublasLt.so.11\n",
      "2021-10-07 23:42:27.265641: I tensorflow/stream_executor/platform/default/dso_loader.cc:49] Successfully opened dynamic library libcufft.so.10\n",
      "2021-10-07 23:42:27.274224: I tensorflow/stream_executor/platform/default/dso_loader.cc:49] Successfully opened dynamic library libcurand.so.10\n",
      "2021-10-07 23:42:27.297992: I tensorflow/stream_executor/platform/default/dso_loader.cc:49] Successfully opened dynamic library libcusolver.so.10\n",
      "2021-10-07 23:42:27.306158: I tensorflow/stream_executor/platform/default/dso_loader.cc:49] Successfully opened dynamic library libcusparse.so.11\n",
      "2021-10-07 23:42:27.308937: I tensorflow/stream_executor/platform/default/dso_loader.cc:49] Successfully opened dynamic library libcudnn.so.8\n",
      "2021-10-07 23:42:27.309098: I tensorflow/stream_executor/cuda/cuda_gpu_executor.cc:941] successful NUMA node read from SysFS had negative value (-1), but there must be at least one NUMA node, so returning NUMA node zero\n",
      "2021-10-07 23:42:27.309792: I tensorflow/stream_executor/cuda/cuda_gpu_executor.cc:941] successful NUMA node read from SysFS had negative value (-1), but there must be at least one NUMA node, so returning NUMA node zero\n",
      "2021-10-07 23:42:27.311202: I tensorflow/core/common_runtime/gpu/gpu_device.cc:1862] Adding visible gpu devices: 0\n",
      "2021-10-07 23:42:27.311605: I tensorflow/core/platform/cpu_feature_guard.cc:142] This TensorFlow binary is optimized with oneAPI Deep Neural Network Library (oneDNN) to use the following CPU instructions in performance-critical operations:  AVX2 AVX512F FMA\n",
      "To enable them in other operations, rebuild TensorFlow with the appropriate compiler flags.\n",
      "2021-10-07 23:42:27.311800: I tensorflow/compiler/jit/xla_gpu_device.cc:99] Not creating XLA devices, tf_xla_enable_xla_devices not set\n",
      "2021-10-07 23:42:27.311960: I tensorflow/stream_executor/cuda/cuda_gpu_executor.cc:941] successful NUMA node read from SysFS had negative value (-1), but there must be at least one NUMA node, so returning NUMA node zero\n",
      "2021-10-07 23:42:27.312534: I tensorflow/core/common_runtime/gpu/gpu_device.cc:1720] Found device 0 with properties: \n",
      "pciBusID: 0000:00:04.0 name: Tesla P100-PCIE-16GB computeCapability: 6.0\n",
      "coreClock: 1.3285GHz coreCount: 56 deviceMemorySize: 15.90GiB deviceMemoryBandwidth: 681.88GiB/s\n",
      "2021-10-07 23:42:27.312569: I tensorflow/stream_executor/platform/default/dso_loader.cc:49] Successfully opened dynamic library libcudart.so.11.0\n",
      "2021-10-07 23:42:27.312601: I tensorflow/stream_executor/platform/default/dso_loader.cc:49] Successfully opened dynamic library libcublas.so.11\n",
      "2021-10-07 23:42:27.312642: I tensorflow/stream_executor/platform/default/dso_loader.cc:49] Successfully opened dynamic library libcublasLt.so.11\n",
      "2021-10-07 23:42:27.312663: I tensorflow/stream_executor/platform/default/dso_loader.cc:49] Successfully opened dynamic library libcufft.so.10\n",
      "2021-10-07 23:42:27.312681: I tensorflow/stream_executor/platform/default/dso_loader.cc:49] Successfully opened dynamic library libcurand.so.10\n",
      "2021-10-07 23:42:27.312697: I tensorflow/stream_executor/platform/default/dso_loader.cc:49] Successfully opened dynamic library libcusolver.so.10\n",
      "2021-10-07 23:42:27.312715: I tensorflow/stream_executor/platform/default/dso_loader.cc:49] Successfully opened dynamic library libcusparse.so.11\n",
      "2021-10-07 23:42:27.312733: I tensorflow/stream_executor/platform/default/dso_loader.cc:49] Successfully opened dynamic library libcudnn.so.8\n",
      "2021-10-07 23:42:27.312816: I tensorflow/stream_executor/cuda/cuda_gpu_executor.cc:941] successful NUMA node read from SysFS had negative value (-1), but there must be at least one NUMA node, so returning NUMA node zero\n",
      "2021-10-07 23:42:27.313430: I tensorflow/stream_executor/cuda/cuda_gpu_executor.cc:941] successful NUMA node read from SysFS had negative value (-1), but there must be at least one NUMA node, so returning NUMA node zero\n",
      "2021-10-07 23:42:27.313969: I tensorflow/core/common_runtime/gpu/gpu_device.cc:1862] Adding visible gpu devices: 0\n",
      "2021-10-07 23:42:27.314863: I tensorflow/stream_executor/platform/default/dso_loader.cc:49] Successfully opened dynamic library libcudart.so.11.0\n",
      "2021-10-07 23:42:28.756450: I tensorflow/core/common_runtime/gpu/gpu_device.cc:1261] Device interconnect StreamExecutor with strength 1 edge matrix:\n",
      "2021-10-07 23:42:28.756496: I tensorflow/core/common_runtime/gpu/gpu_device.cc:1267]      0 \n",
      "2021-10-07 23:42:28.756506: I tensorflow/core/common_runtime/gpu/gpu_device.cc:1280] 0:   N \n",
      "2021-10-07 23:42:28.758815: I tensorflow/stream_executor/cuda/cuda_gpu_executor.cc:941] successful NUMA node read from SysFS had negative value (-1), but there must be at least one NUMA node, so returning NUMA node zero\n",
      "2021-10-07 23:42:28.759599: I tensorflow/stream_executor/cuda/cuda_gpu_executor.cc:941] successful NUMA node read from SysFS had negative value (-1), but there must be at least one NUMA node, so returning NUMA node zero\n",
      "2021-10-07 23:42:28.760338: I tensorflow/stream_executor/cuda/cuda_gpu_executor.cc:941] successful NUMA node read from SysFS had negative value (-1), but there must be at least one NUMA node, so returning NUMA node zero\n",
      "2021-10-07 23:42:28.760938: I tensorflow/core/common_runtime/gpu/gpu_device.cc:1406] Created TensorFlow device (/job:localhost/replica:0/task:0/device:GPU:0 with 14957 MB memory) -> physical GPU (device: 0, name: Tesla P100-PCIE-16GB, pci bus id: 0000:00:04.0, compute capability: 6.0)\n"
     ]
    },
    {
     "name": "stdout",
     "output_type": "stream",
     "text": [
      "Downloading data from https://storage.googleapis.com/tensorflow/keras-applications/vgg16/vgg16_weights_tf_dim_ordering_tf_kernels_notop.h5\n",
      "58892288/58889256 [==============================] - 0s 0us/step\n"
     ]
    },
    {
     "name": "stderr",
     "output_type": "stream",
     "text": [
      "2021-10-07 23:42:29.868704: I tensorflow/compiler/mlir/mlir_graph_optimization_pass.cc:116] None of the MLIR optimization passes are enabled (registered 2)\n",
      "2021-10-07 23:42:29.879803: I tensorflow/core/platform/profile_utils/cpu_utils.cc:112] CPU Frequency: 2000189999 Hz\n"
     ]
    },
    {
     "name": "stdout",
     "output_type": "stream",
     "text": [
      "Epoch 1/20\n"
     ]
    },
    {
     "name": "stderr",
     "output_type": "stream",
     "text": [
      "2021-10-07 23:42:30.801779: I tensorflow/stream_executor/platform/default/dso_loader.cc:49] Successfully opened dynamic library libcublas.so.11\n",
      "2021-10-07 23:42:31.584634: I tensorflow/stream_executor/platform/default/dso_loader.cc:49] Successfully opened dynamic library libcublasLt.so.11\n",
      "2021-10-07 23:42:31.617532: I tensorflow/stream_executor/platform/default/dso_loader.cc:49] Successfully opened dynamic library libcudnn.so.8\n"
     ]
    },
    {
     "name": "stdout",
     "output_type": "stream",
     "text": [
      "1/1 [==============================] - 13s 13s/step - loss: 4.1702 - acc: 0.0057\n",
      "Epoch 2/20\n",
      "1/1 [==============================] - 0s 180ms/step - loss: 4.1116 - acc: 0.0114\n",
      "Epoch 3/20\n",
      "1/1 [==============================] - 0s 168ms/step - loss: 4.0128 - acc: 0.0114\n",
      "Epoch 4/20\n",
      "1/1 [==============================] - 0s 169ms/step - loss: 3.8524 - acc: 0.0170\n",
      "Epoch 5/20\n",
      "1/1 [==============================] - 0s 182ms/step - loss: 3.6100 - acc: 0.1080\n",
      "Epoch 6/20\n",
      "1/1 [==============================] - 0s 163ms/step - loss: 3.2864 - acc: 0.2102\n",
      "Epoch 7/20\n",
      "1/1 [==============================] - 0s 177ms/step - loss: 2.9270 - acc: 0.2955\n",
      "Epoch 8/20\n",
      "1/1 [==============================] - 0s 162ms/step - loss: 2.5803 - acc: 0.4034\n",
      "Epoch 9/20\n",
      "1/1 [==============================] - 0s 180ms/step - loss: 2.0301 - acc: 0.5682\n",
      "Epoch 10/20\n",
      "1/1 [==============================] - 0s 179ms/step - loss: 1.4240 - acc: 0.7443\n",
      "Epoch 11/20\n",
      "1/1 [==============================] - 0s 180ms/step - loss: 0.7957 - acc: 0.8977\n",
      "Epoch 12/20\n",
      "1/1 [==============================] - 0s 181ms/step - loss: 0.5878 - acc: 0.8466\n",
      "Epoch 13/20\n",
      "1/1 [==============================] - 0s 171ms/step - loss: 0.6771 - acc: 0.9318\n",
      "Epoch 14/20\n",
      "1/1 [==============================] - 0s 179ms/step - loss: 1.3113 - acc: 0.8807\n",
      "Epoch 15/20\n",
      "1/1 [==============================] - 0s 170ms/step - loss: 6.4111 - acc: 0.6875\n",
      "Epoch 16/20\n",
      "1/1 [==============================] - 0s 182ms/step - loss: 20.3820 - acc: 0.3807\n",
      "Epoch 17/20\n",
      "1/1 [==============================] - 0s 181ms/step - loss: 108.1607 - acc: 0.2500\n",
      "Epoch 18/20\n",
      "1/1 [==============================] - 0s 180ms/step - loss: 315.4169 - acc: 0.2045\n",
      "Epoch 19/20\n",
      "1/1 [==============================] - 0s 161ms/step - loss: 845.7895 - acc: 0.1193\n",
      "Epoch 20/20\n",
      "1/1 [==============================] - 0s 162ms/step - loss: 1097.6371 - acc: 0.0795\n"
     ]
    }
   ],
   "source": [
    "imsize = 150\n",
    "lr = 1e-5\n",
    "EPOCHS = 20\n",
    "batch_size = 256\n",
    "\n",
    "base_model_16 = tf.keras.applications.vgg16.VGG16(include_top=False,\n",
    "                      input_shape = (imsize,imsize,3),\n",
    "                      weights = 'imagenet')\n",
    "\n",
    "# freeze all the layers of VGG, so they won't be trained.\n",
    "for layer in base_model_16.layers:\n",
    "    layer.trainable = False\n",
    "\n",
    "model_vgg_16 = tf.keras.models.Sequential([\n",
    "    base_model_16,\n",
    "    tf.keras.layers.Flatten(),\n",
    "    tf.keras.layers.Dense(units=1024, activation='relu'),\n",
    "    tf.keras.layers.Dense(units=44, activation='softmax')\n",
    "])\n",
    "\n",
    "model_vgg_16.compile(optimizer=tf.keras.optimizers.Adam(lr), loss='sparse_categorical_crossentropy', metrics=['acc']) \n",
    "\n",
    "history = model_vgg_16.fit(x=x_train, y=y_train,\n",
    "                          epochs=EPOCHS,\n",
    "                          batch_size=batch_size,\n",
    "                          verbose=1, \n",
    "                          callbacks = [lr_schedule])"
   ]
  },
  {
   "cell_type": "code",
   "execution_count": 7,
   "id": "399c3b14",
   "metadata": {
    "execution": {
     "iopub.execute_input": "2021-10-07T23:42:46.334892Z",
     "iopub.status.busy": "2021-10-07T23:42:46.331011Z",
     "iopub.status.idle": "2021-10-07T23:42:46.931904Z",
     "shell.execute_reply": "2021-10-07T23:42:46.932617Z",
     "shell.execute_reply.started": "2021-10-07T23:26:30.494620Z"
    },
    "papermill": {
     "duration": 0.697496,
     "end_time": "2021-10-07T23:42:46.932797",
     "exception": false,
     "start_time": "2021-10-07T23:42:46.235301",
     "status": "completed"
    },
    "tags": []
   },
   "outputs": [
    {
     "data": {
      "image/png": "[encoded data removed]",
      "text/plain": [
       "<Figure size 432x288 with 1 Axes>"
      ]
     },
     "metadata": {
      "needs_background": "light"
     },
     "output_type": "display_data"
    }
   ],
   "source": [
    "import matplotlib.pyplot as plt\n",
    "plt.semilogx(history.history[\"lr\"], history.history[\"loss\"])\n",
    "plt.axis([1e-5, 1, 0, 5])\n",
    "plt.show()"
   ]
  },
  {
   "cell_type": "code",
   "execution_count": 8,
   "id": "e141ac79",
   "metadata": {
    "execution": {
     "iopub.execute_input": "2021-10-07T23:42:47.113580Z",
     "iopub.status.busy": "2021-10-07T23:42:47.112748Z",
     "iopub.status.idle": "2021-10-07T23:42:51.550432Z",
     "shell.execute_reply": "2021-10-07T23:42:51.550884Z",
     "shell.execute_reply.started": "2021-10-07T23:27:41.640064Z"
    },
    "papermill": {
     "duration": 4.538214,
     "end_time": "2021-10-07T23:42:51.551052",
     "exception": false,
     "start_time": "2021-10-07T23:42:47.012838",
     "status": "completed"
    },
    "tags": []
   },
   "outputs": [
    {
     "name": "stdout",
     "output_type": "stream",
     "text": [
      "Epoch 1/20\n",
      "1/1 [==============================] - 1s 681ms/step - loss: 4.2749 - acc: 0.0455\n",
      "Epoch 2/20\n",
      "1/1 [==============================] - 0s 179ms/step - loss: 4.2908 - acc: 0.2386\n",
      "Epoch 3/20\n",
      "1/1 [==============================] - 0s 162ms/step - loss: 4.0326 - acc: 0.2670\n",
      "Epoch 4/20\n",
      "1/1 [==============================] - 0s 160ms/step - loss: 2.8446 - acc: 0.4091\n",
      "Epoch 5/20\n",
      "1/1 [==============================] - 0s 175ms/step - loss: 1.8921 - acc: 0.7386\n",
      "Epoch 6/20\n",
      "1/1 [==============================] - 0s 179ms/step - loss: 1.3593 - acc: 0.7273\n",
      "Epoch 7/20\n",
      "1/1 [==============================] - 0s 164ms/step - loss: 1.0236 - acc: 0.7386\n",
      "Epoch 8/20\n",
      "1/1 [==============================] - 0s 166ms/step - loss: 0.7407 - acc: 0.7955\n",
      "Epoch 9/20\n",
      "1/1 [==============================] - 0s 176ms/step - loss: 0.5538 - acc: 0.8693\n",
      "Epoch 10/20\n",
      "1/1 [==============================] - 0s 164ms/step - loss: 0.4539 - acc: 0.9148\n",
      "Epoch 11/20\n",
      "1/1 [==============================] - 0s 167ms/step - loss: 0.3302 - acc: 0.9659\n",
      "Epoch 12/20\n",
      "1/1 [==============================] - 0s 177ms/step - loss: 0.2242 - acc: 0.9886\n",
      "Epoch 13/20\n",
      "1/1 [==============================] - 0s 180ms/step - loss: 0.1651 - acc: 0.9830\n",
      "Epoch 14/20\n",
      "1/1 [==============================] - 0s 160ms/step - loss: 0.1357 - acc: 0.9886\n",
      "Epoch 15/20\n",
      "1/1 [==============================] - 0s 179ms/step - loss: 0.1190 - acc: 0.9886\n",
      "Epoch 16/20\n",
      "1/1 [==============================] - 0s 167ms/step - loss: 0.1004 - acc: 0.9943\n",
      "Epoch 17/20\n",
      "1/1 [==============================] - 0s 183ms/step - loss: 0.0777 - acc: 0.9943\n",
      "Epoch 18/20\n",
      "1/1 [==============================] - 0s 180ms/step - loss: 0.0562 - acc: 1.0000\n",
      "Epoch 19/20\n",
      "1/1 [==============================] - 0s 160ms/step - loss: 0.0403 - acc: 1.0000\n",
      "Epoch 20/20\n",
      "1/1 [==============================] - 0s 160ms/step - loss: 0.0300 - acc: 1.0000\n"
     ]
    }
   ],
   "source": [
    "# the loss is decreased fast when LR is between 1e-4 and 1e-3\n",
    "# choose the mid point between 1e-4 and 7e-4\n",
    "lr = 1e-3\n",
    "base_model_16 = tf.keras.applications.vgg16.VGG16(include_top=False,\n",
    "                      input_shape = (imsize,imsize,3),\n",
    "                      weights = 'imagenet')\n",
    "\n",
    "# freeze all the layers of VGG, so they won't be trained.\n",
    "for layer in base_model_16.layers:\n",
    "    layer.trainable = False\n",
    "\n",
    "model_vgg_16 = tf.keras.models.Sequential([\n",
    "    base_model_16,\n",
    "    tf.keras.layers.Flatten(),\n",
    "    tf.keras.layers.Dense(units=1024, activation='relu'),\n",
    "    tf.keras.layers.Dense(units=44, activation='softmax')\n",
    "])\n",
    "\n",
    "model_vgg_16.compile(optimizer=tf.keras.optimizers.Adam(lr), loss='sparse_categorical_crossentropy', metrics=['acc']) \n",
    "\n",
    "history = model_vgg_16.fit(x=x_train, y=y_train,\n",
    "                          epochs=EPOCHS,\n",
    "                          batch_size=batch_size,\n",
    "                          verbose=1)"
   ]
  },
  {
   "cell_type": "code",
   "execution_count": 9,
   "id": "b6eab905",
   "metadata": {
    "execution": {
     "iopub.execute_input": "2021-10-07T23:42:51.746506Z",
     "iopub.status.busy": "2021-10-07T23:42:51.745450Z",
     "iopub.status.idle": "2021-10-07T23:42:54.118027Z",
     "shell.execute_reply": "2021-10-07T23:42:54.118556Z",
     "shell.execute_reply.started": "2021-10-07T23:27:46.256568Z"
    },
    "papermill": {
     "duration": 2.472887,
     "end_time": "2021-10-07T23:42:54.118754",
     "exception": false,
     "start_time": "2021-10-07T23:42:51.645867",
     "status": "completed"
    },
    "tags": []
   },
   "outputs": [
    {
     "name": "stdout",
     "output_type": "stream",
     "text": [
      "3/3 [==============================] - 2s 336ms/step - loss: 1.8674 - acc: 0.6316\n"
     ]
    },
    {
     "data": {
      "text/plain": [
       "[1.8673555850982666, 0.6315789222717285]"
      ]
     },
     "execution_count": 9,
     "metadata": {},
     "output_type": "execute_result"
    }
   ],
   "source": [
    "model_vgg_16.evaluate(x_test, y_test)"
   ]
  },
  {
   "cell_type": "markdown",
   "id": "e6924c46",
   "metadata": {
    "papermill": {
     "duration": 0.096365,
     "end_time": "2021-10-07T23:42:54.310880",
     "exception": false,
     "start_time": "2021-10-07T23:42:54.214515",
     "status": "completed"
    },
    "tags": []
   },
   "source": [
    "# Contrastive loss"
   ]
  },
  {
   "cell_type": "code",
   "execution_count": 10,
   "id": "b93c0224",
   "metadata": {
    "execution": {
     "iopub.execute_input": "2021-10-07T23:42:54.514113Z",
     "iopub.status.busy": "2021-10-07T23:42:54.513235Z",
     "iopub.status.idle": "2021-10-07T23:42:54.515317Z",
     "shell.execute_reply": "2021-10-07T23:42:54.515728Z",
     "shell.execute_reply.started": "2021-10-07T23:27:53.354917Z"
    },
    "papermill": {
     "duration": 0.10996,
     "end_time": "2021-10-07T23:42:54.515879",
     "exception": false,
     "start_time": "2021-10-07T23:42:54.405919",
     "status": "completed"
    },
    "tags": []
   },
   "outputs": [],
   "source": [
    "# Helper Function \n",
    "\n",
    "# Create positive pairs and negative pairs\n",
    "import random\n",
    "def create_pairs(images, labels):\n",
    "    numClasses = 44\n",
    "    # initialize two empty lists to hold the (image, image) pairs and\n",
    "    # labels to indicate if a pair is positive (0) or negative (1)\n",
    "    np.random.seed(2021)\n",
    "    pairImages = []\n",
    "    pairLabels = []\n",
    "    \n",
    "    # calculate the total number of classes present in the dataset\n",
    "    # and then build a list of indexes for each class label that\n",
    "    # provides the indexes for all examples with a given label\n",
    "    idx = [np.where(labels == i)[0] for i in range(44)]\n",
    "    \n",
    "    # loop voer all images\n",
    "    for idxA in range(len(images)):\n",
    "        # grab the current image and label belonging to the current iteration\n",
    "        currentImage = images[idxA]\n",
    "        label = labels[idxA]\n",
    "        \n",
    "        # randomly pick on an image that belongs to the *same* class label\n",
    "        posId = random.choice(idx[label])\n",
    "        posImage = images[posId]\n",
    "        \n",
    "        # prepare a positive pair and update the images and labels\n",
    "        pairImages.append([currentImage, posImage])\n",
    "        pairLabels.append([0])\n",
    "        \n",
    "        # grab the indices for each of the class labels *not* equal to\n",
    "        # the current label and randomly pick an image corresponding\n",
    "        # to a label *not* equal to the current label\n",
    "        negId = np.where(labels != label)[0]\n",
    "        negIdx = random.choice(negId)\n",
    "        negImage = images[negIdx]\n",
    "        \n",
    "        # prepare a negative pair of images and update out lists\n",
    "        pairImages.append([currentImage, negImage])\n",
    "        pairLabels.append([1])\n",
    "    \n",
    "    return (np.array(pairImages), np.array(pairLabels))\n",
    "\n",
    "\n",
    "\n",
    "# Function to calculate the distance between two images (Euclidean Distance used here)\n",
    "import tensorflow.keras.backend as K\n",
    "def euclidean_distance(vectors):\n",
    "    # unpack the vectors into separate lists\n",
    "    (featsA, featsB) = vectors\n",
    "    # compute the sum of squared distances between the vectors\n",
    "    sumSquared = K.sum(K.square(featsA - featsB), axis=1,\n",
    "                       keepdims=True)\n",
    "    # return the euclidean distance between the vectors\n",
    "    return K.sqrt(K.maximum(sumSquared, K.epsilon()))\n",
    "\n",
    "\n",
    "# contrastive loss function\n",
    "def contrastive_loss(y, preds, margin=1):\n",
    "    # explicitly cast the true class label data type to the predicted\n",
    "    # class label data type (otherwise we run the risk of having two\n",
    "    # separate data types, causing TensorFlow to error out)\n",
    "    y = tf.cast(y, preds.dtype)\n",
    "    # calculate the contrastive loss between the true labels and\n",
    "    # the predicted labels\n",
    "    squaredPreds = K.square(preds)\n",
    "    squaredMargin = K.square(K.maximum(margin - preds, 0))\n",
    "    loss = K.mean((1 - y) * squaredPreds + y * squaredMargin)\n",
    "    # return the computed contrastive loss to the calling function\n",
    "    return loss"
   ]
  },
  {
   "cell_type": "code",
   "execution_count": 11,
   "id": "2fae34b9",
   "metadata": {
    "execution": {
     "iopub.execute_input": "2021-10-07T23:42:54.712606Z",
     "iopub.status.busy": "2021-10-07T23:42:54.711483Z",
     "iopub.status.idle": "2021-10-07T23:42:54.819003Z",
     "shell.execute_reply": "2021-10-07T23:42:54.818515Z",
     "shell.execute_reply.started": "2021-10-07T23:27:55.962087Z"
    },
    "papermill": {
     "duration": 0.207831,
     "end_time": "2021-10-07T23:42:54.819134",
     "exception": false,
     "start_time": "2021-10-07T23:42:54.611303",
     "status": "completed"
    },
    "tags": []
   },
   "outputs": [],
   "source": [
    "(pairTrain, labelTrain) = create_pairs(x_train, y_train)"
   ]
  },
  {
   "cell_type": "code",
   "execution_count": 12,
   "id": "f952f8e5",
   "metadata": {
    "execution": {
     "iopub.execute_input": "2021-10-07T23:42:55.023645Z",
     "iopub.status.busy": "2021-10-07T23:42:55.018019Z",
     "iopub.status.idle": "2021-10-07T23:43:33.550077Z",
     "shell.execute_reply": "2021-10-07T23:43:33.551122Z",
     "shell.execute_reply.started": "2021-10-07T23:27:56.312601Z"
    },
    "papermill": {
     "duration": 38.635016,
     "end_time": "2021-10-07T23:43:33.551332",
     "exception": false,
     "start_time": "2021-10-07T23:42:54.916316",
     "status": "completed"
    },
    "tags": []
   },
   "outputs": [
    {
     "name": "stdout",
     "output_type": "stream",
     "text": [
      "Epoch 1/20\n",
      "2/2 [==============================] - 25s 7s/step - loss: 0.1956\n",
      "Epoch 2/20\n",
      "2/2 [==============================] - 1s 195ms/step - loss: 0.1880\n",
      "Epoch 3/20\n",
      "2/2 [==============================] - 1s 181ms/step - loss: 0.1737\n",
      "Epoch 4/20\n",
      "2/2 [==============================] - 1s 176ms/step - loss: 0.1597\n",
      "Epoch 5/20\n",
      "2/2 [==============================] - 1s 195ms/step - loss: 0.1474\n",
      "Epoch 6/20\n",
      "2/2 [==============================] - 1s 181ms/step - loss: 0.1196\n",
      "Epoch 7/20\n",
      "2/2 [==============================] - 1s 183ms/step - loss: 0.0965\n",
      "Epoch 8/20\n",
      "2/2 [==============================] - 1s 204ms/step - loss: 0.0717\n",
      "Epoch 9/20\n",
      "2/2 [==============================] - 1s 198ms/step - loss: 0.0584\n",
      "Epoch 10/20\n",
      "2/2 [==============================] - 1s 192ms/step - loss: 0.0473\n",
      "Epoch 11/20\n",
      "2/2 [==============================] - 1s 191ms/step - loss: 0.0389\n",
      "Epoch 12/20\n",
      "2/2 [==============================] - 1s 180ms/step - loss: 0.0304\n",
      "Epoch 13/20\n",
      "2/2 [==============================] - 1s 177ms/step - loss: 0.0267\n",
      "Epoch 14/20\n",
      "2/2 [==============================] - 1s 198ms/step - loss: 0.0190\n",
      "Epoch 15/20\n",
      "2/2 [==============================] - 1s 184ms/step - loss: 0.0173\n",
      "Epoch 16/20\n",
      "2/2 [==============================] - 1s 177ms/step - loss: 0.0126\n",
      "Epoch 17/20\n",
      "2/2 [==============================] - 1s 191ms/step - loss: 0.0100\n",
      "Epoch 18/20\n",
      "2/2 [==============================] - 1s 185ms/step - loss: 0.0084\n",
      "Epoch 19/20\n",
      "2/2 [==============================] - 1s 185ms/step - loss: 0.0062\n",
      "Epoch 20/20\n",
      "2/2 [==============================] - 1s 177ms/step - loss: 0.0055\n"
     ]
    }
   ],
   "source": [
    "lr = 1e-5\n",
    "embeddingDim = 128\n",
    "\n",
    "base_model_16 = tf.keras.applications.vgg16.VGG16(include_top=False,\n",
    "                  input_shape = (imsize,imsize,3),\n",
    "                  weights = 'imagenet')\n",
    "\n",
    "# freeze all the layers of VGG, so they won't be trained.\n",
    "for layer in base_model_16.layers:\n",
    "    layer.trainable = False\n",
    "\n",
    "    \n",
    "\n",
    "model_cl = tf.keras.models.Sequential([\n",
    "    base_model_16,\n",
    "    tf.keras.layers.Flatten(),\n",
    "    tf.keras.layers.Dense(units=1024, activation='relu'),\n",
    "    tf.keras.layers.Dense(embeddingDim, activation=None), # No activation on final dense layer\n",
    "    tf.keras.layers.Lambda(lambda x: tf.math.l2_normalize(x, axis=1)) # L2 normalize embeddings\n",
    "])\n",
    "\n",
    "    \n",
    "imgA = tf.keras.layers.Input(shape=((imsize, imsize, 3)))\n",
    "imgB = tf.keras.layers.Input(shape=((imsize, imsize, 3)))\n",
    "    \n",
    "featsA = model_cl(imgA)\n",
    "featsB = model_cl(imgB)\n",
    "   \n",
    "distance = tf.keras.layers.Lambda(euclidean_distance)([featsA, featsB])\n",
    "model = tf.keras.Model(inputs=[imgA, imgB], outputs=distance)\n",
    "model.compile(loss=contrastive_loss, optimizer=tf.keras.optimizers.Adam(lr))\n",
    "\n",
    "history = model.fit([pairTrain[:, 0], pairTrain[:, 1]], labelTrain[:],\n",
    "                    batch_size = batch_size, \n",
    "                    epochs=EPOCHS, \n",
    "                    verbose=1,\n",
    "                    callbacks = [lr_schedule])"
   ]
  },
  {
   "cell_type": "code",
   "execution_count": 13,
   "id": "5336fc49",
   "metadata": {
    "execution": {
     "iopub.execute_input": "2021-10-07T23:43:33.828964Z",
     "iopub.status.busy": "2021-10-07T23:43:33.825176Z",
     "iopub.status.idle": "2021-10-07T23:43:34.292693Z",
     "shell.execute_reply": "2021-10-07T23:43:34.292256Z",
     "shell.execute_reply.started": "2021-10-07T23:28:35.448759Z"
    },
    "papermill": {
     "duration": 0.619805,
     "end_time": "2021-10-07T23:43:34.292814",
     "exception": false,
     "start_time": "2021-10-07T23:43:33.673009",
     "status": "completed"
    },
    "tags": []
   },
   "outputs": [
    {
     "data": {
      "image/png": "[encoded data removed]",
      "text/plain": [
       "<Figure size 432x288 with 1 Axes>"
      ]
     },
     "metadata": {
      "needs_background": "light"
     },
     "output_type": "display_data"
    }
   ],
   "source": [
    "import matplotlib.pyplot as plt\n",
    "plt.semilogx(history.history[\"lr\"], history.history[\"loss\"])\n",
    "plt.axis([1e-5, 1, 0, 0.2])\n",
    "plt.show()"
   ]
  },
  {
   "cell_type": "code",
   "execution_count": 14,
   "id": "8e625acb",
   "metadata": {
    "execution": {
     "iopub.execute_input": "2021-10-07T23:43:34.541667Z",
     "iopub.status.busy": "2021-10-07T23:43:34.541129Z",
     "iopub.status.idle": "2021-10-07T23:43:50.072556Z",
     "shell.execute_reply": "2021-10-07T23:43:50.073087Z",
     "shell.execute_reply.started": "2021-10-07T23:33:42.731426Z"
    },
    "papermill": {
     "duration": 15.661534,
     "end_time": "2021-10-07T23:43:50.073240",
     "exception": false,
     "start_time": "2021-10-07T23:43:34.411706",
     "status": "completed"
    },
    "tags": []
   },
   "outputs": [
    {
     "name": "stdout",
     "output_type": "stream",
     "text": [
      "Epoch 1/20\n",
      "2/2 [==============================] - 2s 183ms/step - loss: 0.2119\n",
      "Epoch 2/20\n",
      "2/2 [==============================] - 1s 177ms/step - loss: 0.2055\n",
      "Epoch 3/20\n",
      "2/2 [==============================] - 1s 186ms/step - loss: 0.2073\n",
      "Epoch 4/20\n",
      "2/2 [==============================] - 1s 184ms/step - loss: 0.1459\n",
      "Epoch 5/20\n",
      "2/2 [==============================] - 1s 191ms/step - loss: 0.1098\n",
      "Epoch 6/20\n",
      "2/2 [==============================] - 1s 187ms/step - loss: 0.1057\n",
      "Epoch 7/20\n",
      "2/2 [==============================] - 1s 185ms/step - loss: 0.0924\n",
      "Epoch 8/20\n",
      "2/2 [==============================] - 1s 188ms/step - loss: 0.0749\n",
      "Epoch 9/20\n",
      "2/2 [==============================] - 1s 183ms/step - loss: 0.0676\n",
      "Epoch 10/20\n",
      "2/2 [==============================] - 1s 193ms/step - loss: 0.0584\n",
      "Epoch 11/20\n",
      "2/2 [==============================] - 1s 185ms/step - loss: 0.0492\n",
      "Epoch 12/20\n",
      "2/2 [==============================] - 1s 181ms/step - loss: 0.0440\n",
      "Epoch 13/20\n",
      "2/2 [==============================] - 1s 185ms/step - loss: 0.0398\n",
      "Epoch 14/20\n",
      "2/2 [==============================] - 1s 198ms/step - loss: 0.0325\n",
      "Epoch 15/20\n",
      "2/2 [==============================] - 1s 191ms/step - loss: 0.0296\n",
      "Epoch 16/20\n",
      "2/2 [==============================] - 1s 195ms/step - loss: 0.0252\n",
      "Epoch 17/20\n",
      "2/2 [==============================] - 1s 184ms/step - loss: 0.0218\n",
      "Epoch 18/20\n",
      "2/2 [==============================] - 1s 185ms/step - loss: 0.0196\n",
      "Epoch 19/20\n",
      "2/2 [==============================] - 1s 181ms/step - loss: 0.0178\n",
      "Epoch 20/20\n",
      "2/2 [==============================] - 1s 176ms/step - loss: 0.0149\n"
     ]
    }
   ],
   "source": [
    "# the loss is decreased fast when LR is between 1e-4 and 8e-4\n",
    "# choose the mid point between 1e-5 and 1e-4\n",
    "lr = 4e-4\n",
    "\n",
    "base_model_16 = tf.keras.applications.vgg16.VGG16(include_top=False,\n",
    "                  input_shape = (imsize,imsize,3),\n",
    "                  weights = 'imagenet')\n",
    "\n",
    "# freeze all the layers of VGG, so they won't be trained.\n",
    "for layer in base_model_16.layers:\n",
    "    layer.trainable = False\n",
    "\n",
    "model_cl = tf.keras.models.Sequential([\n",
    "    base_model_16,\n",
    "    tf.keras.layers.Flatten(),\n",
    "    tf.keras.layers.Dense(units=1024, activation='relu'),\n",
    "    tf.keras.layers.Dense(embeddingDim, activation=None), # No activation on final dense layer\n",
    "    tf.keras.layers.Lambda(lambda x: tf.math.l2_normalize(x, axis=1)) # L2 normalize embeddings\n",
    "])\n",
    "    \n",
    "imgA = tf.keras.layers.Input(shape=((imsize, imsize, 3)))\n",
    "imgB = tf.keras.layers.Input(shape=((imsize, imsize, 3)))\n",
    "    \n",
    "featsA = model_cl(imgA)\n",
    "featsB = model_cl(imgB)\n",
    "   \n",
    "distance = tf.keras.layers.Lambda(euclidean_distance)([featsA, featsB])\n",
    "model = tf.keras.Model(inputs=[imgA, imgB], outputs=distance)\n",
    "model.compile(loss=contrastive_loss, optimizer=tf.keras.optimizers.Adam(lr))\n",
    "\n",
    "history = model.fit([pairTrain[:, 0], pairTrain[:, 1]], labelTrain[:],\n",
    "                    batch_size = batch_size, \n",
    "                    epochs=EPOCHS, \n",
    "                    verbose=1)"
   ]
  },
  {
   "cell_type": "code",
   "execution_count": 15,
   "id": "b306bf9b",
   "metadata": {
    "execution": {
     "iopub.execute_input": "2021-10-07T23:43:50.357548Z",
     "iopub.status.busy": "2021-10-07T23:43:50.356915Z",
     "iopub.status.idle": "2021-10-07T23:43:50.479909Z",
     "shell.execute_reply": "2021-10-07T23:43:50.478899Z",
     "shell.execute_reply.started": "2021-10-07T23:33:57.876201Z"
    },
    "papermill": {
     "duration": 0.267463,
     "end_time": "2021-10-07T23:43:50.480033",
     "exception": false,
     "start_time": "2021-10-07T23:43:50.212570",
     "status": "completed"
    },
    "tags": []
   },
   "outputs": [],
   "source": [
    "from sklearn.neighbors import KNeighborsClassifier\n",
    "\n",
    "def acc_cl(x_test, y_test, k = 1):\n",
    "    embedding_train_cl = []\n",
    "    for i in range(len(y_train)):\n",
    "        embedding_train_cl.append(model_cl(x_train[i].reshape(1, imsize, imsize, 3))[0])\n",
    "    embedding_train_cl = np.array(embedding_train_cl, dtype=float) \n",
    "\n",
    "    knn_cl = KNeighborsClassifier(n_neighbors = k)\n",
    "    knn_cl.fit(embedding_train_cl, y_train)\n",
    "    \n",
    "    x_test_embedding = model_cl(x_test)\n",
    "    acc_close = round(knn_cl.score(x_test_embedding, y_test), 2)\n",
    "    print('The accuracy on the Closed Dataset with contrastive loss is {}'.format(acc_close))\n",
    "    \n",
    "    return acc_close"
   ]
  },
  {
   "cell_type": "markdown",
   "id": "25c9b057",
   "metadata": {
    "papermill": {
     "duration": 0.134967,
     "end_time": "2021-10-07T23:43:50.751612",
     "exception": false,
     "start_time": "2021-10-07T23:43:50.616645",
     "status": "completed"
    },
    "tags": []
   },
   "source": [
    "# Tuning k value of kNN"
   ]
  },
  {
   "cell_type": "code",
   "execution_count": 16,
   "id": "4ef0271b",
   "metadata": {
    "execution": {
     "iopub.execute_input": "2021-10-07T23:43:51.030561Z",
     "iopub.status.busy": "2021-10-07T23:43:51.029763Z",
     "iopub.status.idle": "2021-10-07T23:44:06.401194Z",
     "shell.execute_reply": "2021-10-07T23:44:06.401703Z",
     "shell.execute_reply.started": "2021-10-07T23:33:58.252810Z"
    },
    "papermill": {
     "duration": 15.513925,
     "end_time": "2021-10-07T23:44:06.401875",
     "exception": false,
     "start_time": "2021-10-07T23:43:50.887950",
     "status": "completed"
    },
    "tags": []
   },
   "outputs": [
    {
     "name": "stdout",
     "output_type": "stream",
     "text": [
      "The accuracy on the Closed Dataset with contrastive loss is 0.54\n",
      "The accuracy on the Closed Dataset with contrastive loss is 0.54\n",
      "The accuracy on the Closed Dataset with contrastive loss is 0.53\n",
      "The accuracy on the Closed Dataset with contrastive loss is 0.55\n",
      "The accuracy on the Closed Dataset with contrastive loss is 0.53\n",
      "The accuracy on the Closed Dataset with contrastive loss is 0.5\n",
      "The accuracy on the Closed Dataset with contrastive loss is 0.49\n",
      "The accuracy on the Closed Dataset with contrastive loss is 0.49\n",
      "The accuracy on the Closed Dataset with contrastive loss is 0.49\n"
     ]
    }
   ],
   "source": [
    "K = [1, 2, 3, 4, 5, 6, 7, 8, 9]\n",
    "acc_c = []\n",
    "for i in K:\n",
    "    acc_c.append(acc_cl(x_test, y_test, k = i))"
   ]
  },
  {
   "cell_type": "code",
   "execution_count": 17,
   "id": "ddae5613",
   "metadata": {
    "execution": {
     "iopub.execute_input": "2021-10-07T23:44:06.726200Z",
     "iopub.status.busy": "2021-10-07T23:44:06.713331Z",
     "iopub.status.idle": "2021-10-07T23:44:06.896139Z",
     "shell.execute_reply": "2021-10-07T23:44:06.896586Z",
     "shell.execute_reply.started": "2021-10-07T23:34:20.480453Z"
    },
    "papermill": {
     "duration": 0.344421,
     "end_time": "2021-10-07T23:44:06.896775",
     "exception": false,
     "start_time": "2021-10-07T23:44:06.552354",
     "status": "completed"
    },
    "tags": []
   },
   "outputs": [
    {
     "data": {
      "image/png": "[encoded data removed]",
      "text/plain": [
       "<Figure size 432x288 with 1 Axes>"
      ]
     },
     "metadata": {
      "needs_background": "light"
     },
     "output_type": "display_data"
    }
   ],
   "source": [
    "# k = 2, highest accuracy.\n",
    "plt.plot(K, acc_c)\n",
    "plt.xlabel('K')\n",
    "plt.ylabel('accuracy')\n",
    "plt.title('tunning K value with Contrastive Loss')\n",
    "plt.show()"
   ]
  },
  {
   "cell_type": "markdown",
   "id": "a60dd34a",
   "metadata": {
    "papermill": {
     "duration": 0.151133,
     "end_time": "2021-10-07T23:44:07.209578",
     "exception": false,
     "start_time": "2021-10-07T23:44:07.058445",
     "status": "completed"
    },
    "tags": []
   },
   "source": [
    "# Triplet loss"
   ]
  },
  {
   "cell_type": "code",
   "execution_count": 18,
   "id": "c6f88d29",
   "metadata": {
    "execution": {
     "iopub.execute_input": "2021-10-07T23:44:07.502695Z",
     "iopub.status.busy": "2021-10-07T23:44:07.501547Z",
     "iopub.status.idle": "2021-10-07T23:44:13.414515Z",
     "shell.execute_reply": "2021-10-07T23:44:13.413891Z",
     "shell.execute_reply.started": "2021-10-07T23:34:45.731057Z"
    },
    "papermill": {
     "duration": 6.065565,
     "end_time": "2021-10-07T23:44:13.415094",
     "exception": false,
     "start_time": "2021-10-07T23:44:07.349529",
     "status": "completed"
    },
    "tags": []
   },
   "outputs": [
    {
     "name": "stdout",
     "output_type": "stream",
     "text": [
      "Epoch 1/20\n",
      "1/1 [==============================] - 2s 2s/step - loss: 0.9816\n",
      "Epoch 2/20\n",
      "1/1 [==============================] - 0s 170ms/step - loss: 0.9804\n",
      "Epoch 3/20\n",
      "1/1 [==============================] - 0s 172ms/step - loss: 0.9779\n",
      "Epoch 4/20\n",
      "1/1 [==============================] - 0s 184ms/step - loss: 0.9735\n",
      "Epoch 5/20\n",
      "1/1 [==============================] - 0s 169ms/step - loss: 0.9640\n",
      "Epoch 6/20\n",
      "1/1 [==============================] - 0s 164ms/step - loss: 0.9403\n",
      "Epoch 7/20\n",
      "1/1 [==============================] - 0s 168ms/step - loss: 0.8844\n",
      "Epoch 8/20\n",
      "1/1 [==============================] - 0s 167ms/step - loss: 0.7591\n",
      "Epoch 9/20\n",
      "1/1 [==============================] - 0s 169ms/step - loss: 0.6891\n",
      "Epoch 10/20\n",
      "1/1 [==============================] - 0s 183ms/step - loss: 0.7110\n",
      "Epoch 11/20\n",
      "1/1 [==============================] - 0s 170ms/step - loss: 0.6001\n",
      "Epoch 12/20\n",
      "1/1 [==============================] - 0s 171ms/step - loss: 0.5995\n",
      "Epoch 13/20\n",
      "1/1 [==============================] - 0s 164ms/step - loss: 0.5599\n",
      "Epoch 14/20\n",
      "1/1 [==============================] - 0s 185ms/step - loss: 0.4534\n",
      "Epoch 15/20\n",
      "1/1 [==============================] - 0s 165ms/step - loss: 0.4676\n",
      "Epoch 16/20\n",
      "1/1 [==============================] - 0s 166ms/step - loss: 0.3763\n",
      "Epoch 17/20\n",
      "1/1 [==============================] - 0s 167ms/step - loss: 0.3639\n",
      "Epoch 18/20\n",
      "1/1 [==============================] - 0s 171ms/step - loss: 0.2550\n",
      "Epoch 19/20\n",
      "1/1 [==============================] - 0s 167ms/step - loss: 0.2479\n",
      "Epoch 20/20\n",
      "1/1 [==============================] - 0s 169ms/step - loss: 0.1980\n"
     ]
    }
   ],
   "source": [
    "lr = 1e-5\n",
    "\n",
    "base_model_16 = tf.keras.applications.vgg16.VGG16(include_top=False,\n",
    "                      input_shape = (imsize, imsize, 3),\n",
    "                      weights = 'imagenet')\n",
    "\n",
    "# freeze all the layers of VGG, so they won't be trained.\n",
    "for layer in base_model_16.layers:\n",
    "    layer.trainable = False\n",
    "\n",
    "model_tl = tf.keras.models.Sequential([\n",
    "    base_model_16,\n",
    "    tf.keras.layers.Flatten(),\n",
    "    tf.keras.layers.Dense(units=1024, activation='relu'),\n",
    "    tf.keras.layers.Dense(embeddingDim, activation=None), # No activation on final dense layer\n",
    "    tf.keras.layers.Lambda(lambda x: tf.math.l2_normalize(x, axis=1)) # L2 normalize embeddings\n",
    "])\n",
    "\n",
    "model_tl.compile(\n",
    "    optimizer=tf.keras.optimizers.Adam(lr),\n",
    "    loss=tfa.losses.TripletSemiHardLoss())\n",
    "\n",
    "history = model_tl.fit(x=x_train, y= y_train,\n",
    "                       batch_size=batch_size,\n",
    "                       epochs=EPOCHS, \n",
    "                       verbose=1, \n",
    "                       callbacks = [lr_schedule])"
   ]
  },
  {
   "cell_type": "code",
   "execution_count": 19,
   "id": "25c4a157",
   "metadata": {
    "execution": {
     "iopub.execute_input": "2021-10-07T23:44:13.982461Z",
     "iopub.status.busy": "2021-10-07T23:44:13.981586Z",
     "iopub.status.idle": "2021-10-07T23:44:14.540087Z",
     "shell.execute_reply": "2021-10-07T23:44:14.539660Z",
     "shell.execute_reply.started": "2021-10-07T23:34:51.164795Z"
    },
    "papermill": {
     "duration": 0.842997,
     "end_time": "2021-10-07T23:44:14.540207",
     "exception": false,
     "start_time": "2021-10-07T23:44:13.697210",
     "status": "completed"
    },
    "tags": []
   },
   "outputs": [
    {
     "data": {
      "image/png": "[encoded data removed]",
      "text/plain": [
       "<Figure size 432x288 with 1 Axes>"
      ]
     },
     "metadata": {
      "needs_background": "light"
     },
     "output_type": "display_data"
    }
   ],
   "source": [
    "import matplotlib.pyplot as plt\n",
    "plt.semilogx(history.history[\"lr\"], history.history[\"loss\"])\n",
    "plt.axis([1e-5, 1, 0, 1])\n",
    "plt.show()"
   ]
  },
  {
   "cell_type": "code",
   "execution_count": 20,
   "id": "2395f68a",
   "metadata": {
    "execution": {
     "iopub.execute_input": "2021-10-07T23:44:14.871794Z",
     "iopub.status.busy": "2021-10-07T23:44:14.870949Z",
     "iopub.status.idle": "2021-10-07T23:44:19.358186Z",
     "shell.execute_reply": "2021-10-07T23:44:19.357670Z",
     "shell.execute_reply.started": "2021-10-07T23:35:11.569766Z"
    },
    "papermill": {
     "duration": 4.658596,
     "end_time": "2021-10-07T23:44:19.358325",
     "exception": false,
     "start_time": "2021-10-07T23:44:14.699729",
     "status": "completed"
    },
    "tags": []
   },
   "outputs": [
    {
     "name": "stdout",
     "output_type": "stream",
     "text": [
      "Epoch 1/20\n",
      "1/1 [==============================] - 1s 755ms/step - loss: 0.9835\n",
      "Epoch 2/20\n",
      "1/1 [==============================] - 0s 162ms/step - loss: 0.9190\n",
      "Epoch 3/20\n",
      "1/1 [==============================] - 0s 168ms/step - loss: 0.7628\n",
      "Epoch 4/20\n",
      "1/1 [==============================] - 0s 167ms/step - loss: 0.7406\n",
      "Epoch 5/20\n",
      "1/1 [==============================] - 0s 166ms/step - loss: 0.6029\n",
      "Epoch 6/20\n",
      "1/1 [==============================] - 0s 170ms/step - loss: 0.4482\n",
      "Epoch 7/20\n",
      "1/1 [==============================] - 0s 169ms/step - loss: 0.4157\n",
      "Epoch 8/20\n",
      "1/1 [==============================] - 0s 180ms/step - loss: 0.3239\n",
      "Epoch 9/20\n",
      "1/1 [==============================] - 0s 170ms/step - loss: 0.2653\n",
      "Epoch 10/20\n",
      "1/1 [==============================] - 0s 167ms/step - loss: 0.2307\n",
      "Epoch 11/20\n",
      "1/1 [==============================] - 0s 166ms/step - loss: 0.1820\n",
      "Epoch 12/20\n",
      "1/1 [==============================] - 0s 170ms/step - loss: 0.1462\n",
      "Epoch 13/20\n",
      "1/1 [==============================] - 0s 168ms/step - loss: 0.1227\n",
      "Epoch 14/20\n",
      "1/1 [==============================] - 0s 185ms/step - loss: 0.1061\n",
      "Epoch 15/20\n",
      "1/1 [==============================] - 0s 170ms/step - loss: 0.0924\n",
      "Epoch 16/20\n",
      "1/1 [==============================] - 0s 170ms/step - loss: 0.0787\n",
      "Epoch 17/20\n",
      "1/1 [==============================] - 0s 168ms/step - loss: 0.0688\n",
      "Epoch 18/20\n",
      "1/1 [==============================] - 0s 163ms/step - loss: 0.0674\n",
      "Epoch 19/20\n",
      "1/1 [==============================] - 0s 163ms/step - loss: 0.0586\n",
      "Epoch 20/20\n",
      "1/1 [==============================] - 0s 163ms/step - loss: 0.0527\n"
     ]
    }
   ],
   "source": [
    "# the loss is decreased fast when LR is between 5e-4 and 7e-4\n",
    "# choose the mid point between 8e-5 and 4e-4\n",
    "lr = 6e-4\n",
    "\n",
    "base_model_16 = tf.keras.applications.vgg16.VGG16(include_top=False,\n",
    "                      input_shape = (imsize, imsize, 3),\n",
    "                      weights = 'imagenet')\n",
    "\n",
    "# freeze all the layers of VGG, so they won't be trained.\n",
    "for layer in base_model_16.layers:\n",
    "    layer.trainable = False\n",
    "\n",
    "model_tl = tf.keras.models.Sequential([\n",
    "    base_model_16,\n",
    "    tf.keras.layers.Flatten(),\n",
    "    tf.keras.layers.Dense(units=1024, activation='relu'),\n",
    "    tf.keras.layers.Dense(embeddingDim, activation=None), # No activation on final dense layer\n",
    "    tf.keras.layers.Lambda(lambda x: tf.math.l2_normalize(x, axis=1)) # L2 normalize embeddings\n",
    "])\n",
    "\n",
    "model_tl.compile(\n",
    "    optimizer=tf.keras.optimizers.Adam(0.001),\n",
    "    loss=tfa.losses.TripletSemiHardLoss())\n",
    "\n",
    "history = model_tl.fit(x=x_train, y= y_train,\n",
    "                       batch_size=batch_size,\n",
    "                       epochs=EPOCHS, \n",
    "                       verbose=1)"
   ]
  },
  {
   "cell_type": "code",
   "execution_count": 21,
   "id": "039b83aa",
   "metadata": {
    "execution": {
     "iopub.execute_input": "2021-10-07T23:44:19.718489Z",
     "iopub.status.busy": "2021-10-07T23:44:19.717717Z",
     "iopub.status.idle": "2021-10-07T23:44:19.719949Z",
     "shell.execute_reply": "2021-10-07T23:44:19.720384Z",
     "shell.execute_reply.started": "2021-10-07T23:35:18.213914Z"
    },
    "papermill": {
     "duration": 0.183639,
     "end_time": "2021-10-07T23:44:19.720519",
     "exception": false,
     "start_time": "2021-10-07T23:44:19.536880",
     "status": "completed"
    },
    "tags": []
   },
   "outputs": [],
   "source": [
    "def acc_tl(x_test, y_test, k = 1):\n",
    "    embedding_train_tl = []\n",
    "    for i in range(len(y_train)):\n",
    "        embedding_train_tl.append(model_tl(x_train[i].reshape(1, imsize, imsize, 3))[0])\n",
    "        \n",
    "    embedding_train_tl = np.array(embedding_train_tl, dtype=float) \n",
    "\n",
    "    knn_tl = KNeighborsClassifier(n_neighbors = k)\n",
    "    knn_tl.fit(embedding_train_tl, y_train)\n",
    "    \n",
    "    x_test_embedding = model_tl(x_test)\n",
    "    acc_close = round(knn_tl.score(x_test_embedding, y_test), 2)\n",
    "    print('The accuracy on the Closed Dataset with triplet loss is {}'.format(acc_close))\n",
    "    \n",
    "    return acc_close"
   ]
  },
  {
   "cell_type": "markdown",
   "id": "0e43a07e",
   "metadata": {
    "papermill": {
     "duration": 0.207846,
     "end_time": "2021-10-07T23:44:20.103598",
     "exception": false,
     "start_time": "2021-10-07T23:44:19.895752",
     "status": "completed"
    },
    "tags": []
   },
   "source": [
    "# tuning k value of kNN"
   ]
  },
  {
   "cell_type": "code",
   "execution_count": 22,
   "id": "242f9279",
   "metadata": {
    "execution": {
     "iopub.execute_input": "2021-10-07T23:44:20.652538Z",
     "iopub.status.busy": "2021-10-07T23:44:20.651638Z",
     "iopub.status.idle": "2021-10-07T23:44:34.524956Z",
     "shell.execute_reply": "2021-10-07T23:44:34.525587Z",
     "shell.execute_reply.started": "2021-10-07T23:35:19.752374Z"
    },
    "papermill": {
     "duration": 14.133436,
     "end_time": "2021-10-07T23:44:34.525804",
     "exception": false,
     "start_time": "2021-10-07T23:44:20.392368",
     "status": "completed"
    },
    "tags": []
   },
   "outputs": [
    {
     "name": "stdout",
     "output_type": "stream",
     "text": [
      "The accuracy on the Closed Dataset with triplet loss is 0.72\n",
      "The accuracy on the Closed Dataset with triplet loss is 0.67\n",
      "The accuracy on the Closed Dataset with triplet loss is 0.64\n",
      "The accuracy on the Closed Dataset with triplet loss is 0.64\n",
      "The accuracy on the Closed Dataset with triplet loss is 0.63\n",
      "The accuracy on the Closed Dataset with triplet loss is 0.63\n",
      "The accuracy on the Closed Dataset with triplet loss is 0.58\n",
      "The accuracy on the Closed Dataset with triplet loss is 0.55\n",
      "The accuracy on the Closed Dataset with triplet loss is 0.55\n"
     ]
    }
   ],
   "source": [
    "K = [1, 2, 3, 4, 5, 6, 7, 8, 9]\n",
    "acc_t = []\n",
    "for i in K:\n",
    "    acc_t.append(acc_tl(x_test, y_test, k = i))"
   ]
  },
  {
   "cell_type": "markdown",
   "id": "4e5e19fd",
   "metadata": {
    "papermill": {
     "duration": 0.172609,
     "end_time": "2021-10-07T23:44:34.888781",
     "exception": false,
     "start_time": "2021-10-07T23:44:34.716172",
     "status": "completed"
    },
    "tags": []
   },
   "source": [
    "# tuning k value of kNN"
   ]
  },
  {
   "cell_type": "code",
   "execution_count": 23,
   "id": "9684be69",
   "metadata": {
    "execution": {
     "iopub.execute_input": "2021-10-07T23:44:35.269293Z",
     "iopub.status.busy": "2021-10-07T23:44:35.266779Z",
     "iopub.status.idle": "2021-10-07T23:44:35.444150Z",
     "shell.execute_reply": "2021-10-07T23:44:35.443711Z",
     "shell.execute_reply.started": "2021-10-07T23:35:42.890143Z"
    },
    "papermill": {
     "duration": 0.380532,
     "end_time": "2021-10-07T23:44:35.444276",
     "exception": false,
     "start_time": "2021-10-07T23:44:35.063744",
     "status": "completed"
    },
    "tags": []
   },
   "outputs": [
    {
     "data": {
      "image/png": "[encoded data removed]",
      "text/plain": [
       "<Figure size 432x288 with 1 Axes>"
      ]
     },
     "metadata": {
      "needs_background": "light"
     },
     "output_type": "display_data"
    }
   ],
   "source": [
    "# k = 1, highest accuracy.\n",
    "plt.plot(K, acc_t)\n",
    "plt.xlabel('K')\n",
    "plt.ylabel('accuracy')\n",
    "plt.title('tunning K value with Contrastive Loss')\n",
    "plt.show()"
   ]
  },
  {
   "cell_type": "code",
   "execution_count": null,
   "id": "e8f43409",
   "metadata": {
    "papermill": {
     "duration": 0.175349,
     "end_time": "2021-10-07T23:44:35.833272",
     "exception": false,
     "start_time": "2021-10-07T23:44:35.657923",
     "status": "completed"
    },
    "tags": []
   },
   "outputs": [],
   "source": []
  }
 ],
 "metadata": {
  "kernelspec": {
   "display_name": "Python 3",
   "language": "python",
   "name": "python3"
  },
  "language_info": {
   "codemirror_mode": {
    "name": "ipython",
    "version": 3
   },
   "file_extension": ".py",
   "mimetype": "text/x-python",
   "name": "python",
   "nbconvert_exporter": "python",
   "pygments_lexer": "ipython3",
   "version": "3.7.10"
  },
  "papermill": {
   "default_parameters": {},
   "duration": 149.710013,
   "end_time": "2021-10-07T23:44:38.968393",
   "environment_variables": {},
   "exception": null,
   "input_path": "__notebook__.ipynb",
   "output_path": "__notebook__.ipynb",
   "parameters": {},
   "start_time": "2021-10-07T23:42:09.258380",
   "version": "2.3.3"
  }
 },
 "nbformat": 4,
 "nbformat_minor": 5
}
