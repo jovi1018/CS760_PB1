{
 "cells": [
  {
   "cell_type": "code",
   "execution_count": 1,
   "id": "8fe0c8dd",
   "metadata": {
    "_cell_guid": "b1076dfc-b9ad-4769-8c92-a6c4dae69d19",
    "_uuid": "8f2839f25d086af736a60e9eeb907d3b93b6e0e5",
    "execution": {
     "iopub.execute_input": "2021-10-11T00:29:00.834266Z",
     "iopub.status.busy": "2021-10-11T00:29:00.833533Z",
     "iopub.status.idle": "2021-10-11T00:29:05.109790Z",
     "shell.execute_reply": "2021-10-11T00:29:05.110730Z",
     "shell.execute_reply.started": "2021-10-11T00:25:32.469053Z"
    },
    "papermill": {
     "duration": 4.374753,
     "end_time": "2021-10-11T00:29:05.111075",
     "exception": false,
     "start_time": "2021-10-11T00:29:00.736322",
     "status": "completed"
    },
    "tags": []
   },
   "outputs": [
    {
     "name": "stderr",
     "output_type": "stream",
     "text": [
      "2021-10-11 00:29:01.321371: I tensorflow/stream_executor/platform/default/dso_loader.cc:49] Successfully opened dynamic library libcudart.so.11.0\n"
     ]
    }
   ],
   "source": [
    "import io\n",
    "import numpy as np\n",
    "import tensorflow as tf\n",
    "import tensorflow_addons as tfa"
   ]
  },
  {
   "cell_type": "code",
   "execution_count": 2,
   "id": "0d3bf437",
   "metadata": {
    "execution": {
     "iopub.execute_input": "2021-10-11T00:29:05.304715Z",
     "iopub.status.busy": "2021-10-11T00:29:05.304131Z",
     "iopub.status.idle": "2021-10-11T00:29:06.031380Z",
     "shell.execute_reply": "2021-10-11T00:29:06.030873Z",
     "shell.execute_reply.started": "2021-10-11T00:25:36.642042Z"
    },
    "papermill": {
     "duration": 0.8229,
     "end_time": "2021-10-11T00:29:06.031528",
     "exception": false,
     "start_time": "2021-10-11T00:29:05.208628",
     "status": "completed"
    },
    "tags": []
   },
   "outputs": [],
   "source": [
    "import os  \n",
    "import cv2\n",
    "from tqdm import tqdm\n",
    "from sklearn.preprocessing import LabelEncoder\n",
    "\n",
    "# Loading np array from images\n",
    "def make_dataset(labels, dir_path, IMG_SIZE = 150):\n",
    "    # initial an empty list X to store image of np.array()\n",
    "    X = []\n",
    "\n",
    "    # initial an empty list Z to store labels/names of cat individauls\n",
    "    Z = []\n",
    "    for label in labels:\n",
    "        DIR = dir_path + label\n",
    "        for img in tqdm(os.listdir(DIR)):\n",
    "            path = os.path.join(DIR,img)\n",
    "            # reading images\n",
    "            img = cv2.imread(path,cv2.IMREAD_COLOR)\n",
    "            # resizing images to (150, 150, 3), 3 is the number of channels - RGB\n",
    "            img = cv2.resize(img, (IMG_SIZE,IMG_SIZE))\n",
    "        \n",
    "            X.append(np.array(img))\n",
    "            Z.append(str(label)) \n",
    "    ## Transform labels in Z to Y from class 0 to class 9, as 10 different cat individuals\n",
    "    le=LabelEncoder()\n",
    "    Y=le.fit_transform(Z)\n",
    "\n",
    "    ## Transform and normalize X in the range of [0, 1]\n",
    "    X=np.array(X)\n",
    "    X=X/255.\n",
    "    return X, Y"
   ]
  },
  {
   "cell_type": "code",
   "execution_count": 3,
   "id": "01f995df",
   "metadata": {
    "execution": {
     "iopub.execute_input": "2021-10-11T00:29:06.071309Z",
     "iopub.status.busy": "2021-10-11T00:29:06.070717Z",
     "iopub.status.idle": "2021-10-11T00:29:09.225904Z",
     "shell.execute_reply": "2021-10-11T00:29:09.225334Z",
     "shell.execute_reply.started": "2021-10-11T00:25:36.654670Z"
    },
    "papermill": {
     "duration": 3.176291,
     "end_time": "2021-10-11T00:29:09.226030",
     "exception": false,
     "start_time": "2021-10-11T00:29:06.049739",
     "status": "completed"
    },
    "tags": []
   },
   "outputs": [
    {
     "name": "stderr",
     "output_type": "stream",
     "text": [
      "100%|██████████| 15/15 [00:00<00:00, 102.78it/s]\n",
      "100%|██████████| 10/10 [00:00<00:00, 193.78it/s]\n",
      "100%|██████████| 5/5 [00:00<00:00, 35.69it/s]\n",
      "100%|██████████| 8/8 [00:00<00:00, 95.73it/s]\n",
      "100%|██████████| 6/6 [00:00<00:00, 197.26it/s]\n",
      "100%|██████████| 3/3 [00:00<00:00, 70.57it/s]\n",
      "100%|██████████| 2/2 [00:00<00:00, 69.09it/s]\n",
      "100%|██████████| 8/8 [00:00<00:00, 55.36it/s]\n",
      "100%|██████████| 4/4 [00:00<00:00, 195.60it/s]\n",
      "100%|██████████| 1/1 [00:00<00:00, 92.68it/s]\n",
      "100%|██████████| 1/1 [00:00<00:00, 181.30it/s]\n",
      "100%|██████████| 8/8 [00:00<00:00, 95.42it/s]\n",
      "100%|██████████| 4/4 [00:00<00:00, 82.74it/s]\n",
      "100%|██████████| 7/7 [00:00<00:00, 68.59it/s]\n",
      "100%|██████████| 9/9 [00:00<00:00, 221.86it/s]\n",
      "100%|██████████| 7/7 [00:00<00:00, 63.98it/s]\n",
      "100%|██████████| 10/10 [00:00<00:00, 39.35it/s]\n",
      "100%|██████████| 10/10 [00:00<00:00, 85.12it/s]\n",
      "100%|██████████| 4/4 [00:00<00:00, 68.13it/s]\n",
      "100%|██████████| 4/4 [00:00<00:00, 59.76it/s]\n",
      "100%|██████████| 4/4 [00:00<00:00, 31.19it/s]\n",
      "100%|██████████| 5/5 [00:00<00:00, 102.87it/s]\n",
      "100%|██████████| 2/2 [00:00<00:00, 221.56it/s]\n",
      "100%|██████████| 8/8 [00:00<00:00, 202.36it/s]\n",
      "100%|██████████| 4/4 [00:00<00:00, 49.18it/s]\n",
      "100%|██████████| 11/11 [00:00<00:00, 222.28it/s]\n",
      "100%|██████████| 5/5 [00:00<00:00, 91.86it/s]\n",
      "100%|██████████| 3/3 [00:00<00:00, 93.91it/s]\n",
      "100%|██████████| 2/2 [00:00<00:00, 124.86it/s]\n",
      "100%|██████████| 7/7 [00:00<00:00, 104.19it/s]\n",
      "100%|██████████| 12/12 [00:00<00:00, 206.47it/s]\n",
      "100%|██████████| 2/2 [00:00<00:00, 172.20it/s]\n",
      "100%|██████████| 4/4 [00:00<00:00, 43.97it/s]\n",
      "100%|██████████| 3/3 [00:00<00:00, 208.23it/s]\n",
      "100%|██████████| 2/2 [00:00<00:00, 112.29it/s]\n",
      "100%|██████████| 3/3 [00:00<00:00, 183.31it/s]\n",
      "100%|██████████| 12/12 [00:00<00:00, 97.15it/s]\n",
      "100%|██████████| 5/5 [00:00<00:00, 48.19it/s]\n",
      "100%|██████████| 6/6 [00:00<00:00, 194.24it/s]\n",
      "100%|██████████| 5/5 [00:00<00:00, 86.84it/s]\n",
      "100%|██████████| 10/10 [00:00<00:00, 195.92it/s]\n",
      "100%|██████████| 3/3 [00:00<00:00, 92.18it/s]\n",
      "100%|██████████| 4/4 [00:00<00:00, 57.15it/s]\n",
      "100%|██████████| 4/4 [00:00<00:00, 198.21it/s]\n"
     ]
    }
   ],
   "source": [
    "dir_path = '/kaggle/input/squirrel-monkey/Saimiri sciureus/'\n",
    "IMG_SIZE = 150\n",
    "labels = [str(i) for i in range(44)]\n",
    "\n",
    "X, Y = make_dataset(labels, dir_path)"
   ]
  },
  {
   "cell_type": "code",
   "execution_count": 4,
   "id": "cdd8368d",
   "metadata": {
    "execution": {
     "iopub.execute_input": "2021-10-11T00:29:09.338138Z",
     "iopub.status.busy": "2021-10-11T00:29:09.337488Z",
     "iopub.status.idle": "2021-10-11T00:29:09.423265Z",
     "shell.execute_reply": "2021-10-11T00:29:09.422780Z",
     "shell.execute_reply.started": "2021-10-11T00:25:40.179307Z"
    },
    "papermill": {
     "duration": 0.142164,
     "end_time": "2021-10-11T00:29:09.423398",
     "exception": false,
     "start_time": "2021-10-11T00:29:09.281234",
     "status": "completed"
    },
    "tags": []
   },
   "outputs": [],
   "source": [
    "from sklearn.model_selection import train_test_split\n",
    "\n",
    "x_train, x_test ,y_train, y_test = train_test_split(X, Y, test_size = 0.2, random_state = 2021)"
   ]
  },
  {
   "cell_type": "code",
   "execution_count": 5,
   "id": "afe36c11",
   "metadata": {
    "execution": {
     "iopub.execute_input": "2021-10-11T00:29:09.543126Z",
     "iopub.status.busy": "2021-10-11T00:29:09.542583Z",
     "iopub.status.idle": "2021-10-11T00:29:31.386522Z",
     "shell.execute_reply": "2021-10-11T00:29:31.387184Z",
     "shell.execute_reply.started": "2021-10-11T00:25:40.268431Z"
    },
    "papermill": {
     "duration": 21.907856,
     "end_time": "2021-10-11T00:29:31.387367",
     "exception": false,
     "start_time": "2021-10-11T00:29:09.479511",
     "status": "completed"
    },
    "tags": []
   },
   "outputs": [
    {
     "name": "stderr",
     "output_type": "stream",
     "text": [
      "2021-10-11 00:29:09.564244: I tensorflow/compiler/jit/xla_cpu_device.cc:41] Not creating XLA devices, tf_xla_enable_xla_devices not set\n",
      "2021-10-11 00:29:09.567102: I tensorflow/stream_executor/platform/default/dso_loader.cc:49] Successfully opened dynamic library libcuda.so.1\n",
      "2021-10-11 00:29:09.605560: I tensorflow/stream_executor/cuda/cuda_gpu_executor.cc:941] successful NUMA node read from SysFS had negative value (-1), but there must be at least one NUMA node, so returning NUMA node zero\n",
      "2021-10-11 00:29:09.606180: I tensorflow/core/common_runtime/gpu/gpu_device.cc:1720] Found device 0 with properties: \n",
      "pciBusID: 0000:00:04.0 name: Tesla P100-PCIE-16GB computeCapability: 6.0\n",
      "coreClock: 1.3285GHz coreCount: 56 deviceMemorySize: 15.90GiB deviceMemoryBandwidth: 681.88GiB/s\n",
      "2021-10-11 00:29:09.606234: I tensorflow/stream_executor/platform/default/dso_loader.cc:49] Successfully opened dynamic library libcudart.so.11.0\n",
      "2021-10-11 00:29:09.632258: I tensorflow/stream_executor/platform/default/dso_loader.cc:49] Successfully opened dynamic library libcublas.so.11\n",
      "2021-10-11 00:29:09.632344: I tensorflow/stream_executor/platform/default/dso_loader.cc:49] Successfully opened dynamic library libcublasLt.so.11\n",
      "2021-10-11 00:29:09.647985: I tensorflow/stream_executor/platform/default/dso_loader.cc:49] Successfully opened dynamic library libcufft.so.10\n",
      "2021-10-11 00:29:09.656336: I tensorflow/stream_executor/platform/default/dso_loader.cc:49] Successfully opened dynamic library libcurand.so.10\n",
      "2021-10-11 00:29:09.679952: I tensorflow/stream_executor/platform/default/dso_loader.cc:49] Successfully opened dynamic library libcusolver.so.10\n",
      "2021-10-11 00:29:09.688699: I tensorflow/stream_executor/platform/default/dso_loader.cc:49] Successfully opened dynamic library libcusparse.so.11\n",
      "2021-10-11 00:29:09.691497: I tensorflow/stream_executor/platform/default/dso_loader.cc:49] Successfully opened dynamic library libcudnn.so.8\n",
      "2021-10-11 00:29:09.691663: I tensorflow/stream_executor/cuda/cuda_gpu_executor.cc:941] successful NUMA node read from SysFS had negative value (-1), but there must be at least one NUMA node, so returning NUMA node zero\n",
      "2021-10-11 00:29:09.692315: I tensorflow/stream_executor/cuda/cuda_gpu_executor.cc:941] successful NUMA node read from SysFS had negative value (-1), but there must be at least one NUMA node, so returning NUMA node zero\n",
      "2021-10-11 00:29:09.693883: I tensorflow/core/common_runtime/gpu/gpu_device.cc:1862] Adding visible gpu devices: 0\n",
      "2021-10-11 00:29:09.694336: I tensorflow/core/platform/cpu_feature_guard.cc:142] This TensorFlow binary is optimized with oneAPI Deep Neural Network Library (oneDNN) to use the following CPU instructions in performance-critical operations:  AVX2 AVX512F FMA\n",
      "To enable them in other operations, rebuild TensorFlow with the appropriate compiler flags.\n",
      "2021-10-11 00:29:09.694545: I tensorflow/compiler/jit/xla_gpu_device.cc:99] Not creating XLA devices, tf_xla_enable_xla_devices not set\n",
      "2021-10-11 00:29:09.694705: I tensorflow/stream_executor/cuda/cuda_gpu_executor.cc:941] successful NUMA node read from SysFS had negative value (-1), but there must be at least one NUMA node, so returning NUMA node zero\n",
      "2021-10-11 00:29:09.695272: I tensorflow/core/common_runtime/gpu/gpu_device.cc:1720] Found device 0 with properties: \n",
      "pciBusID: 0000:00:04.0 name: Tesla P100-PCIE-16GB computeCapability: 6.0\n",
      "coreClock: 1.3285GHz coreCount: 56 deviceMemorySize: 15.90GiB deviceMemoryBandwidth: 681.88GiB/s\n",
      "2021-10-11 00:29:09.695308: I tensorflow/stream_executor/platform/default/dso_loader.cc:49] Successfully opened dynamic library libcudart.so.11.0\n",
      "2021-10-11 00:29:09.695334: I tensorflow/stream_executor/platform/default/dso_loader.cc:49] Successfully opened dynamic library libcublas.so.11\n",
      "2021-10-11 00:29:09.695352: I tensorflow/stream_executor/platform/default/dso_loader.cc:49] Successfully opened dynamic library libcublasLt.so.11\n",
      "2021-10-11 00:29:09.695368: I tensorflow/stream_executor/platform/default/dso_loader.cc:49] Successfully opened dynamic library libcufft.so.10\n",
      "2021-10-11 00:29:09.695401: I tensorflow/stream_executor/platform/default/dso_loader.cc:49] Successfully opened dynamic library libcurand.so.10\n",
      "2021-10-11 00:29:09.695419: I tensorflow/stream_executor/platform/default/dso_loader.cc:49] Successfully opened dynamic library libcusolver.so.10\n",
      "2021-10-11 00:29:09.695437: I tensorflow/stream_executor/platform/default/dso_loader.cc:49] Successfully opened dynamic library libcusparse.so.11\n",
      "2021-10-11 00:29:09.695454: I tensorflow/stream_executor/platform/default/dso_loader.cc:49] Successfully opened dynamic library libcudnn.so.8\n",
      "2021-10-11 00:29:09.695564: I tensorflow/stream_executor/cuda/cuda_gpu_executor.cc:941] successful NUMA node read from SysFS had negative value (-1), but there must be at least one NUMA node, so returning NUMA node zero\n",
      "2021-10-11 00:29:09.696183: I tensorflow/stream_executor/cuda/cuda_gpu_executor.cc:941] successful NUMA node read from SysFS had negative value (-1), but there must be at least one NUMA node, so returning NUMA node zero\n",
      "2021-10-11 00:29:09.696747: I tensorflow/core/common_runtime/gpu/gpu_device.cc:1862] Adding visible gpu devices: 0\n",
      "2021-10-11 00:29:09.697625: I tensorflow/stream_executor/platform/default/dso_loader.cc:49] Successfully opened dynamic library libcudart.so.11.0\n",
      "2021-10-11 00:29:11.108418: I tensorflow/core/common_runtime/gpu/gpu_device.cc:1261] Device interconnect StreamExecutor with strength 1 edge matrix:\n",
      "2021-10-11 00:29:11.108464: I tensorflow/core/common_runtime/gpu/gpu_device.cc:1267]      0 \n",
      "2021-10-11 00:29:11.108486: I tensorflow/core/common_runtime/gpu/gpu_device.cc:1280] 0:   N \n",
      "2021-10-11 00:29:11.111144: I tensorflow/stream_executor/cuda/cuda_gpu_executor.cc:941] successful NUMA node read from SysFS had negative value (-1), but there must be at least one NUMA node, so returning NUMA node zero\n",
      "2021-10-11 00:29:11.111903: I tensorflow/stream_executor/cuda/cuda_gpu_executor.cc:941] successful NUMA node read from SysFS had negative value (-1), but there must be at least one NUMA node, so returning NUMA node zero\n",
      "2021-10-11 00:29:11.112542: I tensorflow/stream_executor/cuda/cuda_gpu_executor.cc:941] successful NUMA node read from SysFS had negative value (-1), but there must be at least one NUMA node, so returning NUMA node zero\n",
      "2021-10-11 00:29:11.113094: I tensorflow/core/common_runtime/gpu/gpu_device.cc:1406] Created TensorFlow device (/job:localhost/replica:0/task:0/device:GPU:0 with 14957 MB memory) -> physical GPU (device: 0, name: Tesla P100-PCIE-16GB, pci bus id: 0000:00:04.0, compute capability: 6.0)\n"
     ]
    },
    {
     "name": "stdout",
     "output_type": "stream",
     "text": [
      "Downloading data from https://storage.googleapis.com/tensorflow/keras-applications/vgg16/vgg16_weights_tf_dim_ordering_tf_kernels_notop.h5\n",
      "58892288/58889256 [==============================] - 1s 0us/step\n"
     ]
    },
    {
     "name": "stderr",
     "output_type": "stream",
     "text": [
      "2021-10-11 00:29:13.879299: I tensorflow/compiler/mlir/mlir_graph_optimization_pass.cc:116] None of the MLIR optimization passes are enabled (registered 2)\n",
      "2021-10-11 00:29:13.889282: I tensorflow/core/platform/profile_utils/cpu_utils.cc:112] CPU Frequency: 2000175000 Hz\n"
     ]
    },
    {
     "name": "stdout",
     "output_type": "stream",
     "text": [
      "Epoch 1/20\n"
     ]
    },
    {
     "name": "stderr",
     "output_type": "stream",
     "text": [
      "2021-10-11 00:29:14.626338: I tensorflow/stream_executor/platform/default/dso_loader.cc:49] Successfully opened dynamic library libcublas.so.11\n",
      "2021-10-11 00:29:15.388584: I tensorflow/stream_executor/platform/default/dso_loader.cc:49] Successfully opened dynamic library libcublasLt.so.11\n",
      "2021-10-11 00:29:15.425005: I tensorflow/stream_executor/platform/default/dso_loader.cc:49] Successfully opened dynamic library libcudnn.so.8\n"
     ]
    },
    {
     "name": "stdout",
     "output_type": "stream",
     "text": [
      "1/1 [==============================] - 14s 14s/step - loss: 3.9770 - acc: 0.0348\n",
      "Epoch 2/20\n",
      "1/1 [==============================] - 0s 207ms/step - loss: 3.5324 - acc: 0.1045\n",
      "Epoch 3/20\n",
      "1/1 [==============================] - 0s 206ms/step - loss: 3.2233 - acc: 0.3134\n",
      "Epoch 4/20\n",
      "1/1 [==============================] - 0s 206ms/step - loss: 3.0004 - acc: 0.3333\n",
      "Epoch 5/20\n",
      "1/1 [==============================] - 0s 192ms/step - loss: 2.8054 - acc: 0.3632\n",
      "Epoch 6/20\n",
      "1/1 [==============================] - 0s 190ms/step - loss: 2.6065 - acc: 0.4527\n",
      "Epoch 7/20\n",
      "1/1 [==============================] - 0s 187ms/step - loss: 2.4094 - acc: 0.5124\n",
      "Epoch 8/20\n",
      "1/1 [==============================] - 0s 203ms/step - loss: 2.2228 - acc: 0.5721\n",
      "Epoch 9/20\n",
      "1/1 [==============================] - 0s 204ms/step - loss: 2.0469 - acc: 0.6070\n",
      "Epoch 10/20\n",
      "1/1 [==============================] - 0s 205ms/step - loss: 1.8820 - acc: 0.6716\n",
      "Epoch 11/20\n",
      "1/1 [==============================] - 0s 194ms/step - loss: 1.7296 - acc: 0.7313\n",
      "Epoch 12/20\n",
      "1/1 [==============================] - 0s 207ms/step - loss: 1.5897 - acc: 0.7512\n",
      "Epoch 13/20\n",
      "1/1 [==============================] - 0s 193ms/step - loss: 1.4612 - acc: 0.7960\n",
      "Epoch 14/20\n",
      "1/1 [==============================] - 0s 204ms/step - loss: 1.3428 - acc: 0.8358\n",
      "Epoch 15/20\n",
      "1/1 [==============================] - 0s 192ms/step - loss: 1.2320 - acc: 0.8706\n",
      "Epoch 16/20\n",
      "1/1 [==============================] - 0s 196ms/step - loss: 1.1280 - acc: 0.8905\n",
      "Epoch 17/20\n",
      "1/1 [==============================] - 0s 208ms/step - loss: 1.0310 - acc: 0.9005\n",
      "Epoch 18/20\n",
      "1/1 [==============================] - 0s 206ms/step - loss: 0.9416 - acc: 0.9154\n",
      "Epoch 19/20\n",
      "1/1 [==============================] - 0s 186ms/step - loss: 0.8593 - acc: 0.9353\n",
      "Epoch 20/20\n",
      "1/1 [==============================] - 0s 187ms/step - loss: 0.7836 - acc: 0.9552\n"
     ]
    }
   ],
   "source": [
    "imsize = 150\n",
    "lr = 1e-4\n",
    "EPOCHS = 20\n",
    "batch_size = 256\n",
    "\n",
    "base_model_16 = tf.keras.applications.vgg16.VGG16(include_top=False,\n",
    "                      input_shape = (imsize,imsize,3),\n",
    "                      weights = 'imagenet')\n",
    "\n",
    "# freeze all the layers of VGG, so they won't be trained.\n",
    "for layer in base_model_16.layers:\n",
    "    layer.trainable = False\n",
    "\n",
    "model_vgg_16 = tf.keras.models.Sequential([\n",
    "    base_model_16,\n",
    "    tf.keras.layers.Flatten(),\n",
    "    tf.keras.layers.Dense(units=1024, activation='relu'),\n",
    "    tf.keras.layers.Dense(units=44, activation='softmax')\n",
    "])\n",
    "\n",
    "model_vgg_16.compile(optimizer=tf.keras.optimizers.Adam(lr), loss='sparse_categorical_crossentropy', metrics=['acc']) \n",
    "\n",
    "history = model_vgg_16.fit(x=x_train, y=y_train,\n",
    "                          epochs=EPOCHS,\n",
    "                          batch_size=batch_size,\n",
    "                          verbose=1)"
   ]
  },
  {
   "cell_type": "code",
   "execution_count": 6,
   "id": "a032eeae",
   "metadata": {
    "execution": {
     "iopub.execute_input": "2021-10-11T00:29:31.533360Z",
     "iopub.status.busy": "2021-10-11T00:29:31.532545Z",
     "iopub.status.idle": "2021-10-11T00:29:34.152311Z",
     "shell.execute_reply": "2021-10-11T00:29:34.152771Z",
     "shell.execute_reply.started": "2021-10-11T00:26:00.363378Z"
    },
    "papermill": {
     "duration": 2.69459,
     "end_time": "2021-10-11T00:29:34.152927",
     "exception": false,
     "start_time": "2021-10-11T00:29:31.458337",
     "status": "completed"
    },
    "tags": []
   },
   "outputs": [
    {
     "name": "stdout",
     "output_type": "stream",
     "text": [
      "2/2 [==============================] - 3s 939ms/step - loss: 1.8638 - acc: 0.6078\n"
     ]
    },
    {
     "data": {
      "text/plain": [
       "0.6078431606292725"
      ]
     },
     "execution_count": 6,
     "metadata": {},
     "output_type": "execute_result"
    }
   ],
   "source": [
    "model_vgg_16.evaluate(x_test, y_test)[1]"
   ]
  },
  {
   "cell_type": "code",
   "execution_count": 7,
   "id": "1360cf13",
   "metadata": {
    "execution": {
     "iopub.execute_input": "2021-10-11T00:29:34.300198Z",
     "iopub.status.busy": "2021-10-11T00:29:34.299573Z",
     "iopub.status.idle": "2021-10-11T00:29:34.532227Z",
     "shell.execute_reply": "2021-10-11T00:29:34.531787Z",
     "shell.execute_reply.started": "2021-10-11T00:26:02.997306Z"
    },
    "papermill": {
     "duration": 0.308267,
     "end_time": "2021-10-11T00:29:34.532350",
     "exception": false,
     "start_time": "2021-10-11T00:29:34.224083",
     "status": "completed"
    },
    "tags": []
   },
   "outputs": [
    {
     "name": "stderr",
     "output_type": "stream",
     "text": [
      "/opt/conda/lib/python3.7/site-packages/tensorflow/python/keras/engine/sequential.py:450: UserWarning: `model.predict_classes()` is deprecated and will be removed after 2021-01-01. Please use instead:* `np.argmax(model.predict(x), axis=-1)`,   if your model does multi-class classification   (e.g. if it uses a `softmax` last-layer activation).* `(model.predict(x) > 0.5).astype(\"int32\")`,   if your model does binary classification   (e.g. if it uses a `sigmoid` last-layer activation).\n",
      "  warnings.warn('`model.predict_classes()` is deprecated and '\n"
     ]
    }
   ],
   "source": [
    "y_pred = model_vgg_16.predict_classes(x_test)"
   ]
  },
  {
   "cell_type": "markdown",
   "id": "65fed6d3",
   "metadata": {
    "papermill": {
     "duration": 0.070908,
     "end_time": "2021-10-11T00:29:34.675204",
     "exception": false,
     "start_time": "2021-10-11T00:29:34.604296",
     "status": "completed"
    },
    "tags": []
   },
   "source": [
    "# Table of misclassifying classes"
   ]
  },
  {
   "cell_type": "code",
   "execution_count": 8,
   "id": "fcf1016a",
   "metadata": {
    "execution": {
     "iopub.execute_input": "2021-10-11T00:29:34.830515Z",
     "iopub.status.busy": "2021-10-11T00:29:34.828943Z",
     "iopub.status.idle": "2021-10-11T00:29:34.858322Z",
     "shell.execute_reply": "2021-10-11T00:29:34.857617Z",
     "shell.execute_reply.started": "2021-10-11T00:26:03.237570Z"
    },
    "papermill": {
     "duration": 0.112077,
     "end_time": "2021-10-11T00:29:34.858452",
     "exception": false,
     "start_time": "2021-10-11T00:29:34.746375",
     "status": "completed"
    },
    "tags": []
   },
   "outputs": [
    {
     "data": {
      "text/html": [
       "<div>\n",
       "<style scoped>\n",
       "    .dataframe tbody tr th:only-of-type {\n",
       "        vertical-align: middle;\n",
       "    }\n",
       "\n",
       "    .dataframe tbody tr th {\n",
       "        vertical-align: top;\n",
       "    }\n",
       "\n",
       "    .dataframe thead th {\n",
       "        text-align: right;\n",
       "    }\n",
       "</style>\n",
       "<table border=\"1\" class=\"dataframe\">\n",
       "  <thead>\n",
       "    <tr style=\"text-align: right;\">\n",
       "      <th></th>\n",
       "      <th>miss_classes</th>\n",
       "      <th>miss_counts</th>\n",
       "      <th>total_counts</th>\n",
       "      <th>miss_rate</th>\n",
       "    </tr>\n",
       "  </thead>\n",
       "  <tbody>\n",
       "    <tr>\n",
       "      <th>0</th>\n",
       "      <td>5</td>\n",
       "      <td>3</td>\n",
       "      <td>3</td>\n",
       "      <td>1.0</td>\n",
       "    </tr>\n",
       "    <tr>\n",
       "      <th>1</th>\n",
       "      <td>6</td>\n",
       "      <td>1</td>\n",
       "      <td>2</td>\n",
       "      <td>0.5</td>\n",
       "    </tr>\n",
       "    <tr>\n",
       "      <th>2</th>\n",
       "      <td>9</td>\n",
       "      <td>1</td>\n",
       "      <td>2</td>\n",
       "      <td>0.5</td>\n",
       "    </tr>\n",
       "    <tr>\n",
       "      <th>3</th>\n",
       "      <td>10</td>\n",
       "      <td>1</td>\n",
       "      <td>1</td>\n",
       "      <td>1.0</td>\n",
       "    </tr>\n",
       "    <tr>\n",
       "      <th>4</th>\n",
       "      <td>11</td>\n",
       "      <td>1</td>\n",
       "      <td>1</td>\n",
       "      <td>1.0</td>\n",
       "    </tr>\n",
       "    <tr>\n",
       "      <th>5</th>\n",
       "      <td>14</td>\n",
       "      <td>2</td>\n",
       "      <td>2</td>\n",
       "      <td>1.0</td>\n",
       "    </tr>\n",
       "    <tr>\n",
       "      <th>6</th>\n",
       "      <td>19</td>\n",
       "      <td>1</td>\n",
       "      <td>1</td>\n",
       "      <td>1.0</td>\n",
       "    </tr>\n",
       "    <tr>\n",
       "      <th>7</th>\n",
       "      <td>25</td>\n",
       "      <td>1</td>\n",
       "      <td>1</td>\n",
       "      <td>1.0</td>\n",
       "    </tr>\n",
       "    <tr>\n",
       "      <th>8</th>\n",
       "      <td>26</td>\n",
       "      <td>1</td>\n",
       "      <td>1</td>\n",
       "      <td>1.0</td>\n",
       "    </tr>\n",
       "    <tr>\n",
       "      <th>9</th>\n",
       "      <td>27</td>\n",
       "      <td>2</td>\n",
       "      <td>2</td>\n",
       "      <td>1.0</td>\n",
       "    </tr>\n",
       "    <tr>\n",
       "      <th>10</th>\n",
       "      <td>31</td>\n",
       "      <td>2</td>\n",
       "      <td>2</td>\n",
       "      <td>1.0</td>\n",
       "    </tr>\n",
       "    <tr>\n",
       "      <th>11</th>\n",
       "      <td>37</td>\n",
       "      <td>2</td>\n",
       "      <td>2</td>\n",
       "      <td>1.0</td>\n",
       "    </tr>\n",
       "    <tr>\n",
       "      <th>12</th>\n",
       "      <td>40</td>\n",
       "      <td>1</td>\n",
       "      <td>1</td>\n",
       "      <td>1.0</td>\n",
       "    </tr>\n",
       "    <tr>\n",
       "      <th>13</th>\n",
       "      <td>42</td>\n",
       "      <td>1</td>\n",
       "      <td>1</td>\n",
       "      <td>1.0</td>\n",
       "    </tr>\n",
       "  </tbody>\n",
       "</table>\n",
       "</div>"
      ],
      "text/plain": [
       "    miss_classes  miss_counts  total_counts  miss_rate\n",
       "0              5            3             3        1.0\n",
       "1              6            1             2        0.5\n",
       "2              9            1             2        0.5\n",
       "3             10            1             1        1.0\n",
       "4             11            1             1        1.0\n",
       "5             14            2             2        1.0\n",
       "6             19            1             1        1.0\n",
       "7             25            1             1        1.0\n",
       "8             26            1             1        1.0\n",
       "9             27            2             2        1.0\n",
       "10            31            2             2        1.0\n",
       "11            37            2             2        1.0\n",
       "12            40            1             1        1.0\n",
       "13            42            1             1        1.0"
      ]
     },
     "execution_count": 8,
     "metadata": {},
     "output_type": "execute_result"
    }
   ],
   "source": [
    "labels, counts = np.unique(y_test, return_counts = True)\n",
    "\n",
    "ind = (y_test != y_pred)\n",
    "mis_class= y_test[ind]\n",
    "labels_mis, counts_mis = np.unique(mis_class, return_counts = True)\n",
    "\n",
    "cnt = []\n",
    "for i in labels_mis:\n",
    "    cnt.append(counts[np.where(labels == i)][0])\n",
    "cnt = np.array(cnt)\n",
    "\n",
    "mis_rate = counts_mis/cnt\n",
    "\n",
    "import pandas as pd\n",
    "pd.DataFrame({'miss_classes': labels_mis, \n",
    "              'miss_counts': counts_mis,\n",
    "              'total_counts': cnt,\n",
    "              'miss_rate': mis_rate})"
   ]
  },
  {
   "cell_type": "markdown",
   "id": "55649374",
   "metadata": {
    "papermill": {
     "duration": 0.071608,
     "end_time": "2021-10-11T00:29:35.005356",
     "exception": false,
     "start_time": "2021-10-11T00:29:34.933748",
     "status": "completed"
    },
    "tags": []
   },
   "source": [
    "# Contrastive Loss"
   ]
  },
  {
   "cell_type": "code",
   "execution_count": 9,
   "id": "bd0c3525",
   "metadata": {
    "execution": {
     "iopub.execute_input": "2021-10-11T00:29:35.154464Z",
     "iopub.status.busy": "2021-10-11T00:29:35.153652Z",
     "iopub.status.idle": "2021-10-11T00:29:35.290247Z",
     "shell.execute_reply": "2021-10-11T00:29:35.290657Z",
     "shell.execute_reply.started": "2021-10-11T00:26:33.721307Z"
    },
    "papermill": {
     "duration": 0.212372,
     "end_time": "2021-10-11T00:29:35.290818",
     "exception": false,
     "start_time": "2021-10-11T00:29:35.078446",
     "status": "completed"
    },
    "tags": []
   },
   "outputs": [],
   "source": [
    "# Helper Function \n",
    "\n",
    "# Create positive pairs and negative pairs\n",
    "import random\n",
    "def create_pairs(images, labels):\n",
    "    numClasses = 44\n",
    "    # initialize two empty lists to hold the (image, image) pairs and\n",
    "    # labels to indicate if a pair is positive (0) or negative (1)\n",
    "    np.random.seed(2021)\n",
    "    pairImages = []\n",
    "    pairLabels = []\n",
    "    \n",
    "    # calculate the total number of classes present in the dataset\n",
    "    # and then build a list of indexes for each class label that\n",
    "    # provides the indexes for all examples with a given label\n",
    "    idx = [np.where(labels == i)[0] for i in range(44)]\n",
    "    \n",
    "    # loop voer all images\n",
    "    for idxA in range(len(images)):\n",
    "        # grab the current image and label belonging to the current iteration\n",
    "        currentImage = images[idxA]\n",
    "        label = labels[idxA]\n",
    "        \n",
    "        # randomly pick on an image that belongs to the *same* class label\n",
    "        posId = random.choice(idx[label])\n",
    "        posImage = images[posId]\n",
    "        \n",
    "        # prepare a positive pair and update the images and labels\n",
    "        pairImages.append([currentImage, posImage])\n",
    "        pairLabels.append([0])\n",
    "        \n",
    "        # grab the indices for each of the class labels *not* equal to\n",
    "        # the current label and randomly pick an image corresponding\n",
    "        # to a label *not* equal to the current label\n",
    "        negId = np.where(labels != label)[0]\n",
    "        negIdx = random.choice(negId)\n",
    "        negImage = images[negIdx]\n",
    "        \n",
    "        # prepare a negative pair of images and update out lists\n",
    "        pairImages.append([currentImage, negImage])\n",
    "        pairLabels.append([1])\n",
    "    \n",
    "    return (np.array(pairImages), np.array(pairLabels))\n",
    "\n",
    "\n",
    "\n",
    "# Function to calculate the distance between two images (Euclidean Distance used here)\n",
    "import tensorflow.keras.backend as K\n",
    "def euclidean_distance(vectors):\n",
    "    # unpack the vectors into separate lists\n",
    "    (featsA, featsB) = vectors\n",
    "    # compute the sum of squared distances between the vectors\n",
    "    sumSquared = K.sum(K.square(featsA - featsB), axis=1,\n",
    "                       keepdims=True)\n",
    "    # return the euclidean distance between the vectors\n",
    "    return K.sqrt(K.maximum(sumSquared, K.epsilon()))\n",
    "\n",
    "\n",
    "# contrastive loss function\n",
    "def contrastive_loss(y, preds, margin=1):\n",
    "    # explicitly cast the true class label data type to the predicted\n",
    "    # class label data type (otherwise we run the risk of having two\n",
    "    # separate data types, causing TensorFlow to error out)\n",
    "    y = tf.cast(y, preds.dtype)\n",
    "    # calculate the contrastive loss between the true labels and\n",
    "    # the predicted labels\n",
    "    squaredPreds = K.square(preds)\n",
    "    squaredMargin = K.square(K.maximum(margin - preds, 0))\n",
    "    loss = K.mean((1 - y) * squaredPreds + y * squaredMargin)\n",
    "    # return the computed contrastive loss to the calling function\n",
    "    return loss\n",
    "\n",
    "(pairTrain, labelTrain) = create_pairs(x_train, y_train)"
   ]
  },
  {
   "cell_type": "code",
   "execution_count": 10,
   "id": "72e31c78",
   "metadata": {
    "execution": {
     "iopub.execute_input": "2021-10-11T00:29:35.449233Z",
     "iopub.status.busy": "2021-10-11T00:29:35.443089Z",
     "iopub.status.idle": "2021-10-11T00:30:21.345308Z",
     "shell.execute_reply": "2021-10-11T00:30:21.344894Z",
     "shell.execute_reply.started": "2021-10-11T00:27:05.014336Z"
    },
    "papermill": {
     "duration": 45.981904,
     "end_time": "2021-10-11T00:30:21.345429",
     "exception": false,
     "start_time": "2021-10-11T00:29:35.363525",
     "status": "completed"
    },
    "tags": []
   },
   "outputs": [
    {
     "name": "stdout",
     "output_type": "stream",
     "text": [
      "Epoch 1/20\n",
      "2/2 [==============================] - 30s 12s/step - loss: 0.1936\n",
      "Epoch 2/20\n",
      "2/2 [==============================] - 1s 288ms/step - loss: 0.1512\n",
      "Epoch 3/20\n",
      "2/2 [==============================] - 1s 310ms/step - loss: 0.1250\n",
      "Epoch 4/20\n",
      "2/2 [==============================] - 1s 298ms/step - loss: 0.1160\n",
      "Epoch 5/20\n",
      "2/2 [==============================] - 1s 310ms/step - loss: 0.0932\n",
      "Epoch 6/20\n",
      "2/2 [==============================] - 1s 284ms/step - loss: 0.0838\n",
      "Epoch 7/20\n",
      "2/2 [==============================] - 1s 309ms/step - loss: 0.0750\n",
      "Epoch 8/20\n",
      "2/2 [==============================] - 1s 359ms/step - loss: 0.0624\n",
      "Epoch 9/20\n",
      "2/2 [==============================] - 1s 295ms/step - loss: 0.0581\n",
      "Epoch 10/20\n",
      "2/2 [==============================] - 1s 284ms/step - loss: 0.0501\n",
      "Epoch 11/20\n",
      "2/2 [==============================] - 1s 283ms/step - loss: 0.0449\n",
      "Epoch 12/20\n",
      "2/2 [==============================] - 1s 280ms/step - loss: 0.0418\n",
      "Epoch 13/20\n",
      "2/2 [==============================] - 1s 301ms/step - loss: 0.0364\n",
      "Epoch 14/20\n",
      "2/2 [==============================] - 1s 303ms/step - loss: 0.0329\n",
      "Epoch 15/20\n",
      "2/2 [==============================] - 1s 294ms/step - loss: 0.0289\n",
      "Epoch 16/20\n",
      "2/2 [==============================] - 1s 312ms/step - loss: 0.0249\n",
      "Epoch 17/20\n",
      "2/2 [==============================] - 1s 309ms/step - loss: 0.0237\n",
      "Epoch 18/20\n",
      "2/2 [==============================] - 1s 314ms/step - loss: 0.0206\n",
      "Epoch 19/20\n",
      "2/2 [==============================] - 1s 301ms/step - loss: 0.0188\n",
      "Epoch 20/20\n",
      "2/2 [==============================] - 1s 278ms/step - loss: 0.0171\n"
     ]
    }
   ],
   "source": [
    "lr = 1e-4\n",
    "embeddingDim = 128\n",
    "\n",
    "\n",
    "base_model_16 = tf.keras.applications.vgg16.VGG16(include_top=False,\n",
    "                  input_shape = (imsize,imsize,3),\n",
    "                  weights = 'imagenet')\n",
    "\n",
    "# freeze all the layers of VGG, so they won't be trained.\n",
    "for layer in base_model_16.layers:\n",
    "    layer.trainable = False\n",
    "\n",
    "model_cl = tf.keras.models.Sequential([\n",
    "    base_model_16,\n",
    "    tf.keras.layers.Flatten(),\n",
    "    tf.keras.layers.Dense(units=1024, activation='relu'),\n",
    "    tf.keras.layers.Dense(embeddingDim, activation=None), # No activation on final dense layer\n",
    "    tf.keras.layers.Lambda(lambda x: tf.math.l2_normalize(x, axis=1)) # L2 normalize embeddings\n",
    "])\n",
    "    \n",
    "imgA = tf.keras.layers.Input(shape=((imsize, imsize, 3)))\n",
    "imgB = tf.keras.layers.Input(shape=((imsize, imsize, 3)))\n",
    "    \n",
    "featsA = model_cl(imgA)\n",
    "featsB = model_cl(imgB)\n",
    "   \n",
    "distance = tf.keras.layers.Lambda(euclidean_distance)([featsA, featsB])\n",
    "model = tf.keras.Model(inputs=[imgA, imgB], outputs=distance)\n",
    "model.compile(loss=contrastive_loss, optimizer=tf.keras.optimizers.Adam(lr))\n",
    "\n",
    "history = model.fit([pairTrain[:, 0], pairTrain[:, 1]], labelTrain[:],\n",
    "                    batch_size = batch_size, \n",
    "                    epochs=EPOCHS, \n",
    "                    verbose=1)"
   ]
  },
  {
   "cell_type": "code",
   "execution_count": 11,
   "id": "a997b394",
   "metadata": {
    "execution": {
     "iopub.execute_input": "2021-10-11T00:30:21.535708Z",
     "iopub.status.busy": "2021-10-11T00:30:21.535074Z",
     "iopub.status.idle": "2021-10-11T00:30:21.643003Z",
     "shell.execute_reply": "2021-10-11T00:30:21.642549Z",
     "shell.execute_reply.started": "2021-10-11T00:27:45.254286Z"
    },
    "papermill": {
     "duration": 0.205232,
     "end_time": "2021-10-11T00:30:21.643119",
     "exception": false,
     "start_time": "2021-10-11T00:30:21.437887",
     "status": "completed"
    },
    "tags": []
   },
   "outputs": [],
   "source": [
    "from sklearn.neighbors import KNeighborsClassifier\n",
    "\n",
    "def acc_cl(x_test, y_test, k = 1):\n",
    "    embedding_train_cl = []\n",
    "    for i in range(len(y_train)):\n",
    "        embedding_train_cl.append(model_cl(x_train[i].reshape(1, imsize, imsize, 3))[0])\n",
    "    embedding_train_cl = np.array(embedding_train_cl, dtype=float) \n",
    "\n",
    "    knn_cl = KNeighborsClassifier(n_neighbors = k)\n",
    "    knn_cl.fit(embedding_train_cl, y_train)\n",
    "    \n",
    "    x_test_embedding = model_cl(x_test)\n",
    "    acc_close = round(knn_cl.score(x_test_embedding, y_test), 2)\n",
    "    print('The accuracy on the Closed Dataset with contrastive loss is {}'.format(acc_close))\n",
    "    \n",
    "    return acc_close"
   ]
  },
  {
   "cell_type": "code",
   "execution_count": 12,
   "id": "a575a441",
   "metadata": {
    "execution": {
     "iopub.execute_input": "2021-10-11T00:30:21.835537Z",
     "iopub.status.busy": "2021-10-11T00:30:21.834975Z",
     "iopub.status.idle": "2021-10-11T00:30:24.418027Z",
     "shell.execute_reply": "2021-10-11T00:30:24.418432Z",
     "shell.execute_reply.started": "2021-10-11T00:27:45.371196Z"
    },
    "papermill": {
     "duration": 2.681712,
     "end_time": "2021-10-11T00:30:24.418601",
     "exception": false,
     "start_time": "2021-10-11T00:30:21.736889",
     "status": "completed"
    },
    "tags": []
   },
   "outputs": [
    {
     "name": "stdout",
     "output_type": "stream",
     "text": [
      "The accuracy on the Closed Dataset with contrastive loss is 0.71\n"
     ]
    },
    {
     "data": {
      "text/plain": [
       "0.71"
      ]
     },
     "execution_count": 12,
     "metadata": {},
     "output_type": "execute_result"
    }
   ],
   "source": [
    "acc_cl(x_test, y_test, k = 1) "
   ]
  },
  {
   "cell_type": "code",
   "execution_count": 13,
   "id": "32d6aa94",
   "metadata": {
    "execution": {
     "iopub.execute_input": "2021-10-11T00:30:24.610788Z",
     "iopub.status.busy": "2021-10-11T00:30:24.610062Z",
     "iopub.status.idle": "2021-10-11T00:30:24.612162Z",
     "shell.execute_reply": "2021-10-11T00:30:24.612539Z",
     "shell.execute_reply.started": "2021-10-11T00:27:47.926628Z"
    },
    "papermill": {
     "duration": 0.10038,
     "end_time": "2021-10-11T00:30:24.612672",
     "exception": false,
     "start_time": "2021-10-11T00:30:24.512292",
     "status": "completed"
    },
    "tags": []
   },
   "outputs": [],
   "source": [
    "def predict_cl(x_test, k = 1):\n",
    "    embedding_train_cl = []\n",
    "    for i in range(len(y_train)):\n",
    "        embedding_train_cl.append(model_cl(x_train[i].reshape(1, imsize, imsize, 3))[0])\n",
    "    embedding_train_cl = np.array(embedding_train_cl, dtype=float) \n",
    "\n",
    "    knn_cl = KNeighborsClassifier(n_neighbors = k)\n",
    "    knn_cl.fit(embedding_train_cl, y_train)\n",
    "    \n",
    "    x_test_embedding = model_cl(x_test)\n",
    "    pred =  knn_cl.predict(x_test_embedding)\n",
    "    return pred"
   ]
  },
  {
   "cell_type": "code",
   "execution_count": 14,
   "id": "a9ce9fd8",
   "metadata": {
    "execution": {
     "iopub.execute_input": "2021-10-11T00:30:24.802977Z",
     "iopub.status.busy": "2021-10-11T00:30:24.802156Z",
     "iopub.status.idle": "2021-10-11T00:30:26.429549Z",
     "shell.execute_reply": "2021-10-11T00:30:26.429094Z",
     "shell.execute_reply.started": "2021-10-11T00:27:47.935567Z"
    },
    "papermill": {
     "duration": 1.725101,
     "end_time": "2021-10-11T00:30:26.429678",
     "exception": false,
     "start_time": "2021-10-11T00:30:24.704577",
     "status": "completed"
    },
    "tags": []
   },
   "outputs": [],
   "source": [
    "y_pred = predict_cl(x_test, k = 1)"
   ]
  },
  {
   "cell_type": "markdown",
   "id": "ec496bf7",
   "metadata": {
    "papermill": {
     "duration": 0.092823,
     "end_time": "2021-10-11T00:30:26.617230",
     "exception": false,
     "start_time": "2021-10-11T00:30:26.524407",
     "status": "completed"
    },
    "tags": []
   },
   "source": [
    "# Table of misclassifying classes"
   ]
  },
  {
   "cell_type": "code",
   "execution_count": 15,
   "id": "823be806",
   "metadata": {
    "execution": {
     "iopub.execute_input": "2021-10-11T00:30:26.816160Z",
     "iopub.status.busy": "2021-10-11T00:30:26.815649Z",
     "iopub.status.idle": "2021-10-11T00:30:26.820010Z",
     "shell.execute_reply": "2021-10-11T00:30:26.820369Z",
     "shell.execute_reply.started": "2021-10-11T00:27:49.764904Z"
    },
    "papermill": {
     "duration": 0.111347,
     "end_time": "2021-10-11T00:30:26.820522",
     "exception": false,
     "start_time": "2021-10-11T00:30:26.709175",
     "status": "completed"
    },
    "tags": []
   },
   "outputs": [
    {
     "data": {
      "text/html": [
       "<div>\n",
       "<style scoped>\n",
       "    .dataframe tbody tr th:only-of-type {\n",
       "        vertical-align: middle;\n",
       "    }\n",
       "\n",
       "    .dataframe tbody tr th {\n",
       "        vertical-align: top;\n",
       "    }\n",
       "\n",
       "    .dataframe thead th {\n",
       "        text-align: right;\n",
       "    }\n",
       "</style>\n",
       "<table border=\"1\" class=\"dataframe\">\n",
       "  <thead>\n",
       "    <tr style=\"text-align: right;\">\n",
       "      <th></th>\n",
       "      <th>miss_classes</th>\n",
       "      <th>miss_counts</th>\n",
       "      <th>total_counts</th>\n",
       "      <th>miss_rate</th>\n",
       "    </tr>\n",
       "  </thead>\n",
       "  <tbody>\n",
       "    <tr>\n",
       "      <th>0</th>\n",
       "      <td>5</td>\n",
       "      <td>3</td>\n",
       "      <td>3</td>\n",
       "      <td>1.0</td>\n",
       "    </tr>\n",
       "    <tr>\n",
       "      <th>1</th>\n",
       "      <td>11</td>\n",
       "      <td>1</td>\n",
       "      <td>1</td>\n",
       "      <td>1.0</td>\n",
       "    </tr>\n",
       "    <tr>\n",
       "      <th>2</th>\n",
       "      <td>14</td>\n",
       "      <td>1</td>\n",
       "      <td>2</td>\n",
       "      <td>0.5</td>\n",
       "    </tr>\n",
       "    <tr>\n",
       "      <th>3</th>\n",
       "      <td>19</td>\n",
       "      <td>1</td>\n",
       "      <td>1</td>\n",
       "      <td>1.0</td>\n",
       "    </tr>\n",
       "    <tr>\n",
       "      <th>4</th>\n",
       "      <td>25</td>\n",
       "      <td>1</td>\n",
       "      <td>1</td>\n",
       "      <td>1.0</td>\n",
       "    </tr>\n",
       "    <tr>\n",
       "      <th>5</th>\n",
       "      <td>26</td>\n",
       "      <td>1</td>\n",
       "      <td>1</td>\n",
       "      <td>1.0</td>\n",
       "    </tr>\n",
       "    <tr>\n",
       "      <th>6</th>\n",
       "      <td>27</td>\n",
       "      <td>2</td>\n",
       "      <td>2</td>\n",
       "      <td>1.0</td>\n",
       "    </tr>\n",
       "    <tr>\n",
       "      <th>7</th>\n",
       "      <td>31</td>\n",
       "      <td>1</td>\n",
       "      <td>2</td>\n",
       "      <td>0.5</td>\n",
       "    </tr>\n",
       "    <tr>\n",
       "      <th>8</th>\n",
       "      <td>37</td>\n",
       "      <td>2</td>\n",
       "      <td>2</td>\n",
       "      <td>1.0</td>\n",
       "    </tr>\n",
       "    <tr>\n",
       "      <th>9</th>\n",
       "      <td>40</td>\n",
       "      <td>1</td>\n",
       "      <td>1</td>\n",
       "      <td>1.0</td>\n",
       "    </tr>\n",
       "    <tr>\n",
       "      <th>10</th>\n",
       "      <td>42</td>\n",
       "      <td>1</td>\n",
       "      <td>1</td>\n",
       "      <td>1.0</td>\n",
       "    </tr>\n",
       "  </tbody>\n",
       "</table>\n",
       "</div>"
      ],
      "text/plain": [
       "    miss_classes  miss_counts  total_counts  miss_rate\n",
       "0              5            3             3        1.0\n",
       "1             11            1             1        1.0\n",
       "2             14            1             2        0.5\n",
       "3             19            1             1        1.0\n",
       "4             25            1             1        1.0\n",
       "5             26            1             1        1.0\n",
       "6             27            2             2        1.0\n",
       "7             31            1             2        0.5\n",
       "8             37            2             2        1.0\n",
       "9             40            1             1        1.0\n",
       "10            42            1             1        1.0"
      ]
     },
     "execution_count": 15,
     "metadata": {},
     "output_type": "execute_result"
    }
   ],
   "source": [
    "labels, counts = np.unique(y_test, return_counts = True)\n",
    "\n",
    "ind = (y_test != y_pred)\n",
    "mis_class= y_test[ind]\n",
    "labels_mis, counts_mis = np.unique(mis_class, return_counts = True)\n",
    "\n",
    "cnt = []\n",
    "for i in labels_mis:\n",
    "    cnt.append(counts[np.where(labels == i)][0])\n",
    "cnt = np.array(cnt)\n",
    "\n",
    "mis_rate = counts_mis/cnt\n",
    "\n",
    "import pandas as pd\n",
    "pd.DataFrame({'miss_classes': labels_mis, \n",
    "              'miss_counts': counts_mis,\n",
    "              'total_counts': cnt,\n",
    "              'miss_rate': mis_rate})"
   ]
  },
  {
   "cell_type": "markdown",
   "id": "7b526327",
   "metadata": {
    "papermill": {
     "duration": 0.09358,
     "end_time": "2021-10-11T00:30:27.010879",
     "exception": false,
     "start_time": "2021-10-11T00:30:26.917299",
     "status": "completed"
    },
    "tags": []
   },
   "source": [
    "# Triplet loss"
   ]
  },
  {
   "cell_type": "code",
   "execution_count": 16,
   "id": "7e509f5b",
   "metadata": {
    "execution": {
     "iopub.execute_input": "2021-10-11T00:30:27.207515Z",
     "iopub.status.busy": "2021-10-11T00:30:27.206318Z",
     "iopub.status.idle": "2021-10-11T00:30:33.358257Z",
     "shell.execute_reply": "2021-10-11T00:30:33.357562Z",
     "shell.execute_reply.started": "2021-10-11T00:28:19.760392Z"
    },
    "papermill": {
     "duration": 6.255111,
     "end_time": "2021-10-11T00:30:33.358435",
     "exception": false,
     "start_time": "2021-10-11T00:30:27.103324",
     "status": "completed"
    },
    "tags": []
   },
   "outputs": [
    {
     "name": "stdout",
     "output_type": "stream",
     "text": [
      "Epoch 1/20\n",
      "1/1 [==============================] - 2s 2s/step - loss: 0.9815\n",
      "Epoch 2/20\n",
      "1/1 [==============================] - 0s 198ms/step - loss: 0.9028\n",
      "Epoch 3/20\n",
      "1/1 [==============================] - 0s 211ms/step - loss: 0.7942\n",
      "Epoch 4/20\n",
      "1/1 [==============================] - 0s 212ms/step - loss: 0.6856\n",
      "Epoch 5/20\n",
      "1/1 [==============================] - 0s 210ms/step - loss: 0.6271\n",
      "Epoch 6/20\n",
      "1/1 [==============================] - 0s 210ms/step - loss: 0.4756\n",
      "Epoch 7/20\n",
      "1/1 [==============================] - 0s 196ms/step - loss: 0.4392\n",
      "Epoch 8/20\n",
      "1/1 [==============================] - 0s 210ms/step - loss: 0.3360\n",
      "Epoch 9/20\n",
      "1/1 [==============================] - 0s 195ms/step - loss: 0.2813\n",
      "Epoch 10/20\n",
      "1/1 [==============================] - 0s 212ms/step - loss: 0.2363\n",
      "Epoch 11/20\n",
      "1/1 [==============================] - 0s 211ms/step - loss: 0.1934\n",
      "Epoch 12/20\n",
      "1/1 [==============================] - 0s 195ms/step - loss: 0.1661\n",
      "Epoch 13/20\n",
      "1/1 [==============================] - 0s 197ms/step - loss: 0.1439\n",
      "Epoch 14/20\n",
      "1/1 [==============================] - 0s 191ms/step - loss: 0.1283\n",
      "Epoch 15/20\n",
      "1/1 [==============================] - 0s 197ms/step - loss: 0.1121\n",
      "Epoch 16/20\n",
      "1/1 [==============================] - 0s 210ms/step - loss: 0.0954\n",
      "Epoch 17/20\n",
      "1/1 [==============================] - 0s 211ms/step - loss: 0.0890\n",
      "Epoch 18/20\n",
      "1/1 [==============================] - 0s 202ms/step - loss: 0.0795\n",
      "Epoch 19/20\n",
      "1/1 [==============================] - 0s 200ms/step - loss: 0.0653\n",
      "Epoch 20/20\n",
      "1/1 [==============================] - 0s 194ms/step - loss: 0.0596\n"
     ]
    }
   ],
   "source": [
    "# the loss is decreased fast when LR is between 5e-4 and 7e-4\n",
    "# choose the mid point between 8e-5 and 4e-4\n",
    "lr = 1e-3\n",
    "\n",
    "base_model_16 = tf.keras.applications.vgg16.VGG16(include_top=False,\n",
    "                      input_shape = (imsize, imsize, 3),\n",
    "                      weights = 'imagenet')\n",
    "\n",
    "# freeze all the layers of VGG, so they won't be trained.\n",
    "for layer in base_model_16.layers:\n",
    "    layer.trainable = False\n",
    "\n",
    "model_tl = tf.keras.models.Sequential([\n",
    "    base_model_16,\n",
    "    tf.keras.layers.Flatten(),\n",
    "    tf.keras.layers.Dense(units=1024, activation='relu'),\n",
    "    tf.keras.layers.Dense(embeddingDim, activation=None), # No activation on final dense layer\n",
    "    tf.keras.layers.Lambda(lambda x: tf.math.l2_normalize(x, axis=1)) # L2 normalize embeddings\n",
    "])\n",
    "\n",
    "model_tl.compile(\n",
    "    optimizer=tf.keras.optimizers.Adam(lr),\n",
    "    loss=tfa.losses.TripletSemiHardLoss())\n",
    "\n",
    "history = model_tl.fit(x=x_train, y= y_train,\n",
    "                       batch_size=batch_size,\n",
    "                       epochs=EPOCHS, \n",
    "                       verbose=1)"
   ]
  },
  {
   "cell_type": "code",
   "execution_count": 17,
   "id": "5874b085",
   "metadata": {
    "execution": {
     "iopub.execute_input": "2021-10-11T00:30:33.599233Z",
     "iopub.status.busy": "2021-10-11T00:30:33.598388Z",
     "iopub.status.idle": "2021-10-11T00:30:33.600894Z",
     "shell.execute_reply": "2021-10-11T00:30:33.600495Z",
     "shell.execute_reply.started": "2021-10-11T00:28:26.140232Z"
    },
    "papermill": {
     "duration": 0.117929,
     "end_time": "2021-10-11T00:30:33.601012",
     "exception": false,
     "start_time": "2021-10-11T00:30:33.483083",
     "status": "completed"
    },
    "tags": []
   },
   "outputs": [],
   "source": [
    "def acc_tl(x_test, y_test, k = 1):\n",
    "    embedding_train_tl = []\n",
    "    for i in range(len(y_train)):\n",
    "        embedding_train_tl.append(model_tl(x_train[i].reshape(1, imsize, imsize, 3))[0])\n",
    "        \n",
    "    embedding_train_tl = np.array(embedding_train_tl, dtype=float) \n",
    "\n",
    "    knn_tl = KNeighborsClassifier(n_neighbors = k)\n",
    "    knn_tl.fit(embedding_train_tl, y_train)\n",
    "    \n",
    "    x_test_embedding = model_tl(x_test)\n",
    "    acc_close = round(knn_tl.score(x_test_embedding, y_test), 2)\n",
    "    print('The accuracy on the Closed Dataset with triplet loss is {}'.format(acc_close))\n",
    "    \n",
    "    return acc_close"
   ]
  },
  {
   "cell_type": "code",
   "execution_count": 18,
   "id": "3bbb07b5",
   "metadata": {
    "execution": {
     "iopub.execute_input": "2021-10-11T00:30:33.820530Z",
     "iopub.status.busy": "2021-10-11T00:30:33.819656Z",
     "iopub.status.idle": "2021-10-11T00:30:35.475087Z",
     "shell.execute_reply": "2021-10-11T00:30:35.475696Z",
     "shell.execute_reply.started": "2021-10-11T00:28:26.149961Z"
    },
    "papermill": {
     "duration": 1.768078,
     "end_time": "2021-10-11T00:30:35.475849",
     "exception": false,
     "start_time": "2021-10-11T00:30:33.707771",
     "status": "completed"
    },
    "tags": []
   },
   "outputs": [
    {
     "name": "stdout",
     "output_type": "stream",
     "text": [
      "The accuracy on the Closed Dataset with triplet loss is 0.78\n"
     ]
    },
    {
     "data": {
      "text/plain": [
       "0.78"
      ]
     },
     "execution_count": 18,
     "metadata": {},
     "output_type": "execute_result"
    }
   ],
   "source": [
    "acc_tl(x_test, y_test, k = 1)"
   ]
  },
  {
   "cell_type": "code",
   "execution_count": 19,
   "id": "6caf74e0",
   "metadata": {
    "execution": {
     "iopub.execute_input": "2021-10-11T00:30:35.704211Z",
     "iopub.status.busy": "2021-10-11T00:30:35.703652Z",
     "iopub.status.idle": "2021-10-11T00:30:35.706104Z",
     "shell.execute_reply": "2021-10-11T00:30:35.706515Z",
     "shell.execute_reply.started": "2021-10-11T00:28:27.850139Z"
    },
    "papermill": {
     "duration": 0.116395,
     "end_time": "2021-10-11T00:30:35.706674",
     "exception": false,
     "start_time": "2021-10-11T00:30:35.590279",
     "status": "completed"
    },
    "tags": []
   },
   "outputs": [],
   "source": [
    "def predict_tl(x_test, k = 1):\n",
    "    embedding_train_tl = []\n",
    "    for i in range(len(y_train)):\n",
    "        embedding_train_tl.append(model_tl(x_train[i].reshape(1, imsize, imsize, 3))[0])\n",
    "        \n",
    "    embedding_train_tl = np.array(embedding_train_tl, dtype=float) \n",
    "\n",
    "    knn_tl = KNeighborsClassifier(n_neighbors = k)\n",
    "    knn_tl.fit(embedding_train_tl, y_train)\n",
    "    \n",
    "    x_test_embedding = model_tl(x_test)\n",
    "    pred = knn_tl.predict(x_test_embedding)\n",
    "    \n",
    "    return pred"
   ]
  },
  {
   "cell_type": "code",
   "execution_count": 20,
   "id": "187b9773",
   "metadata": {
    "execution": {
     "iopub.execute_input": "2021-10-11T00:30:35.928395Z",
     "iopub.status.busy": "2021-10-11T00:30:35.927587Z",
     "iopub.status.idle": "2021-10-11T00:30:37.604008Z",
     "shell.execute_reply": "2021-10-11T00:30:37.604430Z",
     "shell.execute_reply.started": "2021-10-11T00:28:27.859456Z"
    },
    "papermill": {
     "duration": 1.790046,
     "end_time": "2021-10-11T00:30:37.604659",
     "exception": false,
     "start_time": "2021-10-11T00:30:35.814613",
     "status": "completed"
    },
    "tags": []
   },
   "outputs": [],
   "source": [
    "y_pred = predict_tl(x_test, k = 1)"
   ]
  },
  {
   "cell_type": "markdown",
   "id": "dc44a85a",
   "metadata": {
    "papermill": {
     "duration": 0.107924,
     "end_time": "2021-10-11T00:30:37.820924",
     "exception": false,
     "start_time": "2021-10-11T00:30:37.713000",
     "status": "completed"
    },
    "tags": []
   },
   "source": [
    "# Tabel of misclassifying classes"
   ]
  },
  {
   "cell_type": "code",
   "execution_count": 21,
   "id": "0676f942",
   "metadata": {
    "execution": {
     "iopub.execute_input": "2021-10-11T00:30:38.051701Z",
     "iopub.status.busy": "2021-10-11T00:30:38.051056Z",
     "iopub.status.idle": "2021-10-11T00:30:38.053784Z",
     "shell.execute_reply": "2021-10-11T00:30:38.054181Z",
     "shell.execute_reply.started": "2021-10-11T00:28:29.609956Z"
    },
    "papermill": {
     "duration": 0.126057,
     "end_time": "2021-10-11T00:30:38.054312",
     "exception": false,
     "start_time": "2021-10-11T00:30:37.928255",
     "status": "completed"
    },
    "tags": []
   },
   "outputs": [
    {
     "data": {
      "text/html": [
       "<div>\n",
       "<style scoped>\n",
       "    .dataframe tbody tr th:only-of-type {\n",
       "        vertical-align: middle;\n",
       "    }\n",
       "\n",
       "    .dataframe tbody tr th {\n",
       "        vertical-align: top;\n",
       "    }\n",
       "\n",
       "    .dataframe thead th {\n",
       "        text-align: right;\n",
       "    }\n",
       "</style>\n",
       "<table border=\"1\" class=\"dataframe\">\n",
       "  <thead>\n",
       "    <tr style=\"text-align: right;\">\n",
       "      <th></th>\n",
       "      <th>miss_classes</th>\n",
       "      <th>miss_counts</th>\n",
       "      <th>total_counts</th>\n",
       "      <th>miss_rate</th>\n",
       "    </tr>\n",
       "  </thead>\n",
       "  <tbody>\n",
       "    <tr>\n",
       "      <th>0</th>\n",
       "      <td>5</td>\n",
       "      <td>3</td>\n",
       "      <td>3</td>\n",
       "      <td>1.0</td>\n",
       "    </tr>\n",
       "    <tr>\n",
       "      <th>1</th>\n",
       "      <td>11</td>\n",
       "      <td>1</td>\n",
       "      <td>1</td>\n",
       "      <td>1.0</td>\n",
       "    </tr>\n",
       "    <tr>\n",
       "      <th>2</th>\n",
       "      <td>14</td>\n",
       "      <td>1</td>\n",
       "      <td>2</td>\n",
       "      <td>0.5</td>\n",
       "    </tr>\n",
       "    <tr>\n",
       "      <th>3</th>\n",
       "      <td>25</td>\n",
       "      <td>1</td>\n",
       "      <td>1</td>\n",
       "      <td>1.0</td>\n",
       "    </tr>\n",
       "    <tr>\n",
       "      <th>4</th>\n",
       "      <td>31</td>\n",
       "      <td>1</td>\n",
       "      <td>2</td>\n",
       "      <td>0.5</td>\n",
       "    </tr>\n",
       "    <tr>\n",
       "      <th>5</th>\n",
       "      <td>37</td>\n",
       "      <td>2</td>\n",
       "      <td>2</td>\n",
       "      <td>1.0</td>\n",
       "    </tr>\n",
       "    <tr>\n",
       "      <th>6</th>\n",
       "      <td>40</td>\n",
       "      <td>1</td>\n",
       "      <td>1</td>\n",
       "      <td>1.0</td>\n",
       "    </tr>\n",
       "    <tr>\n",
       "      <th>7</th>\n",
       "      <td>42</td>\n",
       "      <td>1</td>\n",
       "      <td>1</td>\n",
       "      <td>1.0</td>\n",
       "    </tr>\n",
       "  </tbody>\n",
       "</table>\n",
       "</div>"
      ],
      "text/plain": [
       "   miss_classes  miss_counts  total_counts  miss_rate\n",
       "0             5            3             3        1.0\n",
       "1            11            1             1        1.0\n",
       "2            14            1             2        0.5\n",
       "3            25            1             1        1.0\n",
       "4            31            1             2        0.5\n",
       "5            37            2             2        1.0\n",
       "6            40            1             1        1.0\n",
       "7            42            1             1        1.0"
      ]
     },
     "execution_count": 21,
     "metadata": {},
     "output_type": "execute_result"
    }
   ],
   "source": [
    "labels, counts = np.unique(y_test, return_counts = True)\n",
    "\n",
    "ind = (y_test != y_pred)\n",
    "mis_class= y_test[ind]\n",
    "labels_mis, counts_mis = np.unique(mis_class, return_counts = True)\n",
    "\n",
    "cnt = []\n",
    "for i in labels_mis:\n",
    "    cnt.append(counts[np.where(labels == i)][0])\n",
    "cnt = np.array(cnt)\n",
    "\n",
    "mis_rate = counts_mis/cnt\n",
    "\n",
    "import pandas as pd\n",
    "pd.DataFrame({'miss_classes': labels_mis, \n",
    "              'miss_counts': counts_mis,\n",
    "              'total_counts': cnt,\n",
    "              'miss_rate': mis_rate})"
   ]
  }
 ],
 "metadata": {
  "kernelspec": {
   "display_name": "Python 3",
   "language": "python",
   "name": "python3"
  },
  "language_info": {
   "codemirror_mode": {
    "name": "ipython",
    "version": 3
   },
   "file_extension": ".py",
   "mimetype": "text/x-python",
   "name": "python",
   "nbconvert_exporter": "python",
   "pygments_lexer": "ipython3",
   "version": "3.7.10"
  },
  "papermill": {
   "default_parameters": {},
   "duration": 106.708065,
   "end_time": "2021-10-11T00:30:40.929247",
   "environment_variables": {},
   "exception": null,
   "input_path": "__notebook__.ipynb",
   "output_path": "__notebook__.ipynb",
   "parameters": {},
   "start_time": "2021-10-11T00:28:54.221182",
   "version": "2.3.3"
  }
 },
 "nbformat": 4,
 "nbformat_minor": 5
}
