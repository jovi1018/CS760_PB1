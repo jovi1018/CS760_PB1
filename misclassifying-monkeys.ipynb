{
 "cells": [
  {
   "cell_type": "code",
   "execution_count": 1,
   "id": "fbb7f15c",
   "metadata": {
    "_cell_guid": "b1076dfc-b9ad-4769-8c92-a6c4dae69d19",
    "_uuid": "8f2839f25d086af736a60e9eeb907d3b93b6e0e5",
    "execution": {
     "iopub.execute_input": "2021-10-09T11:24:02.658835Z",
     "iopub.status.busy": "2021-10-09T11:24:02.658217Z",
     "iopub.status.idle": "2021-10-09T11:24:07.009068Z",
     "shell.execute_reply": "2021-10-09T11:24:07.007835Z",
     "shell.execute_reply.started": "2021-10-09T10:41:31.529313Z"
    },
    "papermill": {
     "duration": 4.447023,
     "end_time": "2021-10-09T11:24:07.009296",
     "exception": false,
     "start_time": "2021-10-09T11:24:02.562273",
     "status": "completed"
    },
    "tags": []
   },
   "outputs": [
    {
     "name": "stderr",
     "output_type": "stream",
     "text": [
      "2021-10-09 11:24:03.123213: I tensorflow/stream_executor/platform/default/dso_loader.cc:49] Successfully opened dynamic library libcudart.so.11.0\n"
     ]
    }
   ],
   "source": [
    "import io\n",
    "import numpy as np\n",
    "import tensorflow as tf\n",
    "import tensorflow_addons as tfa"
   ]
  },
  {
   "cell_type": "code",
   "execution_count": 2,
   "id": "373cfe49",
   "metadata": {
    "execution": {
     "iopub.execute_input": "2021-10-09T11:24:07.088864Z",
     "iopub.status.busy": "2021-10-09T11:24:07.086382Z",
     "iopub.status.idle": "2021-10-09T11:24:07.758840Z",
     "shell.execute_reply": "2021-10-09T11:24:07.757810Z",
     "shell.execute_reply.started": "2021-10-09T10:55:43.382861Z"
    },
    "papermill": {
     "duration": 0.712821,
     "end_time": "2021-10-09T11:24:07.758973",
     "exception": false,
     "start_time": "2021-10-09T11:24:07.046152",
     "status": "completed"
    },
    "tags": []
   },
   "outputs": [],
   "source": [
    "import os  \n",
    "import cv2\n",
    "from tqdm import tqdm\n",
    "from sklearn.preprocessing import LabelEncoder\n",
    "\n",
    "# Loading np array from images\n",
    "def make_dataset(labels, dir_path, IMG_SIZE = 150):\n",
    "    # initial an empty list X to store image of np.array()\n",
    "    X = []\n",
    "\n",
    "    # initial an empty list Z to store labels/names of cat individauls\n",
    "    Z = []\n",
    "    for label in labels:\n",
    "        DIR = dir_path + label\n",
    "        for img in tqdm(os.listdir(DIR)):\n",
    "            path = os.path.join(DIR,img)\n",
    "            # reading images\n",
    "            img = cv2.imread(path,cv2.IMREAD_COLOR)\n",
    "            # resizing images to (150, 150, 3), 3 is the number of channels - RGB\n",
    "            img = cv2.resize(img, (IMG_SIZE,IMG_SIZE))\n",
    "        \n",
    "            X.append(np.array(img))\n",
    "            Z.append(str(label)) \n",
    "    ## Transform labels in Z to Y from class 0 to class 9, as 10 different cat individuals\n",
    "    le=LabelEncoder()\n",
    "    Y=le.fit_transform(Z)\n",
    "\n",
    "    ## Transform and normalize X in the range of [0, 1]\n",
    "    X=np.array(X)\n",
    "    X=X/255.\n",
    "    return X, Y"
   ]
  },
  {
   "cell_type": "code",
   "execution_count": 3,
   "id": "8bc887da",
   "metadata": {
    "execution": {
     "iopub.execute_input": "2021-10-09T11:24:07.798061Z",
     "iopub.status.busy": "2021-10-09T11:24:07.797555Z",
     "iopub.status.idle": "2021-10-09T11:24:10.768944Z",
     "shell.execute_reply": "2021-10-09T11:24:10.768389Z",
     "shell.execute_reply.started": "2021-10-09T10:55:46.010430Z"
    },
    "papermill": {
     "duration": 2.992784,
     "end_time": "2021-10-09T11:24:10.769071",
     "exception": false,
     "start_time": "2021-10-09T11:24:07.776287",
     "status": "completed"
    },
    "tags": []
   },
   "outputs": [
    {
     "name": "stderr",
     "output_type": "stream",
     "text": [
      "100%|██████████| 15/15 [00:00<00:00, 123.10it/s]\n",
      "100%|██████████| 10/10 [00:00<00:00, 247.45it/s]\n",
      "100%|██████████| 5/5 [00:00<00:00, 34.30it/s]\n",
      "100%|██████████| 8/8 [00:00<00:00, 109.23it/s]\n",
      "100%|██████████| 6/6 [00:00<00:00, 192.23it/s]\n",
      "100%|██████████| 3/3 [00:00<00:00, 49.01it/s]\n",
      "100%|██████████| 2/2 [00:00<00:00, 81.76it/s]\n",
      "100%|██████████| 8/8 [00:00<00:00, 49.07it/s]\n",
      "100%|██████████| 4/4 [00:00<00:00, 230.88it/s]\n",
      "100%|██████████| 1/1 [00:00<00:00, 102.06it/s]\n",
      "100%|██████████| 1/1 [00:00<00:00, 161.28it/s]\n",
      "100%|██████████| 8/8 [00:00<00:00, 108.49it/s]\n",
      "100%|██████████| 4/4 [00:00<00:00, 105.08it/s]\n",
      "100%|██████████| 7/7 [00:00<00:00, 79.23it/s]\n",
      "100%|██████████| 9/9 [00:00<00:00, 239.67it/s]\n",
      "100%|██████████| 7/7 [00:00<00:00, 70.66it/s]\n",
      "100%|██████████| 10/10 [00:00<00:00, 33.67it/s]\n",
      "100%|██████████| 10/10 [00:00<00:00, 96.13it/s]\n",
      "100%|██████████| 4/4 [00:00<00:00, 72.73it/s]\n",
      "100%|██████████| 4/4 [00:00<00:00, 63.37it/s]\n",
      "100%|██████████| 4/4 [00:00<00:00, 34.58it/s]\n",
      "100%|██████████| 5/5 [00:00<00:00, 121.91it/s]\n",
      "100%|██████████| 2/2 [00:00<00:00, 243.99it/s]\n",
      "100%|██████████| 8/8 [00:00<00:00, 216.79it/s]\n",
      "100%|██████████| 4/4 [00:00<00:00, 52.96it/s]\n",
      "100%|██████████| 11/11 [00:00<00:00, 247.86it/s]\n",
      "100%|██████████| 5/5 [00:00<00:00, 73.86it/s]\n",
      "100%|██████████| 3/3 [00:00<00:00, 97.76it/s]\n",
      "100%|██████████| 2/2 [00:00<00:00, 109.78it/s]\n",
      "100%|██████████| 7/7 [00:00<00:00, 103.01it/s]\n",
      "100%|██████████| 12/12 [00:00<00:00, 262.33it/s]\n",
      "100%|██████████| 2/2 [00:00<00:00, 263.30it/s]\n",
      "100%|██████████| 4/4 [00:00<00:00, 49.04it/s]\n",
      "100%|██████████| 3/3 [00:00<00:00, 219.58it/s]\n",
      "100%|██████████| 2/2 [00:00<00:00, 113.31it/s]\n",
      "100%|██████████| 3/3 [00:00<00:00, 262.59it/s]\n",
      "100%|██████████| 12/12 [00:00<00:00, 125.65it/s]\n",
      "100%|██████████| 5/5 [00:00<00:00, 51.66it/s]\n",
      "100%|██████████| 6/6 [00:00<00:00, 263.47it/s]\n",
      "100%|██████████| 5/5 [00:00<00:00, 102.69it/s]\n",
      "100%|██████████| 10/10 [00:00<00:00, 247.99it/s]\n",
      "100%|██████████| 3/3 [00:00<00:00, 116.79it/s]\n",
      "100%|██████████| 4/4 [00:00<00:00, 65.67it/s]\n",
      "100%|██████████| 4/4 [00:00<00:00, 246.63it/s]\n"
     ]
    }
   ],
   "source": [
    "dir_path = '/kaggle/input/squirrel-monkey/Saimiri sciureus/'\n",
    "IMG_SIZE = 150\n",
    "labels = [str(i) for i in range(44)]\n",
    "\n",
    "X, Y = make_dataset(labels, dir_path)"
   ]
  },
  {
   "cell_type": "code",
   "execution_count": 4,
   "id": "703eb784",
   "metadata": {
    "execution": {
     "iopub.execute_input": "2021-10-09T11:24:10.879933Z",
     "iopub.status.busy": "2021-10-09T11:24:10.879219Z",
     "iopub.status.idle": "2021-10-09T11:24:10.962584Z",
     "shell.execute_reply": "2021-10-09T11:24:10.962094Z",
     "shell.execute_reply.started": "2021-10-09T10:55:54.466104Z"
    },
    "papermill": {
     "duration": 0.138892,
     "end_time": "2021-10-09T11:24:10.962722",
     "exception": false,
     "start_time": "2021-10-09T11:24:10.823830",
     "status": "completed"
    },
    "tags": []
   },
   "outputs": [],
   "source": [
    "from sklearn.model_selection import train_test_split\n",
    "\n",
    "x_train, x_test ,y_train, y_test = train_test_split(X, Y, test_size = 0.2, random_state = 2021)"
   ]
  },
  {
   "cell_type": "code",
   "execution_count": 5,
   "id": "8dc820bc",
   "metadata": {
    "execution": {
     "iopub.execute_input": "2021-10-09T11:24:11.077020Z",
     "iopub.status.busy": "2021-10-09T11:24:11.075980Z",
     "iopub.status.idle": "2021-10-09T11:24:31.669829Z",
     "shell.execute_reply": "2021-10-09T11:24:31.670766Z",
     "shell.execute_reply.started": "2021-10-09T10:56:28.210879Z"
    },
    "papermill": {
     "duration": 20.655917,
     "end_time": "2021-10-09T11:24:31.670937",
     "exception": false,
     "start_time": "2021-10-09T11:24:11.015020",
     "status": "completed"
    },
    "tags": []
   },
   "outputs": [
    {
     "name": "stderr",
     "output_type": "stream",
     "text": [
      "2021-10-09 11:24:11.100218: I tensorflow/compiler/jit/xla_cpu_device.cc:41] Not creating XLA devices, tf_xla_enable_xla_devices not set\n",
      "2021-10-09 11:24:11.102754: I tensorflow/stream_executor/platform/default/dso_loader.cc:49] Successfully opened dynamic library libcuda.so.1\n",
      "2021-10-09 11:24:11.140499: I tensorflow/stream_executor/cuda/cuda_gpu_executor.cc:941] successful NUMA node read from SysFS had negative value (-1), but there must be at least one NUMA node, so returning NUMA node zero\n",
      "2021-10-09 11:24:11.141142: I tensorflow/core/common_runtime/gpu/gpu_device.cc:1720] Found device 0 with properties: \n",
      "pciBusID: 0000:00:04.0 name: Tesla P100-PCIE-16GB computeCapability: 6.0\n",
      "coreClock: 1.3285GHz coreCount: 56 deviceMemorySize: 15.90GiB deviceMemoryBandwidth: 681.88GiB/s\n",
      "2021-10-09 11:24:11.141195: I tensorflow/stream_executor/platform/default/dso_loader.cc:49] Successfully opened dynamic library libcudart.so.11.0\n",
      "2021-10-09 11:24:11.166448: I tensorflow/stream_executor/platform/default/dso_loader.cc:49] Successfully opened dynamic library libcublas.so.11\n",
      "2021-10-09 11:24:11.166531: I tensorflow/stream_executor/platform/default/dso_loader.cc:49] Successfully opened dynamic library libcublasLt.so.11\n",
      "2021-10-09 11:24:11.184182: I tensorflow/stream_executor/platform/default/dso_loader.cc:49] Successfully opened dynamic library libcufft.so.10\n",
      "2021-10-09 11:24:11.192012: I tensorflow/stream_executor/platform/default/dso_loader.cc:49] Successfully opened dynamic library libcurand.so.10\n",
      "2021-10-09 11:24:11.215132: I tensorflow/stream_executor/platform/default/dso_loader.cc:49] Successfully opened dynamic library libcusolver.so.10\n",
      "2021-10-09 11:24:11.222416: I tensorflow/stream_executor/platform/default/dso_loader.cc:49] Successfully opened dynamic library libcusparse.so.11\n",
      "2021-10-09 11:24:11.225658: I tensorflow/stream_executor/platform/default/dso_loader.cc:49] Successfully opened dynamic library libcudnn.so.8\n",
      "2021-10-09 11:24:11.225810: I tensorflow/stream_executor/cuda/cuda_gpu_executor.cc:941] successful NUMA node read from SysFS had negative value (-1), but there must be at least one NUMA node, so returning NUMA node zero\n",
      "2021-10-09 11:24:11.226474: I tensorflow/stream_executor/cuda/cuda_gpu_executor.cc:941] successful NUMA node read from SysFS had negative value (-1), but there must be at least one NUMA node, so returning NUMA node zero\n",
      "2021-10-09 11:24:11.227947: I tensorflow/core/common_runtime/gpu/gpu_device.cc:1862] Adding visible gpu devices: 0\n",
      "2021-10-09 11:24:11.228353: I tensorflow/core/platform/cpu_feature_guard.cc:142] This TensorFlow binary is optimized with oneAPI Deep Neural Network Library (oneDNN) to use the following CPU instructions in performance-critical operations:  AVX2 AVX512F FMA\n",
      "To enable them in other operations, rebuild TensorFlow with the appropriate compiler flags.\n",
      "2021-10-09 11:24:11.228555: I tensorflow/compiler/jit/xla_gpu_device.cc:99] Not creating XLA devices, tf_xla_enable_xla_devices not set\n",
      "2021-10-09 11:24:11.228719: I tensorflow/stream_executor/cuda/cuda_gpu_executor.cc:941] successful NUMA node read from SysFS had negative value (-1), but there must be at least one NUMA node, so returning NUMA node zero\n",
      "2021-10-09 11:24:11.229295: I tensorflow/core/common_runtime/gpu/gpu_device.cc:1720] Found device 0 with properties: \n",
      "pciBusID: 0000:00:04.0 name: Tesla P100-PCIE-16GB computeCapability: 6.0\n",
      "coreClock: 1.3285GHz coreCount: 56 deviceMemorySize: 15.90GiB deviceMemoryBandwidth: 681.88GiB/s\n",
      "2021-10-09 11:24:11.229330: I tensorflow/stream_executor/platform/default/dso_loader.cc:49] Successfully opened dynamic library libcudart.so.11.0\n",
      "2021-10-09 11:24:11.229356: I tensorflow/stream_executor/platform/default/dso_loader.cc:49] Successfully opened dynamic library libcublas.so.11\n",
      "2021-10-09 11:24:11.229374: I tensorflow/stream_executor/platform/default/dso_loader.cc:49] Successfully opened dynamic library libcublasLt.so.11\n",
      "2021-10-09 11:24:11.229390: I tensorflow/stream_executor/platform/default/dso_loader.cc:49] Successfully opened dynamic library libcufft.so.10\n",
      "2021-10-09 11:24:11.229407: I tensorflow/stream_executor/platform/default/dso_loader.cc:49] Successfully opened dynamic library libcurand.so.10\n",
      "2021-10-09 11:24:11.229438: I tensorflow/stream_executor/platform/default/dso_loader.cc:49] Successfully opened dynamic library libcusolver.so.10\n",
      "2021-10-09 11:24:11.229459: I tensorflow/stream_executor/platform/default/dso_loader.cc:49] Successfully opened dynamic library libcusparse.so.11\n",
      "2021-10-09 11:24:11.229477: I tensorflow/stream_executor/platform/default/dso_loader.cc:49] Successfully opened dynamic library libcudnn.so.8\n",
      "2021-10-09 11:24:11.229575: I tensorflow/stream_executor/cuda/cuda_gpu_executor.cc:941] successful NUMA node read from SysFS had negative value (-1), but there must be at least one NUMA node, so returning NUMA node zero\n",
      "2021-10-09 11:24:11.230186: I tensorflow/stream_executor/cuda/cuda_gpu_executor.cc:941] successful NUMA node read from SysFS had negative value (-1), but there must be at least one NUMA node, so returning NUMA node zero\n",
      "2021-10-09 11:24:11.230726: I tensorflow/core/common_runtime/gpu/gpu_device.cc:1862] Adding visible gpu devices: 0\n",
      "2021-10-09 11:24:11.231677: I tensorflow/stream_executor/platform/default/dso_loader.cc:49] Successfully opened dynamic library libcudart.so.11.0\n",
      "2021-10-09 11:24:12.613365: I tensorflow/core/common_runtime/gpu/gpu_device.cc:1261] Device interconnect StreamExecutor with strength 1 edge matrix:\n",
      "2021-10-09 11:24:12.613411: I tensorflow/core/common_runtime/gpu/gpu_device.cc:1267]      0 \n",
      "2021-10-09 11:24:12.613431: I tensorflow/core/common_runtime/gpu/gpu_device.cc:1280] 0:   N \n",
      "2021-10-09 11:24:12.615812: I tensorflow/stream_executor/cuda/cuda_gpu_executor.cc:941] successful NUMA node read from SysFS had negative value (-1), but there must be at least one NUMA node, so returning NUMA node zero\n",
      "2021-10-09 11:24:12.616564: I tensorflow/stream_executor/cuda/cuda_gpu_executor.cc:941] successful NUMA node read from SysFS had negative value (-1), but there must be at least one NUMA node, so returning NUMA node zero\n",
      "2021-10-09 11:24:12.617196: I tensorflow/stream_executor/cuda/cuda_gpu_executor.cc:941] successful NUMA node read from SysFS had negative value (-1), but there must be at least one NUMA node, so returning NUMA node zero\n",
      "2021-10-09 11:24:12.617764: I tensorflow/core/common_runtime/gpu/gpu_device.cc:1406] Created TensorFlow device (/job:localhost/replica:0/task:0/device:GPU:0 with 14957 MB memory) -> physical GPU (device: 0, name: Tesla P100-PCIE-16GB, pci bus id: 0000:00:04.0, compute capability: 6.0)\n"
     ]
    },
    {
     "name": "stdout",
     "output_type": "stream",
     "text": [
      "Downloading data from https://storage.googleapis.com/tensorflow/keras-applications/vgg16/vgg16_weights_tf_dim_ordering_tf_kernels_notop.h5\n",
      "58892288/58889256 [==============================] - 1s 0us/step\n"
     ]
    },
    {
     "name": "stderr",
     "output_type": "stream",
     "text": [
      "2021-10-09 11:24:14.376357: I tensorflow/compiler/mlir/mlir_graph_optimization_pass.cc:116] None of the MLIR optimization passes are enabled (registered 2)\n",
      "2021-10-09 11:24:14.387156: I tensorflow/core/platform/profile_utils/cpu_utils.cc:112] CPU Frequency: 2000179999 Hz\n"
     ]
    },
    {
     "name": "stdout",
     "output_type": "stream",
     "text": [
      "Epoch 1/20\n"
     ]
    },
    {
     "name": "stderr",
     "output_type": "stream",
     "text": [
      "2021-10-09 11:24:15.143117: I tensorflow/stream_executor/platform/default/dso_loader.cc:49] Successfully opened dynamic library libcublas.so.11\n",
      "2021-10-09 11:24:15.861444: I tensorflow/stream_executor/platform/default/dso_loader.cc:49] Successfully opened dynamic library libcublasLt.so.11\n",
      "2021-10-09 11:24:15.897762: I tensorflow/stream_executor/platform/default/dso_loader.cc:49] Successfully opened dynamic library libcudnn.so.8\n"
     ]
    },
    {
     "name": "stdout",
     "output_type": "stream",
     "text": [
      "1/1 [==============================] - 13s 13s/step - loss: 4.2118 - acc: 0.0149\n",
      "Epoch 2/20\n",
      "1/1 [==============================] - 0s 205ms/step - loss: 3.6502 - acc: 0.1741\n",
      "Epoch 3/20\n",
      "1/1 [==============================] - 0s 185ms/step - loss: 3.6713 - acc: 0.4378\n",
      "Epoch 4/20\n",
      "1/1 [==============================] - 0s 207ms/step - loss: 3.2069 - acc: 0.4478\n",
      "Epoch 5/20\n",
      "1/1 [==============================] - 0s 205ms/step - loss: 2.6419 - acc: 0.6368\n",
      "Epoch 6/20\n",
      "1/1 [==============================] - 0s 206ms/step - loss: 1.9695 - acc: 0.7363\n",
      "Epoch 7/20\n",
      "1/1 [==============================] - 0s 195ms/step - loss: 1.4455 - acc: 0.8010\n",
      "Epoch 8/20\n",
      "1/1 [==============================] - 0s 218ms/step - loss: 1.0281 - acc: 0.7811\n",
      "Epoch 9/20\n",
      "1/1 [==============================] - 0s 213ms/step - loss: 0.6187 - acc: 0.9055\n",
      "Epoch 10/20\n",
      "1/1 [==============================] - 0s 207ms/step - loss: 0.5020 - acc: 0.9303\n",
      "Epoch 11/20\n",
      "1/1 [==============================] - 0s 187ms/step - loss: 0.5335 - acc: 0.8507\n",
      "Epoch 12/20\n",
      "1/1 [==============================] - 0s 202ms/step - loss: 0.3438 - acc: 0.9403\n",
      "Epoch 13/20\n",
      "1/1 [==============================] - 0s 196ms/step - loss: 0.2560 - acc: 0.9552\n",
      "Epoch 14/20\n",
      "1/1 [==============================] - 0s 208ms/step - loss: 0.2017 - acc: 0.9900\n",
      "Epoch 15/20\n",
      "1/1 [==============================] - 0s 192ms/step - loss: 0.1579 - acc: 0.9851\n",
      "Epoch 16/20\n",
      "1/1 [==============================] - 0s 210ms/step - loss: 0.1226 - acc: 0.9900\n",
      "Epoch 17/20\n",
      "1/1 [==============================] - 0s 190ms/step - loss: 0.0938 - acc: 0.9950\n",
      "Epoch 18/20\n",
      "1/1 [==============================] - 0s 208ms/step - loss: 0.0775 - acc: 0.9950\n",
      "Epoch 19/20\n",
      "1/1 [==============================] - 0s 184ms/step - loss: 0.0700 - acc: 0.9950\n",
      "Epoch 20/20\n",
      "1/1 [==============================] - 0s 186ms/step - loss: 0.0644 - acc: 1.0000\n"
     ]
    }
   ],
   "source": [
    "imsize = 150\n",
    "lr = 1e-3\n",
    "EPOCHS = 20\n",
    "batch_size = 256\n",
    "\n",
    "base_model_16 = tf.keras.applications.vgg16.VGG16(include_top=False,\n",
    "                      input_shape = (imsize,imsize,3),\n",
    "                      weights = 'imagenet')\n",
    "\n",
    "# freeze all the layers of VGG, so they won't be trained.\n",
    "for layer in base_model_16.layers:\n",
    "    layer.trainable = False\n",
    "\n",
    "model_vgg_16 = tf.keras.models.Sequential([\n",
    "    base_model_16,\n",
    "    tf.keras.layers.Flatten(),\n",
    "    tf.keras.layers.Dense(units=1024, activation='relu'),\n",
    "    tf.keras.layers.Dense(units=44, activation='softmax')\n",
    "])\n",
    "\n",
    "model_vgg_16.compile(optimizer=tf.keras.optimizers.Adam(lr), loss='sparse_categorical_crossentropy', metrics=['acc']) \n",
    "\n",
    "history = model_vgg_16.fit(x=x_train, y=y_train,\n",
    "                          epochs=EPOCHS,\n",
    "                          batch_size=batch_size,\n",
    "                          verbose=1)"
   ]
  },
  {
   "cell_type": "code",
   "execution_count": 6,
   "id": "6614eb70",
   "metadata": {
    "execution": {
     "iopub.execute_input": "2021-10-09T11:24:31.815227Z",
     "iopub.status.busy": "2021-10-09T11:24:31.813233Z",
     "iopub.status.idle": "2021-10-09T11:24:34.430104Z",
     "shell.execute_reply": "2021-10-09T11:24:34.430633Z",
     "shell.execute_reply.started": "2021-10-09T10:56:50.558331Z"
    },
    "papermill": {
     "duration": 2.68954,
     "end_time": "2021-10-09T11:24:34.430786",
     "exception": false,
     "start_time": "2021-10-09T11:24:31.741246",
     "status": "completed"
    },
    "tags": []
   },
   "outputs": [
    {
     "name": "stdout",
     "output_type": "stream",
     "text": [
      "2/2 [==============================] - 3s 941ms/step - loss: 1.2985 - acc: 0.7059\n"
     ]
    },
    {
     "data": {
      "text/plain": [
       "0.7058823704719543"
      ]
     },
     "execution_count": 6,
     "metadata": {},
     "output_type": "execute_result"
    }
   ],
   "source": [
    "model_vgg_16.evaluate(x_test, y_test)[1]"
   ]
  },
  {
   "cell_type": "code",
   "execution_count": 7,
   "id": "798548ec",
   "metadata": {
    "execution": {
     "iopub.execute_input": "2021-10-09T11:24:34.575945Z",
     "iopub.status.busy": "2021-10-09T11:24:34.575350Z",
     "iopub.status.idle": "2021-10-09T11:24:34.811876Z",
     "shell.execute_reply": "2021-10-09T11:24:34.811383Z",
     "shell.execute_reply.started": "2021-10-09T10:56:59.250365Z"
    },
    "papermill": {
     "duration": 0.31092,
     "end_time": "2021-10-09T11:24:34.812003",
     "exception": false,
     "start_time": "2021-10-09T11:24:34.501083",
     "status": "completed"
    },
    "tags": []
   },
   "outputs": [
    {
     "name": "stderr",
     "output_type": "stream",
     "text": [
      "/opt/conda/lib/python3.7/site-packages/tensorflow/python/keras/engine/sequential.py:450: UserWarning: `model.predict_classes()` is deprecated and will be removed after 2021-01-01. Please use instead:* `np.argmax(model.predict(x), axis=-1)`,   if your model does multi-class classification   (e.g. if it uses a `softmax` last-layer activation).* `(model.predict(x) > 0.5).astype(\"int32\")`,   if your model does binary classification   (e.g. if it uses a `sigmoid` last-layer activation).\n",
      "  warnings.warn('`model.predict_classes()` is deprecated and '\n"
     ]
    }
   ],
   "source": [
    "y_pred = model_vgg_16.predict_classes(x_test)"
   ]
  },
  {
   "cell_type": "markdown",
   "id": "5dc75b46",
   "metadata": {
    "papermill": {
     "duration": 0.07238,
     "end_time": "2021-10-09T11:24:34.969735",
     "exception": false,
     "start_time": "2021-10-09T11:24:34.897355",
     "status": "completed"
    },
    "tags": []
   },
   "source": [
    "# Table of misclassifying classes"
   ]
  },
  {
   "cell_type": "code",
   "execution_count": 8,
   "id": "ab5a6346",
   "metadata": {
    "execution": {
     "iopub.execute_input": "2021-10-09T11:24:35.114744Z",
     "iopub.status.busy": "2021-10-09T11:24:35.113932Z",
     "iopub.status.idle": "2021-10-09T11:24:35.141356Z",
     "shell.execute_reply": "2021-10-09T11:24:35.141883Z",
     "shell.execute_reply.started": "2021-10-09T11:12:32.002262Z"
    },
    "papermill": {
     "duration": 0.101521,
     "end_time": "2021-10-09T11:24:35.142023",
     "exception": false,
     "start_time": "2021-10-09T11:24:35.040502",
     "status": "completed"
    },
    "tags": []
   },
   "outputs": [
    {
     "data": {
      "text/html": [
       "<div>\n",
       "<style scoped>\n",
       "    .dataframe tbody tr th:only-of-type {\n",
       "        vertical-align: middle;\n",
       "    }\n",
       "\n",
       "    .dataframe tbody tr th {\n",
       "        vertical-align: top;\n",
       "    }\n",
       "\n",
       "    .dataframe thead th {\n",
       "        text-align: right;\n",
       "    }\n",
       "</style>\n",
       "<table border=\"1\" class=\"dataframe\">\n",
       "  <thead>\n",
       "    <tr style=\"text-align: right;\">\n",
       "      <th></th>\n",
       "      <th>miss_classes</th>\n",
       "      <th>miss_counts</th>\n",
       "      <th>total_counts</th>\n",
       "      <th>miss_rate</th>\n",
       "    </tr>\n",
       "  </thead>\n",
       "  <tbody>\n",
       "    <tr>\n",
       "      <th>0</th>\n",
       "      <td>5</td>\n",
       "      <td>3</td>\n",
       "      <td>3</td>\n",
       "      <td>1.0</td>\n",
       "    </tr>\n",
       "    <tr>\n",
       "      <th>1</th>\n",
       "      <td>6</td>\n",
       "      <td>1</td>\n",
       "      <td>2</td>\n",
       "      <td>0.5</td>\n",
       "    </tr>\n",
       "    <tr>\n",
       "      <th>2</th>\n",
       "      <td>9</td>\n",
       "      <td>1</td>\n",
       "      <td>2</td>\n",
       "      <td>0.5</td>\n",
       "    </tr>\n",
       "    <tr>\n",
       "      <th>3</th>\n",
       "      <td>10</td>\n",
       "      <td>1</td>\n",
       "      <td>1</td>\n",
       "      <td>1.0</td>\n",
       "    </tr>\n",
       "    <tr>\n",
       "      <th>4</th>\n",
       "      <td>11</td>\n",
       "      <td>1</td>\n",
       "      <td>1</td>\n",
       "      <td>1.0</td>\n",
       "    </tr>\n",
       "    <tr>\n",
       "      <th>5</th>\n",
       "      <td>12</td>\n",
       "      <td>1</td>\n",
       "      <td>1</td>\n",
       "      <td>1.0</td>\n",
       "    </tr>\n",
       "    <tr>\n",
       "      <th>6</th>\n",
       "      <td>23</td>\n",
       "      <td>1</td>\n",
       "      <td>2</td>\n",
       "      <td>0.5</td>\n",
       "    </tr>\n",
       "    <tr>\n",
       "      <th>7</th>\n",
       "      <td>25</td>\n",
       "      <td>1</td>\n",
       "      <td>1</td>\n",
       "      <td>1.0</td>\n",
       "    </tr>\n",
       "    <tr>\n",
       "      <th>8</th>\n",
       "      <td>27</td>\n",
       "      <td>2</td>\n",
       "      <td>2</td>\n",
       "      <td>1.0</td>\n",
       "    </tr>\n",
       "    <tr>\n",
       "      <th>9</th>\n",
       "      <td>37</td>\n",
       "      <td>2</td>\n",
       "      <td>2</td>\n",
       "      <td>1.0</td>\n",
       "    </tr>\n",
       "    <tr>\n",
       "      <th>10</th>\n",
       "      <td>40</td>\n",
       "      <td>1</td>\n",
       "      <td>1</td>\n",
       "      <td>1.0</td>\n",
       "    </tr>\n",
       "  </tbody>\n",
       "</table>\n",
       "</div>"
      ],
      "text/plain": [
       "    miss_classes  miss_counts  total_counts  miss_rate\n",
       "0              5            3             3        1.0\n",
       "1              6            1             2        0.5\n",
       "2              9            1             2        0.5\n",
       "3             10            1             1        1.0\n",
       "4             11            1             1        1.0\n",
       "5             12            1             1        1.0\n",
       "6             23            1             2        0.5\n",
       "7             25            1             1        1.0\n",
       "8             27            2             2        1.0\n",
       "9             37            2             2        1.0\n",
       "10            40            1             1        1.0"
      ]
     },
     "execution_count": 8,
     "metadata": {},
     "output_type": "execute_result"
    }
   ],
   "source": [
    "labels, counts = np.unique(y_test, return_counts = True)\n",
    "\n",
    "ind = (y_test != y_pred)\n",
    "mis_class= y_test[ind]\n",
    "labels_mis, counts_mis = np.unique(mis_class, return_counts = True)\n",
    "\n",
    "cnt = []\n",
    "for i in labels_mis:\n",
    "    cnt.append(counts[np.where(labels == i)][0])\n",
    "cnt = np.array(cnt)\n",
    "\n",
    "mis_rate = counts_mis/cnt\n",
    "\n",
    "import pandas as pd\n",
    "pd.DataFrame({'miss_classes': labels_mis, \n",
    "              'miss_counts': counts_mis,\n",
    "              'total_counts': cnt,\n",
    "              'miss_rate': mis_rate})"
   ]
  },
  {
   "cell_type": "markdown",
   "id": "39a211cb",
   "metadata": {
    "papermill": {
     "duration": 0.070213,
     "end_time": "2021-10-09T11:24:35.283783",
     "exception": false,
     "start_time": "2021-10-09T11:24:35.213570",
     "status": "completed"
    },
    "tags": []
   },
   "source": [
    "# Contrastive Loss"
   ]
  },
  {
   "cell_type": "code",
   "execution_count": 9,
   "id": "4efc6938",
   "metadata": {
    "execution": {
     "iopub.execute_input": "2021-10-09T11:24:35.438913Z",
     "iopub.status.busy": "2021-10-09T11:24:35.438090Z",
     "iopub.status.idle": "2021-10-09T11:24:35.561870Z",
     "shell.execute_reply": "2021-10-09T11:24:35.561312Z",
     "shell.execute_reply.started": "2021-10-09T11:13:50.901462Z"
    },
    "papermill": {
     "duration": 0.207289,
     "end_time": "2021-10-09T11:24:35.562012",
     "exception": false,
     "start_time": "2021-10-09T11:24:35.354723",
     "status": "completed"
    },
    "tags": []
   },
   "outputs": [],
   "source": [
    "# Helper Function \n",
    "\n",
    "# Create positive pairs and negative pairs\n",
    "import random\n",
    "def create_pairs(images, labels):\n",
    "    numClasses = 44\n",
    "    # initialize two empty lists to hold the (image, image) pairs and\n",
    "    # labels to indicate if a pair is positive (0) or negative (1)\n",
    "    np.random.seed(2021)\n",
    "    pairImages = []\n",
    "    pairLabels = []\n",
    "    \n",
    "    # calculate the total number of classes present in the dataset\n",
    "    # and then build a list of indexes for each class label that\n",
    "    # provides the indexes for all examples with a given label\n",
    "    idx = [np.where(labels == i)[0] for i in range(44)]\n",
    "    \n",
    "    # loop voer all images\n",
    "    for idxA in range(len(images)):\n",
    "        # grab the current image and label belonging to the current iteration\n",
    "        currentImage = images[idxA]\n",
    "        label = labels[idxA]\n",
    "        \n",
    "        # randomly pick on an image that belongs to the *same* class label\n",
    "        posId = random.choice(idx[label])\n",
    "        posImage = images[posId]\n",
    "        \n",
    "        # prepare a positive pair and update the images and labels\n",
    "        pairImages.append([currentImage, posImage])\n",
    "        pairLabels.append([0])\n",
    "        \n",
    "        # grab the indices for each of the class labels *not* equal to\n",
    "        # the current label and randomly pick an image corresponding\n",
    "        # to a label *not* equal to the current label\n",
    "        negId = np.where(labels != label)[0]\n",
    "        negIdx = random.choice(negId)\n",
    "        negImage = images[negIdx]\n",
    "        \n",
    "        # prepare a negative pair of images and update out lists\n",
    "        pairImages.append([currentImage, negImage])\n",
    "        pairLabels.append([1])\n",
    "    \n",
    "    return (np.array(pairImages), np.array(pairLabels))\n",
    "\n",
    "\n",
    "\n",
    "# Function to calculate the distance between two images (Euclidean Distance used here)\n",
    "import tensorflow.keras.backend as K\n",
    "def euclidean_distance(vectors):\n",
    "    # unpack the vectors into separate lists\n",
    "    (featsA, featsB) = vectors\n",
    "    # compute the sum of squared distances between the vectors\n",
    "    sumSquared = K.sum(K.square(featsA - featsB), axis=1,\n",
    "                       keepdims=True)\n",
    "    # return the euclidean distance between the vectors\n",
    "    return K.sqrt(K.maximum(sumSquared, K.epsilon()))\n",
    "\n",
    "\n",
    "# contrastive loss function\n",
    "def contrastive_loss(y, preds, margin=1):\n",
    "    # explicitly cast the true class label data type to the predicted\n",
    "    # class label data type (otherwise we run the risk of having two\n",
    "    # separate data types, causing TensorFlow to error out)\n",
    "    y = tf.cast(y, preds.dtype)\n",
    "    # calculate the contrastive loss between the true labels and\n",
    "    # the predicted labels\n",
    "    squaredPreds = K.square(preds)\n",
    "    squaredMargin = K.square(K.maximum(margin - preds, 0))\n",
    "    loss = K.mean((1 - y) * squaredPreds + y * squaredMargin)\n",
    "    # return the computed contrastive loss to the calling function\n",
    "    return loss\n",
    "\n",
    "(pairTrain, labelTrain) = create_pairs(x_train, y_train)"
   ]
  },
  {
   "cell_type": "code",
   "execution_count": 10,
   "id": "cd5c78f8",
   "metadata": {
    "execution": {
     "iopub.execute_input": "2021-10-09T11:24:35.719341Z",
     "iopub.status.busy": "2021-10-09T11:24:35.718509Z",
     "iopub.status.idle": "2021-10-09T11:25:21.533796Z",
     "shell.execute_reply": "2021-10-09T11:25:21.532910Z",
     "shell.execute_reply.started": "2021-10-09T11:14:34.019031Z"
    },
    "papermill": {
     "duration": 45.899576,
     "end_time": "2021-10-09T11:25:21.533943",
     "exception": false,
     "start_time": "2021-10-09T11:24:35.634367",
     "status": "completed"
    },
    "tags": []
   },
   "outputs": [
    {
     "name": "stdout",
     "output_type": "stream",
     "text": [
      "Epoch 1/20\n",
      "2/2 [==============================] - 30s 12s/step - loss: 0.2009\n",
      "Epoch 2/20\n",
      "2/2 [==============================] - 1s 281ms/step - loss: 0.1701\n",
      "Epoch 3/20\n",
      "2/2 [==============================] - 1s 297ms/step - loss: 0.1539\n",
      "Epoch 4/20\n",
      "2/2 [==============================] - 1s 303ms/step - loss: 0.1347\n",
      "Epoch 5/20\n",
      "2/2 [==============================] - 1s 286ms/step - loss: 0.1274\n",
      "Epoch 6/20\n",
      "2/2 [==============================] - 1s 306ms/step - loss: 0.1186\n",
      "Epoch 7/20\n",
      "2/2 [==============================] - 1s 311ms/step - loss: 0.1072\n",
      "Epoch 8/20\n",
      "2/2 [==============================] - 1s 310ms/step - loss: 0.0959\n",
      "Epoch 9/20\n",
      "2/2 [==============================] - 1s 298ms/step - loss: 0.0895\n",
      "Epoch 10/20\n",
      "2/2 [==============================] - 1s 299ms/step - loss: 0.0834\n",
      "Epoch 11/20\n",
      "2/2 [==============================] - 1s 299ms/step - loss: 0.0763\n",
      "Epoch 12/20\n",
      "2/2 [==============================] - 1s 292ms/step - loss: 0.0705\n",
      "Epoch 13/20\n",
      "2/2 [==============================] - 1s 294ms/step - loss: 0.0647\n",
      "Epoch 14/20\n",
      "2/2 [==============================] - 1s 312ms/step - loss: 0.0576\n",
      "Epoch 15/20\n",
      "2/2 [==============================] - 1s 279ms/step - loss: 0.0544\n",
      "Epoch 16/20\n",
      "2/2 [==============================] - 1s 295ms/step - loss: 0.0512\n",
      "Epoch 17/20\n",
      "2/2 [==============================] - 1s 310ms/step - loss: 0.0470\n",
      "Epoch 18/20\n",
      "2/2 [==============================] - 1s 310ms/step - loss: 0.0431\n",
      "Epoch 19/20\n",
      "2/2 [==============================] - 1s 312ms/step - loss: 0.0391\n",
      "Epoch 20/20\n",
      "2/2 [==============================] - 1s 277ms/step - loss: 0.0369\n"
     ]
    }
   ],
   "source": [
    "lr = 5e-5\n",
    "embeddingDim = 128\n",
    "\n",
    "\n",
    "base_model_16 = tf.keras.applications.vgg16.VGG16(include_top=False,\n",
    "                  input_shape = (imsize,imsize,3),\n",
    "                  weights = 'imagenet')\n",
    "\n",
    "# freeze all the layers of VGG, so they won't be trained.\n",
    "for layer in base_model_16.layers:\n",
    "    layer.trainable = False\n",
    "\n",
    "model_cl = tf.keras.models.Sequential([\n",
    "    base_model_16,\n",
    "    tf.keras.layers.Flatten(),\n",
    "    tf.keras.layers.Dense(units=1024, activation='relu'),\n",
    "    tf.keras.layers.Dense(embeddingDim, activation=None), # No activation on final dense layer\n",
    "    tf.keras.layers.Lambda(lambda x: tf.math.l2_normalize(x, axis=1)) # L2 normalize embeddings\n",
    "])\n",
    "    \n",
    "imgA = tf.keras.layers.Input(shape=((imsize, imsize, 3)))\n",
    "imgB = tf.keras.layers.Input(shape=((imsize, imsize, 3)))\n",
    "    \n",
    "featsA = model_cl(imgA)\n",
    "featsB = model_cl(imgB)\n",
    "   \n",
    "distance = tf.keras.layers.Lambda(euclidean_distance)([featsA, featsB])\n",
    "model = tf.keras.Model(inputs=[imgA, imgB], outputs=distance)\n",
    "model.compile(loss=contrastive_loss, optimizer=tf.keras.optimizers.Adam(lr))\n",
    "\n",
    "history = model.fit([pairTrain[:, 0], pairTrain[:, 1]], labelTrain[:],\n",
    "                    batch_size = batch_size, \n",
    "                    epochs=EPOCHS, \n",
    "                    verbose=1)"
   ]
  },
  {
   "cell_type": "code",
   "execution_count": 11,
   "id": "1e9df717",
   "metadata": {
    "execution": {
     "iopub.execute_input": "2021-10-09T11:25:21.723727Z",
     "iopub.status.busy": "2021-10-09T11:25:21.723037Z",
     "iopub.status.idle": "2021-10-09T11:25:21.837876Z",
     "shell.execute_reply": "2021-10-09T11:25:21.837061Z",
     "shell.execute_reply.started": "2021-10-09T11:15:36.154422Z"
    },
    "papermill": {
     "duration": 0.211261,
     "end_time": "2021-10-09T11:25:21.837996",
     "exception": false,
     "start_time": "2021-10-09T11:25:21.626735",
     "status": "completed"
    },
    "tags": []
   },
   "outputs": [],
   "source": [
    "from sklearn.neighbors import KNeighborsClassifier\n",
    "\n",
    "def acc_cl(x_test, y_test, k = 1):\n",
    "    embedding_train_cl = []\n",
    "    for i in range(len(y_train)):\n",
    "        embedding_train_cl.append(model_cl(x_train[i].reshape(1, imsize, imsize, 3))[0])\n",
    "    embedding_train_cl = np.array(embedding_train_cl, dtype=float) \n",
    "\n",
    "    knn_cl = KNeighborsClassifier(n_neighbors = k)\n",
    "    knn_cl.fit(embedding_train_cl, y_train)\n",
    "    \n",
    "    x_test_embedding = model_cl(x_test)\n",
    "    acc_close = round(knn_cl.score(x_test_embedding, y_test), 2)\n",
    "    print('The accuracy on the Closed Dataset with contrastive loss is {}'.format(acc_close))\n",
    "    \n",
    "    return acc_close"
   ]
  },
  {
   "cell_type": "code",
   "execution_count": 12,
   "id": "e70718e6",
   "metadata": {
    "execution": {
     "iopub.execute_input": "2021-10-09T11:25:22.023321Z",
     "iopub.status.busy": "2021-10-09T11:25:22.022844Z",
     "iopub.status.idle": "2021-10-09T11:25:24.458900Z",
     "shell.execute_reply": "2021-10-09T11:25:24.459381Z",
     "shell.execute_reply.started": "2021-10-09T11:15:40.154860Z"
    },
    "papermill": {
     "duration": 2.531014,
     "end_time": "2021-10-09T11:25:24.459655",
     "exception": false,
     "start_time": "2021-10-09T11:25:21.928641",
     "status": "completed"
    },
    "tags": []
   },
   "outputs": [
    {
     "name": "stdout",
     "output_type": "stream",
     "text": [
      "The accuracy on the Closed Dataset with contrastive loss is 0.71\n"
     ]
    },
    {
     "data": {
      "text/plain": [
       "0.71"
      ]
     },
     "execution_count": 12,
     "metadata": {},
     "output_type": "execute_result"
    }
   ],
   "source": [
    "acc_cl(x_test, y_test, k = 1) "
   ]
  },
  {
   "cell_type": "code",
   "execution_count": 13,
   "id": "04ac71f8",
   "metadata": {
    "execution": {
     "iopub.execute_input": "2021-10-09T11:25:24.648265Z",
     "iopub.status.busy": "2021-10-09T11:25:24.647531Z",
     "iopub.status.idle": "2021-10-09T11:25:24.649561Z",
     "shell.execute_reply": "2021-10-09T11:25:24.649928Z",
     "shell.execute_reply.started": "2021-10-09T11:15:55.203720Z"
    },
    "papermill": {
     "duration": 0.098957,
     "end_time": "2021-10-09T11:25:24.650055",
     "exception": false,
     "start_time": "2021-10-09T11:25:24.551098",
     "status": "completed"
    },
    "tags": []
   },
   "outputs": [],
   "source": [
    "def predict_cl(x_test, k = 1):\n",
    "    embedding_train_cl = []\n",
    "    for i in range(len(y_train)):\n",
    "        embedding_train_cl.append(model_cl(x_train[i].reshape(1, imsize, imsize, 3))[0])\n",
    "    embedding_train_cl = np.array(embedding_train_cl, dtype=float) \n",
    "\n",
    "    knn_cl = KNeighborsClassifier(n_neighbors = k)\n",
    "    knn_cl.fit(embedding_train_cl, y_train)\n",
    "    \n",
    "    x_test_embedding = model_cl(x_test)\n",
    "    pred =  knn_cl.predict(x_test_embedding)\n",
    "    return pred"
   ]
  },
  {
   "cell_type": "code",
   "execution_count": 14,
   "id": "52b5937e",
   "metadata": {
    "execution": {
     "iopub.execute_input": "2021-10-09T11:25:24.844120Z",
     "iopub.status.busy": "2021-10-09T11:25:24.843617Z",
     "iopub.status.idle": "2021-10-09T11:25:26.506986Z",
     "shell.execute_reply": "2021-10-09T11:25:26.507402Z",
     "shell.execute_reply.started": "2021-10-09T11:15:56.118578Z"
    },
    "papermill": {
     "duration": 1.766046,
     "end_time": "2021-10-09T11:25:26.507583",
     "exception": false,
     "start_time": "2021-10-09T11:25:24.741537",
     "status": "completed"
    },
    "tags": []
   },
   "outputs": [],
   "source": [
    "y_pred = predict_cl(x_test, k = 1)"
   ]
  },
  {
   "cell_type": "markdown",
   "id": "c4a71ff6",
   "metadata": {
    "papermill": {
     "duration": 0.091031,
     "end_time": "2021-10-09T11:25:26.690763",
     "exception": false,
     "start_time": "2021-10-09T11:25:26.599732",
     "status": "completed"
    },
    "tags": []
   },
   "source": [
    "# Table of misclassifying classes"
   ]
  },
  {
   "cell_type": "code",
   "execution_count": 15,
   "id": "81ec468d",
   "metadata": {
    "execution": {
     "iopub.execute_input": "2021-10-09T11:25:26.890923Z",
     "iopub.status.busy": "2021-10-09T11:25:26.890170Z",
     "iopub.status.idle": "2021-10-09T11:25:26.894375Z",
     "shell.execute_reply": "2021-10-09T11:25:26.894811Z",
     "shell.execute_reply.started": "2021-10-09T11:15:59.730632Z"
    },
    "papermill": {
     "duration": 0.111428,
     "end_time": "2021-10-09T11:25:26.894956",
     "exception": false,
     "start_time": "2021-10-09T11:25:26.783528",
     "status": "completed"
    },
    "tags": []
   },
   "outputs": [
    {
     "data": {
      "text/html": [
       "<div>\n",
       "<style scoped>\n",
       "    .dataframe tbody tr th:only-of-type {\n",
       "        vertical-align: middle;\n",
       "    }\n",
       "\n",
       "    .dataframe tbody tr th {\n",
       "        vertical-align: top;\n",
       "    }\n",
       "\n",
       "    .dataframe thead th {\n",
       "        text-align: right;\n",
       "    }\n",
       "</style>\n",
       "<table border=\"1\" class=\"dataframe\">\n",
       "  <thead>\n",
       "    <tr style=\"text-align: right;\">\n",
       "      <th></th>\n",
       "      <th>miss_classes</th>\n",
       "      <th>miss_counts</th>\n",
       "      <th>total_counts</th>\n",
       "      <th>miss_rate</th>\n",
       "    </tr>\n",
       "  </thead>\n",
       "  <tbody>\n",
       "    <tr>\n",
       "      <th>0</th>\n",
       "      <td>5</td>\n",
       "      <td>3</td>\n",
       "      <td>3</td>\n",
       "      <td>1.0</td>\n",
       "    </tr>\n",
       "    <tr>\n",
       "      <th>1</th>\n",
       "      <td>6</td>\n",
       "      <td>1</td>\n",
       "      <td>2</td>\n",
       "      <td>0.5</td>\n",
       "    </tr>\n",
       "    <tr>\n",
       "      <th>2</th>\n",
       "      <td>9</td>\n",
       "      <td>1</td>\n",
       "      <td>2</td>\n",
       "      <td>0.5</td>\n",
       "    </tr>\n",
       "    <tr>\n",
       "      <th>3</th>\n",
       "      <td>11</td>\n",
       "      <td>1</td>\n",
       "      <td>1</td>\n",
       "      <td>1.0</td>\n",
       "    </tr>\n",
       "    <tr>\n",
       "      <th>4</th>\n",
       "      <td>19</td>\n",
       "      <td>1</td>\n",
       "      <td>1</td>\n",
       "      <td>1.0</td>\n",
       "    </tr>\n",
       "    <tr>\n",
       "      <th>5</th>\n",
       "      <td>23</td>\n",
       "      <td>1</td>\n",
       "      <td>2</td>\n",
       "      <td>0.5</td>\n",
       "    </tr>\n",
       "    <tr>\n",
       "      <th>6</th>\n",
       "      <td>25</td>\n",
       "      <td>1</td>\n",
       "      <td>1</td>\n",
       "      <td>1.0</td>\n",
       "    </tr>\n",
       "    <tr>\n",
       "      <th>7</th>\n",
       "      <td>27</td>\n",
       "      <td>2</td>\n",
       "      <td>2</td>\n",
       "      <td>1.0</td>\n",
       "    </tr>\n",
       "    <tr>\n",
       "      <th>8</th>\n",
       "      <td>31</td>\n",
       "      <td>1</td>\n",
       "      <td>2</td>\n",
       "      <td>0.5</td>\n",
       "    </tr>\n",
       "    <tr>\n",
       "      <th>9</th>\n",
       "      <td>37</td>\n",
       "      <td>2</td>\n",
       "      <td>2</td>\n",
       "      <td>1.0</td>\n",
       "    </tr>\n",
       "    <tr>\n",
       "      <th>10</th>\n",
       "      <td>42</td>\n",
       "      <td>1</td>\n",
       "      <td>1</td>\n",
       "      <td>1.0</td>\n",
       "    </tr>\n",
       "  </tbody>\n",
       "</table>\n",
       "</div>"
      ],
      "text/plain": [
       "    miss_classes  miss_counts  total_counts  miss_rate\n",
       "0              5            3             3        1.0\n",
       "1              6            1             2        0.5\n",
       "2              9            1             2        0.5\n",
       "3             11            1             1        1.0\n",
       "4             19            1             1        1.0\n",
       "5             23            1             2        0.5\n",
       "6             25            1             1        1.0\n",
       "7             27            2             2        1.0\n",
       "8             31            1             2        0.5\n",
       "9             37            2             2        1.0\n",
       "10            42            1             1        1.0"
      ]
     },
     "execution_count": 15,
     "metadata": {},
     "output_type": "execute_result"
    }
   ],
   "source": [
    "labels, counts = np.unique(y_test, return_counts = True)\n",
    "\n",
    "ind = (y_test != y_pred)\n",
    "mis_class= y_test[ind]\n",
    "labels_mis, counts_mis = np.unique(mis_class, return_counts = True)\n",
    "\n",
    "cnt = []\n",
    "for i in labels_mis:\n",
    "    cnt.append(counts[np.where(labels == i)][0])\n",
    "cnt = np.array(cnt)\n",
    "\n",
    "mis_rate = counts_mis/cnt\n",
    "\n",
    "import pandas as pd\n",
    "pd.DataFrame({'miss_classes': labels_mis, \n",
    "              'miss_counts': counts_mis,\n",
    "              'total_counts': cnt,\n",
    "              'miss_rate': mis_rate})"
   ]
  },
  {
   "cell_type": "markdown",
   "id": "24b604bb",
   "metadata": {
    "papermill": {
     "duration": 0.091571,
     "end_time": "2021-10-09T11:25:27.078775",
     "exception": false,
     "start_time": "2021-10-09T11:25:26.987204",
     "status": "completed"
    },
    "tags": []
   },
   "source": [
    "# Triplet loss"
   ]
  },
  {
   "cell_type": "code",
   "execution_count": 16,
   "id": "3e8352cb",
   "metadata": {
    "execution": {
     "iopub.execute_input": "2021-10-09T11:25:27.272519Z",
     "iopub.status.busy": "2021-10-09T11:25:27.269210Z",
     "iopub.status.idle": "2021-10-09T11:25:33.751565Z",
     "shell.execute_reply": "2021-10-09T11:25:33.752337Z",
     "shell.execute_reply.started": "2021-10-09T11:17:17.454688Z"
    },
    "papermill": {
     "duration": 6.582235,
     "end_time": "2021-10-09T11:25:33.752525",
     "exception": false,
     "start_time": "2021-10-09T11:25:27.170290",
     "status": "completed"
    },
    "tags": []
   },
   "outputs": [
    {
     "name": "stdout",
     "output_type": "stream",
     "text": [
      "Epoch 1/20\n",
      "1/1 [==============================] - 2s 2s/step - loss: 0.9802\n",
      "Epoch 2/20\n",
      "1/1 [==============================] - 0s 197ms/step - loss: 0.9226\n",
      "Epoch 3/20\n",
      "1/1 [==============================] - 0s 208ms/step - loss: 0.8037\n",
      "Epoch 4/20\n",
      "1/1 [==============================] - 0s 209ms/step - loss: 0.6902\n",
      "Epoch 5/20\n",
      "1/1 [==============================] - 0s 200ms/step - loss: 0.6059\n",
      "Epoch 6/20\n",
      "1/1 [==============================] - 0s 197ms/step - loss: 0.5249\n",
      "Epoch 7/20\n",
      "1/1 [==============================] - 0s 211ms/step - loss: 0.4549\n",
      "Epoch 8/20\n",
      "1/1 [==============================] - 0s 195ms/step - loss: 0.3790\n",
      "Epoch 9/20\n",
      "1/1 [==============================] - 0s 213ms/step - loss: 0.3317\n",
      "Epoch 10/20\n",
      "1/1 [==============================] - 0s 214ms/step - loss: 0.2798\n",
      "Epoch 11/20\n",
      "1/1 [==============================] - 0s 193ms/step - loss: 0.2371\n",
      "Epoch 12/20\n",
      "1/1 [==============================] - 0s 195ms/step - loss: 0.2111\n",
      "Epoch 13/20\n",
      "1/1 [==============================] - 0s 210ms/step - loss: 0.1757\n",
      "Epoch 14/20\n",
      "1/1 [==============================] - 0s 194ms/step - loss: 0.1544\n",
      "Epoch 15/20\n",
      "1/1 [==============================] - 0s 189ms/step - loss: 0.1339\n",
      "Epoch 16/20\n",
      "1/1 [==============================] - 0s 210ms/step - loss: 0.1194\n",
      "Epoch 17/20\n",
      "1/1 [==============================] - 0s 194ms/step - loss: 0.1059\n",
      "Epoch 18/20\n",
      "1/1 [==============================] - 0s 210ms/step - loss: 0.0916\n",
      "Epoch 19/20\n",
      "1/1 [==============================] - 0s 189ms/step - loss: 0.0828\n",
      "Epoch 20/20\n",
      "1/1 [==============================] - 0s 189ms/step - loss: 0.0745\n"
     ]
    }
   ],
   "source": [
    "# the loss is decreased fast when LR is between 5e-4 and 7e-4\n",
    "# choose the mid point between 8e-5 and 4e-4\n",
    "lr = 3e-4\n",
    "\n",
    "base_model_16 = tf.keras.applications.vgg16.VGG16(include_top=False,\n",
    "                      input_shape = (imsize, imsize, 3),\n",
    "                      weights = 'imagenet')\n",
    "\n",
    "# freeze all the layers of VGG, so they won't be trained.\n",
    "for layer in base_model_16.layers:\n",
    "    layer.trainable = False\n",
    "\n",
    "model_tl = tf.keras.models.Sequential([\n",
    "    base_model_16,\n",
    "    tf.keras.layers.Flatten(),\n",
    "    tf.keras.layers.Dense(units=1024, activation='relu'),\n",
    "    tf.keras.layers.Dense(embeddingDim, activation=None), # No activation on final dense layer\n",
    "    tf.keras.layers.Lambda(lambda x: tf.math.l2_normalize(x, axis=1)) # L2 normalize embeddings\n",
    "])\n",
    "\n",
    "model_tl.compile(\n",
    "    optimizer=tf.keras.optimizers.Adam(lr),\n",
    "    loss=tfa.losses.TripletSemiHardLoss())\n",
    "\n",
    "history = model_tl.fit(x=x_train, y= y_train,\n",
    "                       batch_size=batch_size,\n",
    "                       epochs=EPOCHS, \n",
    "                       verbose=1)"
   ]
  },
  {
   "cell_type": "code",
   "execution_count": 17,
   "id": "b5373904",
   "metadata": {
    "execution": {
     "iopub.execute_input": "2021-10-09T11:25:33.979263Z",
     "iopub.status.busy": "2021-10-09T11:25:33.978449Z",
     "iopub.status.idle": "2021-10-09T11:25:33.980721Z",
     "shell.execute_reply": "2021-10-09T11:25:33.981112Z",
     "shell.execute_reply.started": "2021-10-09T11:17:27.267722Z"
    },
    "papermill": {
     "duration": 0.117994,
     "end_time": "2021-10-09T11:25:33.981253",
     "exception": false,
     "start_time": "2021-10-09T11:25:33.863259",
     "status": "completed"
    },
    "tags": []
   },
   "outputs": [],
   "source": [
    "def acc_tl(x_test, y_test, k = 1):\n",
    "    embedding_train_tl = []\n",
    "    for i in range(len(y_train)):\n",
    "        embedding_train_tl.append(model_tl(x_train[i].reshape(1, imsize, imsize, 3))[0])\n",
    "        \n",
    "    embedding_train_tl = np.array(embedding_train_tl, dtype=float) \n",
    "\n",
    "    knn_tl = KNeighborsClassifier(n_neighbors = k)\n",
    "    knn_tl.fit(embedding_train_tl, y_train)\n",
    "    \n",
    "    x_test_embedding = model_tl(x_test)\n",
    "    acc_close = round(knn_tl.score(x_test_embedding, y_test), 2)\n",
    "    print('The accuracy on the Closed Dataset with triplet loss is {}'.format(acc_close))\n",
    "    \n",
    "    return acc_close"
   ]
  },
  {
   "cell_type": "code",
   "execution_count": 18,
   "id": "4274e47e",
   "metadata": {
    "execution": {
     "iopub.execute_input": "2021-10-09T11:25:34.197019Z",
     "iopub.status.busy": "2021-10-09T11:25:34.196225Z",
     "iopub.status.idle": "2021-10-09T11:25:36.065047Z",
     "shell.execute_reply": "2021-10-09T11:25:36.065473Z",
     "shell.execute_reply.started": "2021-10-09T11:17:27.630336Z"
    },
    "papermill": {
     "duration": 1.9785,
     "end_time": "2021-10-09T11:25:36.065635",
     "exception": false,
     "start_time": "2021-10-09T11:25:34.087135",
     "status": "completed"
    },
    "tags": []
   },
   "outputs": [
    {
     "name": "stdout",
     "output_type": "stream",
     "text": [
      "The accuracy on the Closed Dataset with triplet loss is 0.73\n"
     ]
    },
    {
     "data": {
      "text/plain": [
       "0.73"
      ]
     },
     "execution_count": 18,
     "metadata": {},
     "output_type": "execute_result"
    }
   ],
   "source": [
    "acc_tl(x_test, y_test, k = 1)"
   ]
  },
  {
   "cell_type": "code",
   "execution_count": 19,
   "id": "6ec7de8d",
   "metadata": {
    "execution": {
     "iopub.execute_input": "2021-10-09T11:25:36.285174Z",
     "iopub.status.busy": "2021-10-09T11:25:36.284675Z",
     "iopub.status.idle": "2021-10-09T11:25:36.287779Z",
     "shell.execute_reply": "2021-10-09T11:25:36.288491Z",
     "shell.execute_reply.started": "2021-10-09T11:17:33.678383Z"
    },
    "papermill": {
     "duration": 0.115782,
     "end_time": "2021-10-09T11:25:36.288700",
     "exception": false,
     "start_time": "2021-10-09T11:25:36.172918",
     "status": "completed"
    },
    "tags": []
   },
   "outputs": [],
   "source": [
    "def predict_tl(x_test, k = 1):\n",
    "    embedding_train_tl = []\n",
    "    for i in range(len(y_train)):\n",
    "        embedding_train_tl.append(model_tl(x_train[i].reshape(1, imsize, imsize, 3))[0])\n",
    "        \n",
    "    embedding_train_tl = np.array(embedding_train_tl, dtype=float) \n",
    "\n",
    "    knn_tl = KNeighborsClassifier(n_neighbors = k)\n",
    "    knn_tl.fit(embedding_train_tl, y_train)\n",
    "    \n",
    "    x_test_embedding = model_tl(x_test)\n",
    "    pred = knn_tl.predict(x_test_embedding)\n",
    "    \n",
    "    return pred"
   ]
  },
  {
   "cell_type": "code",
   "execution_count": 20,
   "id": "25aa671d",
   "metadata": {
    "execution": {
     "iopub.execute_input": "2021-10-09T11:25:36.505501Z",
     "iopub.status.busy": "2021-10-09T11:25:36.504253Z",
     "iopub.status.idle": "2021-10-09T11:25:38.161891Z",
     "shell.execute_reply": "2021-10-09T11:25:38.162647Z",
     "shell.execute_reply.started": "2021-10-09T11:17:34.094612Z"
    },
    "papermill": {
     "duration": 1.76756,
     "end_time": "2021-10-09T11:25:38.162812",
     "exception": false,
     "start_time": "2021-10-09T11:25:36.395252",
     "status": "completed"
    },
    "tags": []
   },
   "outputs": [],
   "source": [
    "y_pred = predict_tl(x_test, k = 1)"
   ]
  },
  {
   "cell_type": "markdown",
   "id": "e5b4051d",
   "metadata": {
    "papermill": {
     "duration": 0.105853,
     "end_time": "2021-10-09T11:25:38.375223",
     "exception": false,
     "start_time": "2021-10-09T11:25:38.269370",
     "status": "completed"
    },
    "tags": []
   },
   "source": [
    "# Tabel of misclassifying classes"
   ]
  },
  {
   "cell_type": "code",
   "execution_count": 21,
   "id": "fd60582d",
   "metadata": {
    "execution": {
     "iopub.execute_input": "2021-10-09T11:25:38.600405Z",
     "iopub.status.busy": "2021-10-09T11:25:38.599655Z",
     "iopub.status.idle": "2021-10-09T11:25:38.602643Z",
     "shell.execute_reply": "2021-10-09T11:25:38.603042Z",
     "shell.execute_reply.started": "2021-10-09T11:17:40.831019Z"
    },
    "papermill": {
     "duration": 0.122338,
     "end_time": "2021-10-09T11:25:38.603168",
     "exception": false,
     "start_time": "2021-10-09T11:25:38.480830",
     "status": "completed"
    },
    "tags": []
   },
   "outputs": [
    {
     "data": {
      "text/html": [
       "<div>\n",
       "<style scoped>\n",
       "    .dataframe tbody tr th:only-of-type {\n",
       "        vertical-align: middle;\n",
       "    }\n",
       "\n",
       "    .dataframe tbody tr th {\n",
       "        vertical-align: top;\n",
       "    }\n",
       "\n",
       "    .dataframe thead th {\n",
       "        text-align: right;\n",
       "    }\n",
       "</style>\n",
       "<table border=\"1\" class=\"dataframe\">\n",
       "  <thead>\n",
       "    <tr style=\"text-align: right;\">\n",
       "      <th></th>\n",
       "      <th>miss_classes</th>\n",
       "      <th>miss_counts</th>\n",
       "      <th>total_counts</th>\n",
       "      <th>miss_rate</th>\n",
       "    </tr>\n",
       "  </thead>\n",
       "  <tbody>\n",
       "    <tr>\n",
       "      <th>0</th>\n",
       "      <td>5</td>\n",
       "      <td>3</td>\n",
       "      <td>3</td>\n",
       "      <td>1.0</td>\n",
       "    </tr>\n",
       "    <tr>\n",
       "      <th>1</th>\n",
       "      <td>6</td>\n",
       "      <td>1</td>\n",
       "      <td>2</td>\n",
       "      <td>0.5</td>\n",
       "    </tr>\n",
       "    <tr>\n",
       "      <th>2</th>\n",
       "      <td>10</td>\n",
       "      <td>1</td>\n",
       "      <td>1</td>\n",
       "      <td>1.0</td>\n",
       "    </tr>\n",
       "    <tr>\n",
       "      <th>3</th>\n",
       "      <td>11</td>\n",
       "      <td>1</td>\n",
       "      <td>1</td>\n",
       "      <td>1.0</td>\n",
       "    </tr>\n",
       "    <tr>\n",
       "      <th>4</th>\n",
       "      <td>19</td>\n",
       "      <td>1</td>\n",
       "      <td>1</td>\n",
       "      <td>1.0</td>\n",
       "    </tr>\n",
       "    <tr>\n",
       "      <th>5</th>\n",
       "      <td>25</td>\n",
       "      <td>1</td>\n",
       "      <td>1</td>\n",
       "      <td>1.0</td>\n",
       "    </tr>\n",
       "    <tr>\n",
       "      <th>6</th>\n",
       "      <td>27</td>\n",
       "      <td>2</td>\n",
       "      <td>2</td>\n",
       "      <td>1.0</td>\n",
       "    </tr>\n",
       "    <tr>\n",
       "      <th>7</th>\n",
       "      <td>37</td>\n",
       "      <td>2</td>\n",
       "      <td>2</td>\n",
       "      <td>1.0</td>\n",
       "    </tr>\n",
       "    <tr>\n",
       "      <th>8</th>\n",
       "      <td>40</td>\n",
       "      <td>1</td>\n",
       "      <td>1</td>\n",
       "      <td>1.0</td>\n",
       "    </tr>\n",
       "    <tr>\n",
       "      <th>9</th>\n",
       "      <td>42</td>\n",
       "      <td>1</td>\n",
       "      <td>1</td>\n",
       "      <td>1.0</td>\n",
       "    </tr>\n",
       "  </tbody>\n",
       "</table>\n",
       "</div>"
      ],
      "text/plain": [
       "   miss_classes  miss_counts  total_counts  miss_rate\n",
       "0             5            3             3        1.0\n",
       "1             6            1             2        0.5\n",
       "2            10            1             1        1.0\n",
       "3            11            1             1        1.0\n",
       "4            19            1             1        1.0\n",
       "5            25            1             1        1.0\n",
       "6            27            2             2        1.0\n",
       "7            37            2             2        1.0\n",
       "8            40            1             1        1.0\n",
       "9            42            1             1        1.0"
      ]
     },
     "execution_count": 21,
     "metadata": {},
     "output_type": "execute_result"
    }
   ],
   "source": [
    "labels, counts = np.unique(y_test, return_counts = True)\n",
    "\n",
    "ind = (y_test != y_pred)\n",
    "mis_class= y_test[ind]\n",
    "labels_mis, counts_mis = np.unique(mis_class, return_counts = True)\n",
    "\n",
    "cnt = []\n",
    "for i in labels_mis:\n",
    "    cnt.append(counts[np.where(labels == i)][0])\n",
    "cnt = np.array(cnt)\n",
    "\n",
    "mis_rate = counts_mis/cnt\n",
    "\n",
    "import pandas as pd\n",
    "pd.DataFrame({'miss_classes': labels_mis, \n",
    "              'miss_counts': counts_mis,\n",
    "              'total_counts': cnt,\n",
    "              'miss_rate': mis_rate})"
   ]
  }
 ],
 "metadata": {
  "kernelspec": {
   "display_name": "Python 3",
   "language": "python",
   "name": "python3"
  },
  "language_info": {
   "codemirror_mode": {
    "name": "ipython",
    "version": 3
   },
   "file_extension": ".py",
   "mimetype": "text/x-python",
   "name": "python",
   "nbconvert_exporter": "python",
   "pygments_lexer": "ipython3",
   "version": "3.7.10"
  },
  "papermill": {
   "default_parameters": {},
   "duration": 105.726636,
   "end_time": "2021-10-09T11:25:41.765108",
   "environment_variables": {},
   "exception": null,
   "input_path": "__notebook__.ipynb",
   "output_path": "__notebook__.ipynb",
   "parameters": {},
   "start_time": "2021-10-09T11:23:56.038472",
   "version": "2.3.3"
  }
 },
 "nbformat": 4,
 "nbformat_minor": 5
}
